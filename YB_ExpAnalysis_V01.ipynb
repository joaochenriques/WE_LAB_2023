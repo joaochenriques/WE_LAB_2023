{
  "cells": [
    {
      "cell_type": "markdown",
      "metadata": {
        "id": "view-in-github",
        "colab_type": "text"
      },
      "source": [
        "<a href=\"https://colab.research.google.com/github/joaochenriques/WE_LAB_2023/blob/main/YB_ExpAnalysis_V01.ipynb\" target=\"_parent\"><img src=\"https://colab.research.google.com/assets/colab-badge.svg\" alt=\"Open In Colab\"/></a>"
      ]
    },
    {
      "cell_type": "markdown",
      "source": [
        "# Select test case"
      ],
      "metadata": {
        "id": "jJcI-RT9xVwh"
      }
    },
    {
      "cell_type": "code",
      "source": [
        "# CASE_prefix = 'YB2m'\n",
        "CASE_prefix = 'KB4m'"
      ],
      "metadata": {
        "id": "BgQkO51sxW-P"
      },
      "execution_count": 28,
      "outputs": []
    },
    {
      "cell_type": "code",
      "execution_count": 29,
      "metadata": {
        "id": "gxBJwzJ5hQFA"
      },
      "outputs": [],
      "source": [
        "import matplotlib.pyplot as mpl\n",
        "import h5py\n",
        "import numpy as np\n",
        "import pandas as pd\n",
        "import scipy.signal\n",
        "from dataclasses import dataclass, field\n",
        "import pathlib, subprocess, os"
      ]
    },
    {
      "cell_type": "code",
      "source": [
        "def cmdcall( cmd ):\n",
        "    output = subprocess.getoutput( cmd )\n",
        "    print(output)"
      ],
      "metadata": {
        "id": "NKvsrO3iv9h1"
      },
      "execution_count": 30,
      "outputs": []
    },
    {
      "cell_type": "code",
      "source": [
        "try:\n",
        "  import xlsxwriter\n",
        "except ModuleNotFoundError:\n",
        "  cmdcall( 'pip install xlsxwriter' )\n",
        "  import xlsxwriter"
      ],
      "metadata": {
        "id": "Fuiq0bjQE216"
      },
      "execution_count": 31,
      "outputs": []
    },
    {
      "cell_type": "code",
      "source": [
        "if not pathlib.Path(\"mpl_utils.py\").exists():\n",
        "    cmdcall( \"curl -O https://raw.githubusercontent.com/joaochenriques/ipynb_libs/main/mpl_utils.py\" ) \n",
        "\n",
        "import mpl_utils as mut\n",
        "mut.config_plots()\n",
        "\n",
        "from matplotlib_inline.backend_inline import set_matplotlib_formats\n",
        "set_matplotlib_formats('svg')\n",
        "\n",
        "mpl.rcParams[\"figure.figsize\"] = (6,4.5)"
      ],
      "metadata": {
        "id": "3pSmHwNGvNnB"
      },
      "execution_count": 32,
      "outputs": []
    },
    {
      "cell_type": "code",
      "source": [
        "if not pathlib.Path( \"%s_Tests_V6.h5\" % CASE_prefix ).exists():\n",
        "    cmdcall( \"curl -O https://raw.githubusercontent.com/joaochenriques/WE_LAB_2023/main/%s_Tests_V6.zip\" % CASE_prefix )\n",
        "    cmdcall( \"unzip %s_Tests_V6.zip\" % CASE_prefix )"
      ],
      "metadata": {
        "id": "Bn_rLYV9VeAk"
      },
      "execution_count": 33,
      "outputs": []
    },
    {
      "cell_type": "code",
      "source": [
        "if not pathlib.Path( \"%s_Cameras_XLS_V6.zip\" % CASE_prefix ).exists():\n",
        "    cmdcall( \"curl -O https://raw.githubusercontent.com/joaochenriques/WE_LAB_2023/main/%s_Cameras_XLS_V6.zip\" % CASE_prefix )\n",
        "    cmdcall( \"unzip %s_Cameras_XLS_V6.zip\" % CASE_prefix )"
      ],
      "metadata": {
        "id": "jWg32pOR88L4"
      },
      "execution_count": 34,
      "outputs": []
    },
    {
      "cell_type": "code",
      "source": [
        "def read_hdf_array( hdf5_Input, group, name ):\n",
        "    return np.array( hdf5_Input[ group + '/' + name ] )\n",
        "\n",
        "def read_hdf_scalar( hdf5_Input, group, name ):\n",
        "    return hdf5_Input[ group + '/' + name ][()]\n",
        "\n",
        "def read_hdf_string( hdf5_Input, group, name ):\n",
        "    return hdf5_Input[ group + '/' + name ][()]\n",
        "\n",
        "def save_hdf_array( hdf5_Output, group, name, fdata ):\n",
        "    hdf5_Output.create_dataset( group + '/' + name, data=fdata, \n",
        "                                compression=\"gzip\", compression_opts=9  )\n",
        "\n",
        "def save_hdf_scalar( hdf5_Output, group, name, fdata ):\n",
        "    hdf5_Output.create_dataset( group + '/' + name, data=fdata )\n",
        "\n",
        "def save_hdf_string( hdf5_Output, group, name, fdata ):\n",
        "    hdf5_Output.create_dataset( group + '/' + name, data=fdata, \n",
        "                                dtype=save_hdf_string.dt_str )\n",
        "save_hdf_string.dt_str = h5py.special_dtype( vlen=bytes )"
      ],
      "metadata": {
        "id": "VdQHxAYEDv9h"
      },
      "execution_count": 35,
      "outputs": []
    },
    {
      "cell_type": "markdown",
      "source": [
        "## Nearest array value to a0 "
      ],
      "metadata": {
        "id": "HaAJHIv4p1i4"
      }
    },
    {
      "cell_type": "code",
      "source": [
        "def index_nearest(a, a0):\n",
        "    idx = np.abs(a - a0).argmin()\n",
        "    return idx"
      ],
      "metadata": {
        "id": "VJ6d_cL5pzT2"
      },
      "execution_count": 36,
      "outputs": []
    },
    {
      "cell_type": "markdown",
      "metadata": {
        "id": "l6a2tA1HhQFG"
      },
      "source": [
        "## Functions used in the post-processing phase\n",
        "\n",
        "Filter using convolution and neglecting the ends"
      ]
    },
    {
      "cell_type": "code",
      "execution_count": 37,
      "metadata": {
        "id": "qvGxTzi1hQFH"
      },
      "outputs": [],
      "source": [
        "def FilterSignal( coeffs, time, unf_signal ):\n",
        "\n",
        "  NS = unf_signal.shape[0]\n",
        "  NC = coeffs.shape[0]\n",
        "\n",
        "  assert( NC % 2 > 0 ) # assert that is a centred filter (odd)\n",
        "\n",
        "  flt_signal = np.convolve( unf_signal, coeffs, 'valid')\n",
        "  hNC = int( NC / 2 )\n",
        "  flt_time = time[ hNC: NS-hNC ]\n",
        "\n",
        "  assert( flt_time.shape[0] == flt_signal.shape[0] )\n",
        "\n",
        "  return flt_time, flt_signal"
      ]
    },
    {
      "cell_type": "markdown",
      "metadata": {
        "id": "yqPFXXYIhQFI"
      },
      "source": [
        "Sinc filter with a Gaussian window\n",
        "\n",
        "Further information about this filter can be found at the web site\n",
        "    <http://www.dspguide.com/ch16.htm>"
      ]
    },
    {
      "cell_type": "code",
      "execution_count": 38,
      "metadata": {
        "id": "wxAVYyHUhQFJ"
      },
      "outputs": [],
      "source": [
        "def FilterSincGaussian( window, fc, sigma ):\n",
        "  M = int( window / 2 )\n",
        "  pnts = np.linspace( -M, M, 2*M+1 ) / M\n",
        "  LP_coefs  = 2.0 * np.sinc( fc * pnts ) * np.exp( -0.5*pnts**2/sigma**2 )\n",
        "  LP_coefs /= sum(LP_coefs)\n",
        "  return LP_coefs"
      ]
    },
    {
      "cell_type": "markdown",
      "metadata": {
        "id": "mOJIWp1EhQFJ"
      },
      "source": [
        "Filter frequency response function"
      ]
    },
    {
      "cell_type": "code",
      "execution_count": 39,
      "metadata": {
        "id": "S_V12PzbhQFK"
      },
      "outputs": [],
      "source": [
        "def FilterResponse( LPF_coefs, points = 2000, lowpow = -6, highpow = 0 ):\n",
        "\n",
        "  NT = LPF_coefs.shape[0]\n",
        "  delta_f = 1.0 / points\n",
        "\n",
        "  m  = int( ( NT-1 ) / 2 )\n",
        "  omega_star = np.zeros( points )\n",
        "  H = np.zeros( points )\n",
        "\n",
        "  a = highpow - lowpow\n",
        "  js = ( -1J * np.pi ) * np.linspace( -m, m, 2*m+1 )\n",
        "\n",
        "  for i in range( points ):\n",
        "    omega_star[i] = 10**(a * delta_f * i + lowpow )\n",
        "    eiwt = np.exp( omega_star[i] * js )\n",
        "    G = np.dot( LPF_coefs, eiwt )\n",
        "    H[i] = np.real( G )\n",
        "\n",
        "  return omega_star, H"
      ]
    },
    {
      "cell_type": "markdown",
      "metadata": {
        "id": "E1vBo7dThQFL"
      },
      "source": [
        "Plot filter specifications\n"
      ]
    },
    {
      "cell_type": "code",
      "execution_count": 40,
      "metadata": {
        "id": "K0bpjFlrhQFL"
      },
      "outputs": [],
      "source": [
        "def PlotFilterSpecs( LP_coefs, fsample, LP_fc, LP_sigma, filename ):\n",
        "\n",
        "    LP_omega, LP_H = FilterResponse( LP_coefs )\n",
        "    LP_omega *= fsample\n",
        "    \n",
        "    fig, (ax1, ax2) = mpl.subplots(1,2, figsize=(12, 4.5) )\n",
        "    fig.subplots_adjust( wspace = 0.17 )\n",
        "\n",
        "    lbl= r\"$f_s=%.1f,\\ f_c=%.1f,\\ \\sigma=%.2f$\" % ( fsample, LP_fc, LP_sigma )\n",
        "    ax1.semilogy( LP_omega, LP_H, label = lbl )\n",
        "    ax1.legend()\n",
        "    ax1.grid()\n",
        "    ax1.set_xlabel('frequency, [Hz]')\n",
        "    ax1.set_ylabel('Gain, [-]')\n",
        "    \n",
        "    ax2.plot( LP_omega, LP_H )\n",
        "    ax2.grid()\n",
        "    ax2.set_xlabel('frequency, [Hz]')\n",
        "    ax2.set_ylabel('Gain, [-]')\n",
        "\n",
        "    # for pdflatex\n",
        "    mpl.savefig( filename + '.pdf', bbox_inches='tight', pad_inches=0.02 )\n",
        "\n",
        "    # for MS WORD\n",
        "    mpl.savefig( filename + '.jpg', bbox_inches='tight', pad_inches=0.02 )\n",
        "    mpl.savefig( filename + '.svg', bbox_inches='tight', pad_inches=0.02 )"
      ]
    },
    {
      "cell_type": "markdown",
      "metadata": {
        "id": "io1IWF9HhQFM"
      },
      "source": [
        "## Post-Process functions\n",
        "\n",
        "To compute the wave length $\\lambda$ we need to use the dispersion relation\n",
        "\n",
        "\\begin{equation*} \n",
        "\\omega^{2}=g k \\tanh (k h),\n",
        "\\end{equation*}\n",
        "\n",
        "where the wavelength is defined as\n",
        "\n",
        "\\begin{equation*} \n",
        "k=\\frac{2\\pi}\\lambda.\n",
        "\\end{equation*}\n",
        "\n",
        "Explicit formula for the dispersion relation was obtained by [1] as\n",
        "\n",
        "\\begin{equation*}\n",
        "k h=\\left(k_{0} h\\right) \\sqrt{1+\\frac{1}{\\varepsilon+k_{0} h\\left(1+D_{1}\\left(k_{0} h\\right)+D_{2}\\left(k_{0} h\\right)^{2}+D_{4}\\left(k_{0} h\\right)^{4}+D_{5}\\left(k_{0} h\\right)^{5}\\right)^{2}}}\n",
        "\\end{equation*}\n",
        "\n",
        "where the constants are given by $D_{1}=0.6522, D_{2}=0.4622, D_{4}=0.0864$ and $D_{5}=0.0675$.\n",
        "\n",
        "A small $\\varepsilon=10^{-12}$ was added to avoid division by zero when $\\omega=0$.\n",
        "\n",
        "The wave number for infinite depth water conditions is given by\n",
        "\n",
        "$\\displaystyle k_0 h = \\frac{\\omega^2 h}g$.\n",
        "\n",
        "[1] Zai-Jin You. A close approximation of wave dispersion relation for direct calculation of\n",
        "wavelength in any coastal water depth. *Applied Ocean Research*, 30(2):113 – 119, 2008.\n",
        "\n",
        "\n",
        "\n",
        "\n"
      ]
    },
    {
      "cell_type": "code",
      "execution_count": 41,
      "metadata": {
        "id": "hGJSBQiJhQFN"
      },
      "outputs": [],
      "source": [
        "def dispersion_relation( ω, h ):\n",
        "    grav = 9.81\n",
        "    k0h = h * ω**2 / grav\n",
        "    return ( k0h*np.sqrt(1.0 + 1.0/(1E-12+k0h*(1. + 0.6522*k0h + 0.4622*k0h**2 + 0.0864*k0h**4 + 0.0675*k0h**5))))"
      ]
    },
    {
      "cell_type": "markdown",
      "metadata": {
        "id": "4jfWhLXMhQFN"
      },
      "source": [
        "Phase velocity is computed from\n",
        "\n",
        "\\begin{equation*}\n",
        "c_{p}^{2}=\\frac{g}{k} \\tanh (k h)=\\frac{g\\lambda}{2\\pi} \\tanh\\!\\left(\\frac{2\\pi h}{\\lambda}\\right).\n",
        "\\end{equation*}"
      ]
    },
    {
      "cell_type": "code",
      "execution_count": 42,
      "metadata": {
        "id": "4v2m5DZbhQFO"
      },
      "outputs": [],
      "source": [
        "def phase_velocity( λ, h ):\n",
        "    grav = 9.81\n",
        "    twopi = 2.0 * np.pi\n",
        "    return np.sqrt( grav * λ / twopi * np.tanh( twopi * h / λ ) )"
      ]
    },
    {
      "cell_type": "markdown",
      "metadata": {
        "id": "OnWGZd6HhQFO"
      },
      "source": [
        "Mean wave power per unit wave crest\n",
        "\n",
        "\\begin{equation*}\n",
        "\\bar{P}_\\text{wave} = \\bar{E} \\, c_g,\n",
        "\\end{equation*}\n",
        "\n",
        "where\n",
        "\n",
        "\\begin{equation*}\n",
        "\\bar{E} = \\frac{1}{8} \\rho_\\text{w} g H^2,\n",
        "\\end{equation*}\n",
        "\n",
        "and\n",
        "\n",
        "\\begin{equation*}\n",
        "c_g = \\frac{\\omega}{2k} \\left( 1 + \\frac{2kh}{\\sinh(2kh)}\\right).\n",
        "\\end{equation*}\n"
      ]
    },
    {
      "cell_type": "code",
      "source": [
        "def group_velocity( h, H, f ):  \n",
        "    ω = 2.0 * np.pi * f\n",
        "    two_kh = 2.0 *  dispersion_relation( ω, h )\n",
        "    c_g = ω * h / two_kh * ( 1.0 + two_kh / np.sinh(two_kh) )\n",
        "    return c_g"
      ],
      "metadata": {
        "id": "i1qH5WNwfpvk"
      },
      "execution_count": 43,
      "outputs": []
    },
    {
      "cell_type": "code",
      "execution_count": 44,
      "metadata": {
        "id": "u_P9jiRzhQFO"
      },
      "outputs": [],
      "source": [
        "def wave_power( cnt, h, H, f ):  \n",
        "    c_g = group_velocity( h, H, f )\n",
        "    E = 1.0 / 8.0 * cnt.𝜌_w * cnt.grav * H**2\n",
        "    return E * c_g"
      ]
    },
    {
      "cell_type": "markdown",
      "metadata": {
        "id": "sU1H0q0phQFP"
      },
      "source": [
        "Function to compute the mean and the amplitude of a signal within a given interval [i_left, i_right]"
      ]
    },
    {
      "cell_type": "markdown",
      "metadata": {
        "id": "N6J9NTe2hQFP"
      },
      "source": [
        "## Post-processing of the data\n",
        "\n",
        "Constants of the problem"
      ]
    },
    {
      "cell_type": "code",
      "execution_count": 45,
      "metadata": {
        "id": "L7w79CGchQFQ"
      },
      "outputs": [],
      "source": [
        "@dataclass\n",
        "class constants:\n",
        "\n",
        "    𝜌_w: float = 998.0        # [kg/m³] - water density\n",
        "    𝜌_air: float = 1.21       # [kg/m³] - air density\n",
        "    grav: float = 9.81        # [m/s²]  - gravity acceleration\n",
        "\n",
        "    # filter configuration\n",
        "    LP_fsample: int = 120     # [Hz] - sampling rate  \n",
        "    LP_window: int = 301      # [-] - window of the filter  \n",
        "    LP_fc: float = 20.0       # [Hz] - estimated cutting frequency of the filter\n",
        "    LP_fc_cam: float = 10.0   # [Hz] - estimated cutting frequency of the filter (cameras)\n",
        "    LP_sigma: float = 0.35    # [-] - slope of the filter \n",
        "\n",
        "consts = constants()"
      ]
    },
    {
      "cell_type": "markdown",
      "metadata": {
        "id": "g_UBEE4chQFQ"
      },
      "source": [
        "Let us define a filter for post-processing (especially for the pressure signal)"
      ]
    },
    {
      "cell_type": "code",
      "execution_count": 46,
      "metadata": {
        "id": "X-bnRRhIhQFQ",
        "colab": {
          "base_uri": "https://localhost:8080/",
          "height": 447
        },
        "outputId": "25dc2d05-df5a-4cf2-cd4f-7b9a5cd81617"
      },
      "outputs": [
        {
          "output_type": "display_data",
          "data": {
            "text/plain": [
              "<Figure size 960x360 with 2 Axes>"
            ],
            "image/svg+xml": "<?xml version=\"1.0\" encoding=\"utf-8\" standalone=\"no\"?>\n<!DOCTYPE svg PUBLIC \"-//W3C//DTD SVG 1.1//EN\"\n  \"http://www.w3.org/Graphics/SVG/1.1/DTD/svg11.dtd\">\n<svg xmlns:xlink=\"http://www.w3.org/1999/xlink\" width=\"784.44pt\" height=\"319.695pt\" viewBox=\"0 0 784.44 319.695\" xmlns=\"http://www.w3.org/2000/svg\" version=\"1.1\">\n <metadata>\n  <rdf:RDF xmlns:dc=\"http://purl.org/dc/elements/1.1/\" xmlns:cc=\"http://creativecommons.org/ns#\" xmlns:rdf=\"http://www.w3.org/1999/02/22-rdf-syntax-ns#\">\n   <cc:Work>\n    <dc:type rdf:resource=\"http://purl.org/dc/dcmitype/StillImage\"/>\n    <dc:date>2023-04-14T09:50:43.001592</dc:date>\n    <dc:format>image/svg+xml</dc:format>\n    <dc:creator>\n     <cc:Agent>\n      <dc:title>Matplotlib v3.7.1, https://matplotlib.org/</dc:title>\n     </cc:Agent>\n    </dc:creator>\n   </cc:Work>\n  </rdf:RDF>\n </metadata>\n <defs>\n  <style type=\"text/css\">*{stroke-linejoin: round; stroke-linecap: butt}</style>\n </defs>\n <g id=\"figure_1\">\n  <g id=\"patch_1\">\n   <path d=\"M 0 319.695 \nL 784.44 319.695 \nL 784.44 0 \nL 0 0 \nz\n\" style=\"fill: #ffffff\"/>\n  </g>\n  <g id=\"axes_1\">\n   <g id=\"patch_2\">\n    <path d=\"M 57.96 276.12 \nL 384.448479 276.12 \nL 384.448479 13.68 \nL 57.96 13.68 \nz\n\" style=\"fill: #ffffff\"/>\n   </g>\n   <g id=\"line2d_1\">\n    <path d=\"M 57.960326 42.84 \nL 96.584944 42.92773 \nL 97.667072 43.17899 \nL 98.219452 43.470248 \nL 98.779517 43.960429 \nL 99.347373 44.735696 \nL 99.923129 45.893015 \nL 100.506894 47.536053 \nL 101.09878 49.772633 \nL 101.6989 52.713984 \nL 102.61477 58.699881 \nL 103.549818 66.928174 \nL 104.504446 77.743902 \nL 105.479062 91.200774 \nL 106.81037 112.786178 \nL 107.489947 127.287643 \nL 107.833272 138.442729 \nL 108.178977 165.377085 \nL 108.180839 320.695 \nM 109.941726 320.695 \nL 109.943781 153.875556 \nL 110.304115 146.842822 \nL 110.666947 145.220362 \nL 111.032294 147.492863 \nL 111.400174 155.525759 \nL 111.40228 320.695 \nM 114.045646 320.695 \nL 114.04773 163.978849 \nL 114.436511 152.302139 \nL 114.827988 149.405006 \nL 115.222178 151.089337 \nL 115.6191 158.846774 \nL 115.621327 320.695 \nM 118.473381 320.695 \nL 118.475672 160.962881 \nL 118.895147 153.85548 \nL 119.317529 153.227989 \nL 119.742839 158.076413 \nL 120.171097 179.466813 \nL 120.173196 320.695 \nM 122.801291 320.695 \nL 122.803711 163.249545 \nL 123.253186 156.496331 \nL 123.705777 156.641605 \nL 124.161505 163.643553 \nL 124.163987 320.695 \nM 126.960548 320.695 \nL 126.962982 171.908056 \nL 127.441288 160.160042 \nL 127.922909 158.681169 \nL 128.407869 164.3013 \nL 128.410499 320.695 \nM 131.386419 320.695 \nL 131.389042 170.052579 \nL 131.898028 161.381745 \nL 132.410542 161.853497 \nL 132.926608 172.220475 \nL 132.929266 320.695 \nM 135.558508 320.695 \nL 135.561097 180.041736 \nL 136.099002 164.519686 \nL 136.640636 163.177654 \nL 137.186024 171.511828 \nL 137.188846 320.695 \nM 139.967416 320.695 \nL 139.970198 177.642816 \nL 140.538666 165.445814 \nL 141.111074 165.898728 \nL 141.687449 180.256041 \nL 141.690258 320.695 \nM 144.626717 320.695 \nL 144.629813 170.025055 \nL 145.23058 166.310073 \nL 145.835511 174.039654 \nL 145.838588 320.695 \nM 148.920449 320.695 \nL 148.923646 172.443863 \nL 149.554176 167.784133 \nL 150.189077 175.840789 \nL 150.192267 320.695 \nM 152.770577 320.695 \nL 152.772994 213.347286 \nL 153.430206 171.342926 \nL 154.091974 170.066347 \nL 154.758329 187.54693 \nL 154.761408 320.695 \nM 157.466908 320.695 \nL 157.47026 178.667742 \nL 158.160032 170.421391 \nL 158.854586 177.821536 \nL 158.858028 320.695 \nM 161.677944 320.695 \nL 161.681278 185.203851 \nL 162.40024 171.826161 \nL 163.124185 177.171318 \nL 163.12779 320.695 \nM 166.067001 320.695 \nL 166.070496 184.394462 \nL 166.819882 172.801925 \nL 167.574463 180.875604 \nL 167.578124 320.695 \nM 170.641662 320.695 \nL 170.645455 178.801781 \nL 171.426553 174.428373 \nL 172.213065 198.640953 \nL 172.216398 320.695 \nM 174.602043 320.695 \nL 174.605466 197.05075 \nL 175.414013 175.152753 \nL 176.228166 181.763649 \nL 176.23209 320.695 \nM 179.53748 320.695 \nL 179.541602 177.744864 \nL 180.384365 178.943145 \nL 180.38851 320.695 \nM 183.810031 320.695 \nL 183.814243 179.60596 \nL 184.686623 179.196989 \nL 184.690905 320.695 \nM 188.232672 320.695 \nL 188.237034 179.541521 \nL 189.140071 181.585571 \nL 189.144429 320.695 \nM 191.884617 320.695 \nL 191.886914 248.566744 \nL 192.815251 178.655441 \nL 193.750023 189.129585 \nL 193.754291 320.695 \nM 196.589027 320.695 \nL 196.593396 187.887063 \nL 197.554356 179.895195 \nL 197.559051 320.695 \nM 201.460498 320.695 \nL 201.465274 180.399146 \nL 202.460005 190.98975 \nL 202.464483 320.695 \nM 205.481002 320.695 \nL 205.48576 184.735778 \nL 206.50836 184.044359 \nL 206.513209 320.695 \nM 209.614214 320.695 \nL 209.618886 190.862175 \nL 210.670135 182.468182 \nL 210.675177 320.695 \nM 213.863187 320.695 \nL 213.867806 195.850294 \nL 214.948508 182.566568 \nL 214.953687 320.695 \nM 218.231008 320.695 \nL 218.235766 195.600733 \nL 219.346744 183.501676 \nL 219.352033 320.695 \nM 222.721028 320.695 \nL 222.7261 190.963148 \nL 223.868204 185.878207 \nL 223.873547 320.695 \nM 227.336832 320.695 \nL 227.342236 186.22417 \nL 228.516337 192.915837 \nL 228.521545 320.695 \nM 232.082058 320.695 \nL 232.087699 184.141778 \nL 232.093379 320.695 \nM 235.728498 320.695 \nL 235.733843 194.004889 \nL 236.966112 188.102822 \nL 236.971783 320.695 \nM 240.708537 320.695 \nL 240.714408 185.281526 \nL 240.72032 320.695 \nM 244.535492 320.695 \nL 244.541191 191.962063 \nL 245.83451 192.346111 \nL 245.840272 320.695 \nM 248.445467 320.695 \nL 248.448105 262.469045 \nL 249.768505 186.776891 \nL 249.774642 320.695 \nM 253.778645 320.695 \nL 253.784876 186.563096 \nL 253.791151 320.695 \nM 257.879079 320.695 \nL 257.885348 188.522386 \nL 259.271164 219.15284 \nL 259.276053 320.695 \nM 262.065405 320.695 \nL 262.071682 191.106091 \nL 263.486516 203.785182 \nL 263.49226 320.695 \nM 266.339358 320.695 \nL 266.345675 192.946618 \nL 267.790135 201.385282 \nL 267.796119 320.695 \nM 270.70272 320.695 \nL 270.709163 193.055579 \nL 272.18387 204.094085 \nL 272.189841 320.695 \nM 275.157366 320.695 \nL 275.164021 191.570486 \nL 276.669607 218.671371 \nL 276.674944 320.695 \nM 279.705267 320.695 \nL 279.712161 189.66912 \nL 279.719103 320.695 \nM 284.348457 320.695 \nL 284.355537 188.890124 \nL 284.362666 320.695 \nM 289.089051 320.695 \nL 289.096143 191.386252 \nL 289.103284 320.695 \nM 292.304781 320.695 \nL 292.311567 198.692543 \nL 293.936014 205.119228 \nL 293.942533 320.695 \nM 297.211357 320.695 \nL 297.218767 190.152291 \nL 297.22623 320.695 \nM 302.22133 320.695 \nL 302.228722 193.167353 \nL 302.236166 320.695 \nM 305.619363 320.695 \nL 305.626839 193.497333 \nL 305.634366 320.695 \nM 310.80514 320.695 \nL 310.812855 192.11046 \nL 310.820623 320.695 \nM 314.322676 320.695 \nL 314.330388 193.924795 \nL 314.338154 320.695 \nM 319.690844 320.695 \nL 319.698652 194.992298 \nL 319.706514 320.695 \nM 323.331655 320.695 \nL 323.339799 191.360052 \nL 323.348 320.695 \nM 327.024162 320.695 \nL 327.0316 204.254194 \nL 328.896715 221.958558 \nL 328.903114 320.695 \nM 332.657566 320.695 \nL 332.66582 194.074623 \nL 332.674132 320.695 \nM 336.47882 320.695 \nL 336.487359 191.489361 \nL 336.495957 320.695 \nM 340.353721 320.695 \nL 340.36206 196.267249 \nL 340.370457 320.695 \nM 344.283552 320.695 \nL 344.290664 216.107313 \nL 346.275414 217.400059 \nL 346.282536 320.695 \nM 350.277806 320.695 \nL 350.286281 198.545843 \nL 350.294814 320.695 \nM 354.344014 320.695 \nL 354.352944 193.725051 \nL 354.361937 320.695 \nM 358.467015 320.695 \nL 358.476181 192.159461 \nL 358.48541 320.695 \nM 362.64747 320.695 \nL 362.656777 191.968226 \nL 362.666149 320.695 \nM 366.886118 320.695 \nL 366.895532 192.282641 \nL 366.905011 320.695 \nM 371.18373 320.695 \nL 371.193253 192.574937 \nL 371.202842 320.695 \nM 375.541107 320.695 \nL 375.550762 192.576595 \nL 375.560484 320.695 \nM 379.95908 320.695 \nL 379.968889 192.31072 \nL 379.978767 320.695 \n\" clip-path=\"url(#pb92eb5dacb)\" style=\"fill: none; stroke-dasharray: 6,0; stroke-dashoffset: 0; stroke: #1f77b4; stroke-width: 1.5\"/>\n   </g>\n   <g id=\"patch_3\">\n    <path d=\"M 57.96 276.12 \nL 57.96 13.68 \n\" style=\"fill: none; stroke: #000000; stroke-linejoin: miter; stroke-linecap: square\"/>\n   </g>\n   <g id=\"patch_4\">\n    <path d=\"M 384.448479 276.12 \nL 384.448479 13.68 \n\" style=\"fill: none; stroke: #000000; stroke-linejoin: miter; stroke-linecap: square\"/>\n   </g>\n   <g id=\"patch_5\">\n    <path d=\"M 57.96 276.12 \nL 384.448479 276.12 \n\" style=\"fill: none; stroke: #000000; stroke-linejoin: miter; stroke-linecap: square\"/>\n   </g>\n   <g id=\"patch_6\">\n    <path d=\"M 57.96 13.68 \nL 384.448479 13.68 \n\" style=\"fill: none; stroke: #000000; stroke-linejoin: miter; stroke-linecap: square\"/>\n   </g>\n   <g id=\"matplotlib.axis_1\">\n    <g id=\"xtick_1\">\n     <g id=\"line2d_2\">\n      <path d=\"M 57.96 276.12 \nL 57.96 13.68 \n\" clip-path=\"url(#pb92eb5dacb)\" style=\"fill: none; stroke-dasharray: 1,3; stroke-dashoffset: 0; stroke: #000000; stroke-width: 0.5\"/>\n     </g>\n     <g id=\"line2d_3\">\n      <defs>\n       <path id=\"mbfef408ec9\" d=\"M 0 0 \nL 0 -4 \n\" style=\"stroke: #000000; stroke-width: 0.5\"/>\n      </defs>\n      <g>\n       <use xlink:href=\"#mbfef408ec9\" x=\"57.96\" y=\"276.12\" style=\"stroke: #000000; stroke-width: 0.5\"/>\n      </g>\n     </g>\n     <g id=\"line2d_4\">\n      <defs>\n       <path id=\"mb721bb60b6\" d=\"M 0 0 \nL 0 4 \n\" style=\"stroke: #000000; stroke-width: 0.5\"/>\n      </defs>\n      <g>\n       <use xlink:href=\"#mb721bb60b6\" x=\"57.96\" y=\"13.68\" style=\"stroke: #000000; stroke-width: 0.5\"/>\n      </g>\n     </g>\n     <g id=\"text_1\">\n      <!-- 0 -->\n      <g transform=\"translate(54.36 289.95475) scale(0.144 -0.144)\">\n       <defs>\n        <path id=\"STIXGeneral-Regular-30\" d=\"M 3046 2112 \nQ 3046 1683 2963 1302 \nQ 2880 922 2717 602 \nQ 2554 282 2266 96 \nQ 1978 -90 1600 -90 \nQ 1210 -90 915 108 \nQ 621 307 461 640 \nQ 301 973 227 1350 \nQ 154 1728 154 2150 \nQ 154 2746 301 3222 \nQ 448 3699 790 4012 \nQ 1133 4326 1626 4326 \nQ 2253 4326 2649 3712 \nQ 3046 3098 3046 2112 \nz\nM 2432 2080 \nQ 2432 3091 2217 3625 \nQ 2003 4160 1587 4160 \nQ 1190 4160 979 3622 \nQ 768 3085 768 2106 \nQ 768 1120 979 598 \nQ 1190 77 1600 77 \nQ 2003 77 2217 598 \nQ 2432 1120 2432 2080 \nz\n\" transform=\"scale(0.015625)\"/>\n       </defs>\n       <use xlink:href=\"#STIXGeneral-Regular-30\"/>\n      </g>\n     </g>\n    </g>\n    <g id=\"xtick_2\">\n     <g id=\"line2d_5\">\n      <path d=\"M 112.374747 276.12 \nL 112.374747 13.68 \n\" clip-path=\"url(#pb92eb5dacb)\" style=\"fill: none; stroke-dasharray: 1,3; stroke-dashoffset: 0; stroke: #000000; stroke-width: 0.5\"/>\n     </g>\n     <g id=\"line2d_6\">\n      <g>\n       <use xlink:href=\"#mbfef408ec9\" x=\"112.374747\" y=\"276.12\" style=\"stroke: #000000; stroke-width: 0.5\"/>\n      </g>\n     </g>\n     <g id=\"line2d_7\">\n      <g>\n       <use xlink:href=\"#mb721bb60b6\" x=\"112.374747\" y=\"13.68\" style=\"stroke: #000000; stroke-width: 0.5\"/>\n      </g>\n     </g>\n     <g id=\"text_2\">\n      <!-- 20 -->\n      <g transform=\"translate(105.174747 289.95475) scale(0.144 -0.144)\">\n       <defs>\n        <path id=\"STIXGeneral-Regular-32\" d=\"M 3034 877 \nL 2688 0 \nL 186 0 \nL 186 77 \nL 1325 1286 \nQ 1773 1754 1965 2144 \nQ 2157 2534 2157 2950 \nQ 2157 3379 1920 3616 \nQ 1683 3853 1267 3853 \nQ 922 3853 720 3673 \nQ 518 3494 326 3021 \nL 192 3053 \nQ 301 3648 630 3987 \nQ 960 4326 1523 4326 \nQ 2054 4326 2380 4006 \nQ 2707 3686 2707 3200 \nQ 2707 2477 1888 1613 \nL 832 486 \nL 2330 486 \nQ 2541 486 2665 569 \nQ 2790 653 2944 915 \nL 3034 877 \nz\n\" transform=\"scale(0.015625)\"/>\n       </defs>\n       <use xlink:href=\"#STIXGeneral-Regular-32\"/>\n       <use xlink:href=\"#STIXGeneral-Regular-30\" x=\"49.999985\"/>\n      </g>\n     </g>\n    </g>\n    <g id=\"xtick_3\">\n     <g id=\"line2d_8\">\n      <path d=\"M 166.789493 276.12 \nL 166.789493 13.68 \n\" clip-path=\"url(#pb92eb5dacb)\" style=\"fill: none; stroke-dasharray: 1,3; stroke-dashoffset: 0; stroke: #000000; stroke-width: 0.5\"/>\n     </g>\n     <g id=\"line2d_9\">\n      <g>\n       <use xlink:href=\"#mbfef408ec9\" x=\"166.789493\" y=\"276.12\" style=\"stroke: #000000; stroke-width: 0.5\"/>\n      </g>\n     </g>\n     <g id=\"line2d_10\">\n      <g>\n       <use xlink:href=\"#mb721bb60b6\" x=\"166.789493\" y=\"13.68\" style=\"stroke: #000000; stroke-width: 0.5\"/>\n      </g>\n     </g>\n     <g id=\"text_3\">\n      <!-- 40 -->\n      <g transform=\"translate(159.589493 289.95475) scale(0.144 -0.144)\">\n       <defs>\n        <path id=\"STIXGeneral-Regular-34\" d=\"M 3027 1069 \nL 2368 1069 \nL 2368 0 \nL 1869 0 \nL 1869 1069 \nL 77 1069 \nL 77 1478 \nL 2086 4326 \nL 2368 4326 \nL 2368 1478 \nL 3027 1478 \nL 3027 1069 \nz\nM 1869 1478 \nL 1869 3674 \nL 333 1478 \nL 1869 1478 \nz\n\" transform=\"scale(0.015625)\"/>\n       </defs>\n       <use xlink:href=\"#STIXGeneral-Regular-34\"/>\n       <use xlink:href=\"#STIXGeneral-Regular-30\" x=\"49.999985\"/>\n      </g>\n     </g>\n    </g>\n    <g id=\"xtick_4\">\n     <g id=\"line2d_11\">\n      <path d=\"M 221.20424 276.12 \nL 221.20424 13.68 \n\" clip-path=\"url(#pb92eb5dacb)\" style=\"fill: none; stroke-dasharray: 1,3; stroke-dashoffset: 0; stroke: #000000; stroke-width: 0.5\"/>\n     </g>\n     <g id=\"line2d_12\">\n      <g>\n       <use xlink:href=\"#mbfef408ec9\" x=\"221.20424\" y=\"276.12\" style=\"stroke: #000000; stroke-width: 0.5\"/>\n      </g>\n     </g>\n     <g id=\"line2d_13\">\n      <g>\n       <use xlink:href=\"#mb721bb60b6\" x=\"221.20424\" y=\"13.68\" style=\"stroke: #000000; stroke-width: 0.5\"/>\n      </g>\n     </g>\n     <g id=\"text_4\">\n      <!-- 60 -->\n      <g transform=\"translate(214.00424 289.95475) scale(0.144 -0.144)\">\n       <defs>\n        <path id=\"STIXGeneral-Regular-36\" d=\"M 2854 4378 \nL 2867 4275 \nQ 2112 4154 1606 3664 \nQ 1101 3174 973 2451 \nQ 1344 2739 1786 2739 \nQ 2349 2739 2672 2380 \nQ 2995 2022 2995 1402 \nQ 2995 774 2669 378 \nQ 2291 -90 1651 -90 \nQ 870 -90 518 557 \nQ 218 1107 218 1786 \nQ 218 2835 915 3552 \nQ 1312 3962 1731 4131 \nQ 2150 4301 2854 4378 \nz\nM 2419 1203 \nQ 2419 2445 1555 2445 \nQ 1235 2445 1024 2275 \nQ 813 2106 813 1702 \nQ 813 954 1046 522 \nQ 1280 90 1722 90 \nQ 2061 90 2240 394 \nQ 2419 698 2419 1203 \nz\n\" transform=\"scale(0.015625)\"/>\n       </defs>\n       <use xlink:href=\"#STIXGeneral-Regular-36\"/>\n       <use xlink:href=\"#STIXGeneral-Regular-30\" x=\"49.999985\"/>\n      </g>\n     </g>\n    </g>\n    <g id=\"xtick_5\">\n     <g id=\"line2d_14\">\n      <path d=\"M 275.618986 276.12 \nL 275.618986 13.68 \n\" clip-path=\"url(#pb92eb5dacb)\" style=\"fill: none; stroke-dasharray: 1,3; stroke-dashoffset: 0; stroke: #000000; stroke-width: 0.5\"/>\n     </g>\n     <g id=\"line2d_15\">\n      <g>\n       <use xlink:href=\"#mbfef408ec9\" x=\"275.618986\" y=\"276.12\" style=\"stroke: #000000; stroke-width: 0.5\"/>\n      </g>\n     </g>\n     <g id=\"line2d_16\">\n      <g>\n       <use xlink:href=\"#mb721bb60b6\" x=\"275.618986\" y=\"13.68\" style=\"stroke: #000000; stroke-width: 0.5\"/>\n      </g>\n     </g>\n     <g id=\"text_5\">\n      <!-- 80 -->\n      <g transform=\"translate(268.418986 289.95475) scale(0.144 -0.144)\">\n       <defs>\n        <path id=\"STIXGeneral-Regular-38\" d=\"M 2848 992 \nQ 2848 499 2505 204 \nQ 2163 -90 1587 -90 \nQ 1050 -90 704 204 \nQ 358 499 358 954 \nQ 358 1293 524 1533 \nQ 691 1773 1190 2125 \nQ 710 2522 553 2765 \nQ 397 3008 397 3328 \nQ 397 3782 745 4054 \nQ 1094 4326 1638 4326 \nQ 2106 4326 2410 4060 \nQ 2714 3795 2714 3411 \nQ 2714 3059 2531 2848 \nQ 2349 2637 1856 2374 \nQ 2432 1990 2640 1689 \nQ 2848 1389 2848 992 \nz\nM 2272 3411 \nQ 2272 3744 2086 3945 \nQ 1901 4147 1574 4147 \nQ 1248 4147 1059 3977 \nQ 870 3808 870 3513 \nQ 870 3219 1059 2979 \nQ 1248 2739 1670 2490 \nQ 1997 2682 2134 2896 \nQ 2272 3110 2272 3411 \nz\nM 1734 1741 \nL 1357 1997 \nQ 1075 1766 960 1545 \nQ 845 1325 845 1011 \nQ 845 576 1065 333 \nQ 1286 90 1658 90 \nQ 1971 90 2166 285 \nQ 2362 480 2362 794 \nQ 2362 1082 2214 1299 \nQ 2067 1517 1734 1741 \nz\n\" transform=\"scale(0.015625)\"/>\n       </defs>\n       <use xlink:href=\"#STIXGeneral-Regular-38\"/>\n       <use xlink:href=\"#STIXGeneral-Regular-30\" x=\"49.999985\"/>\n      </g>\n     </g>\n    </g>\n    <g id=\"xtick_6\">\n     <g id=\"line2d_17\">\n      <path d=\"M 330.033733 276.12 \nL 330.033733 13.68 \n\" clip-path=\"url(#pb92eb5dacb)\" style=\"fill: none; stroke-dasharray: 1,3; stroke-dashoffset: 0; stroke: #000000; stroke-width: 0.5\"/>\n     </g>\n     <g id=\"line2d_18\">\n      <g>\n       <use xlink:href=\"#mbfef408ec9\" x=\"330.033733\" y=\"276.12\" style=\"stroke: #000000; stroke-width: 0.5\"/>\n      </g>\n     </g>\n     <g id=\"line2d_19\">\n      <g>\n       <use xlink:href=\"#mb721bb60b6\" x=\"330.033733\" y=\"13.68\" style=\"stroke: #000000; stroke-width: 0.5\"/>\n      </g>\n     </g>\n     <g id=\"text_6\">\n      <!-- 100 -->\n      <g transform=\"translate(319.233733 289.95475) scale(0.144 -0.144)\">\n       <defs>\n        <path id=\"STIXGeneral-Regular-31\" d=\"M 2522 0 \nL 755 0 \nL 755 96 \nQ 1107 115 1235 227 \nQ 1363 339 1363 608 \nL 1363 3482 \nQ 1363 3795 1171 3795 \nQ 1082 3795 883 3718 \nL 710 3654 \nL 710 3744 \nL 1856 4326 \nL 1914 4307 \nL 1914 486 \nQ 1914 275 2042 185 \nQ 2170 96 2522 96 \nL 2522 0 \nz\n\" transform=\"scale(0.015625)\"/>\n       </defs>\n       <use xlink:href=\"#STIXGeneral-Regular-31\"/>\n       <use xlink:href=\"#STIXGeneral-Regular-30\" x=\"49.999985\"/>\n       <use xlink:href=\"#STIXGeneral-Regular-30\" x=\"99.999969\"/>\n      </g>\n     </g>\n    </g>\n    <g id=\"xtick_7\">\n     <g id=\"line2d_20\">\n      <path d=\"M 384.448479 276.12 \nL 384.448479 13.68 \n\" clip-path=\"url(#pb92eb5dacb)\" style=\"fill: none; stroke-dasharray: 1,3; stroke-dashoffset: 0; stroke: #000000; stroke-width: 0.5\"/>\n     </g>\n     <g id=\"line2d_21\">\n      <g>\n       <use xlink:href=\"#mbfef408ec9\" x=\"384.448479\" y=\"276.12\" style=\"stroke: #000000; stroke-width: 0.5\"/>\n      </g>\n     </g>\n     <g id=\"line2d_22\">\n      <g>\n       <use xlink:href=\"#mb721bb60b6\" x=\"384.448479\" y=\"13.68\" style=\"stroke: #000000; stroke-width: 0.5\"/>\n      </g>\n     </g>\n     <g id=\"text_7\">\n      <!-- 120 -->\n      <g transform=\"translate(373.648479 289.95475) scale(0.144 -0.144)\">\n       <use xlink:href=\"#STIXGeneral-Regular-31\"/>\n       <use xlink:href=\"#STIXGeneral-Regular-32\" x=\"49.999985\"/>\n       <use xlink:href=\"#STIXGeneral-Regular-30\" x=\"99.999969\"/>\n      </g>\n     </g>\n    </g>\n    <g id=\"text_8\">\n     <!-- frequency, [Hz] -->\n     <g transform=\"translate(170.56299 309.0075) scale(0.16 -0.16)\">\n      <defs>\n       <path id=\"STIXGeneral-Regular-66\" d=\"M 134 2880 \nL 659 2880 \nQ 666 3264 710 3478 \nQ 755 3693 883 3910 \nQ 1152 4371 1786 4371 \nQ 2074 4371 2262 4259 \nQ 2451 4147 2451 3974 \nQ 2451 3866 2374 3789 \nQ 2298 3712 2182 3712 \nQ 2029 3712 1894 3942 \nQ 1741 4192 1555 4192 \nQ 1197 4192 1197 3622 \nL 1197 2880 \nL 1978 2880 \nL 1978 2675 \nL 1197 2675 \nL 1197 666 \nQ 1197 307 1299 208 \nQ 1402 109 1792 96 \nL 1792 0 \nL 128 0 \nL 128 96 \nQ 474 115 566 214 \nQ 659 314 659 666 \nL 659 2675 \nL 134 2675 \nL 134 2880 \nz\n\" transform=\"scale(0.015625)\"/>\n       <path id=\"STIXGeneral-Regular-72\" d=\"M 1024 2931 \nL 1024 2342 \nQ 1267 2688 1430 2816 \nQ 1594 2944 1792 2944 \nQ 1958 2944 2051 2854 \nQ 2144 2765 2144 2605 \nQ 2144 2470 2077 2393 \nQ 2010 2317 1894 2317 \nQ 1773 2317 1638 2445 \nQ 1536 2541 1472 2541 \nQ 1338 2541 1181 2355 \nQ 1024 2170 1024 2016 \nL 1024 576 \nQ 1024 301 1133 205 \nQ 1242 109 1568 96 \nL 1568 0 \nL 32 0 \nL 32 96 \nQ 339 154 412 224 \nQ 486 294 486 538 \nL 486 2138 \nQ 486 2349 438 2435 \nQ 390 2522 269 2522 \nQ 166 2522 45 2496 \nL 45 2598 \nQ 448 2726 992 2944 \nL 1024 2931 \nz\n\" transform=\"scale(0.015625)\"/>\n       <path id=\"STIXGeneral-Regular-65\" d=\"M 2611 1050 \nL 2714 1005 \nQ 2330 -64 1376 -64 \nQ 813 -64 486 329 \nQ 160 723 160 1389 \nQ 160 2074 525 2509 \nQ 890 2944 1485 2944 \nQ 2061 2944 2374 2502 \nQ 2560 2246 2592 1773 \nL 621 1773 \nQ 646 1370 700 1158 \nQ 755 947 915 730 \nQ 1184 378 1626 378 \nQ 1939 378 2153 531 \nQ 2368 685 2611 1050 \nz\nM 634 1978 \nL 1939 1978 \nQ 1882 2381 1750 2547 \nQ 1619 2714 1312 2714 \nQ 1043 2714 864 2525 \nQ 685 2336 634 1978 \nz\n\" transform=\"scale(0.015625)\"/>\n       <path id=\"STIXGeneral-Regular-71\" d=\"M 3123 -1389 \nL 1613 -1389 \nL 1613 -1280 \nQ 1952 -1254 2067 -1158 \nQ 2182 -1062 2182 -794 \nL 2182 410 \nQ 1747 -64 1178 -64 \nQ 730 -64 442 320 \nQ 154 704 154 1312 \nQ 154 2003 560 2473 \nQ 966 2944 1562 2944 \nQ 1920 2944 2304 2720 \nL 2650 2925 \nL 2720 2925 \nL 2720 -902 \nQ 2720 -1107 2797 -1180 \nQ 2874 -1254 3123 -1280 \nL 3123 -1389 \nz\nM 2182 813 \nL 2182 2131 \nQ 2182 2758 1587 2758 \nQ 1178 2758 941 2432 \nQ 704 2106 704 1542 \nQ 704 1210 803 925 \nQ 902 640 1062 499 \nQ 1254 326 1542 326 \nQ 1882 326 2106 531 \nQ 2182 602 2182 813 \nz\n\" transform=\"scale(0.015625)\"/>\n       <path id=\"STIXGeneral-Regular-75\" d=\"M 3072 320 \nL 3072 230 \nQ 2573 96 2195 -58 \nL 2163 -38 \nL 2163 486 \nL 2150 486 \nQ 1747 -64 1235 -64 \nQ 870 -64 662 160 \nQ 454 384 454 755 \nL 454 2362 \nQ 454 2598 371 2688 \nQ 288 2778 58 2790 \nL 58 2880 \nL 992 2880 \nL 992 813 \nQ 992 595 1123 451 \nQ 1254 307 1446 307 \nQ 1760 307 1984 506 \nQ 2067 582 2099 649 \nQ 2131 717 2131 877 \nL 2131 2355 \nQ 2131 2605 2041 2678 \nQ 1952 2752 1658 2771 \nL 1658 2880 \nL 2669 2880 \nL 2669 685 \nQ 2669 461 2742 390 \nQ 2816 320 3034 320 \nL 3072 320 \nz\n\" transform=\"scale(0.015625)\"/>\n       <path id=\"STIXGeneral-Regular-6e\" d=\"M 3104 0 \nL 1773 0 \nL 1779 96 \nQ 2016 115 2096 233 \nQ 2176 352 2176 672 \nL 2176 1946 \nQ 2176 2592 1709 2592 \nQ 1549 2592 1408 2515 \nQ 1267 2438 1050 2227 \nL 1050 461 \nQ 1050 269 1136 192 \nQ 1222 115 1466 96 \nL 1466 0 \nL 115 0 \nL 115 96 \nQ 358 115 435 214 \nQ 512 314 512 602 \nL 512 2157 \nQ 512 2394 467 2483 \nQ 422 2573 288 2573 \nQ 160 2573 102 2547 \nL 102 2656 \nQ 550 2784 979 2944 \nL 1030 2925 \nL 1030 2426 \nL 1037 2426 \nQ 1491 2944 1958 2944 \nQ 2323 2944 2518 2688 \nQ 2714 2432 2714 1958 \nL 2714 544 \nQ 2714 288 2790 205 \nQ 2867 122 3104 96 \nL 3104 0 \nz\n\" transform=\"scale(0.015625)\"/>\n       <path id=\"STIXGeneral-Regular-63\" d=\"M 2547 998 \nL 2637 941 \nQ 2362 403 2112 205 \nQ 1786 -64 1376 -64 \nQ 845 -64 502 336 \nQ 160 736 160 1357 \nQ 160 2170 698 2618 \nQ 1094 2944 1562 2944 \nQ 1965 2944 2256 2749 \nQ 2547 2554 2547 2285 \nQ 2547 2176 2457 2096 \nQ 2368 2016 2246 2016 \nQ 2022 2016 1939 2310 \nL 1901 2451 \nQ 1850 2630 1773 2694 \nQ 1696 2758 1523 2758 \nQ 1133 2758 893 2451 \nQ 653 2144 653 1645 \nQ 653 1094 928 745 \nQ 1203 397 1645 397 \nQ 1920 397 2118 528 \nQ 2317 659 2547 998 \nz\n\" transform=\"scale(0.015625)\"/>\n       <path id=\"STIXGeneral-Regular-79\" d=\"M 3040 2880 \nL 3040 2784 \nQ 2925 2771 2854 2700 \nQ 2784 2630 2720 2458 \nL 1760 -160 \nQ 1510 -838 1257 -1116 \nQ 1005 -1395 640 -1395 \nQ 435 -1395 313 -1289 \nQ 192 -1184 192 -1024 \nQ 192 -902 272 -816 \nQ 352 -730 467 -730 \nQ 653 -730 800 -813 \nQ 883 -858 966 -858 \nQ 1101 -858 1286 -576 \nQ 1376 -448 1459 -211 \nQ 1542 26 1542 115 \nQ 1542 198 1274 762 \nL 429 2566 \nQ 346 2752 90 2790 \nL 90 2880 \nL 1402 2880 \nL 1402 2784 \nQ 1197 2778 1117 2739 \nQ 1037 2701 1037 2611 \nQ 1037 2541 1120 2349 \nL 1837 749 \nL 2458 2515 \nQ 2483 2573 2483 2630 \nQ 2483 2784 2189 2784 \nL 2189 2880 \nL 3040 2880 \nz\n\" transform=\"scale(0.015625)\"/>\n       <path id=\"STIXGeneral-Regular-2c\" d=\"M 531 -902 \nL 467 -781 \nQ 998 -422 998 -96 \nQ 998 -13 909 -13 \nQ 883 -13 822 -25 \nQ 762 -38 723 -38 \nQ 352 -38 352 288 \nQ 352 454 457 553 \nQ 563 653 736 653 \nQ 954 653 1101 496 \nQ 1248 339 1248 96 \nQ 1248 -198 1053 -473 \nQ 858 -749 531 -902 \nz\n\" transform=\"scale(0.015625)\"/>\n       <path id=\"STIXGeneral-Regular-20\" transform=\"scale(0.015625)\"/>\n       <path id=\"STIXGeneral-Regular-5b\" d=\"M 1914 -998 \nL 563 -998 \nL 563 4237 \nL 1914 4237 \nL 1914 4077 \nL 1382 4077 \nQ 1216 4077 1133 4006 \nQ 1050 3936 1050 3770 \nL 1050 -493 \nQ 1050 -838 1382 -838 \nL 1914 -838 \nL 1914 -998 \nz\n\" transform=\"scale(0.015625)\"/>\n       <path id=\"STIXGeneral-Regular-48\" d=\"M 4499 0 \nL 2714 0 \nL 2714 122 \nQ 3085 147 3181 265 \nQ 3277 384 3277 794 \nL 3277 2016 \nL 1338 2016 \nL 1338 723 \nQ 1338 371 1440 256 \nQ 1542 141 1894 122 \nL 1901 0 \nL 115 0 \nL 115 122 \nQ 493 147 589 259 \nQ 685 371 685 781 \nL 685 3507 \nQ 685 3878 585 3980 \nQ 486 4083 115 4115 \nL 115 4237 \nL 1907 4237 \nL 1907 4115 \nQ 1549 4083 1443 3977 \nQ 1338 3872 1338 3507 \nL 1338 2298 \nL 3277 2298 \nL 3277 3507 \nQ 3277 3878 3177 3980 \nQ 3078 4083 2707 4115 \nL 2707 4237 \nL 4499 4237 \nL 4499 4115 \nQ 4141 4083 4035 3977 \nQ 3930 3872 3930 3507 \nL 3930 710 \nQ 3930 371 4035 259 \nQ 4141 147 4499 122 \nL 4499 0 \nz\n\" transform=\"scale(0.015625)\"/>\n       <path id=\"STIXGeneral-Regular-7a\" d=\"M 2675 870 \nL 2579 0 \nL 173 0 \nL 173 96 \nL 1875 2688 \nL 1011 2688 \nQ 710 2688 604 2582 \nQ 499 2477 454 2125 \nL 339 2125 \nL 365 2880 \nL 2579 2880 \nL 2579 2784 \nL 858 192 \nL 1709 192 \nQ 2246 192 2387 365 \nQ 2477 474 2560 896 \nL 2675 870 \nz\n\" transform=\"scale(0.015625)\"/>\n       <path id=\"STIXGeneral-Regular-5d\" d=\"M 1568 -998 \nL 218 -998 \nL 218 -838 \nL 781 -838 \nQ 947 -838 1014 -768 \nQ 1082 -698 1082 -544 \nL 1082 3731 \nQ 1082 4077 755 4077 \nL 218 4077 \nL 218 4237 \nL 1568 4237 \nL 1568 -998 \nz\n\" transform=\"scale(0.015625)\"/>\n      </defs>\n      <use xlink:href=\"#STIXGeneral-Regular-66\"/>\n      <use xlink:href=\"#STIXGeneral-Regular-72\" x=\"33.299988\"/>\n      <use xlink:href=\"#STIXGeneral-Regular-65\" x=\"66.599976\"/>\n      <use xlink:href=\"#STIXGeneral-Regular-71\" x=\"110.999969\"/>\n      <use xlink:href=\"#STIXGeneral-Regular-75\" x=\"160.999954\"/>\n      <use xlink:href=\"#STIXGeneral-Regular-65\" x=\"210.999939\"/>\n      <use xlink:href=\"#STIXGeneral-Regular-6e\" x=\"255.399933\"/>\n      <use xlink:href=\"#STIXGeneral-Regular-63\" x=\"305.399918\"/>\n      <use xlink:href=\"#STIXGeneral-Regular-79\" x=\"349.799911\"/>\n      <use xlink:href=\"#STIXGeneral-Regular-2c\" x=\"399.799896\"/>\n      <use xlink:href=\"#STIXGeneral-Regular-20\" x=\"424.799881\"/>\n      <use xlink:href=\"#STIXGeneral-Regular-5b\" x=\"449.799866\"/>\n      <use xlink:href=\"#STIXGeneral-Regular-48\" x=\"483.099854\"/>\n      <use xlink:href=\"#STIXGeneral-Regular-7a\" x=\"555.299835\"/>\n      <use xlink:href=\"#STIXGeneral-Regular-5d\" x=\"599.699829\"/>\n     </g>\n    </g>\n   </g>\n   <g id=\"matplotlib.axis_2\">\n    <g id=\"ytick_1\">\n     <g id=\"line2d_23\">\n      <path d=\"M 57.96 276.12 \nL 384.448479 276.12 \n\" clip-path=\"url(#pb92eb5dacb)\" style=\"fill: none; stroke-dasharray: 1,3; stroke-dashoffset: 0; stroke: #000000; stroke-width: 0.5\"/>\n     </g>\n     <g id=\"line2d_24\">\n      <defs>\n       <path id=\"m72d4db9e15\" d=\"M 0 0 \nL 4 0 \n\" style=\"stroke: #000000; stroke-width: 0.5\"/>\n      </defs>\n      <g>\n       <use xlink:href=\"#m72d4db9e15\" x=\"57.96\" y=\"276.12\" style=\"stroke: #000000; stroke-width: 0.5\"/>\n      </g>\n     </g>\n     <g id=\"line2d_25\">\n      <defs>\n       <path id=\"ma9280d6417\" d=\"M 0 0 \nL -4 0 \n\" style=\"stroke: #000000; stroke-width: 0.5\"/>\n      </defs>\n      <g>\n       <use xlink:href=\"#ma9280d6417\" x=\"384.448479\" y=\"276.12\" style=\"stroke: #000000; stroke-width: 0.5\"/>\n      </g>\n     </g>\n     <g id=\"text_9\">\n      <!-- $\\mathdefault{10^{-8}}$ -->\n      <g transform=\"translate(26.6 279.47475) scale(0.144 -0.144)\">\n       <defs>\n        <path id=\"STIXGeneral-Regular-2212\" d=\"M 3974 1408 \nL 410 1408 \nL 410 1830 \nL 3974 1830 \nL 3974 1408 \nz\n\" transform=\"scale(0.015625)\"/>\n       </defs>\n       <use xlink:href=\"#STIXGeneral-Regular-31\" transform=\"translate(0 0.684375)\"/>\n       <use xlink:href=\"#STIXGeneral-Regular-30\" transform=\"translate(49.999985 0.684375)\"/>\n       <use xlink:href=\"#STIXGeneral-Regular-2212\" transform=\"translate(101.574969 36.684375) scale(0.7)\"/>\n       <use xlink:href=\"#STIXGeneral-Regular-38\" transform=\"translate(149.524959 36.684375) scale(0.7)\"/>\n      </g>\n     </g>\n    </g>\n    <g id=\"ytick_2\">\n     <g id=\"line2d_26\">\n      <path d=\"M 57.96 246.96 \nL 384.448479 246.96 \n\" clip-path=\"url(#pb92eb5dacb)\" style=\"fill: none; stroke-dasharray: 1,3; stroke-dashoffset: 0; stroke: #000000; stroke-width: 0.5\"/>\n     </g>\n     <g id=\"line2d_27\">\n      <g>\n       <use xlink:href=\"#m72d4db9e15\" x=\"57.96\" y=\"246.96\" style=\"stroke: #000000; stroke-width: 0.5\"/>\n      </g>\n     </g>\n     <g id=\"line2d_28\">\n      <g>\n       <use xlink:href=\"#ma9280d6417\" x=\"384.448479\" y=\"246.96\" style=\"stroke: #000000; stroke-width: 0.5\"/>\n      </g>\n     </g>\n     <g id=\"text_10\">\n      <!-- $\\mathdefault{10^{-7}}$ -->\n      <g transform=\"translate(26.6 250.31475) scale(0.144 -0.144)\">\n       <defs>\n        <path id=\"STIXGeneral-Regular-37\" d=\"M 2874 4134 \nL 1517 -51 \nL 1101 -51 \nL 2368 3763 \nL 992 3763 \nQ 717 3763 582 3667 \nQ 448 3571 243 3238 \nL 128 3296 \nL 512 4237 \nL 2874 4237 \nL 2874 4134 \nz\n\" transform=\"scale(0.015625)\"/>\n       </defs>\n       <use xlink:href=\"#STIXGeneral-Regular-31\" transform=\"translate(0 0.657813)\"/>\n       <use xlink:href=\"#STIXGeneral-Regular-30\" transform=\"translate(49.999985 0.657813)\"/>\n       <use xlink:href=\"#STIXGeneral-Regular-2212\" transform=\"translate(101.574969 36.657813) scale(0.7)\"/>\n       <use xlink:href=\"#STIXGeneral-Regular-37\" transform=\"translate(149.524959 36.657813) scale(0.7)\"/>\n      </g>\n     </g>\n    </g>\n    <g id=\"ytick_3\">\n     <g id=\"line2d_29\">\n      <path d=\"M 57.96 217.8 \nL 384.448479 217.8 \n\" clip-path=\"url(#pb92eb5dacb)\" style=\"fill: none; stroke-dasharray: 1,3; stroke-dashoffset: 0; stroke: #000000; stroke-width: 0.5\"/>\n     </g>\n     <g id=\"line2d_30\">\n      <g>\n       <use xlink:href=\"#m72d4db9e15\" x=\"57.96\" y=\"217.8\" style=\"stroke: #000000; stroke-width: 0.5\"/>\n      </g>\n     </g>\n     <g id=\"line2d_31\">\n      <g>\n       <use xlink:href=\"#ma9280d6417\" x=\"384.448479\" y=\"217.8\" style=\"stroke: #000000; stroke-width: 0.5\"/>\n      </g>\n     </g>\n     <g id=\"text_11\">\n      <!-- $\\mathdefault{10^{-6}}$ -->\n      <g transform=\"translate(26.6 221.15475) scale(0.144 -0.144)\">\n       <use xlink:href=\"#STIXGeneral-Regular-31\" transform=\"translate(0 0.115625)\"/>\n       <use xlink:href=\"#STIXGeneral-Regular-30\" transform=\"translate(49.999985 0.115625)\"/>\n       <use xlink:href=\"#STIXGeneral-Regular-2212\" transform=\"translate(101.574969 36.115625) scale(0.7)\"/>\n       <use xlink:href=\"#STIXGeneral-Regular-36\" transform=\"translate(149.524959 36.115625) scale(0.7)\"/>\n      </g>\n     </g>\n    </g>\n    <g id=\"ytick_4\">\n     <g id=\"line2d_32\">\n      <path d=\"M 57.96 188.64 \nL 384.448479 188.64 \n\" clip-path=\"url(#pb92eb5dacb)\" style=\"fill: none; stroke-dasharray: 1,3; stroke-dashoffset: 0; stroke: #000000; stroke-width: 0.5\"/>\n     </g>\n     <g id=\"line2d_33\">\n      <g>\n       <use xlink:href=\"#m72d4db9e15\" x=\"57.96\" y=\"188.64\" style=\"stroke: #000000; stroke-width: 0.5\"/>\n      </g>\n     </g>\n     <g id=\"line2d_34\">\n      <g>\n       <use xlink:href=\"#ma9280d6417\" x=\"384.448479\" y=\"188.64\" style=\"stroke: #000000; stroke-width: 0.5\"/>\n      </g>\n     </g>\n     <g id=\"text_12\">\n      <!-- $\\mathdefault{10^{-5}}$ -->\n      <g transform=\"translate(26.6 191.99475) scale(0.144 -0.144)\">\n       <defs>\n        <path id=\"STIXGeneral-Regular-35\" d=\"M 2803 4358 \nL 2573 3814 \nQ 2534 3731 2400 3731 \nL 1158 3731 \nL 902 3187 \nQ 1606 3053 1920 2896 \nQ 2234 2739 2502 2368 \nQ 2726 2061 2726 1555 \nQ 2726 1094 2576 780 \nQ 2426 467 2099 224 \nQ 1664 -90 1011 -90 \nQ 646 -90 422 19 \nQ 198 128 198 307 \nQ 198 550 486 550 \nQ 717 550 960 352 \nQ 1210 147 1414 147 \nQ 1747 147 2012 480 \nQ 2278 813 2278 1229 \nQ 2278 1843 1850 2189 \nQ 1293 2637 486 2637 \nQ 410 2637 410 2688 \nL 416 2720 \nL 1114 4237 \nL 2438 4237 \nQ 2547 4237 2608 4269 \nQ 2669 4301 2746 4403 \nL 2803 4358 \nz\n\" transform=\"scale(0.015625)\"/>\n       </defs>\n       <use xlink:href=\"#STIXGeneral-Regular-31\" transform=\"translate(0 0.842187)\"/>\n       <use xlink:href=\"#STIXGeneral-Regular-30\" transform=\"translate(49.999985 0.842187)\"/>\n       <use xlink:href=\"#STIXGeneral-Regular-2212\" transform=\"translate(101.574969 36.842187) scale(0.7)\"/>\n       <use xlink:href=\"#STIXGeneral-Regular-35\" transform=\"translate(149.524959 36.842187) scale(0.7)\"/>\n      </g>\n     </g>\n    </g>\n    <g id=\"ytick_5\">\n     <g id=\"line2d_35\">\n      <path d=\"M 57.96 159.48 \nL 384.448479 159.48 \n\" clip-path=\"url(#pb92eb5dacb)\" style=\"fill: none; stroke-dasharray: 1,3; stroke-dashoffset: 0; stroke: #000000; stroke-width: 0.5\"/>\n     </g>\n     <g id=\"line2d_36\">\n      <g>\n       <use xlink:href=\"#m72d4db9e15\" x=\"57.96\" y=\"159.48\" style=\"stroke: #000000; stroke-width: 0.5\"/>\n      </g>\n     </g>\n     <g id=\"line2d_37\">\n      <g>\n       <use xlink:href=\"#ma9280d6417\" x=\"384.448479\" y=\"159.48\" style=\"stroke: #000000; stroke-width: 0.5\"/>\n      </g>\n     </g>\n     <g id=\"text_13\">\n      <!-- $\\mathdefault{10^{-4}}$ -->\n      <g transform=\"translate(26.6 162.83475) scale(0.144 -0.144)\">\n       <use xlink:href=\"#STIXGeneral-Regular-31\" transform=\"translate(0 0.684375)\"/>\n       <use xlink:href=\"#STIXGeneral-Regular-30\" transform=\"translate(49.999985 0.684375)\"/>\n       <use xlink:href=\"#STIXGeneral-Regular-2212\" transform=\"translate(101.574969 36.684375) scale(0.7)\"/>\n       <use xlink:href=\"#STIXGeneral-Regular-34\" transform=\"translate(149.524959 36.684375) scale(0.7)\"/>\n      </g>\n     </g>\n    </g>\n    <g id=\"ytick_6\">\n     <g id=\"line2d_38\">\n      <path d=\"M 57.96 130.32 \nL 384.448479 130.32 \n\" clip-path=\"url(#pb92eb5dacb)\" style=\"fill: none; stroke-dasharray: 1,3; stroke-dashoffset: 0; stroke: #000000; stroke-width: 0.5\"/>\n     </g>\n     <g id=\"line2d_39\">\n      <g>\n       <use xlink:href=\"#m72d4db9e15\" x=\"57.96\" y=\"130.32\" style=\"stroke: #000000; stroke-width: 0.5\"/>\n      </g>\n     </g>\n     <g id=\"line2d_40\">\n      <g>\n       <use xlink:href=\"#ma9280d6417\" x=\"384.448479\" y=\"130.32\" style=\"stroke: #000000; stroke-width: 0.5\"/>\n      </g>\n     </g>\n     <g id=\"text_14\">\n      <!-- $\\mathdefault{10^{-3}}$ -->\n      <g transform=\"translate(26.6 133.67475) scale(0.144 -0.144)\">\n       <defs>\n        <path id=\"STIXGeneral-Regular-33\" d=\"M 390 3264 \nL 288 3290 \nQ 435 3770 748 4048 \nQ 1062 4326 1542 4326 \nQ 1990 4326 2265 4083 \nQ 2541 3840 2541 3450 \nQ 2541 2925 1946 2566 \nQ 2298 2413 2477 2227 \nQ 2758 1914 2758 1402 \nQ 2758 890 2464 506 \nQ 2246 211 1840 60 \nQ 1434 -90 979 -90 \nQ 262 -90 262 275 \nQ 262 378 339 442 \nQ 416 506 525 506 \nQ 685 506 915 339 \nQ 1197 141 1466 141 \nQ 1818 141 2058 425 \nQ 2298 710 2298 1120 \nQ 2298 1856 1632 2048 \nQ 1434 2112 979 2112 \nL 979 2202 \nQ 1338 2323 1517 2432 \nQ 2035 2726 2035 3290 \nQ 2035 3610 1852 3776 \nQ 1670 3942 1344 3942 \nQ 768 3942 390 3264 \nz\n\" transform=\"scale(0.015625)\"/>\n       </defs>\n       <use xlink:href=\"#STIXGeneral-Regular-31\" transform=\"translate(0 0.684375)\"/>\n       <use xlink:href=\"#STIXGeneral-Regular-30\" transform=\"translate(49.999985 0.684375)\"/>\n       <use xlink:href=\"#STIXGeneral-Regular-2212\" transform=\"translate(101.574969 36.684375) scale(0.7)\"/>\n       <use xlink:href=\"#STIXGeneral-Regular-33\" transform=\"translate(149.524959 36.684375) scale(0.7)\"/>\n      </g>\n     </g>\n    </g>\n    <g id=\"ytick_7\">\n     <g id=\"line2d_41\">\n      <path d=\"M 57.96 101.16 \nL 384.448479 101.16 \n\" clip-path=\"url(#pb92eb5dacb)\" style=\"fill: none; stroke-dasharray: 1,3; stroke-dashoffset: 0; stroke: #000000; stroke-width: 0.5\"/>\n     </g>\n     <g id=\"line2d_42\">\n      <g>\n       <use xlink:href=\"#m72d4db9e15\" x=\"57.96\" y=\"101.16\" style=\"stroke: #000000; stroke-width: 0.5\"/>\n      </g>\n     </g>\n     <g id=\"line2d_43\">\n      <g>\n       <use xlink:href=\"#ma9280d6417\" x=\"384.448479\" y=\"101.16\" style=\"stroke: #000000; stroke-width: 0.5\"/>\n      </g>\n     </g>\n     <g id=\"text_15\">\n      <!-- $\\mathdefault{10^{-2}}$ -->\n      <g transform=\"translate(26.6 104.51475) scale(0.144 -0.144)\">\n       <use xlink:href=\"#STIXGeneral-Regular-31\" transform=\"translate(0 0.684375)\"/>\n       <use xlink:href=\"#STIXGeneral-Regular-30\" transform=\"translate(49.999985 0.684375)\"/>\n       <use xlink:href=\"#STIXGeneral-Regular-2212\" transform=\"translate(101.574969 36.684375) scale(0.7)\"/>\n       <use xlink:href=\"#STIXGeneral-Regular-32\" transform=\"translate(149.524959 36.684375) scale(0.7)\"/>\n      </g>\n     </g>\n    </g>\n    <g id=\"ytick_8\">\n     <g id=\"line2d_44\">\n      <path d=\"M 57.96 72 \nL 384.448479 72 \n\" clip-path=\"url(#pb92eb5dacb)\" style=\"fill: none; stroke-dasharray: 1,3; stroke-dashoffset: 0; stroke: #000000; stroke-width: 0.5\"/>\n     </g>\n     <g id=\"line2d_45\">\n      <g>\n       <use xlink:href=\"#m72d4db9e15\" x=\"57.96\" y=\"72\" style=\"stroke: #000000; stroke-width: 0.5\"/>\n      </g>\n     </g>\n     <g id=\"line2d_46\">\n      <g>\n       <use xlink:href=\"#ma9280d6417\" x=\"384.448479\" y=\"72\" style=\"stroke: #000000; stroke-width: 0.5\"/>\n      </g>\n     </g>\n     <g id=\"text_16\">\n      <!-- $\\mathdefault{10^{-1}}$ -->\n      <g transform=\"translate(26.6 75.35475) scale(0.144 -0.144)\">\n       <use xlink:href=\"#STIXGeneral-Regular-31\" transform=\"translate(0 0.684375)\"/>\n       <use xlink:href=\"#STIXGeneral-Regular-30\" transform=\"translate(49.999985 0.684375)\"/>\n       <use xlink:href=\"#STIXGeneral-Regular-2212\" transform=\"translate(101.574969 36.684375) scale(0.7)\"/>\n       <use xlink:href=\"#STIXGeneral-Regular-31\" transform=\"translate(149.524959 36.684375) scale(0.7)\"/>\n      </g>\n     </g>\n    </g>\n    <g id=\"ytick_9\">\n     <g id=\"line2d_47\">\n      <path d=\"M 57.96 42.84 \nL 384.448479 42.84 \n\" clip-path=\"url(#pb92eb5dacb)\" style=\"fill: none; stroke-dasharray: 1,3; stroke-dashoffset: 0; stroke: #000000; stroke-width: 0.5\"/>\n     </g>\n     <g id=\"line2d_48\">\n      <g>\n       <use xlink:href=\"#m72d4db9e15\" x=\"57.96\" y=\"42.84\" style=\"stroke: #000000; stroke-width: 0.5\"/>\n      </g>\n     </g>\n     <g id=\"line2d_49\">\n      <g>\n       <use xlink:href=\"#ma9280d6417\" x=\"384.448479\" y=\"42.84\" style=\"stroke: #000000; stroke-width: 0.5\"/>\n      </g>\n     </g>\n     <g id=\"text_17\">\n      <!-- $\\mathdefault{10^{0}}$ -->\n      <g transform=\"translate(33.512 46.19475) scale(0.144 -0.144)\">\n       <use xlink:href=\"#STIXGeneral-Regular-31\" transform=\"translate(0 0.684375)\"/>\n       <use xlink:href=\"#STIXGeneral-Regular-30\" transform=\"translate(49.999985 0.684375)\"/>\n       <use xlink:href=\"#STIXGeneral-Regular-30\" transform=\"translate(101.574969 36.684375) scale(0.7)\"/>\n      </g>\n     </g>\n    </g>\n    <g id=\"ytick_10\">\n     <g id=\"line2d_50\">\n      <path d=\"M 57.96 13.68 \nL 384.448479 13.68 \n\" clip-path=\"url(#pb92eb5dacb)\" style=\"fill: none; stroke-dasharray: 1,3; stroke-dashoffset: 0; stroke: #000000; stroke-width: 0.5\"/>\n     </g>\n     <g id=\"line2d_51\">\n      <g>\n       <use xlink:href=\"#m72d4db9e15\" x=\"57.96\" y=\"13.68\" style=\"stroke: #000000; stroke-width: 0.5\"/>\n      </g>\n     </g>\n     <g id=\"line2d_52\">\n      <g>\n       <use xlink:href=\"#ma9280d6417\" x=\"384.448479\" y=\"13.68\" style=\"stroke: #000000; stroke-width: 0.5\"/>\n      </g>\n     </g>\n     <g id=\"text_18\">\n      <!-- $\\mathdefault{10^{1}}$ -->\n      <g transform=\"translate(33.512 17.03475) scale(0.144 -0.144)\">\n       <use xlink:href=\"#STIXGeneral-Regular-31\" transform=\"translate(0 0.684375)\"/>\n       <use xlink:href=\"#STIXGeneral-Regular-30\" transform=\"translate(49.999985 0.684375)\"/>\n       <use xlink:href=\"#STIXGeneral-Regular-31\" transform=\"translate(101.574969 36.684375) scale(0.7)\"/>\n      </g>\n     </g>\n    </g>\n    <g id=\"ytick_11\">\n     <g id=\"line2d_53\">\n      <defs>\n       <path id=\"ma57bc2f2d1\" d=\"M 0 0 \nL 2 0 \n\" style=\"stroke: #000000; stroke-width: 0.5\"/>\n      </defs>\n      <g>\n       <use xlink:href=\"#ma57bc2f2d1\" x=\"57.96\" y=\"267.341965\" style=\"stroke: #000000; stroke-width: 0.5\"/>\n      </g>\n     </g>\n     <g id=\"line2d_54\">\n      <defs>\n       <path id=\"m85800549d4\" d=\"M 0 0 \nL -2 0 \n\" style=\"stroke: #000000; stroke-width: 0.5\"/>\n      </defs>\n      <g>\n       <use xlink:href=\"#m85800549d4\" x=\"384.448479\" y=\"267.341965\" style=\"stroke: #000000; stroke-width: 0.5\"/>\n      </g>\n     </g>\n    </g>\n    <g id=\"ytick_12\">\n     <g id=\"line2d_55\">\n      <g>\n       <use xlink:href=\"#ma57bc2f2d1\" x=\"57.96\" y=\"262.207144\" style=\"stroke: #000000; stroke-width: 0.5\"/>\n      </g>\n     </g>\n     <g id=\"line2d_56\">\n      <g>\n       <use xlink:href=\"#m85800549d4\" x=\"384.448479\" y=\"262.207144\" style=\"stroke: #000000; stroke-width: 0.5\"/>\n      </g>\n     </g>\n    </g>\n    <g id=\"ytick_13\">\n     <g id=\"line2d_57\">\n      <g>\n       <use xlink:href=\"#ma57bc2f2d1\" x=\"57.96\" y=\"258.563931\" style=\"stroke: #000000; stroke-width: 0.5\"/>\n      </g>\n     </g>\n     <g id=\"line2d_58\">\n      <g>\n       <use xlink:href=\"#m85800549d4\" x=\"384.448479\" y=\"258.563931\" style=\"stroke: #000000; stroke-width: 0.5\"/>\n      </g>\n     </g>\n    </g>\n    <g id=\"ytick_14\">\n     <g id=\"line2d_59\">\n      <g>\n       <use xlink:href=\"#ma57bc2f2d1\" x=\"57.96\" y=\"255.738035\" style=\"stroke: #000000; stroke-width: 0.5\"/>\n      </g>\n     </g>\n     <g id=\"line2d_60\">\n      <g>\n       <use xlink:href=\"#m85800549d4\" x=\"384.448479\" y=\"255.738035\" style=\"stroke: #000000; stroke-width: 0.5\"/>\n      </g>\n     </g>\n    </g>\n    <g id=\"ytick_15\">\n     <g id=\"line2d_61\">\n      <g>\n       <use xlink:href=\"#ma57bc2f2d1\" x=\"57.96\" y=\"253.42911\" style=\"stroke: #000000; stroke-width: 0.5\"/>\n      </g>\n     </g>\n     <g id=\"line2d_62\">\n      <g>\n       <use xlink:href=\"#m85800549d4\" x=\"384.448479\" y=\"253.42911\" style=\"stroke: #000000; stroke-width: 0.5\"/>\n      </g>\n     </g>\n    </g>\n    <g id=\"ytick_16\">\n     <g id=\"line2d_63\">\n      <g>\n       <use xlink:href=\"#ma57bc2f2d1\" x=\"57.96\" y=\"251.476941\" style=\"stroke: #000000; stroke-width: 0.5\"/>\n      </g>\n     </g>\n     <g id=\"line2d_64\">\n      <g>\n       <use xlink:href=\"#m85800549d4\" x=\"384.448479\" y=\"251.476941\" style=\"stroke: #000000; stroke-width: 0.5\"/>\n      </g>\n     </g>\n    </g>\n    <g id=\"ytick_17\">\n     <g id=\"line2d_65\">\n      <g>\n       <use xlink:href=\"#ma57bc2f2d1\" x=\"57.96\" y=\"249.785896\" style=\"stroke: #000000; stroke-width: 0.5\"/>\n      </g>\n     </g>\n     <g id=\"line2d_66\">\n      <g>\n       <use xlink:href=\"#m85800549d4\" x=\"384.448479\" y=\"249.785896\" style=\"stroke: #000000; stroke-width: 0.5\"/>\n      </g>\n     </g>\n    </g>\n    <g id=\"ytick_18\">\n     <g id=\"line2d_67\">\n      <g>\n       <use xlink:href=\"#ma57bc2f2d1\" x=\"57.96\" y=\"248.294288\" style=\"stroke: #000000; stroke-width: 0.5\"/>\n      </g>\n     </g>\n     <g id=\"line2d_68\">\n      <g>\n       <use xlink:href=\"#m85800549d4\" x=\"384.448479\" y=\"248.294288\" style=\"stroke: #000000; stroke-width: 0.5\"/>\n      </g>\n     </g>\n    </g>\n    <g id=\"ytick_19\">\n     <g id=\"line2d_69\">\n      <g>\n       <use xlink:href=\"#ma57bc2f2d1\" x=\"57.96\" y=\"238.181965\" style=\"stroke: #000000; stroke-width: 0.5\"/>\n      </g>\n     </g>\n     <g id=\"line2d_70\">\n      <g>\n       <use xlink:href=\"#m85800549d4\" x=\"384.448479\" y=\"238.181965\" style=\"stroke: #000000; stroke-width: 0.5\"/>\n      </g>\n     </g>\n    </g>\n    <g id=\"ytick_20\">\n     <g id=\"line2d_71\">\n      <g>\n       <use xlink:href=\"#ma57bc2f2d1\" x=\"57.96\" y=\"233.047144\" style=\"stroke: #000000; stroke-width: 0.5\"/>\n      </g>\n     </g>\n     <g id=\"line2d_72\">\n      <g>\n       <use xlink:href=\"#m85800549d4\" x=\"384.448479\" y=\"233.047144\" style=\"stroke: #000000; stroke-width: 0.5\"/>\n      </g>\n     </g>\n    </g>\n    <g id=\"ytick_21\">\n     <g id=\"line2d_73\">\n      <g>\n       <use xlink:href=\"#ma57bc2f2d1\" x=\"57.96\" y=\"229.403931\" style=\"stroke: #000000; stroke-width: 0.5\"/>\n      </g>\n     </g>\n     <g id=\"line2d_74\">\n      <g>\n       <use xlink:href=\"#m85800549d4\" x=\"384.448479\" y=\"229.403931\" style=\"stroke: #000000; stroke-width: 0.5\"/>\n      </g>\n     </g>\n    </g>\n    <g id=\"ytick_22\">\n     <g id=\"line2d_75\">\n      <g>\n       <use xlink:href=\"#ma57bc2f2d1\" x=\"57.96\" y=\"226.578035\" style=\"stroke: #000000; stroke-width: 0.5\"/>\n      </g>\n     </g>\n     <g id=\"line2d_76\">\n      <g>\n       <use xlink:href=\"#m85800549d4\" x=\"384.448479\" y=\"226.578035\" style=\"stroke: #000000; stroke-width: 0.5\"/>\n      </g>\n     </g>\n    </g>\n    <g id=\"ytick_23\">\n     <g id=\"line2d_77\">\n      <g>\n       <use xlink:href=\"#ma57bc2f2d1\" x=\"57.96\" y=\"224.26911\" style=\"stroke: #000000; stroke-width: 0.5\"/>\n      </g>\n     </g>\n     <g id=\"line2d_78\">\n      <g>\n       <use xlink:href=\"#m85800549d4\" x=\"384.448479\" y=\"224.26911\" style=\"stroke: #000000; stroke-width: 0.5\"/>\n      </g>\n     </g>\n    </g>\n    <g id=\"ytick_24\">\n     <g id=\"line2d_79\">\n      <g>\n       <use xlink:href=\"#ma57bc2f2d1\" x=\"57.96\" y=\"222.316941\" style=\"stroke: #000000; stroke-width: 0.5\"/>\n      </g>\n     </g>\n     <g id=\"line2d_80\">\n      <g>\n       <use xlink:href=\"#m85800549d4\" x=\"384.448479\" y=\"222.316941\" style=\"stroke: #000000; stroke-width: 0.5\"/>\n      </g>\n     </g>\n    </g>\n    <g id=\"ytick_25\">\n     <g id=\"line2d_81\">\n      <g>\n       <use xlink:href=\"#ma57bc2f2d1\" x=\"57.96\" y=\"220.625896\" style=\"stroke: #000000; stroke-width: 0.5\"/>\n      </g>\n     </g>\n     <g id=\"line2d_82\">\n      <g>\n       <use xlink:href=\"#m85800549d4\" x=\"384.448479\" y=\"220.625896\" style=\"stroke: #000000; stroke-width: 0.5\"/>\n      </g>\n     </g>\n    </g>\n    <g id=\"ytick_26\">\n     <g id=\"line2d_83\">\n      <g>\n       <use xlink:href=\"#ma57bc2f2d1\" x=\"57.96\" y=\"219.134288\" style=\"stroke: #000000; stroke-width: 0.5\"/>\n      </g>\n     </g>\n     <g id=\"line2d_84\">\n      <g>\n       <use xlink:href=\"#m85800549d4\" x=\"384.448479\" y=\"219.134288\" style=\"stroke: #000000; stroke-width: 0.5\"/>\n      </g>\n     </g>\n    </g>\n    <g id=\"ytick_27\">\n     <g id=\"line2d_85\">\n      <g>\n       <use xlink:href=\"#ma57bc2f2d1\" x=\"57.96\" y=\"209.021965\" style=\"stroke: #000000; stroke-width: 0.5\"/>\n      </g>\n     </g>\n     <g id=\"line2d_86\">\n      <g>\n       <use xlink:href=\"#m85800549d4\" x=\"384.448479\" y=\"209.021965\" style=\"stroke: #000000; stroke-width: 0.5\"/>\n      </g>\n     </g>\n    </g>\n    <g id=\"ytick_28\">\n     <g id=\"line2d_87\">\n      <g>\n       <use xlink:href=\"#ma57bc2f2d1\" x=\"57.96\" y=\"203.887144\" style=\"stroke: #000000; stroke-width: 0.5\"/>\n      </g>\n     </g>\n     <g id=\"line2d_88\">\n      <g>\n       <use xlink:href=\"#m85800549d4\" x=\"384.448479\" y=\"203.887144\" style=\"stroke: #000000; stroke-width: 0.5\"/>\n      </g>\n     </g>\n    </g>\n    <g id=\"ytick_29\">\n     <g id=\"line2d_89\">\n      <g>\n       <use xlink:href=\"#ma57bc2f2d1\" x=\"57.96\" y=\"200.243931\" style=\"stroke: #000000; stroke-width: 0.5\"/>\n      </g>\n     </g>\n     <g id=\"line2d_90\">\n      <g>\n       <use xlink:href=\"#m85800549d4\" x=\"384.448479\" y=\"200.243931\" style=\"stroke: #000000; stroke-width: 0.5\"/>\n      </g>\n     </g>\n    </g>\n    <g id=\"ytick_30\">\n     <g id=\"line2d_91\">\n      <g>\n       <use xlink:href=\"#ma57bc2f2d1\" x=\"57.96\" y=\"197.418035\" style=\"stroke: #000000; stroke-width: 0.5\"/>\n      </g>\n     </g>\n     <g id=\"line2d_92\">\n      <g>\n       <use xlink:href=\"#m85800549d4\" x=\"384.448479\" y=\"197.418035\" style=\"stroke: #000000; stroke-width: 0.5\"/>\n      </g>\n     </g>\n    </g>\n    <g id=\"ytick_31\">\n     <g id=\"line2d_93\">\n      <g>\n       <use xlink:href=\"#ma57bc2f2d1\" x=\"57.96\" y=\"195.10911\" style=\"stroke: #000000; stroke-width: 0.5\"/>\n      </g>\n     </g>\n     <g id=\"line2d_94\">\n      <g>\n       <use xlink:href=\"#m85800549d4\" x=\"384.448479\" y=\"195.10911\" style=\"stroke: #000000; stroke-width: 0.5\"/>\n      </g>\n     </g>\n    </g>\n    <g id=\"ytick_32\">\n     <g id=\"line2d_95\">\n      <g>\n       <use xlink:href=\"#ma57bc2f2d1\" x=\"57.96\" y=\"193.156941\" style=\"stroke: #000000; stroke-width: 0.5\"/>\n      </g>\n     </g>\n     <g id=\"line2d_96\">\n      <g>\n       <use xlink:href=\"#m85800549d4\" x=\"384.448479\" y=\"193.156941\" style=\"stroke: #000000; stroke-width: 0.5\"/>\n      </g>\n     </g>\n    </g>\n    <g id=\"ytick_33\">\n     <g id=\"line2d_97\">\n      <g>\n       <use xlink:href=\"#ma57bc2f2d1\" x=\"57.96\" y=\"191.465896\" style=\"stroke: #000000; stroke-width: 0.5\"/>\n      </g>\n     </g>\n     <g id=\"line2d_98\">\n      <g>\n       <use xlink:href=\"#m85800549d4\" x=\"384.448479\" y=\"191.465896\" style=\"stroke: #000000; stroke-width: 0.5\"/>\n      </g>\n     </g>\n    </g>\n    <g id=\"ytick_34\">\n     <g id=\"line2d_99\">\n      <g>\n       <use xlink:href=\"#ma57bc2f2d1\" x=\"57.96\" y=\"189.974288\" style=\"stroke: #000000; stroke-width: 0.5\"/>\n      </g>\n     </g>\n     <g id=\"line2d_100\">\n      <g>\n       <use xlink:href=\"#m85800549d4\" x=\"384.448479\" y=\"189.974288\" style=\"stroke: #000000; stroke-width: 0.5\"/>\n      </g>\n     </g>\n    </g>\n    <g id=\"ytick_35\">\n     <g id=\"line2d_101\">\n      <g>\n       <use xlink:href=\"#ma57bc2f2d1\" x=\"57.96\" y=\"179.861965\" style=\"stroke: #000000; stroke-width: 0.5\"/>\n      </g>\n     </g>\n     <g id=\"line2d_102\">\n      <g>\n       <use xlink:href=\"#m85800549d4\" x=\"384.448479\" y=\"179.861965\" style=\"stroke: #000000; stroke-width: 0.5\"/>\n      </g>\n     </g>\n    </g>\n    <g id=\"ytick_36\">\n     <g id=\"line2d_103\">\n      <g>\n       <use xlink:href=\"#ma57bc2f2d1\" x=\"57.96\" y=\"174.727144\" style=\"stroke: #000000; stroke-width: 0.5\"/>\n      </g>\n     </g>\n     <g id=\"line2d_104\">\n      <g>\n       <use xlink:href=\"#m85800549d4\" x=\"384.448479\" y=\"174.727144\" style=\"stroke: #000000; stroke-width: 0.5\"/>\n      </g>\n     </g>\n    </g>\n    <g id=\"ytick_37\">\n     <g id=\"line2d_105\">\n      <g>\n       <use xlink:href=\"#ma57bc2f2d1\" x=\"57.96\" y=\"171.083931\" style=\"stroke: #000000; stroke-width: 0.5\"/>\n      </g>\n     </g>\n     <g id=\"line2d_106\">\n      <g>\n       <use xlink:href=\"#m85800549d4\" x=\"384.448479\" y=\"171.083931\" style=\"stroke: #000000; stroke-width: 0.5\"/>\n      </g>\n     </g>\n    </g>\n    <g id=\"ytick_38\">\n     <g id=\"line2d_107\">\n      <g>\n       <use xlink:href=\"#ma57bc2f2d1\" x=\"57.96\" y=\"168.258035\" style=\"stroke: #000000; stroke-width: 0.5\"/>\n      </g>\n     </g>\n     <g id=\"line2d_108\">\n      <g>\n       <use xlink:href=\"#m85800549d4\" x=\"384.448479\" y=\"168.258035\" style=\"stroke: #000000; stroke-width: 0.5\"/>\n      </g>\n     </g>\n    </g>\n    <g id=\"ytick_39\">\n     <g id=\"line2d_109\">\n      <g>\n       <use xlink:href=\"#ma57bc2f2d1\" x=\"57.96\" y=\"165.94911\" style=\"stroke: #000000; stroke-width: 0.5\"/>\n      </g>\n     </g>\n     <g id=\"line2d_110\">\n      <g>\n       <use xlink:href=\"#m85800549d4\" x=\"384.448479\" y=\"165.94911\" style=\"stroke: #000000; stroke-width: 0.5\"/>\n      </g>\n     </g>\n    </g>\n    <g id=\"ytick_40\">\n     <g id=\"line2d_111\">\n      <g>\n       <use xlink:href=\"#ma57bc2f2d1\" x=\"57.96\" y=\"163.996941\" style=\"stroke: #000000; stroke-width: 0.5\"/>\n      </g>\n     </g>\n     <g id=\"line2d_112\">\n      <g>\n       <use xlink:href=\"#m85800549d4\" x=\"384.448479\" y=\"163.996941\" style=\"stroke: #000000; stroke-width: 0.5\"/>\n      </g>\n     </g>\n    </g>\n    <g id=\"ytick_41\">\n     <g id=\"line2d_113\">\n      <g>\n       <use xlink:href=\"#ma57bc2f2d1\" x=\"57.96\" y=\"162.305896\" style=\"stroke: #000000; stroke-width: 0.5\"/>\n      </g>\n     </g>\n     <g id=\"line2d_114\">\n      <g>\n       <use xlink:href=\"#m85800549d4\" x=\"384.448479\" y=\"162.305896\" style=\"stroke: #000000; stroke-width: 0.5\"/>\n      </g>\n     </g>\n    </g>\n    <g id=\"ytick_42\">\n     <g id=\"line2d_115\">\n      <g>\n       <use xlink:href=\"#ma57bc2f2d1\" x=\"57.96\" y=\"160.814288\" style=\"stroke: #000000; stroke-width: 0.5\"/>\n      </g>\n     </g>\n     <g id=\"line2d_116\">\n      <g>\n       <use xlink:href=\"#m85800549d4\" x=\"384.448479\" y=\"160.814288\" style=\"stroke: #000000; stroke-width: 0.5\"/>\n      </g>\n     </g>\n    </g>\n    <g id=\"ytick_43\">\n     <g id=\"line2d_117\">\n      <g>\n       <use xlink:href=\"#ma57bc2f2d1\" x=\"57.96\" y=\"150.701965\" style=\"stroke: #000000; stroke-width: 0.5\"/>\n      </g>\n     </g>\n     <g id=\"line2d_118\">\n      <g>\n       <use xlink:href=\"#m85800549d4\" x=\"384.448479\" y=\"150.701965\" style=\"stroke: #000000; stroke-width: 0.5\"/>\n      </g>\n     </g>\n    </g>\n    <g id=\"ytick_44\">\n     <g id=\"line2d_119\">\n      <g>\n       <use xlink:href=\"#ma57bc2f2d1\" x=\"57.96\" y=\"145.567144\" style=\"stroke: #000000; stroke-width: 0.5\"/>\n      </g>\n     </g>\n     <g id=\"line2d_120\">\n      <g>\n       <use xlink:href=\"#m85800549d4\" x=\"384.448479\" y=\"145.567144\" style=\"stroke: #000000; stroke-width: 0.5\"/>\n      </g>\n     </g>\n    </g>\n    <g id=\"ytick_45\">\n     <g id=\"line2d_121\">\n      <g>\n       <use xlink:href=\"#ma57bc2f2d1\" x=\"57.96\" y=\"141.923931\" style=\"stroke: #000000; stroke-width: 0.5\"/>\n      </g>\n     </g>\n     <g id=\"line2d_122\">\n      <g>\n       <use xlink:href=\"#m85800549d4\" x=\"384.448479\" y=\"141.923931\" style=\"stroke: #000000; stroke-width: 0.5\"/>\n      </g>\n     </g>\n    </g>\n    <g id=\"ytick_46\">\n     <g id=\"line2d_123\">\n      <g>\n       <use xlink:href=\"#ma57bc2f2d1\" x=\"57.96\" y=\"139.098035\" style=\"stroke: #000000; stroke-width: 0.5\"/>\n      </g>\n     </g>\n     <g id=\"line2d_124\">\n      <g>\n       <use xlink:href=\"#m85800549d4\" x=\"384.448479\" y=\"139.098035\" style=\"stroke: #000000; stroke-width: 0.5\"/>\n      </g>\n     </g>\n    </g>\n    <g id=\"ytick_47\">\n     <g id=\"line2d_125\">\n      <g>\n       <use xlink:href=\"#ma57bc2f2d1\" x=\"57.96\" y=\"136.78911\" style=\"stroke: #000000; stroke-width: 0.5\"/>\n      </g>\n     </g>\n     <g id=\"line2d_126\">\n      <g>\n       <use xlink:href=\"#m85800549d4\" x=\"384.448479\" y=\"136.78911\" style=\"stroke: #000000; stroke-width: 0.5\"/>\n      </g>\n     </g>\n    </g>\n    <g id=\"ytick_48\">\n     <g id=\"line2d_127\">\n      <g>\n       <use xlink:href=\"#ma57bc2f2d1\" x=\"57.96\" y=\"134.836941\" style=\"stroke: #000000; stroke-width: 0.5\"/>\n      </g>\n     </g>\n     <g id=\"line2d_128\">\n      <g>\n       <use xlink:href=\"#m85800549d4\" x=\"384.448479\" y=\"134.836941\" style=\"stroke: #000000; stroke-width: 0.5\"/>\n      </g>\n     </g>\n    </g>\n    <g id=\"ytick_49\">\n     <g id=\"line2d_129\">\n      <g>\n       <use xlink:href=\"#ma57bc2f2d1\" x=\"57.96\" y=\"133.145896\" style=\"stroke: #000000; stroke-width: 0.5\"/>\n      </g>\n     </g>\n     <g id=\"line2d_130\">\n      <g>\n       <use xlink:href=\"#m85800549d4\" x=\"384.448479\" y=\"133.145896\" style=\"stroke: #000000; stroke-width: 0.5\"/>\n      </g>\n     </g>\n    </g>\n    <g id=\"ytick_50\">\n     <g id=\"line2d_131\">\n      <g>\n       <use xlink:href=\"#ma57bc2f2d1\" x=\"57.96\" y=\"131.654288\" style=\"stroke: #000000; stroke-width: 0.5\"/>\n      </g>\n     </g>\n     <g id=\"line2d_132\">\n      <g>\n       <use xlink:href=\"#m85800549d4\" x=\"384.448479\" y=\"131.654288\" style=\"stroke: #000000; stroke-width: 0.5\"/>\n      </g>\n     </g>\n    </g>\n    <g id=\"ytick_51\">\n     <g id=\"line2d_133\">\n      <g>\n       <use xlink:href=\"#ma57bc2f2d1\" x=\"57.96\" y=\"121.541965\" style=\"stroke: #000000; stroke-width: 0.5\"/>\n      </g>\n     </g>\n     <g id=\"line2d_134\">\n      <g>\n       <use xlink:href=\"#m85800549d4\" x=\"384.448479\" y=\"121.541965\" style=\"stroke: #000000; stroke-width: 0.5\"/>\n      </g>\n     </g>\n    </g>\n    <g id=\"ytick_52\">\n     <g id=\"line2d_135\">\n      <g>\n       <use xlink:href=\"#ma57bc2f2d1\" x=\"57.96\" y=\"116.407144\" style=\"stroke: #000000; stroke-width: 0.5\"/>\n      </g>\n     </g>\n     <g id=\"line2d_136\">\n      <g>\n       <use xlink:href=\"#m85800549d4\" x=\"384.448479\" y=\"116.407144\" style=\"stroke: #000000; stroke-width: 0.5\"/>\n      </g>\n     </g>\n    </g>\n    <g id=\"ytick_53\">\n     <g id=\"line2d_137\">\n      <g>\n       <use xlink:href=\"#ma57bc2f2d1\" x=\"57.96\" y=\"112.763931\" style=\"stroke: #000000; stroke-width: 0.5\"/>\n      </g>\n     </g>\n     <g id=\"line2d_138\">\n      <g>\n       <use xlink:href=\"#m85800549d4\" x=\"384.448479\" y=\"112.763931\" style=\"stroke: #000000; stroke-width: 0.5\"/>\n      </g>\n     </g>\n    </g>\n    <g id=\"ytick_54\">\n     <g id=\"line2d_139\">\n      <g>\n       <use xlink:href=\"#ma57bc2f2d1\" x=\"57.96\" y=\"109.938035\" style=\"stroke: #000000; stroke-width: 0.5\"/>\n      </g>\n     </g>\n     <g id=\"line2d_140\">\n      <g>\n       <use xlink:href=\"#m85800549d4\" x=\"384.448479\" y=\"109.938035\" style=\"stroke: #000000; stroke-width: 0.5\"/>\n      </g>\n     </g>\n    </g>\n    <g id=\"ytick_55\">\n     <g id=\"line2d_141\">\n      <g>\n       <use xlink:href=\"#ma57bc2f2d1\" x=\"57.96\" y=\"107.62911\" style=\"stroke: #000000; stroke-width: 0.5\"/>\n      </g>\n     </g>\n     <g id=\"line2d_142\">\n      <g>\n       <use xlink:href=\"#m85800549d4\" x=\"384.448479\" y=\"107.62911\" style=\"stroke: #000000; stroke-width: 0.5\"/>\n      </g>\n     </g>\n    </g>\n    <g id=\"ytick_56\">\n     <g id=\"line2d_143\">\n      <g>\n       <use xlink:href=\"#ma57bc2f2d1\" x=\"57.96\" y=\"105.676941\" style=\"stroke: #000000; stroke-width: 0.5\"/>\n      </g>\n     </g>\n     <g id=\"line2d_144\">\n      <g>\n       <use xlink:href=\"#m85800549d4\" x=\"384.448479\" y=\"105.676941\" style=\"stroke: #000000; stroke-width: 0.5\"/>\n      </g>\n     </g>\n    </g>\n    <g id=\"ytick_57\">\n     <g id=\"line2d_145\">\n      <g>\n       <use xlink:href=\"#ma57bc2f2d1\" x=\"57.96\" y=\"103.985896\" style=\"stroke: #000000; stroke-width: 0.5\"/>\n      </g>\n     </g>\n     <g id=\"line2d_146\">\n      <g>\n       <use xlink:href=\"#m85800549d4\" x=\"384.448479\" y=\"103.985896\" style=\"stroke: #000000; stroke-width: 0.5\"/>\n      </g>\n     </g>\n    </g>\n    <g id=\"ytick_58\">\n     <g id=\"line2d_147\">\n      <g>\n       <use xlink:href=\"#ma57bc2f2d1\" x=\"57.96\" y=\"102.494288\" style=\"stroke: #000000; stroke-width: 0.5\"/>\n      </g>\n     </g>\n     <g id=\"line2d_148\">\n      <g>\n       <use xlink:href=\"#m85800549d4\" x=\"384.448479\" y=\"102.494288\" style=\"stroke: #000000; stroke-width: 0.5\"/>\n      </g>\n     </g>\n    </g>\n    <g id=\"ytick_59\">\n     <g id=\"line2d_149\">\n      <g>\n       <use xlink:href=\"#ma57bc2f2d1\" x=\"57.96\" y=\"92.381965\" style=\"stroke: #000000; stroke-width: 0.5\"/>\n      </g>\n     </g>\n     <g id=\"line2d_150\">\n      <g>\n       <use xlink:href=\"#m85800549d4\" x=\"384.448479\" y=\"92.381965\" style=\"stroke: #000000; stroke-width: 0.5\"/>\n      </g>\n     </g>\n    </g>\n    <g id=\"ytick_60\">\n     <g id=\"line2d_151\">\n      <g>\n       <use xlink:href=\"#ma57bc2f2d1\" x=\"57.96\" y=\"87.247144\" style=\"stroke: #000000; stroke-width: 0.5\"/>\n      </g>\n     </g>\n     <g id=\"line2d_152\">\n      <g>\n       <use xlink:href=\"#m85800549d4\" x=\"384.448479\" y=\"87.247144\" style=\"stroke: #000000; stroke-width: 0.5\"/>\n      </g>\n     </g>\n    </g>\n    <g id=\"ytick_61\">\n     <g id=\"line2d_153\">\n      <g>\n       <use xlink:href=\"#ma57bc2f2d1\" x=\"57.96\" y=\"83.603931\" style=\"stroke: #000000; stroke-width: 0.5\"/>\n      </g>\n     </g>\n     <g id=\"line2d_154\">\n      <g>\n       <use xlink:href=\"#m85800549d4\" x=\"384.448479\" y=\"83.603931\" style=\"stroke: #000000; stroke-width: 0.5\"/>\n      </g>\n     </g>\n    </g>\n    <g id=\"ytick_62\">\n     <g id=\"line2d_155\">\n      <g>\n       <use xlink:href=\"#ma57bc2f2d1\" x=\"57.96\" y=\"80.778035\" style=\"stroke: #000000; stroke-width: 0.5\"/>\n      </g>\n     </g>\n     <g id=\"line2d_156\">\n      <g>\n       <use xlink:href=\"#m85800549d4\" x=\"384.448479\" y=\"80.778035\" style=\"stroke: #000000; stroke-width: 0.5\"/>\n      </g>\n     </g>\n    </g>\n    <g id=\"ytick_63\">\n     <g id=\"line2d_157\">\n      <g>\n       <use xlink:href=\"#ma57bc2f2d1\" x=\"57.96\" y=\"78.46911\" style=\"stroke: #000000; stroke-width: 0.5\"/>\n      </g>\n     </g>\n     <g id=\"line2d_158\">\n      <g>\n       <use xlink:href=\"#m85800549d4\" x=\"384.448479\" y=\"78.46911\" style=\"stroke: #000000; stroke-width: 0.5\"/>\n      </g>\n     </g>\n    </g>\n    <g id=\"ytick_64\">\n     <g id=\"line2d_159\">\n      <g>\n       <use xlink:href=\"#ma57bc2f2d1\" x=\"57.96\" y=\"76.516941\" style=\"stroke: #000000; stroke-width: 0.5\"/>\n      </g>\n     </g>\n     <g id=\"line2d_160\">\n      <g>\n       <use xlink:href=\"#m85800549d4\" x=\"384.448479\" y=\"76.516941\" style=\"stroke: #000000; stroke-width: 0.5\"/>\n      </g>\n     </g>\n    </g>\n    <g id=\"ytick_65\">\n     <g id=\"line2d_161\">\n      <g>\n       <use xlink:href=\"#ma57bc2f2d1\" x=\"57.96\" y=\"74.825896\" style=\"stroke: #000000; stroke-width: 0.5\"/>\n      </g>\n     </g>\n     <g id=\"line2d_162\">\n      <g>\n       <use xlink:href=\"#m85800549d4\" x=\"384.448479\" y=\"74.825896\" style=\"stroke: #000000; stroke-width: 0.5\"/>\n      </g>\n     </g>\n    </g>\n    <g id=\"ytick_66\">\n     <g id=\"line2d_163\">\n      <g>\n       <use xlink:href=\"#ma57bc2f2d1\" x=\"57.96\" y=\"73.334288\" style=\"stroke: #000000; stroke-width: 0.5\"/>\n      </g>\n     </g>\n     <g id=\"line2d_164\">\n      <g>\n       <use xlink:href=\"#m85800549d4\" x=\"384.448479\" y=\"73.334288\" style=\"stroke: #000000; stroke-width: 0.5\"/>\n      </g>\n     </g>\n    </g>\n    <g id=\"ytick_67\">\n     <g id=\"line2d_165\">\n      <g>\n       <use xlink:href=\"#ma57bc2f2d1\" x=\"57.96\" y=\"63.221965\" style=\"stroke: #000000; stroke-width: 0.5\"/>\n      </g>\n     </g>\n     <g id=\"line2d_166\">\n      <g>\n       <use xlink:href=\"#m85800549d4\" x=\"384.448479\" y=\"63.221965\" style=\"stroke: #000000; stroke-width: 0.5\"/>\n      </g>\n     </g>\n    </g>\n    <g id=\"ytick_68\">\n     <g id=\"line2d_167\">\n      <g>\n       <use xlink:href=\"#ma57bc2f2d1\" x=\"57.96\" y=\"58.087144\" style=\"stroke: #000000; stroke-width: 0.5\"/>\n      </g>\n     </g>\n     <g id=\"line2d_168\">\n      <g>\n       <use xlink:href=\"#m85800549d4\" x=\"384.448479\" y=\"58.087144\" style=\"stroke: #000000; stroke-width: 0.5\"/>\n      </g>\n     </g>\n    </g>\n    <g id=\"ytick_69\">\n     <g id=\"line2d_169\">\n      <g>\n       <use xlink:href=\"#ma57bc2f2d1\" x=\"57.96\" y=\"54.443931\" style=\"stroke: #000000; stroke-width: 0.5\"/>\n      </g>\n     </g>\n     <g id=\"line2d_170\">\n      <g>\n       <use xlink:href=\"#m85800549d4\" x=\"384.448479\" y=\"54.443931\" style=\"stroke: #000000; stroke-width: 0.5\"/>\n      </g>\n     </g>\n    </g>\n    <g id=\"ytick_70\">\n     <g id=\"line2d_171\">\n      <g>\n       <use xlink:href=\"#ma57bc2f2d1\" x=\"57.96\" y=\"51.618035\" style=\"stroke: #000000; stroke-width: 0.5\"/>\n      </g>\n     </g>\n     <g id=\"line2d_172\">\n      <g>\n       <use xlink:href=\"#m85800549d4\" x=\"384.448479\" y=\"51.618035\" style=\"stroke: #000000; stroke-width: 0.5\"/>\n      </g>\n     </g>\n    </g>\n    <g id=\"ytick_71\">\n     <g id=\"line2d_173\">\n      <g>\n       <use xlink:href=\"#ma57bc2f2d1\" x=\"57.96\" y=\"49.30911\" style=\"stroke: #000000; stroke-width: 0.5\"/>\n      </g>\n     </g>\n     <g id=\"line2d_174\">\n      <g>\n       <use xlink:href=\"#m85800549d4\" x=\"384.448479\" y=\"49.30911\" style=\"stroke: #000000; stroke-width: 0.5\"/>\n      </g>\n     </g>\n    </g>\n    <g id=\"ytick_72\">\n     <g id=\"line2d_175\">\n      <g>\n       <use xlink:href=\"#ma57bc2f2d1\" x=\"57.96\" y=\"47.356941\" style=\"stroke: #000000; stroke-width: 0.5\"/>\n      </g>\n     </g>\n     <g id=\"line2d_176\">\n      <g>\n       <use xlink:href=\"#m85800549d4\" x=\"384.448479\" y=\"47.356941\" style=\"stroke: #000000; stroke-width: 0.5\"/>\n      </g>\n     </g>\n    </g>\n    <g id=\"ytick_73\">\n     <g id=\"line2d_177\">\n      <g>\n       <use xlink:href=\"#ma57bc2f2d1\" x=\"57.96\" y=\"45.665896\" style=\"stroke: #000000; stroke-width: 0.5\"/>\n      </g>\n     </g>\n     <g id=\"line2d_178\">\n      <g>\n       <use xlink:href=\"#m85800549d4\" x=\"384.448479\" y=\"45.665896\" style=\"stroke: #000000; stroke-width: 0.5\"/>\n      </g>\n     </g>\n    </g>\n    <g id=\"ytick_74\">\n     <g id=\"line2d_179\">\n      <g>\n       <use xlink:href=\"#ma57bc2f2d1\" x=\"57.96\" y=\"44.174288\" style=\"stroke: #000000; stroke-width: 0.5\"/>\n      </g>\n     </g>\n     <g id=\"line2d_180\">\n      <g>\n       <use xlink:href=\"#m85800549d4\" x=\"384.448479\" y=\"44.174288\" style=\"stroke: #000000; stroke-width: 0.5\"/>\n      </g>\n     </g>\n    </g>\n    <g id=\"ytick_75\">\n     <g id=\"line2d_181\">\n      <g>\n       <use xlink:href=\"#ma57bc2f2d1\" x=\"57.96\" y=\"34.061965\" style=\"stroke: #000000; stroke-width: 0.5\"/>\n      </g>\n     </g>\n     <g id=\"line2d_182\">\n      <g>\n       <use xlink:href=\"#m85800549d4\" x=\"384.448479\" y=\"34.061965\" style=\"stroke: #000000; stroke-width: 0.5\"/>\n      </g>\n     </g>\n    </g>\n    <g id=\"ytick_76\">\n     <g id=\"line2d_183\">\n      <g>\n       <use xlink:href=\"#ma57bc2f2d1\" x=\"57.96\" y=\"28.927144\" style=\"stroke: #000000; stroke-width: 0.5\"/>\n      </g>\n     </g>\n     <g id=\"line2d_184\">\n      <g>\n       <use xlink:href=\"#m85800549d4\" x=\"384.448479\" y=\"28.927144\" style=\"stroke: #000000; stroke-width: 0.5\"/>\n      </g>\n     </g>\n    </g>\n    <g id=\"ytick_77\">\n     <g id=\"line2d_185\">\n      <g>\n       <use xlink:href=\"#ma57bc2f2d1\" x=\"57.96\" y=\"25.283931\" style=\"stroke: #000000; stroke-width: 0.5\"/>\n      </g>\n     </g>\n     <g id=\"line2d_186\">\n      <g>\n       <use xlink:href=\"#m85800549d4\" x=\"384.448479\" y=\"25.283931\" style=\"stroke: #000000; stroke-width: 0.5\"/>\n      </g>\n     </g>\n    </g>\n    <g id=\"ytick_78\">\n     <g id=\"line2d_187\">\n      <g>\n       <use xlink:href=\"#ma57bc2f2d1\" x=\"57.96\" y=\"22.458035\" style=\"stroke: #000000; stroke-width: 0.5\"/>\n      </g>\n     </g>\n     <g id=\"line2d_188\">\n      <g>\n       <use xlink:href=\"#m85800549d4\" x=\"384.448479\" y=\"22.458035\" style=\"stroke: #000000; stroke-width: 0.5\"/>\n      </g>\n     </g>\n    </g>\n    <g id=\"ytick_79\">\n     <g id=\"line2d_189\">\n      <g>\n       <use xlink:href=\"#ma57bc2f2d1\" x=\"57.96\" y=\"20.14911\" style=\"stroke: #000000; stroke-width: 0.5\"/>\n      </g>\n     </g>\n     <g id=\"line2d_190\">\n      <g>\n       <use xlink:href=\"#m85800549d4\" x=\"384.448479\" y=\"20.14911\" style=\"stroke: #000000; stroke-width: 0.5\"/>\n      </g>\n     </g>\n    </g>\n    <g id=\"ytick_80\">\n     <g id=\"line2d_191\">\n      <g>\n       <use xlink:href=\"#ma57bc2f2d1\" x=\"57.96\" y=\"18.196941\" style=\"stroke: #000000; stroke-width: 0.5\"/>\n      </g>\n     </g>\n     <g id=\"line2d_192\">\n      <g>\n       <use xlink:href=\"#m85800549d4\" x=\"384.448479\" y=\"18.196941\" style=\"stroke: #000000; stroke-width: 0.5\"/>\n      </g>\n     </g>\n    </g>\n    <g id=\"ytick_81\">\n     <g id=\"line2d_193\">\n      <g>\n       <use xlink:href=\"#ma57bc2f2d1\" x=\"57.96\" y=\"16.505896\" style=\"stroke: #000000; stroke-width: 0.5\"/>\n      </g>\n     </g>\n     <g id=\"line2d_194\">\n      <g>\n       <use xlink:href=\"#m85800549d4\" x=\"384.448479\" y=\"16.505896\" style=\"stroke: #000000; stroke-width: 0.5\"/>\n      </g>\n     </g>\n    </g>\n    <g id=\"ytick_82\">\n     <g id=\"line2d_195\">\n      <g>\n       <use xlink:href=\"#ma57bc2f2d1\" x=\"57.96\" y=\"15.014288\" style=\"stroke: #000000; stroke-width: 0.5\"/>\n      </g>\n     </g>\n     <g id=\"line2d_196\">\n      <g>\n       <use xlink:href=\"#m85800549d4\" x=\"384.448479\" y=\"15.014288\" style=\"stroke: #000000; stroke-width: 0.5\"/>\n      </g>\n     </g>\n    </g>\n    <g id=\"text_19\">\n     <!-- Gain, [-] -->\n     <g transform=\"translate(18.1275 172.44375) rotate(-90) scale(0.16 -0.16)\">\n      <defs>\n       <path id=\"STIXGeneral-Regular-47\" d=\"M 4538 2266 \nL 4538 2150 \nQ 4256 2125 4173 2035 \nQ 4090 1946 4090 1638 \nL 4090 358 \nQ 3539 -90 2464 -90 \nQ 1965 -90 1507 89 \nQ 1050 269 736 595 \nQ 205 1152 205 2093 \nQ 205 3155 890 3776 \nQ 1491 4326 2419 4326 \nQ 2829 4326 3270 4179 \nQ 3443 4115 3552 4115 \nQ 3654 4115 3731 4176 \nQ 3808 4237 3840 4326 \nL 3981 4326 \nL 4032 2976 \nL 3885 2976 \nQ 3680 3475 3430 3718 \nQ 3059 4070 2496 4070 \nQ 1856 4070 1427 3629 \nQ 934 3136 934 2074 \nQ 934 1190 1395 678 \nQ 1856 166 2618 166 \nQ 2982 166 3225 281 \nQ 3469 397 3469 557 \nL 3469 1562 \nQ 3469 1933 3376 2025 \nQ 3283 2118 2899 2150 \nL 2899 2266 \nL 4538 2266 \nz\n\" transform=\"scale(0.015625)\"/>\n       <path id=\"STIXGeneral-Regular-61\" d=\"M 2829 422 \nL 2829 243 \nQ 2586 -64 2253 -64 \nQ 1888 -64 1843 403 \nL 1837 403 \nQ 1427 -64 909 -64 \nQ 608 -64 422 112 \nQ 237 288 237 602 \nQ 237 1050 685 1350 \nQ 992 1555 1837 1869 \nL 1837 2214 \nQ 1837 2502 1699 2646 \nQ 1562 2790 1338 2790 \nQ 1146 2790 1018 2697 \nQ 890 2605 890 2477 \nQ 890 2419 909 2348 \nQ 928 2278 928 2208 \nQ 928 2112 841 2029 \nQ 755 1946 634 1946 \nQ 525 1946 441 2029 \nQ 358 2112 358 2240 \nQ 358 2547 685 2752 \nQ 986 2944 1421 2944 \nQ 1939 2944 2176 2656 \nQ 2291 2522 2323 2384 \nQ 2355 2246 2355 1946 \nL 2355 723 \nQ 2355 301 2554 301 \nQ 2682 301 2829 422 \nz\nM 1837 813 \nL 1837 1715 \nQ 1248 1510 1018 1293 \nQ 800 1094 800 800 \nQ 800 557 921 432 \nQ 1043 307 1242 307 \nQ 1453 307 1613 410 \nQ 1747 506 1792 589 \nQ 1837 672 1837 813 \nz\n\" transform=\"scale(0.015625)\"/>\n       <path id=\"STIXGeneral-Regular-69\" d=\"M 1152 4045 \nQ 1152 3904 1056 3811 \nQ 960 3718 819 3718 \nQ 685 3718 592 3811 \nQ 499 3904 499 4045 \nQ 499 4179 595 4275 \nQ 691 4371 826 4371 \nQ 966 4371 1059 4275 \nQ 1152 4179 1152 4045 \nz\nM 1619 0 \nL 102 0 \nL 102 96 \nQ 435 115 521 211 \nQ 608 307 608 666 \nL 608 2118 \nQ 608 2342 563 2432 \nQ 518 2522 397 2522 \nQ 243 2522 128 2490 \nL 128 2592 \nL 1120 2944 \nL 1146 2918 \nL 1146 672 \nQ 1146 314 1226 218 \nQ 1306 122 1619 96 \nL 1619 0 \nz\n\" transform=\"scale(0.015625)\"/>\n       <path id=\"STIXGeneral-Regular-2d\" d=\"M 1824 1242 \nL 250 1242 \nL 250 1645 \nL 1824 1645 \nL 1824 1242 \nz\n\" transform=\"scale(0.015625)\"/>\n      </defs>\n      <use xlink:href=\"#STIXGeneral-Regular-47\"/>\n      <use xlink:href=\"#STIXGeneral-Regular-61\" x=\"72.199982\"/>\n      <use xlink:href=\"#STIXGeneral-Regular-69\" x=\"116.599976\"/>\n      <use xlink:href=\"#STIXGeneral-Regular-6e\" x=\"144.399963\"/>\n      <use xlink:href=\"#STIXGeneral-Regular-2c\" x=\"194.399948\"/>\n      <use xlink:href=\"#STIXGeneral-Regular-20\" x=\"219.399933\"/>\n      <use xlink:href=\"#STIXGeneral-Regular-5b\" x=\"244.399918\"/>\n      <use xlink:href=\"#STIXGeneral-Regular-2d\" x=\"277.699905\"/>\n      <use xlink:href=\"#STIXGeneral-Regular-5d\" x=\"310.999893\"/>\n     </g>\n    </g>\n   </g>\n   <g id=\"legend_1\">\n    <g id=\"patch_7\">\n     <path d=\"M 157.360479 45.60525 \nL 377.248479 45.60525 \nL 377.248479 20.88 \nL 157.360479 20.88 \nz\n\" style=\"fill: #ffffff; stroke: #000000; stroke-linejoin: miter\"/>\n    </g>\n    <g id=\"line2d_197\">\n     <path d=\"M 167.440479 31.68 \nL 187.600479 31.68 \n\" style=\"fill: none; stroke-dasharray: 6,0; stroke-dashoffset: 0; stroke: #1f77b4; stroke-width: 1.5\"/>\n    </g>\n    <g id=\"text_20\">\n     <!-- $f_s=120.0,\\ f_c=20.0,\\ \\sigma=0.35$ -->\n     <g transform=\"translate(203.440479 36.72) scale(0.144 -0.144)\">\n      <defs>\n       <path id=\"STIXGeneral-Italic-66\" d=\"M 262 2739 \nL 858 2739 \nQ 1107 3546 1318 3846 \nQ 1664 4339 2163 4339 \nQ 2400 4339 2557 4227 \nQ 2714 4115 2714 3942 \nQ 2714 3834 2634 3750 \nQ 2554 3667 2445 3667 \nQ 2355 3667 2281 3737 \nQ 2208 3808 2208 3917 \nQ 2208 3981 2240 4038 \nQ 2272 4096 2272 4115 \nQ 2272 4198 2131 4198 \nQ 1862 4198 1676 3849 \nQ 1491 3501 1350 2739 \nL 2035 2739 \nL 1997 2534 \nL 1306 2534 \nL 845 486 \nQ 435 -1325 -435 -1325 \nQ -653 -1325 -797 -1213 \nQ -941 -1101 -941 -934 \nQ -941 -826 -870 -746 \nQ -800 -666 -698 -666 \nQ -589 -666 -521 -733 \nQ -454 -800 -454 -902 \nQ -454 -947 -483 -1001 \nQ -512 -1056 -512 -1088 \nQ -512 -1190 -384 -1190 \nQ 13 -1190 237 -154 \nL 800 2534 \nL 218 2534 \nL 262 2739 \nz\n\" transform=\"scale(0.015625)\"/>\n       <path id=\"STIXGeneral-Italic-73\" d=\"M 2342 2829 \nL 2214 1933 \nL 2112 1933 \nQ 2022 2675 1542 2675 \nQ 1370 2675 1267 2579 \nQ 1165 2483 1165 2310 \nQ 1165 2067 1510 1658 \nQ 1946 1152 1946 787 \nQ 1946 397 1686 163 \nQ 1427 -70 1024 -70 \nQ 838 -70 672 -6 \nQ 538 51 390 51 \nQ 262 51 205 -83 \nL 102 -83 \nL 230 934 \nL 333 934 \nQ 461 64 973 64 \nQ 1203 64 1331 192 \nQ 1459 320 1459 557 \nQ 1459 845 1101 1293 \nQ 698 1798 698 2131 \nQ 698 2451 909 2636 \nQ 1120 2822 1472 2822 \nQ 1600 2822 1830 2758 \nQ 1971 2714 2061 2714 \nQ 2189 2714 2253 2829 \nL 2342 2829 \nz\n\" transform=\"scale(0.015625)\"/>\n       <path id=\"STIXGeneral-Regular-3d\" d=\"M 4077 2048 \nL 307 2048 \nL 307 2470 \nL 4077 2470 \nL 4077 2048 \nz\nM 4077 768 \nL 307 768 \nL 307 1190 \nL 4077 1190 \nL 4077 768 \nz\n\" transform=\"scale(0.015625)\"/>\n       <path id=\"STIXGeneral-Regular-2e\" d=\"M 1158 275 \nQ 1158 134 1052 32 \nQ 947 -70 800 -70 \nQ 653 -70 550 32 \nQ 448 134 448 281 \nQ 448 429 553 534 \nQ 659 640 806 640 \nQ 947 640 1052 531 \nQ 1158 422 1158 275 \nz\n\" transform=\"scale(0.015625)\"/>\n       <path id=\"STIXGeneral-Italic-63\" d=\"M 2240 685 \nL 2342 621 \nQ 2048 250 1769 90 \nQ 1491 -70 1133 -70 \nQ 678 -70 435 179 \nQ 192 429 192 915 \nQ 192 1344 409 1744 \nQ 627 2144 979 2432 \nQ 1472 2822 2048 2822 \nQ 2342 2822 2531 2675 \nQ 2720 2528 2720 2304 \nQ 2720 2176 2630 2086 \nQ 2541 1997 2413 1997 \nQ 2285 1997 2224 2070 \nQ 2163 2144 2163 2253 \nQ 2163 2310 2211 2403 \nQ 2259 2496 2259 2560 \nQ 2259 2688 2022 2688 \nQ 1619 2688 1325 2381 \nQ 742 1766 742 890 \nQ 742 544 889 352 \nQ 1037 160 1312 160 \nQ 1562 160 1766 281 \nQ 1971 403 2240 685 \nz\n\" transform=\"scale(0.015625)\"/>\n       <path id=\"STIXGeneral-Italic-3c3\" d=\"M 3398 2739 \nL 3283 2266 \nL 2195 2266 \nQ 2291 2112 2457 1981 \nQ 2624 1850 2717 1725 \nQ 2810 1600 2810 1389 \nQ 2810 851 2288 390 \nQ 1766 -70 1107 -70 \nQ 659 -70 416 170 \nQ 173 410 173 832 \nQ 173 1274 409 1706 \nQ 646 2138 1113 2438 \nQ 1581 2739 2157 2739 \nL 3398 2739 \nz\nM 2272 1414 \nQ 2272 1709 2166 1939 \nQ 2061 2170 1901 2266 \nQ 1530 2266 1120 1770 \nQ 710 1274 710 640 \nQ 710 358 844 211 \nQ 979 64 1210 64 \nQ 1638 64 1955 525 \nQ 2272 986 2272 1414 \nz\n\" transform=\"scale(0.015625)\"/>\n      </defs>\n      <use xlink:href=\"#STIXGeneral-Italic-66\" transform=\"translate(0 0.203125)\"/>\n      <use xlink:href=\"#STIXGeneral-Italic-73\" transform=\"translate(27.799988 -13.025) scale(0.7)\"/>\n      <use xlink:href=\"#STIXGeneral-Regular-3d\" transform=\"translate(73.879355 0.203125)\"/>\n      <use xlink:href=\"#STIXGeneral-Regular-31\" transform=\"translate(156.819336 0.203125)\"/>\n      <use xlink:href=\"#STIXGeneral-Regular-32\" transform=\"translate(206.819321 0.203125)\"/>\n      <use xlink:href=\"#STIXGeneral-Regular-30\" transform=\"translate(256.819305 0.203125)\"/>\n      <use xlink:href=\"#STIXGeneral-Regular-2e\" transform=\"translate(306.81929 0.203125)\"/>\n      <use xlink:href=\"#STIXGeneral-Regular-30\" transform=\"translate(331.819275 0.203125)\"/>\n      <use xlink:href=\"#STIXGeneral-Regular-2c\" transform=\"translate(381.81926 0.203125)\"/>\n      <use xlink:href=\"#STIXGeneral-Italic-66\" transform=\"translate(445.325661 0.203125)\"/>\n      <use xlink:href=\"#STIXGeneral-Italic-63\" transform=\"translate(473.125648 -13.025) scale(0.7)\"/>\n      <use xlink:href=\"#STIXGeneral-Regular-3d\" transform=\"translate(523.055015 0.203125)\"/>\n      <use xlink:href=\"#STIXGeneral-Regular-32\" transform=\"translate(605.994997 0.203125)\"/>\n      <use xlink:href=\"#STIXGeneral-Regular-30\" transform=\"translate(655.994981 0.203125)\"/>\n      <use xlink:href=\"#STIXGeneral-Regular-2e\" transform=\"translate(705.994966 0.203125)\"/>\n      <use xlink:href=\"#STIXGeneral-Regular-30\" transform=\"translate(730.994951 0.203125)\"/>\n      <use xlink:href=\"#STIXGeneral-Regular-2c\" transform=\"translate(780.994936 0.203125)\"/>\n      <use xlink:href=\"#STIXGeneral-Italic-3c3\" transform=\"translate(844.501336 0.203125)\"/>\n      <use xlink:href=\"#STIXGeneral-Regular-3d\" transform=\"translate(908.741321 0.203125)\"/>\n      <use xlink:href=\"#STIXGeneral-Regular-30\" transform=\"translate(991.681302 0.203125)\"/>\n      <use xlink:href=\"#STIXGeneral-Regular-2e\" transform=\"translate(1041.681286 0.203125)\"/>\n      <use xlink:href=\"#STIXGeneral-Regular-33\" transform=\"translate(1066.681271 0.203125)\"/>\n      <use xlink:href=\"#STIXGeneral-Regular-35\" transform=\"translate(1116.681256 0.203125)\"/>\n     </g>\n    </g>\n   </g>\n  </g>\n  <g id=\"axes_2\">\n   <g id=\"patch_8\">\n    <path d=\"M 439.951521 276.12 \nL 766.44 276.12 \nL 766.44 13.68 \nL 439.951521 13.68 \nz\n\" style=\"fill: #ffffff\"/>\n   </g>\n   <g id=\"line2d_198\">\n    <path d=\"M 439.951847 51.171429 \nL 477.265182 51.268808 \nL 477.784266 51.550633 \nL 478.310572 52.065256 \nL 478.8442 53.010883 \nL 479.385251 54.764574 \nL 479.933829 57.923834 \nL 480.490038 63.276714 \nL 481.053985 71.670185 \nL 481.625777 83.781343 \nL 482.498415 109.251399 \nL 485.541339 210.649524 \nL 486.175557 222.414779 \nL 486.818597 230.083805 \nL 487.470583 234.512914 \nL 488.131639 236.793412 \nL 488.801891 237.880059 \nL 489.481467 238.390399 \nL 490.170498 238.616804 \nL 491.222057 238.657057 \nL 493.023815 238.580267 \nL 495.653145 238.640695 \nL 497.610621 238.608865 \nL 499.636887 238.650505 \nL 502.162618 238.624703 \nL 504.348851 238.630712 \nL 506.611912 238.630307 \nL 509.432809 238.610806 \nL 528.436155 238.631715 \nL 538.776757 238.632134 \nL 548.811403 238.622024 \nL 577.630571 238.631652 \nL 598.028221 238.629578 \nL 660.177151 238.630215 \nL 710.888236 238.628436 \nL 764.192469 238.62999 \nL 764.192469 238.62999 \n\" clip-path=\"url(#p3f0b5250ff)\" style=\"fill: none; stroke-dasharray: 6,0; stroke-dashoffset: 0; stroke: #1f77b4; stroke-width: 1.5\"/>\n   </g>\n   <g id=\"patch_9\">\n    <path d=\"M 439.951521 276.12 \nL 439.951521 13.68 \n\" style=\"fill: none; stroke: #000000; stroke-linejoin: miter; stroke-linecap: square\"/>\n   </g>\n   <g id=\"patch_10\">\n    <path d=\"M 766.44 276.12 \nL 766.44 13.68 \n\" style=\"fill: none; stroke: #000000; stroke-linejoin: miter; stroke-linecap: square\"/>\n   </g>\n   <g id=\"patch_11\">\n    <path d=\"M 439.951521 276.12 \nL 766.44 276.12 \n\" style=\"fill: none; stroke: #000000; stroke-linejoin: miter; stroke-linecap: square\"/>\n   </g>\n   <g id=\"patch_12\">\n    <path d=\"M 439.951521 13.68 \nL 766.44 13.68 \n\" style=\"fill: none; stroke: #000000; stroke-linejoin: miter; stroke-linecap: square\"/>\n   </g>\n   <g id=\"matplotlib.axis_3\">\n    <g id=\"xtick_8\">\n     <g id=\"line2d_199\">\n      <path d=\"M 439.951521 276.12 \nL 439.951521 13.68 \n\" clip-path=\"url(#p3f0b5250ff)\" style=\"fill: none; stroke-dasharray: 1,3; stroke-dashoffset: 0; stroke: #000000; stroke-width: 0.5\"/>\n     </g>\n     <g id=\"line2d_200\">\n      <g>\n       <use xlink:href=\"#mbfef408ec9\" x=\"439.951521\" y=\"276.12\" style=\"stroke: #000000; stroke-width: 0.5\"/>\n      </g>\n     </g>\n     <g id=\"line2d_201\">\n      <g>\n       <use xlink:href=\"#mb721bb60b6\" x=\"439.951521\" y=\"13.68\" style=\"stroke: #000000; stroke-width: 0.5\"/>\n      </g>\n     </g>\n     <g id=\"text_21\">\n      <!-- 0 -->\n      <g transform=\"translate(436.351521 289.95475) scale(0.144 -0.144)\">\n       <use xlink:href=\"#STIXGeneral-Regular-30\"/>\n      </g>\n     </g>\n    </g>\n    <g id=\"xtick_9\">\n     <g id=\"line2d_202\">\n      <path d=\"M 494.366267 276.12 \nL 494.366267 13.68 \n\" clip-path=\"url(#p3f0b5250ff)\" style=\"fill: none; stroke-dasharray: 1,3; stroke-dashoffset: 0; stroke: #000000; stroke-width: 0.5\"/>\n     </g>\n     <g id=\"line2d_203\">\n      <g>\n       <use xlink:href=\"#mbfef408ec9\" x=\"494.366267\" y=\"276.12\" style=\"stroke: #000000; stroke-width: 0.5\"/>\n      </g>\n     </g>\n     <g id=\"line2d_204\">\n      <g>\n       <use xlink:href=\"#mb721bb60b6\" x=\"494.366267\" y=\"13.68\" style=\"stroke: #000000; stroke-width: 0.5\"/>\n      </g>\n     </g>\n     <g id=\"text_22\">\n      <!-- 20 -->\n      <g transform=\"translate(487.166267 289.95475) scale(0.144 -0.144)\">\n       <use xlink:href=\"#STIXGeneral-Regular-32\"/>\n       <use xlink:href=\"#STIXGeneral-Regular-30\" x=\"49.999985\"/>\n      </g>\n     </g>\n    </g>\n    <g id=\"xtick_10\">\n     <g id=\"line2d_205\">\n      <path d=\"M 548.781014 276.12 \nL 548.781014 13.68 \n\" clip-path=\"url(#p3f0b5250ff)\" style=\"fill: none; stroke-dasharray: 1,3; stroke-dashoffset: 0; stroke: #000000; stroke-width: 0.5\"/>\n     </g>\n     <g id=\"line2d_206\">\n      <g>\n       <use xlink:href=\"#mbfef408ec9\" x=\"548.781014\" y=\"276.12\" style=\"stroke: #000000; stroke-width: 0.5\"/>\n      </g>\n     </g>\n     <g id=\"line2d_207\">\n      <g>\n       <use xlink:href=\"#mb721bb60b6\" x=\"548.781014\" y=\"13.68\" style=\"stroke: #000000; stroke-width: 0.5\"/>\n      </g>\n     </g>\n     <g id=\"text_23\">\n      <!-- 40 -->\n      <g transform=\"translate(541.581014 289.95475) scale(0.144 -0.144)\">\n       <use xlink:href=\"#STIXGeneral-Regular-34\"/>\n       <use xlink:href=\"#STIXGeneral-Regular-30\" x=\"49.999985\"/>\n      </g>\n     </g>\n    </g>\n    <g id=\"xtick_11\">\n     <g id=\"line2d_208\">\n      <path d=\"M 603.19576 276.12 \nL 603.19576 13.68 \n\" clip-path=\"url(#p3f0b5250ff)\" style=\"fill: none; stroke-dasharray: 1,3; stroke-dashoffset: 0; stroke: #000000; stroke-width: 0.5\"/>\n     </g>\n     <g id=\"line2d_209\">\n      <g>\n       <use xlink:href=\"#mbfef408ec9\" x=\"603.19576\" y=\"276.12\" style=\"stroke: #000000; stroke-width: 0.5\"/>\n      </g>\n     </g>\n     <g id=\"line2d_210\">\n      <g>\n       <use xlink:href=\"#mb721bb60b6\" x=\"603.19576\" y=\"13.68\" style=\"stroke: #000000; stroke-width: 0.5\"/>\n      </g>\n     </g>\n     <g id=\"text_24\">\n      <!-- 60 -->\n      <g transform=\"translate(595.99576 289.95475) scale(0.144 -0.144)\">\n       <use xlink:href=\"#STIXGeneral-Regular-36\"/>\n       <use xlink:href=\"#STIXGeneral-Regular-30\" x=\"49.999985\"/>\n      </g>\n     </g>\n    </g>\n    <g id=\"xtick_12\">\n     <g id=\"line2d_211\">\n      <path d=\"M 657.610507 276.12 \nL 657.610507 13.68 \n\" clip-path=\"url(#p3f0b5250ff)\" style=\"fill: none; stroke-dasharray: 1,3; stroke-dashoffset: 0; stroke: #000000; stroke-width: 0.5\"/>\n     </g>\n     <g id=\"line2d_212\">\n      <g>\n       <use xlink:href=\"#mbfef408ec9\" x=\"657.610507\" y=\"276.12\" style=\"stroke: #000000; stroke-width: 0.5\"/>\n      </g>\n     </g>\n     <g id=\"line2d_213\">\n      <g>\n       <use xlink:href=\"#mb721bb60b6\" x=\"657.610507\" y=\"13.68\" style=\"stroke: #000000; stroke-width: 0.5\"/>\n      </g>\n     </g>\n     <g id=\"text_25\">\n      <!-- 80 -->\n      <g transform=\"translate(650.410507 289.95475) scale(0.144 -0.144)\">\n       <use xlink:href=\"#STIXGeneral-Regular-38\"/>\n       <use xlink:href=\"#STIXGeneral-Regular-30\" x=\"49.999985\"/>\n      </g>\n     </g>\n    </g>\n    <g id=\"xtick_13\">\n     <g id=\"line2d_214\">\n      <path d=\"M 712.025253 276.12 \nL 712.025253 13.68 \n\" clip-path=\"url(#p3f0b5250ff)\" style=\"fill: none; stroke-dasharray: 1,3; stroke-dashoffset: 0; stroke: #000000; stroke-width: 0.5\"/>\n     </g>\n     <g id=\"line2d_215\">\n      <g>\n       <use xlink:href=\"#mbfef408ec9\" x=\"712.025253\" y=\"276.12\" style=\"stroke: #000000; stroke-width: 0.5\"/>\n      </g>\n     </g>\n     <g id=\"line2d_216\">\n      <g>\n       <use xlink:href=\"#mb721bb60b6\" x=\"712.025253\" y=\"13.68\" style=\"stroke: #000000; stroke-width: 0.5\"/>\n      </g>\n     </g>\n     <g id=\"text_26\">\n      <!-- 100 -->\n      <g transform=\"translate(701.225253 289.95475) scale(0.144 -0.144)\">\n       <use xlink:href=\"#STIXGeneral-Regular-31\"/>\n       <use xlink:href=\"#STIXGeneral-Regular-30\" x=\"49.999985\"/>\n       <use xlink:href=\"#STIXGeneral-Regular-30\" x=\"99.999969\"/>\n      </g>\n     </g>\n    </g>\n    <g id=\"xtick_14\">\n     <g id=\"line2d_217\">\n      <path d=\"M 766.44 276.12 \nL 766.44 13.68 \n\" clip-path=\"url(#p3f0b5250ff)\" style=\"fill: none; stroke-dasharray: 1,3; stroke-dashoffset: 0; stroke: #000000; stroke-width: 0.5\"/>\n     </g>\n     <g id=\"line2d_218\">\n      <g>\n       <use xlink:href=\"#mbfef408ec9\" x=\"766.44\" y=\"276.12\" style=\"stroke: #000000; stroke-width: 0.5\"/>\n      </g>\n     </g>\n     <g id=\"line2d_219\">\n      <g>\n       <use xlink:href=\"#mb721bb60b6\" x=\"766.44\" y=\"13.68\" style=\"stroke: #000000; stroke-width: 0.5\"/>\n      </g>\n     </g>\n     <g id=\"text_27\">\n      <!-- 120 -->\n      <g transform=\"translate(755.64 289.95475) scale(0.144 -0.144)\">\n       <use xlink:href=\"#STIXGeneral-Regular-31\"/>\n       <use xlink:href=\"#STIXGeneral-Regular-32\" x=\"49.999985\"/>\n       <use xlink:href=\"#STIXGeneral-Regular-30\" x=\"99.999969\"/>\n      </g>\n     </g>\n    </g>\n    <g id=\"text_28\">\n     <!-- frequency, [Hz] -->\n     <g transform=\"translate(552.55451 309.0075) scale(0.16 -0.16)\">\n      <use xlink:href=\"#STIXGeneral-Regular-66\"/>\n      <use xlink:href=\"#STIXGeneral-Regular-72\" x=\"33.299988\"/>\n      <use xlink:href=\"#STIXGeneral-Regular-65\" x=\"66.599976\"/>\n      <use xlink:href=\"#STIXGeneral-Regular-71\" x=\"110.999969\"/>\n      <use xlink:href=\"#STIXGeneral-Regular-75\" x=\"160.999954\"/>\n      <use xlink:href=\"#STIXGeneral-Regular-65\" x=\"210.999939\"/>\n      <use xlink:href=\"#STIXGeneral-Regular-6e\" x=\"255.399933\"/>\n      <use xlink:href=\"#STIXGeneral-Regular-63\" x=\"305.399918\"/>\n      <use xlink:href=\"#STIXGeneral-Regular-79\" x=\"349.799911\"/>\n      <use xlink:href=\"#STIXGeneral-Regular-2c\" x=\"399.799896\"/>\n      <use xlink:href=\"#STIXGeneral-Regular-20\" x=\"424.799881\"/>\n      <use xlink:href=\"#STIXGeneral-Regular-5b\" x=\"449.799866\"/>\n      <use xlink:href=\"#STIXGeneral-Regular-48\" x=\"483.099854\"/>\n      <use xlink:href=\"#STIXGeneral-Regular-7a\" x=\"555.299835\"/>\n      <use xlink:href=\"#STIXGeneral-Regular-5d\" x=\"599.699829\"/>\n     </g>\n    </g>\n   </g>\n   <g id=\"matplotlib.axis_4\">\n    <g id=\"ytick_83\">\n     <g id=\"line2d_220\">\n      <path d=\"M 439.951521 276.12 \nL 766.44 276.12 \n\" clip-path=\"url(#p3f0b5250ff)\" style=\"fill: none; stroke-dasharray: 1,3; stroke-dashoffset: 0; stroke: #000000; stroke-width: 0.5\"/>\n     </g>\n     <g id=\"line2d_221\">\n      <g>\n       <use xlink:href=\"#m72d4db9e15\" x=\"439.951521\" y=\"276.12\" style=\"stroke: #000000; stroke-width: 0.5\"/>\n      </g>\n     </g>\n     <g id=\"line2d_222\">\n      <g>\n       <use xlink:href=\"#ma9280d6417\" x=\"766.44\" y=\"276.12\" style=\"stroke: #000000; stroke-width: 0.5\"/>\n      </g>\n     </g>\n     <g id=\"text_29\">\n      <!-- −0.2 -->\n      <g transform=\"translate(408.087521 279.47475) scale(0.144 -0.144)\">\n       <use xlink:href=\"#STIXGeneral-Regular-2212\"/>\n       <use xlink:href=\"#STIXGeneral-Regular-30\" x=\"68.499985\"/>\n       <use xlink:href=\"#STIXGeneral-Regular-2e\" x=\"118.499969\"/>\n       <use xlink:href=\"#STIXGeneral-Regular-32\" x=\"143.499954\"/>\n      </g>\n     </g>\n    </g>\n    <g id=\"ytick_84\">\n     <g id=\"line2d_223\">\n      <path d=\"M 439.951521 238.628571 \nL 766.44 238.628571 \n\" clip-path=\"url(#p3f0b5250ff)\" style=\"fill: none; stroke-dasharray: 1,3; stroke-dashoffset: 0; stroke: #000000; stroke-width: 0.5\"/>\n     </g>\n     <g id=\"line2d_224\">\n      <g>\n       <use xlink:href=\"#m72d4db9e15\" x=\"439.951521\" y=\"238.628571\" style=\"stroke: #000000; stroke-width: 0.5\"/>\n      </g>\n     </g>\n     <g id=\"line2d_225\">\n      <g>\n       <use xlink:href=\"#ma9280d6417\" x=\"766.44\" y=\"238.628571\" style=\"stroke: #000000; stroke-width: 0.5\"/>\n      </g>\n     </g>\n     <g id=\"text_30\">\n      <!-- 0.0 -->\n      <g transform=\"translate(417.951521 241.983321) scale(0.144 -0.144)\">\n       <use xlink:href=\"#STIXGeneral-Regular-30\"/>\n       <use xlink:href=\"#STIXGeneral-Regular-2e\" x=\"49.999985\"/>\n       <use xlink:href=\"#STIXGeneral-Regular-30\" x=\"74.999969\"/>\n      </g>\n     </g>\n    </g>\n    <g id=\"ytick_85\">\n     <g id=\"line2d_226\">\n      <path d=\"M 439.951521 201.137143 \nL 766.44 201.137143 \n\" clip-path=\"url(#p3f0b5250ff)\" style=\"fill: none; stroke-dasharray: 1,3; stroke-dashoffset: 0; stroke: #000000; stroke-width: 0.5\"/>\n     </g>\n     <g id=\"line2d_227\">\n      <g>\n       <use xlink:href=\"#m72d4db9e15\" x=\"439.951521\" y=\"201.137143\" style=\"stroke: #000000; stroke-width: 0.5\"/>\n      </g>\n     </g>\n     <g id=\"line2d_228\">\n      <g>\n       <use xlink:href=\"#ma9280d6417\" x=\"766.44\" y=\"201.137143\" style=\"stroke: #000000; stroke-width: 0.5\"/>\n      </g>\n     </g>\n     <g id=\"text_31\">\n      <!-- 0.2 -->\n      <g transform=\"translate(417.951521 204.491893) scale(0.144 -0.144)\">\n       <use xlink:href=\"#STIXGeneral-Regular-30\"/>\n       <use xlink:href=\"#STIXGeneral-Regular-2e\" x=\"49.999985\"/>\n       <use xlink:href=\"#STIXGeneral-Regular-32\" x=\"74.999969\"/>\n      </g>\n     </g>\n    </g>\n    <g id=\"ytick_86\">\n     <g id=\"line2d_229\">\n      <path d=\"M 439.951521 163.645714 \nL 766.44 163.645714 \n\" clip-path=\"url(#p3f0b5250ff)\" style=\"fill: none; stroke-dasharray: 1,3; stroke-dashoffset: 0; stroke: #000000; stroke-width: 0.5\"/>\n     </g>\n     <g id=\"line2d_230\">\n      <g>\n       <use xlink:href=\"#m72d4db9e15\" x=\"439.951521\" y=\"163.645714\" style=\"stroke: #000000; stroke-width: 0.5\"/>\n      </g>\n     </g>\n     <g id=\"line2d_231\">\n      <g>\n       <use xlink:href=\"#ma9280d6417\" x=\"766.44\" y=\"163.645714\" style=\"stroke: #000000; stroke-width: 0.5\"/>\n      </g>\n     </g>\n     <g id=\"text_32\">\n      <!-- 0.4 -->\n      <g transform=\"translate(417.951521 167.000464) scale(0.144 -0.144)\">\n       <use xlink:href=\"#STIXGeneral-Regular-30\"/>\n       <use xlink:href=\"#STIXGeneral-Regular-2e\" x=\"49.999985\"/>\n       <use xlink:href=\"#STIXGeneral-Regular-34\" x=\"74.999969\"/>\n      </g>\n     </g>\n    </g>\n    <g id=\"ytick_87\">\n     <g id=\"line2d_232\">\n      <path d=\"M 439.951521 126.154286 \nL 766.44 126.154286 \n\" clip-path=\"url(#p3f0b5250ff)\" style=\"fill: none; stroke-dasharray: 1,3; stroke-dashoffset: 0; stroke: #000000; stroke-width: 0.5\"/>\n     </g>\n     <g id=\"line2d_233\">\n      <g>\n       <use xlink:href=\"#m72d4db9e15\" x=\"439.951521\" y=\"126.154286\" style=\"stroke: #000000; stroke-width: 0.5\"/>\n      </g>\n     </g>\n     <g id=\"line2d_234\">\n      <g>\n       <use xlink:href=\"#ma9280d6417\" x=\"766.44\" y=\"126.154286\" style=\"stroke: #000000; stroke-width: 0.5\"/>\n      </g>\n     </g>\n     <g id=\"text_33\">\n      <!-- 0.6 -->\n      <g transform=\"translate(417.951521 129.509036) scale(0.144 -0.144)\">\n       <use xlink:href=\"#STIXGeneral-Regular-30\"/>\n       <use xlink:href=\"#STIXGeneral-Regular-2e\" x=\"49.999985\"/>\n       <use xlink:href=\"#STIXGeneral-Regular-36\" x=\"74.999969\"/>\n      </g>\n     </g>\n    </g>\n    <g id=\"ytick_88\">\n     <g id=\"line2d_235\">\n      <path d=\"M 439.951521 88.662857 \nL 766.44 88.662857 \n\" clip-path=\"url(#p3f0b5250ff)\" style=\"fill: none; stroke-dasharray: 1,3; stroke-dashoffset: 0; stroke: #000000; stroke-width: 0.5\"/>\n     </g>\n     <g id=\"line2d_236\">\n      <g>\n       <use xlink:href=\"#m72d4db9e15\" x=\"439.951521\" y=\"88.662857\" style=\"stroke: #000000; stroke-width: 0.5\"/>\n      </g>\n     </g>\n     <g id=\"line2d_237\">\n      <g>\n       <use xlink:href=\"#ma9280d6417\" x=\"766.44\" y=\"88.662857\" style=\"stroke: #000000; stroke-width: 0.5\"/>\n      </g>\n     </g>\n     <g id=\"text_34\">\n      <!-- 0.8 -->\n      <g transform=\"translate(417.951521 92.017607) scale(0.144 -0.144)\">\n       <use xlink:href=\"#STIXGeneral-Regular-30\"/>\n       <use xlink:href=\"#STIXGeneral-Regular-2e\" x=\"49.999985\"/>\n       <use xlink:href=\"#STIXGeneral-Regular-38\" x=\"74.999969\"/>\n      </g>\n     </g>\n    </g>\n    <g id=\"ytick_89\">\n     <g id=\"line2d_238\">\n      <path d=\"M 439.951521 51.171429 \nL 766.44 51.171429 \n\" clip-path=\"url(#p3f0b5250ff)\" style=\"fill: none; stroke-dasharray: 1,3; stroke-dashoffset: 0; stroke: #000000; stroke-width: 0.5\"/>\n     </g>\n     <g id=\"line2d_239\">\n      <g>\n       <use xlink:href=\"#m72d4db9e15\" x=\"439.951521\" y=\"51.171429\" style=\"stroke: #000000; stroke-width: 0.5\"/>\n      </g>\n     </g>\n     <g id=\"line2d_240\">\n      <g>\n       <use xlink:href=\"#ma9280d6417\" x=\"766.44\" y=\"51.171429\" style=\"stroke: #000000; stroke-width: 0.5\"/>\n      </g>\n     </g>\n     <g id=\"text_35\">\n      <!-- 1.0 -->\n      <g transform=\"translate(417.951521 54.526179) scale(0.144 -0.144)\">\n       <use xlink:href=\"#STIXGeneral-Regular-31\"/>\n       <use xlink:href=\"#STIXGeneral-Regular-2e\" x=\"49.999985\"/>\n       <use xlink:href=\"#STIXGeneral-Regular-30\" x=\"74.999969\"/>\n      </g>\n     </g>\n    </g>\n    <g id=\"ytick_90\">\n     <g id=\"line2d_241\">\n      <path d=\"M 439.951521 13.68 \nL 766.44 13.68 \n\" clip-path=\"url(#p3f0b5250ff)\" style=\"fill: none; stroke-dasharray: 1,3; stroke-dashoffset: 0; stroke: #000000; stroke-width: 0.5\"/>\n     </g>\n     <g id=\"line2d_242\">\n      <g>\n       <use xlink:href=\"#m72d4db9e15\" x=\"439.951521\" y=\"13.68\" style=\"stroke: #000000; stroke-width: 0.5\"/>\n      </g>\n     </g>\n     <g id=\"line2d_243\">\n      <g>\n       <use xlink:href=\"#ma9280d6417\" x=\"766.44\" y=\"13.68\" style=\"stroke: #000000; stroke-width: 0.5\"/>\n      </g>\n     </g>\n     <g id=\"text_36\">\n      <!-- 1.2 -->\n      <g transform=\"translate(417.951521 17.03475) scale(0.144 -0.144)\">\n       <use xlink:href=\"#STIXGeneral-Regular-31\"/>\n       <use xlink:href=\"#STIXGeneral-Regular-2e\" x=\"49.999985\"/>\n       <use xlink:href=\"#STIXGeneral-Regular-32\" x=\"74.999969\"/>\n      </g>\n     </g>\n    </g>\n    <g id=\"text_37\">\n     <!-- Gain, [-] -->\n     <g transform=\"translate(399.615021 172.44375) rotate(-90) scale(0.16 -0.16)\">\n      <use xlink:href=\"#STIXGeneral-Regular-47\"/>\n      <use xlink:href=\"#STIXGeneral-Regular-61\" x=\"72.199982\"/>\n      <use xlink:href=\"#STIXGeneral-Regular-69\" x=\"116.599976\"/>\n      <use xlink:href=\"#STIXGeneral-Regular-6e\" x=\"144.399963\"/>\n      <use xlink:href=\"#STIXGeneral-Regular-2c\" x=\"194.399948\"/>\n      <use xlink:href=\"#STIXGeneral-Regular-20\" x=\"219.399933\"/>\n      <use xlink:href=\"#STIXGeneral-Regular-5b\" x=\"244.399918\"/>\n      <use xlink:href=\"#STIXGeneral-Regular-2d\" x=\"277.699905\"/>\n      <use xlink:href=\"#STIXGeneral-Regular-5d\" x=\"310.999893\"/>\n     </g>\n    </g>\n   </g>\n  </g>\n </g>\n <defs>\n  <clipPath id=\"pb92eb5dacb\">\n   <rect x=\"57.96\" y=\"13.68\" width=\"326.488479\" height=\"262.44\"/>\n  </clipPath>\n  <clipPath id=\"p3f0b5250ff\">\n   <rect x=\"439.951521\" y=\"13.68\" width=\"326.488479\" height=\"262.44\"/>\n  </clipPath>\n </defs>\n</svg>\n"
          },
          "metadata": {}
        }
      ],
      "source": [
        "LP_coefs = FilterSincGaussian( consts.LP_window, consts.LP_fc, consts.LP_sigma  )\n",
        "PlotFilterSpecs( LP_coefs, consts.LP_fsample, consts.LP_fc, consts.LP_sigma, 'Low_Pass_Filter' )"
      ]
    },
    {
      "cell_type": "markdown",
      "source": [
        "## Cameras filter"
      ],
      "metadata": {
        "id": "nONVD4Xbppv5"
      }
    },
    {
      "cell_type": "code",
      "source": [
        "LP_coefs_cam = FilterSincGaussian( consts.LP_window, consts.LP_fc_cam, consts.LP_sigma  )\n",
        "PlotFilterSpecs( LP_coefs_cam, consts.LP_fsample, consts.LP_fc_cam, consts.LP_sigma, 'Low_Pass_Filter_Cameras' )"
      ],
      "metadata": {
        "id": "CeRgSOG8pTfk",
        "colab": {
          "base_uri": "https://localhost:8080/",
          "height": 447
        },
        "outputId": "afd3f6b6-58df-42e3-9437-3ee7181fea10"
      },
      "execution_count": 47,
      "outputs": [
        {
          "output_type": "display_data",
          "data": {
            "text/plain": [
              "<Figure size 960x360 with 2 Axes>"
            ],
            "image/svg+xml": "<?xml version=\"1.0\" encoding=\"utf-8\" standalone=\"no\"?>\n<!DOCTYPE svg PUBLIC \"-//W3C//DTD SVG 1.1//EN\"\n  \"http://www.w3.org/Graphics/SVG/1.1/DTD/svg11.dtd\">\n<svg xmlns:xlink=\"http://www.w3.org/1999/xlink\" width=\"784.44pt\" height=\"319.695pt\" viewBox=\"0 0 784.44 319.695\" xmlns=\"http://www.w3.org/2000/svg\" version=\"1.1\">\n <metadata>\n  <rdf:RDF xmlns:dc=\"http://purl.org/dc/elements/1.1/\" xmlns:cc=\"http://creativecommons.org/ns#\" xmlns:rdf=\"http://www.w3.org/1999/02/22-rdf-syntax-ns#\">\n   <cc:Work>\n    <dc:type rdf:resource=\"http://purl.org/dc/dcmitype/StillImage\"/>\n    <dc:date>2023-04-14T09:50:45.734413</dc:date>\n    <dc:format>image/svg+xml</dc:format>\n    <dc:creator>\n     <cc:Agent>\n      <dc:title>Matplotlib v3.7.1, https://matplotlib.org/</dc:title>\n     </cc:Agent>\n    </dc:creator>\n   </cc:Work>\n  </rdf:RDF>\n </metadata>\n <defs>\n  <style type=\"text/css\">*{stroke-linejoin: round; stroke-linecap: butt}</style>\n </defs>\n <g id=\"figure_1\">\n  <g id=\"patch_1\">\n   <path d=\"M 0 319.695 \nL 784.44 319.695 \nL 784.44 0 \nL 0 0 \nz\n\" style=\"fill: #ffffff\"/>\n  </g>\n  <g id=\"axes_1\">\n   <g id=\"patch_2\">\n    <path d=\"M 57.96 276.12 \nL 384.448479 276.12 \nL 384.448479 13.68 \nL 57.96 13.68 \nz\n\" style=\"fill: #ffffff\"/>\n   </g>\n   <g id=\"line2d_1\">\n    <path d=\"M 57.960326 42.84 \nL 74.93727 42.941266 \nL 75.901876 43.177922 \nL 76.532393 43.5239 \nL 77.185067 44.158831 \nL 77.723682 44.980845 \nL 78.277387 46.187285 \nL 78.846605 47.888694 \nL 79.580606 50.898773 \nL 80.340401 55.139455 \nL 81.126897 60.908804 \nL 81.941032 68.531796 \nL 82.955847 80.543011 \nL 84.194202 98.604365 \nL 85.304366 117.735205 \nL 85.876943 131.287151 \nL 86.265306 147.127771 \nL 86.461509 167.686324 \nL 86.462551 320.695 \nM 87.872726 320.695 \nL 87.873543 205.574601 \nL 88.080894 160.967612 \nL 88.499918 148.981808 \nL 88.71161 147.00889 \nL 88.92477 146.473467 \nL 89.139408 147.241504 \nL 89.355533 149.468204 \nL 89.573156 153.774371 \nL 89.792288 162.436517 \nL 89.793491 320.695 \nM 92.304086 320.695 \nL 92.305343 166.33728 \nL 92.543414 157.053471 \nL 92.783135 152.963644 \nL 93.024517 151.261037 \nL 93.267573 151.299458 \nL 93.512313 153.053447 \nL 93.75875 157.071151 \nL 94.006895 165.629039 \nL 94.008229 320.695 \nM 96.58356 320.695 \nL 96.584944 169.623221 \nL 96.852679 160.143071 \nL 97.12227 156.245474 \nL 97.39373 154.98992 \nL 97.667072 155.816899 \nL 97.942308 159.001162 \nL 98.219452 166.262166 \nL 98.498517 197.12212 \nL 98.499715 320.695 \nM 100.800377 320.695 \nL 100.801815 179.182156 \nL 101.09878 164.795043 \nL 101.397804 159.860331 \nL 101.6989 158.336459 \nL 102.002084 159.365989 \nL 102.307369 163.406113 \nL 102.61477 173.766889 \nL 102.616337 320.695 \nM 105.150358 320.695 \nL 105.151943 179.082943 \nL 105.479062 166.266622 \nL 105.808449 162.015388 \nL 106.140118 161.34957 \nL 106.474087 163.812432 \nL 106.81037 171.124643 \nL 107.148985 235.04089 \nL 107.149993 320.695 \nM 109.584149 320.695 \nL 109.585927 175.458797 \nL 109.943781 166.5047 \nL 110.304115 163.865718 \nL 110.666947 164.955648 \nL 111.032294 170.546879 \nL 111.400174 191.843198 \nL 111.401819 320.695 \nM 113.660198 320.695 \nL 113.661624 212.815016 \nL 114.04773 173.295264 \nL 114.436511 167.119039 \nL 114.827988 166.277051 \nL 115.222178 169.904232 \nL 115.6191 182.822894 \nL 115.620999 320.695 \nM 118.057296 320.695 \nL 118.059085 195.244597 \nL 118.475672 173.209468 \nL 118.895147 168.476596 \nL 119.317529 169.15009 \nL 119.742839 175.921878 \nL 119.744975 320.695 \nM 122.35558 320.695 \nL 122.35733 206.255289 \nL 122.803711 175.349577 \nL 123.253186 170.299424 \nL 123.705777 171.431409 \nL 124.161505 180.293393 \nL 124.163725 320.695 \nM 126.960718 320.695 \nL 126.962982 182.342285 \nL 127.441288 172.946767 \nL 127.922909 172.284788 \nL 128.407869 179.058663 \nL 128.410252 320.695 \nM 131.386612 320.695 \nL 131.389042 181.187095 \nL 131.898028 173.82093 \nL 132.410542 174.94043 \nL 132.926608 186.950257 \nL 132.929003 320.695 \nM 135.558684 320.695 \nL 135.561097 189.649758 \nL 136.099002 176.322675 \nL 136.640636 175.541144 \nL 137.186024 184.874864 \nL 137.188594 320.695 \nM 139.967615 320.695 \nL 139.970198 187.922676 \nL 140.538666 176.991002 \nL 141.111074 177.911649 \nL 141.687449 193.910579 \nL 141.689986 320.695 \nM 144.626942 320.695 \nL 144.629813 181.01624 \nL 145.23058 177.770606 \nL 145.835511 186.138691 \nL 145.838335 320.695 \nM 148.920678 320.695 \nL 148.923646 183.153645 \nL 149.554176 178.930417 \nL 150.189077 187.548254 \nL 150.19201 320.695 \nM 152.770633 320.695 \nL 152.772994 215.830253 \nL 153.430206 182.000139 \nL 154.091974 181.049519 \nL 154.758329 199.784625 \nL 154.761126 320.695 \nM 157.467147 320.695 \nL 157.47026 188.8642 \nL 158.160032 181.066609 \nL 158.854586 188.867241 \nL 158.857763 320.695 \nM 161.678185 320.695 \nL 161.681278 195.007503 \nL 162.40024 182.255877 \nL 163.124185 187.908484 \nL 163.127521 320.695 \nM 166.067252 320.695 \nL 166.070496 194.225822 \nL 166.819882 183.100883 \nL 167.574463 191.508231 \nL 167.577847 320.695 \nM 170.641928 320.695 \nL 170.645455 188.784018 \nL 171.426553 184.657115 \nL 172.213065 210.127692 \nL 172.216086 320.695 \nM 174.602294 320.695 \nL 174.605466 206.177387 \nL 175.414013 185.175343 \nL 176.228166 192.033314 \nL 176.231801 320.695 \nM 179.537763 320.695 \nL 179.541602 187.614067 \nL 180.384365 188.999412 \nL 180.388217 320.695 \nM 183.810321 320.695 \nL 183.814243 189.369972 \nL 184.686623 189.13483 \nL 184.690606 320.695 \nM 188.232971 320.695 \nL 188.237034 189.248965 \nL 189.140071 191.457468 \nL 189.144121 320.695 \nM 191.884457 320.695 \nL 191.886914 243.515771 \nL 192.815251 188.332263 \nL 193.750023 199.032082 \nL 193.753971 320.695 \nM 196.589338 320.695 \nL 196.593396 197.36169 \nL 197.554356 189.555487 \nL 197.55873 320.695 \nM 201.460822 320.695 \nL 201.465274 189.945563 \nL 202.460005 200.731717 \nL 202.464148 320.695 \nM 205.481331 320.695 \nL 205.48576 194.180839 \nL 206.50836 193.618074 \nL 206.51287 320.695 \nM 209.614548 320.695 \nL 209.618886 200.19962 \nL 210.670135 191.961666 \nL 210.674832 320.695 \nM 213.863528 320.695 \nL 213.867806 205.092308 \nL 214.948508 192.005016 \nL 214.953335 320.695 \nM 218.231357 320.695 \nL 218.235766 204.828977 \nL 219.346744 192.900993 \nL 219.351672 320.695 \nM 222.721388 320.695 \nL 222.7261 200.222732 \nL 223.868204 195.253622 \nL 223.873177 320.695 \nM 227.337203 320.695 \nL 227.342236 195.496634 \nL 228.516337 202.30305 \nL 228.521164 320.695 \nM 232.08244 320.695 \nL 232.087699 193.412357 \nL 232.092995 320.695 \nM 235.728884 320.695 \nL 235.733843 203.175451 \nL 236.966112 197.377967 \nL 236.971388 320.695 \nM 240.708935 320.695 \nL 240.714408 194.492114 \nL 240.719919 320.695 \nM 244.535895 320.695 \nL 244.541191 201.109635 \nL 245.83451 201.581807 \nL 245.839859 320.695 \nM 248.445454 320.695 \nL 248.448105 262.199601 \nL 249.768505 195.955375 \nL 249.774223 320.695 \nM 253.779068 320.695 \nL 253.784876 195.706009 \nL 253.790725 320.695 \nM 257.879509 320.695 \nL 257.885348 197.635342 \nL 259.271164 228.628488 \nL 259.275598 320.695 \nM 262.065844 320.695 \nL 262.071682 200.192725 \nL 263.486516 212.980758 \nL 263.49181 320.695 \nM 266.339804 320.695 \nL 266.345675 202.012424 \nL 267.790135 210.539801 \nL 267.795662 320.695 \nM 270.703175 320.695 \nL 270.709163 202.108288 \nL 272.18387 213.242131 \nL 272.189374 320.695 \nM 275.15783 320.695 \nL 275.164021 200.615932 \nL 276.669607 227.953176 \nL 276.67446 320.695 \nM 279.705741 320.695 \nL 279.712161 198.70919 \nL 279.718626 320.695 \nM 284.34894 320.695 \nL 284.355537 197.925255 \nL 284.362179 320.695 \nM 289.089544 320.695 \nL 289.096143 200.419028 \nL 289.102787 320.695 \nM 292.305278 320.695 \nL 292.311567 207.678313 \nL 293.936014 214.179212 \nL 293.942024 320.695 \nM 297.211865 320.695 \nL 297.218767 199.151029 \nL 297.225717 320.695 \nM 302.22185 320.695 \nL 302.228722 202.169871 \nL 302.235642 320.695 \nM 305.619889 320.695 \nL 305.626839 202.47222 \nL 305.633837 320.695 \nM 310.805676 320.695 \nL 310.812855 201.092286 \nL 310.820083 320.695 \nM 314.323219 320.695 \nL 314.330388 202.88566 \nL 314.337607 320.695 \nM 319.691399 320.695 \nL 319.698652 203.962689 \nL 319.705955 320.695 \nM 323.332216 320.695 \nL 323.339799 200.31379 \nL 323.347434 320.695 \nM 327.024731 320.695 \nL 327.0316 213.183855 \nL 328.896715 230.996225 \nL 328.90253 320.695 \nM 332.658147 320.695 \nL 332.66582 203.024357 \nL 332.673547 320.695 \nM 336.479408 320.695 \nL 336.487359 200.428794 \nL 336.495365 320.695 \nM 340.354317 320.695 \nL 340.36206 205.19738 \nL 340.369857 320.695 \nM 344.284155 320.695 \nL 344.290664 225.003516 \nL 346.275414 226.369909 \nL 346.281919 320.695 \nM 350.278423 320.695 \nL 350.286281 207.4804 \nL 350.294193 320.695 \nM 354.344639 320.695 \nL 354.352944 202.652987 \nL 354.361307 320.695 \nM 358.467649 320.695 \nL 358.476181 201.083399 \nL 358.484772 320.695 \nM 362.648113 320.695 \nL 362.656777 200.889315 \nL 362.665502 320.695 \nM 366.886769 320.695 \nL 366.895532 201.201695 \nL 366.904355 320.695 \nM 371.18439 320.695 \nL 371.193253 201.492636 \nL 371.202177 320.695 \nM 375.541776 320.695 \nL 375.550762 201.493501 \nL 375.55981 320.695 \nM 379.959758 320.695 \nL 379.968889 201.227254 \nL 379.978084 320.695 \n\" clip-path=\"url(#p16d56c6ce1)\" style=\"fill: none; stroke-dasharray: 6,0; stroke-dashoffset: 0; stroke: #1f77b4; stroke-width: 1.5\"/>\n   </g>\n   <g id=\"patch_3\">\n    <path d=\"M 57.96 276.12 \nL 57.96 13.68 \n\" style=\"fill: none; stroke: #000000; stroke-linejoin: miter; stroke-linecap: square\"/>\n   </g>\n   <g id=\"patch_4\">\n    <path d=\"M 384.448479 276.12 \nL 384.448479 13.68 \n\" style=\"fill: none; stroke: #000000; stroke-linejoin: miter; stroke-linecap: square\"/>\n   </g>\n   <g id=\"patch_5\">\n    <path d=\"M 57.96 276.12 \nL 384.448479 276.12 \n\" style=\"fill: none; stroke: #000000; stroke-linejoin: miter; stroke-linecap: square\"/>\n   </g>\n   <g id=\"patch_6\">\n    <path d=\"M 57.96 13.68 \nL 384.448479 13.68 \n\" style=\"fill: none; stroke: #000000; stroke-linejoin: miter; stroke-linecap: square\"/>\n   </g>\n   <g id=\"matplotlib.axis_1\">\n    <g id=\"xtick_1\">\n     <g id=\"line2d_2\">\n      <path d=\"M 57.96 276.12 \nL 57.96 13.68 \n\" clip-path=\"url(#p16d56c6ce1)\" style=\"fill: none; stroke-dasharray: 1,3; stroke-dashoffset: 0; stroke: #000000; stroke-width: 0.5\"/>\n     </g>\n     <g id=\"line2d_3\">\n      <defs>\n       <path id=\"m355a17a900\" d=\"M 0 0 \nL 0 -4 \n\" style=\"stroke: #000000; stroke-width: 0.5\"/>\n      </defs>\n      <g>\n       <use xlink:href=\"#m355a17a900\" x=\"57.96\" y=\"276.12\" style=\"stroke: #000000; stroke-width: 0.5\"/>\n      </g>\n     </g>\n     <g id=\"line2d_4\">\n      <defs>\n       <path id=\"m6805f66d9c\" d=\"M 0 0 \nL 0 4 \n\" style=\"stroke: #000000; stroke-width: 0.5\"/>\n      </defs>\n      <g>\n       <use xlink:href=\"#m6805f66d9c\" x=\"57.96\" y=\"13.68\" style=\"stroke: #000000; stroke-width: 0.5\"/>\n      </g>\n     </g>\n     <g id=\"text_1\">\n      <!-- 0 -->\n      <g transform=\"translate(54.36 289.95475) scale(0.144 -0.144)\">\n       <defs>\n        <path id=\"STIXGeneral-Regular-30\" d=\"M 3046 2112 \nQ 3046 1683 2963 1302 \nQ 2880 922 2717 602 \nQ 2554 282 2266 96 \nQ 1978 -90 1600 -90 \nQ 1210 -90 915 108 \nQ 621 307 461 640 \nQ 301 973 227 1350 \nQ 154 1728 154 2150 \nQ 154 2746 301 3222 \nQ 448 3699 790 4012 \nQ 1133 4326 1626 4326 \nQ 2253 4326 2649 3712 \nQ 3046 3098 3046 2112 \nz\nM 2432 2080 \nQ 2432 3091 2217 3625 \nQ 2003 4160 1587 4160 \nQ 1190 4160 979 3622 \nQ 768 3085 768 2106 \nQ 768 1120 979 598 \nQ 1190 77 1600 77 \nQ 2003 77 2217 598 \nQ 2432 1120 2432 2080 \nz\n\" transform=\"scale(0.015625)\"/>\n       </defs>\n       <use xlink:href=\"#STIXGeneral-Regular-30\"/>\n      </g>\n     </g>\n    </g>\n    <g id=\"xtick_2\">\n     <g id=\"line2d_5\">\n      <path d=\"M 112.374747 276.12 \nL 112.374747 13.68 \n\" clip-path=\"url(#p16d56c6ce1)\" style=\"fill: none; stroke-dasharray: 1,3; stroke-dashoffset: 0; stroke: #000000; stroke-width: 0.5\"/>\n     </g>\n     <g id=\"line2d_6\">\n      <g>\n       <use xlink:href=\"#m355a17a900\" x=\"112.374747\" y=\"276.12\" style=\"stroke: #000000; stroke-width: 0.5\"/>\n      </g>\n     </g>\n     <g id=\"line2d_7\">\n      <g>\n       <use xlink:href=\"#m6805f66d9c\" x=\"112.374747\" y=\"13.68\" style=\"stroke: #000000; stroke-width: 0.5\"/>\n      </g>\n     </g>\n     <g id=\"text_2\">\n      <!-- 20 -->\n      <g transform=\"translate(105.174747 289.95475) scale(0.144 -0.144)\">\n       <defs>\n        <path id=\"STIXGeneral-Regular-32\" d=\"M 3034 877 \nL 2688 0 \nL 186 0 \nL 186 77 \nL 1325 1286 \nQ 1773 1754 1965 2144 \nQ 2157 2534 2157 2950 \nQ 2157 3379 1920 3616 \nQ 1683 3853 1267 3853 \nQ 922 3853 720 3673 \nQ 518 3494 326 3021 \nL 192 3053 \nQ 301 3648 630 3987 \nQ 960 4326 1523 4326 \nQ 2054 4326 2380 4006 \nQ 2707 3686 2707 3200 \nQ 2707 2477 1888 1613 \nL 832 486 \nL 2330 486 \nQ 2541 486 2665 569 \nQ 2790 653 2944 915 \nL 3034 877 \nz\n\" transform=\"scale(0.015625)\"/>\n       </defs>\n       <use xlink:href=\"#STIXGeneral-Regular-32\"/>\n       <use xlink:href=\"#STIXGeneral-Regular-30\" x=\"49.999985\"/>\n      </g>\n     </g>\n    </g>\n    <g id=\"xtick_3\">\n     <g id=\"line2d_8\">\n      <path d=\"M 166.789493 276.12 \nL 166.789493 13.68 \n\" clip-path=\"url(#p16d56c6ce1)\" style=\"fill: none; stroke-dasharray: 1,3; stroke-dashoffset: 0; stroke: #000000; stroke-width: 0.5\"/>\n     </g>\n     <g id=\"line2d_9\">\n      <g>\n       <use xlink:href=\"#m355a17a900\" x=\"166.789493\" y=\"276.12\" style=\"stroke: #000000; stroke-width: 0.5\"/>\n      </g>\n     </g>\n     <g id=\"line2d_10\">\n      <g>\n       <use xlink:href=\"#m6805f66d9c\" x=\"166.789493\" y=\"13.68\" style=\"stroke: #000000; stroke-width: 0.5\"/>\n      </g>\n     </g>\n     <g id=\"text_3\">\n      <!-- 40 -->\n      <g transform=\"translate(159.589493 289.95475) scale(0.144 -0.144)\">\n       <defs>\n        <path id=\"STIXGeneral-Regular-34\" d=\"M 3027 1069 \nL 2368 1069 \nL 2368 0 \nL 1869 0 \nL 1869 1069 \nL 77 1069 \nL 77 1478 \nL 2086 4326 \nL 2368 4326 \nL 2368 1478 \nL 3027 1478 \nL 3027 1069 \nz\nM 1869 1478 \nL 1869 3674 \nL 333 1478 \nL 1869 1478 \nz\n\" transform=\"scale(0.015625)\"/>\n       </defs>\n       <use xlink:href=\"#STIXGeneral-Regular-34\"/>\n       <use xlink:href=\"#STIXGeneral-Regular-30\" x=\"49.999985\"/>\n      </g>\n     </g>\n    </g>\n    <g id=\"xtick_4\">\n     <g id=\"line2d_11\">\n      <path d=\"M 221.20424 276.12 \nL 221.20424 13.68 \n\" clip-path=\"url(#p16d56c6ce1)\" style=\"fill: none; stroke-dasharray: 1,3; stroke-dashoffset: 0; stroke: #000000; stroke-width: 0.5\"/>\n     </g>\n     <g id=\"line2d_12\">\n      <g>\n       <use xlink:href=\"#m355a17a900\" x=\"221.20424\" y=\"276.12\" style=\"stroke: #000000; stroke-width: 0.5\"/>\n      </g>\n     </g>\n     <g id=\"line2d_13\">\n      <g>\n       <use xlink:href=\"#m6805f66d9c\" x=\"221.20424\" y=\"13.68\" style=\"stroke: #000000; stroke-width: 0.5\"/>\n      </g>\n     </g>\n     <g id=\"text_4\">\n      <!-- 60 -->\n      <g transform=\"translate(214.00424 289.95475) scale(0.144 -0.144)\">\n       <defs>\n        <path id=\"STIXGeneral-Regular-36\" d=\"M 2854 4378 \nL 2867 4275 \nQ 2112 4154 1606 3664 \nQ 1101 3174 973 2451 \nQ 1344 2739 1786 2739 \nQ 2349 2739 2672 2380 \nQ 2995 2022 2995 1402 \nQ 2995 774 2669 378 \nQ 2291 -90 1651 -90 \nQ 870 -90 518 557 \nQ 218 1107 218 1786 \nQ 218 2835 915 3552 \nQ 1312 3962 1731 4131 \nQ 2150 4301 2854 4378 \nz\nM 2419 1203 \nQ 2419 2445 1555 2445 \nQ 1235 2445 1024 2275 \nQ 813 2106 813 1702 \nQ 813 954 1046 522 \nQ 1280 90 1722 90 \nQ 2061 90 2240 394 \nQ 2419 698 2419 1203 \nz\n\" transform=\"scale(0.015625)\"/>\n       </defs>\n       <use xlink:href=\"#STIXGeneral-Regular-36\"/>\n       <use xlink:href=\"#STIXGeneral-Regular-30\" x=\"49.999985\"/>\n      </g>\n     </g>\n    </g>\n    <g id=\"xtick_5\">\n     <g id=\"line2d_14\">\n      <path d=\"M 275.618986 276.12 \nL 275.618986 13.68 \n\" clip-path=\"url(#p16d56c6ce1)\" style=\"fill: none; stroke-dasharray: 1,3; stroke-dashoffset: 0; stroke: #000000; stroke-width: 0.5\"/>\n     </g>\n     <g id=\"line2d_15\">\n      <g>\n       <use xlink:href=\"#m355a17a900\" x=\"275.618986\" y=\"276.12\" style=\"stroke: #000000; stroke-width: 0.5\"/>\n      </g>\n     </g>\n     <g id=\"line2d_16\">\n      <g>\n       <use xlink:href=\"#m6805f66d9c\" x=\"275.618986\" y=\"13.68\" style=\"stroke: #000000; stroke-width: 0.5\"/>\n      </g>\n     </g>\n     <g id=\"text_5\">\n      <!-- 80 -->\n      <g transform=\"translate(268.418986 289.95475) scale(0.144 -0.144)\">\n       <defs>\n        <path id=\"STIXGeneral-Regular-38\" d=\"M 2848 992 \nQ 2848 499 2505 204 \nQ 2163 -90 1587 -90 \nQ 1050 -90 704 204 \nQ 358 499 358 954 \nQ 358 1293 524 1533 \nQ 691 1773 1190 2125 \nQ 710 2522 553 2765 \nQ 397 3008 397 3328 \nQ 397 3782 745 4054 \nQ 1094 4326 1638 4326 \nQ 2106 4326 2410 4060 \nQ 2714 3795 2714 3411 \nQ 2714 3059 2531 2848 \nQ 2349 2637 1856 2374 \nQ 2432 1990 2640 1689 \nQ 2848 1389 2848 992 \nz\nM 2272 3411 \nQ 2272 3744 2086 3945 \nQ 1901 4147 1574 4147 \nQ 1248 4147 1059 3977 \nQ 870 3808 870 3513 \nQ 870 3219 1059 2979 \nQ 1248 2739 1670 2490 \nQ 1997 2682 2134 2896 \nQ 2272 3110 2272 3411 \nz\nM 1734 1741 \nL 1357 1997 \nQ 1075 1766 960 1545 \nQ 845 1325 845 1011 \nQ 845 576 1065 333 \nQ 1286 90 1658 90 \nQ 1971 90 2166 285 \nQ 2362 480 2362 794 \nQ 2362 1082 2214 1299 \nQ 2067 1517 1734 1741 \nz\n\" transform=\"scale(0.015625)\"/>\n       </defs>\n       <use xlink:href=\"#STIXGeneral-Regular-38\"/>\n       <use xlink:href=\"#STIXGeneral-Regular-30\" x=\"49.999985\"/>\n      </g>\n     </g>\n    </g>\n    <g id=\"xtick_6\">\n     <g id=\"line2d_17\">\n      <path d=\"M 330.033733 276.12 \nL 330.033733 13.68 \n\" clip-path=\"url(#p16d56c6ce1)\" style=\"fill: none; stroke-dasharray: 1,3; stroke-dashoffset: 0; stroke: #000000; stroke-width: 0.5\"/>\n     </g>\n     <g id=\"line2d_18\">\n      <g>\n       <use xlink:href=\"#m355a17a900\" x=\"330.033733\" y=\"276.12\" style=\"stroke: #000000; stroke-width: 0.5\"/>\n      </g>\n     </g>\n     <g id=\"line2d_19\">\n      <g>\n       <use xlink:href=\"#m6805f66d9c\" x=\"330.033733\" y=\"13.68\" style=\"stroke: #000000; stroke-width: 0.5\"/>\n      </g>\n     </g>\n     <g id=\"text_6\">\n      <!-- 100 -->\n      <g transform=\"translate(319.233733 289.95475) scale(0.144 -0.144)\">\n       <defs>\n        <path id=\"STIXGeneral-Regular-31\" d=\"M 2522 0 \nL 755 0 \nL 755 96 \nQ 1107 115 1235 227 \nQ 1363 339 1363 608 \nL 1363 3482 \nQ 1363 3795 1171 3795 \nQ 1082 3795 883 3718 \nL 710 3654 \nL 710 3744 \nL 1856 4326 \nL 1914 4307 \nL 1914 486 \nQ 1914 275 2042 185 \nQ 2170 96 2522 96 \nL 2522 0 \nz\n\" transform=\"scale(0.015625)\"/>\n       </defs>\n       <use xlink:href=\"#STIXGeneral-Regular-31\"/>\n       <use xlink:href=\"#STIXGeneral-Regular-30\" x=\"49.999985\"/>\n       <use xlink:href=\"#STIXGeneral-Regular-30\" x=\"99.999969\"/>\n      </g>\n     </g>\n    </g>\n    <g id=\"xtick_7\">\n     <g id=\"line2d_20\">\n      <path d=\"M 384.448479 276.12 \nL 384.448479 13.68 \n\" clip-path=\"url(#p16d56c6ce1)\" style=\"fill: none; stroke-dasharray: 1,3; stroke-dashoffset: 0; stroke: #000000; stroke-width: 0.5\"/>\n     </g>\n     <g id=\"line2d_21\">\n      <g>\n       <use xlink:href=\"#m355a17a900\" x=\"384.448479\" y=\"276.12\" style=\"stroke: #000000; stroke-width: 0.5\"/>\n      </g>\n     </g>\n     <g id=\"line2d_22\">\n      <g>\n       <use xlink:href=\"#m6805f66d9c\" x=\"384.448479\" y=\"13.68\" style=\"stroke: #000000; stroke-width: 0.5\"/>\n      </g>\n     </g>\n     <g id=\"text_7\">\n      <!-- 120 -->\n      <g transform=\"translate(373.648479 289.95475) scale(0.144 -0.144)\">\n       <use xlink:href=\"#STIXGeneral-Regular-31\"/>\n       <use xlink:href=\"#STIXGeneral-Regular-32\" x=\"49.999985\"/>\n       <use xlink:href=\"#STIXGeneral-Regular-30\" x=\"99.999969\"/>\n      </g>\n     </g>\n    </g>\n    <g id=\"text_8\">\n     <!-- frequency, [Hz] -->\n     <g transform=\"translate(170.56299 309.0075) scale(0.16 -0.16)\">\n      <defs>\n       <path id=\"STIXGeneral-Regular-66\" d=\"M 134 2880 \nL 659 2880 \nQ 666 3264 710 3478 \nQ 755 3693 883 3910 \nQ 1152 4371 1786 4371 \nQ 2074 4371 2262 4259 \nQ 2451 4147 2451 3974 \nQ 2451 3866 2374 3789 \nQ 2298 3712 2182 3712 \nQ 2029 3712 1894 3942 \nQ 1741 4192 1555 4192 \nQ 1197 4192 1197 3622 \nL 1197 2880 \nL 1978 2880 \nL 1978 2675 \nL 1197 2675 \nL 1197 666 \nQ 1197 307 1299 208 \nQ 1402 109 1792 96 \nL 1792 0 \nL 128 0 \nL 128 96 \nQ 474 115 566 214 \nQ 659 314 659 666 \nL 659 2675 \nL 134 2675 \nL 134 2880 \nz\n\" transform=\"scale(0.015625)\"/>\n       <path id=\"STIXGeneral-Regular-72\" d=\"M 1024 2931 \nL 1024 2342 \nQ 1267 2688 1430 2816 \nQ 1594 2944 1792 2944 \nQ 1958 2944 2051 2854 \nQ 2144 2765 2144 2605 \nQ 2144 2470 2077 2393 \nQ 2010 2317 1894 2317 \nQ 1773 2317 1638 2445 \nQ 1536 2541 1472 2541 \nQ 1338 2541 1181 2355 \nQ 1024 2170 1024 2016 \nL 1024 576 \nQ 1024 301 1133 205 \nQ 1242 109 1568 96 \nL 1568 0 \nL 32 0 \nL 32 96 \nQ 339 154 412 224 \nQ 486 294 486 538 \nL 486 2138 \nQ 486 2349 438 2435 \nQ 390 2522 269 2522 \nQ 166 2522 45 2496 \nL 45 2598 \nQ 448 2726 992 2944 \nL 1024 2931 \nz\n\" transform=\"scale(0.015625)\"/>\n       <path id=\"STIXGeneral-Regular-65\" d=\"M 2611 1050 \nL 2714 1005 \nQ 2330 -64 1376 -64 \nQ 813 -64 486 329 \nQ 160 723 160 1389 \nQ 160 2074 525 2509 \nQ 890 2944 1485 2944 \nQ 2061 2944 2374 2502 \nQ 2560 2246 2592 1773 \nL 621 1773 \nQ 646 1370 700 1158 \nQ 755 947 915 730 \nQ 1184 378 1626 378 \nQ 1939 378 2153 531 \nQ 2368 685 2611 1050 \nz\nM 634 1978 \nL 1939 1978 \nQ 1882 2381 1750 2547 \nQ 1619 2714 1312 2714 \nQ 1043 2714 864 2525 \nQ 685 2336 634 1978 \nz\n\" transform=\"scale(0.015625)\"/>\n       <path id=\"STIXGeneral-Regular-71\" d=\"M 3123 -1389 \nL 1613 -1389 \nL 1613 -1280 \nQ 1952 -1254 2067 -1158 \nQ 2182 -1062 2182 -794 \nL 2182 410 \nQ 1747 -64 1178 -64 \nQ 730 -64 442 320 \nQ 154 704 154 1312 \nQ 154 2003 560 2473 \nQ 966 2944 1562 2944 \nQ 1920 2944 2304 2720 \nL 2650 2925 \nL 2720 2925 \nL 2720 -902 \nQ 2720 -1107 2797 -1180 \nQ 2874 -1254 3123 -1280 \nL 3123 -1389 \nz\nM 2182 813 \nL 2182 2131 \nQ 2182 2758 1587 2758 \nQ 1178 2758 941 2432 \nQ 704 2106 704 1542 \nQ 704 1210 803 925 \nQ 902 640 1062 499 \nQ 1254 326 1542 326 \nQ 1882 326 2106 531 \nQ 2182 602 2182 813 \nz\n\" transform=\"scale(0.015625)\"/>\n       <path id=\"STIXGeneral-Regular-75\" d=\"M 3072 320 \nL 3072 230 \nQ 2573 96 2195 -58 \nL 2163 -38 \nL 2163 486 \nL 2150 486 \nQ 1747 -64 1235 -64 \nQ 870 -64 662 160 \nQ 454 384 454 755 \nL 454 2362 \nQ 454 2598 371 2688 \nQ 288 2778 58 2790 \nL 58 2880 \nL 992 2880 \nL 992 813 \nQ 992 595 1123 451 \nQ 1254 307 1446 307 \nQ 1760 307 1984 506 \nQ 2067 582 2099 649 \nQ 2131 717 2131 877 \nL 2131 2355 \nQ 2131 2605 2041 2678 \nQ 1952 2752 1658 2771 \nL 1658 2880 \nL 2669 2880 \nL 2669 685 \nQ 2669 461 2742 390 \nQ 2816 320 3034 320 \nL 3072 320 \nz\n\" transform=\"scale(0.015625)\"/>\n       <path id=\"STIXGeneral-Regular-6e\" d=\"M 3104 0 \nL 1773 0 \nL 1779 96 \nQ 2016 115 2096 233 \nQ 2176 352 2176 672 \nL 2176 1946 \nQ 2176 2592 1709 2592 \nQ 1549 2592 1408 2515 \nQ 1267 2438 1050 2227 \nL 1050 461 \nQ 1050 269 1136 192 \nQ 1222 115 1466 96 \nL 1466 0 \nL 115 0 \nL 115 96 \nQ 358 115 435 214 \nQ 512 314 512 602 \nL 512 2157 \nQ 512 2394 467 2483 \nQ 422 2573 288 2573 \nQ 160 2573 102 2547 \nL 102 2656 \nQ 550 2784 979 2944 \nL 1030 2925 \nL 1030 2426 \nL 1037 2426 \nQ 1491 2944 1958 2944 \nQ 2323 2944 2518 2688 \nQ 2714 2432 2714 1958 \nL 2714 544 \nQ 2714 288 2790 205 \nQ 2867 122 3104 96 \nL 3104 0 \nz\n\" transform=\"scale(0.015625)\"/>\n       <path id=\"STIXGeneral-Regular-63\" d=\"M 2547 998 \nL 2637 941 \nQ 2362 403 2112 205 \nQ 1786 -64 1376 -64 \nQ 845 -64 502 336 \nQ 160 736 160 1357 \nQ 160 2170 698 2618 \nQ 1094 2944 1562 2944 \nQ 1965 2944 2256 2749 \nQ 2547 2554 2547 2285 \nQ 2547 2176 2457 2096 \nQ 2368 2016 2246 2016 \nQ 2022 2016 1939 2310 \nL 1901 2451 \nQ 1850 2630 1773 2694 \nQ 1696 2758 1523 2758 \nQ 1133 2758 893 2451 \nQ 653 2144 653 1645 \nQ 653 1094 928 745 \nQ 1203 397 1645 397 \nQ 1920 397 2118 528 \nQ 2317 659 2547 998 \nz\n\" transform=\"scale(0.015625)\"/>\n       <path id=\"STIXGeneral-Regular-79\" d=\"M 3040 2880 \nL 3040 2784 \nQ 2925 2771 2854 2700 \nQ 2784 2630 2720 2458 \nL 1760 -160 \nQ 1510 -838 1257 -1116 \nQ 1005 -1395 640 -1395 \nQ 435 -1395 313 -1289 \nQ 192 -1184 192 -1024 \nQ 192 -902 272 -816 \nQ 352 -730 467 -730 \nQ 653 -730 800 -813 \nQ 883 -858 966 -858 \nQ 1101 -858 1286 -576 \nQ 1376 -448 1459 -211 \nQ 1542 26 1542 115 \nQ 1542 198 1274 762 \nL 429 2566 \nQ 346 2752 90 2790 \nL 90 2880 \nL 1402 2880 \nL 1402 2784 \nQ 1197 2778 1117 2739 \nQ 1037 2701 1037 2611 \nQ 1037 2541 1120 2349 \nL 1837 749 \nL 2458 2515 \nQ 2483 2573 2483 2630 \nQ 2483 2784 2189 2784 \nL 2189 2880 \nL 3040 2880 \nz\n\" transform=\"scale(0.015625)\"/>\n       <path id=\"STIXGeneral-Regular-2c\" d=\"M 531 -902 \nL 467 -781 \nQ 998 -422 998 -96 \nQ 998 -13 909 -13 \nQ 883 -13 822 -25 \nQ 762 -38 723 -38 \nQ 352 -38 352 288 \nQ 352 454 457 553 \nQ 563 653 736 653 \nQ 954 653 1101 496 \nQ 1248 339 1248 96 \nQ 1248 -198 1053 -473 \nQ 858 -749 531 -902 \nz\n\" transform=\"scale(0.015625)\"/>\n       <path id=\"STIXGeneral-Regular-20\" transform=\"scale(0.015625)\"/>\n       <path id=\"STIXGeneral-Regular-5b\" d=\"M 1914 -998 \nL 563 -998 \nL 563 4237 \nL 1914 4237 \nL 1914 4077 \nL 1382 4077 \nQ 1216 4077 1133 4006 \nQ 1050 3936 1050 3770 \nL 1050 -493 \nQ 1050 -838 1382 -838 \nL 1914 -838 \nL 1914 -998 \nz\n\" transform=\"scale(0.015625)\"/>\n       <path id=\"STIXGeneral-Regular-48\" d=\"M 4499 0 \nL 2714 0 \nL 2714 122 \nQ 3085 147 3181 265 \nQ 3277 384 3277 794 \nL 3277 2016 \nL 1338 2016 \nL 1338 723 \nQ 1338 371 1440 256 \nQ 1542 141 1894 122 \nL 1901 0 \nL 115 0 \nL 115 122 \nQ 493 147 589 259 \nQ 685 371 685 781 \nL 685 3507 \nQ 685 3878 585 3980 \nQ 486 4083 115 4115 \nL 115 4237 \nL 1907 4237 \nL 1907 4115 \nQ 1549 4083 1443 3977 \nQ 1338 3872 1338 3507 \nL 1338 2298 \nL 3277 2298 \nL 3277 3507 \nQ 3277 3878 3177 3980 \nQ 3078 4083 2707 4115 \nL 2707 4237 \nL 4499 4237 \nL 4499 4115 \nQ 4141 4083 4035 3977 \nQ 3930 3872 3930 3507 \nL 3930 710 \nQ 3930 371 4035 259 \nQ 4141 147 4499 122 \nL 4499 0 \nz\n\" transform=\"scale(0.015625)\"/>\n       <path id=\"STIXGeneral-Regular-7a\" d=\"M 2675 870 \nL 2579 0 \nL 173 0 \nL 173 96 \nL 1875 2688 \nL 1011 2688 \nQ 710 2688 604 2582 \nQ 499 2477 454 2125 \nL 339 2125 \nL 365 2880 \nL 2579 2880 \nL 2579 2784 \nL 858 192 \nL 1709 192 \nQ 2246 192 2387 365 \nQ 2477 474 2560 896 \nL 2675 870 \nz\n\" transform=\"scale(0.015625)\"/>\n       <path id=\"STIXGeneral-Regular-5d\" d=\"M 1568 -998 \nL 218 -998 \nL 218 -838 \nL 781 -838 \nQ 947 -838 1014 -768 \nQ 1082 -698 1082 -544 \nL 1082 3731 \nQ 1082 4077 755 4077 \nL 218 4077 \nL 218 4237 \nL 1568 4237 \nL 1568 -998 \nz\n\" transform=\"scale(0.015625)\"/>\n      </defs>\n      <use xlink:href=\"#STIXGeneral-Regular-66\"/>\n      <use xlink:href=\"#STIXGeneral-Regular-72\" x=\"33.299988\"/>\n      <use xlink:href=\"#STIXGeneral-Regular-65\" x=\"66.599976\"/>\n      <use xlink:href=\"#STIXGeneral-Regular-71\" x=\"110.999969\"/>\n      <use xlink:href=\"#STIXGeneral-Regular-75\" x=\"160.999954\"/>\n      <use xlink:href=\"#STIXGeneral-Regular-65\" x=\"210.999939\"/>\n      <use xlink:href=\"#STIXGeneral-Regular-6e\" x=\"255.399933\"/>\n      <use xlink:href=\"#STIXGeneral-Regular-63\" x=\"305.399918\"/>\n      <use xlink:href=\"#STIXGeneral-Regular-79\" x=\"349.799911\"/>\n      <use xlink:href=\"#STIXGeneral-Regular-2c\" x=\"399.799896\"/>\n      <use xlink:href=\"#STIXGeneral-Regular-20\" x=\"424.799881\"/>\n      <use xlink:href=\"#STIXGeneral-Regular-5b\" x=\"449.799866\"/>\n      <use xlink:href=\"#STIXGeneral-Regular-48\" x=\"483.099854\"/>\n      <use xlink:href=\"#STIXGeneral-Regular-7a\" x=\"555.299835\"/>\n      <use xlink:href=\"#STIXGeneral-Regular-5d\" x=\"599.699829\"/>\n     </g>\n    </g>\n   </g>\n   <g id=\"matplotlib.axis_2\">\n    <g id=\"ytick_1\">\n     <g id=\"line2d_23\">\n      <path d=\"M 57.96 276.12 \nL 384.448479 276.12 \n\" clip-path=\"url(#p16d56c6ce1)\" style=\"fill: none; stroke-dasharray: 1,3; stroke-dashoffset: 0; stroke: #000000; stroke-width: 0.5\"/>\n     </g>\n     <g id=\"line2d_24\">\n      <defs>\n       <path id=\"mece1dff934\" d=\"M 0 0 \nL 4 0 \n\" style=\"stroke: #000000; stroke-width: 0.5\"/>\n      </defs>\n      <g>\n       <use xlink:href=\"#mece1dff934\" x=\"57.96\" y=\"276.12\" style=\"stroke: #000000; stroke-width: 0.5\"/>\n      </g>\n     </g>\n     <g id=\"line2d_25\">\n      <defs>\n       <path id=\"m3173477a3a\" d=\"M 0 0 \nL -4 0 \n\" style=\"stroke: #000000; stroke-width: 0.5\"/>\n      </defs>\n      <g>\n       <use xlink:href=\"#m3173477a3a\" x=\"384.448479\" y=\"276.12\" style=\"stroke: #000000; stroke-width: 0.5\"/>\n      </g>\n     </g>\n     <g id=\"text_9\">\n      <!-- $\\mathdefault{10^{-8}}$ -->\n      <g transform=\"translate(26.6 279.47475) scale(0.144 -0.144)\">\n       <defs>\n        <path id=\"STIXGeneral-Regular-2212\" d=\"M 3974 1408 \nL 410 1408 \nL 410 1830 \nL 3974 1830 \nL 3974 1408 \nz\n\" transform=\"scale(0.015625)\"/>\n       </defs>\n       <use xlink:href=\"#STIXGeneral-Regular-31\" transform=\"translate(0 0.684375)\"/>\n       <use xlink:href=\"#STIXGeneral-Regular-30\" transform=\"translate(49.999985 0.684375)\"/>\n       <use xlink:href=\"#STIXGeneral-Regular-2212\" transform=\"translate(101.574969 36.684375) scale(0.7)\"/>\n       <use xlink:href=\"#STIXGeneral-Regular-38\" transform=\"translate(149.524959 36.684375) scale(0.7)\"/>\n      </g>\n     </g>\n    </g>\n    <g id=\"ytick_2\">\n     <g id=\"line2d_26\">\n      <path d=\"M 57.96 246.96 \nL 384.448479 246.96 \n\" clip-path=\"url(#p16d56c6ce1)\" style=\"fill: none; stroke-dasharray: 1,3; stroke-dashoffset: 0; stroke: #000000; stroke-width: 0.5\"/>\n     </g>\n     <g id=\"line2d_27\">\n      <g>\n       <use xlink:href=\"#mece1dff934\" x=\"57.96\" y=\"246.96\" style=\"stroke: #000000; stroke-width: 0.5\"/>\n      </g>\n     </g>\n     <g id=\"line2d_28\">\n      <g>\n       <use xlink:href=\"#m3173477a3a\" x=\"384.448479\" y=\"246.96\" style=\"stroke: #000000; stroke-width: 0.5\"/>\n      </g>\n     </g>\n     <g id=\"text_10\">\n      <!-- $\\mathdefault{10^{-7}}$ -->\n      <g transform=\"translate(26.6 250.31475) scale(0.144 -0.144)\">\n       <defs>\n        <path id=\"STIXGeneral-Regular-37\" d=\"M 2874 4134 \nL 1517 -51 \nL 1101 -51 \nL 2368 3763 \nL 992 3763 \nQ 717 3763 582 3667 \nQ 448 3571 243 3238 \nL 128 3296 \nL 512 4237 \nL 2874 4237 \nL 2874 4134 \nz\n\" transform=\"scale(0.015625)\"/>\n       </defs>\n       <use xlink:href=\"#STIXGeneral-Regular-31\" transform=\"translate(0 0.657813)\"/>\n       <use xlink:href=\"#STIXGeneral-Regular-30\" transform=\"translate(49.999985 0.657813)\"/>\n       <use xlink:href=\"#STIXGeneral-Regular-2212\" transform=\"translate(101.574969 36.657813) scale(0.7)\"/>\n       <use xlink:href=\"#STIXGeneral-Regular-37\" transform=\"translate(149.524959 36.657813) scale(0.7)\"/>\n      </g>\n     </g>\n    </g>\n    <g id=\"ytick_3\">\n     <g id=\"line2d_29\">\n      <path d=\"M 57.96 217.8 \nL 384.448479 217.8 \n\" clip-path=\"url(#p16d56c6ce1)\" style=\"fill: none; stroke-dasharray: 1,3; stroke-dashoffset: 0; stroke: #000000; stroke-width: 0.5\"/>\n     </g>\n     <g id=\"line2d_30\">\n      <g>\n       <use xlink:href=\"#mece1dff934\" x=\"57.96\" y=\"217.8\" style=\"stroke: #000000; stroke-width: 0.5\"/>\n      </g>\n     </g>\n     <g id=\"line2d_31\">\n      <g>\n       <use xlink:href=\"#m3173477a3a\" x=\"384.448479\" y=\"217.8\" style=\"stroke: #000000; stroke-width: 0.5\"/>\n      </g>\n     </g>\n     <g id=\"text_11\">\n      <!-- $\\mathdefault{10^{-6}}$ -->\n      <g transform=\"translate(26.6 221.15475) scale(0.144 -0.144)\">\n       <use xlink:href=\"#STIXGeneral-Regular-31\" transform=\"translate(0 0.115625)\"/>\n       <use xlink:href=\"#STIXGeneral-Regular-30\" transform=\"translate(49.999985 0.115625)\"/>\n       <use xlink:href=\"#STIXGeneral-Regular-2212\" transform=\"translate(101.574969 36.115625) scale(0.7)\"/>\n       <use xlink:href=\"#STIXGeneral-Regular-36\" transform=\"translate(149.524959 36.115625) scale(0.7)\"/>\n      </g>\n     </g>\n    </g>\n    <g id=\"ytick_4\">\n     <g id=\"line2d_32\">\n      <path d=\"M 57.96 188.64 \nL 384.448479 188.64 \n\" clip-path=\"url(#p16d56c6ce1)\" style=\"fill: none; stroke-dasharray: 1,3; stroke-dashoffset: 0; stroke: #000000; stroke-width: 0.5\"/>\n     </g>\n     <g id=\"line2d_33\">\n      <g>\n       <use xlink:href=\"#mece1dff934\" x=\"57.96\" y=\"188.64\" style=\"stroke: #000000; stroke-width: 0.5\"/>\n      </g>\n     </g>\n     <g id=\"line2d_34\">\n      <g>\n       <use xlink:href=\"#m3173477a3a\" x=\"384.448479\" y=\"188.64\" style=\"stroke: #000000; stroke-width: 0.5\"/>\n      </g>\n     </g>\n     <g id=\"text_12\">\n      <!-- $\\mathdefault{10^{-5}}$ -->\n      <g transform=\"translate(26.6 191.99475) scale(0.144 -0.144)\">\n       <defs>\n        <path id=\"STIXGeneral-Regular-35\" d=\"M 2803 4358 \nL 2573 3814 \nQ 2534 3731 2400 3731 \nL 1158 3731 \nL 902 3187 \nQ 1606 3053 1920 2896 \nQ 2234 2739 2502 2368 \nQ 2726 2061 2726 1555 \nQ 2726 1094 2576 780 \nQ 2426 467 2099 224 \nQ 1664 -90 1011 -90 \nQ 646 -90 422 19 \nQ 198 128 198 307 \nQ 198 550 486 550 \nQ 717 550 960 352 \nQ 1210 147 1414 147 \nQ 1747 147 2012 480 \nQ 2278 813 2278 1229 \nQ 2278 1843 1850 2189 \nQ 1293 2637 486 2637 \nQ 410 2637 410 2688 \nL 416 2720 \nL 1114 4237 \nL 2438 4237 \nQ 2547 4237 2608 4269 \nQ 2669 4301 2746 4403 \nL 2803 4358 \nz\n\" transform=\"scale(0.015625)\"/>\n       </defs>\n       <use xlink:href=\"#STIXGeneral-Regular-31\" transform=\"translate(0 0.842187)\"/>\n       <use xlink:href=\"#STIXGeneral-Regular-30\" transform=\"translate(49.999985 0.842187)\"/>\n       <use xlink:href=\"#STIXGeneral-Regular-2212\" transform=\"translate(101.574969 36.842187) scale(0.7)\"/>\n       <use xlink:href=\"#STIXGeneral-Regular-35\" transform=\"translate(149.524959 36.842187) scale(0.7)\"/>\n      </g>\n     </g>\n    </g>\n    <g id=\"ytick_5\">\n     <g id=\"line2d_35\">\n      <path d=\"M 57.96 159.48 \nL 384.448479 159.48 \n\" clip-path=\"url(#p16d56c6ce1)\" style=\"fill: none; stroke-dasharray: 1,3; stroke-dashoffset: 0; stroke: #000000; stroke-width: 0.5\"/>\n     </g>\n     <g id=\"line2d_36\">\n      <g>\n       <use xlink:href=\"#mece1dff934\" x=\"57.96\" y=\"159.48\" style=\"stroke: #000000; stroke-width: 0.5\"/>\n      </g>\n     </g>\n     <g id=\"line2d_37\">\n      <g>\n       <use xlink:href=\"#m3173477a3a\" x=\"384.448479\" y=\"159.48\" style=\"stroke: #000000; stroke-width: 0.5\"/>\n      </g>\n     </g>\n     <g id=\"text_13\">\n      <!-- $\\mathdefault{10^{-4}}$ -->\n      <g transform=\"translate(26.6 162.83475) scale(0.144 -0.144)\">\n       <use xlink:href=\"#STIXGeneral-Regular-31\" transform=\"translate(0 0.684375)\"/>\n       <use xlink:href=\"#STIXGeneral-Regular-30\" transform=\"translate(49.999985 0.684375)\"/>\n       <use xlink:href=\"#STIXGeneral-Regular-2212\" transform=\"translate(101.574969 36.684375) scale(0.7)\"/>\n       <use xlink:href=\"#STIXGeneral-Regular-34\" transform=\"translate(149.524959 36.684375) scale(0.7)\"/>\n      </g>\n     </g>\n    </g>\n    <g id=\"ytick_6\">\n     <g id=\"line2d_38\">\n      <path d=\"M 57.96 130.32 \nL 384.448479 130.32 \n\" clip-path=\"url(#p16d56c6ce1)\" style=\"fill: none; stroke-dasharray: 1,3; stroke-dashoffset: 0; stroke: #000000; stroke-width: 0.5\"/>\n     </g>\n     <g id=\"line2d_39\">\n      <g>\n       <use xlink:href=\"#mece1dff934\" x=\"57.96\" y=\"130.32\" style=\"stroke: #000000; stroke-width: 0.5\"/>\n      </g>\n     </g>\n     <g id=\"line2d_40\">\n      <g>\n       <use xlink:href=\"#m3173477a3a\" x=\"384.448479\" y=\"130.32\" style=\"stroke: #000000; stroke-width: 0.5\"/>\n      </g>\n     </g>\n     <g id=\"text_14\">\n      <!-- $\\mathdefault{10^{-3}}$ -->\n      <g transform=\"translate(26.6 133.67475) scale(0.144 -0.144)\">\n       <defs>\n        <path id=\"STIXGeneral-Regular-33\" d=\"M 390 3264 \nL 288 3290 \nQ 435 3770 748 4048 \nQ 1062 4326 1542 4326 \nQ 1990 4326 2265 4083 \nQ 2541 3840 2541 3450 \nQ 2541 2925 1946 2566 \nQ 2298 2413 2477 2227 \nQ 2758 1914 2758 1402 \nQ 2758 890 2464 506 \nQ 2246 211 1840 60 \nQ 1434 -90 979 -90 \nQ 262 -90 262 275 \nQ 262 378 339 442 \nQ 416 506 525 506 \nQ 685 506 915 339 \nQ 1197 141 1466 141 \nQ 1818 141 2058 425 \nQ 2298 710 2298 1120 \nQ 2298 1856 1632 2048 \nQ 1434 2112 979 2112 \nL 979 2202 \nQ 1338 2323 1517 2432 \nQ 2035 2726 2035 3290 \nQ 2035 3610 1852 3776 \nQ 1670 3942 1344 3942 \nQ 768 3942 390 3264 \nz\n\" transform=\"scale(0.015625)\"/>\n       </defs>\n       <use xlink:href=\"#STIXGeneral-Regular-31\" transform=\"translate(0 0.684375)\"/>\n       <use xlink:href=\"#STIXGeneral-Regular-30\" transform=\"translate(49.999985 0.684375)\"/>\n       <use xlink:href=\"#STIXGeneral-Regular-2212\" transform=\"translate(101.574969 36.684375) scale(0.7)\"/>\n       <use xlink:href=\"#STIXGeneral-Regular-33\" transform=\"translate(149.524959 36.684375) scale(0.7)\"/>\n      </g>\n     </g>\n    </g>\n    <g id=\"ytick_7\">\n     <g id=\"line2d_41\">\n      <path d=\"M 57.96 101.16 \nL 384.448479 101.16 \n\" clip-path=\"url(#p16d56c6ce1)\" style=\"fill: none; stroke-dasharray: 1,3; stroke-dashoffset: 0; stroke: #000000; stroke-width: 0.5\"/>\n     </g>\n     <g id=\"line2d_42\">\n      <g>\n       <use xlink:href=\"#mece1dff934\" x=\"57.96\" y=\"101.16\" style=\"stroke: #000000; stroke-width: 0.5\"/>\n      </g>\n     </g>\n     <g id=\"line2d_43\">\n      <g>\n       <use xlink:href=\"#m3173477a3a\" x=\"384.448479\" y=\"101.16\" style=\"stroke: #000000; stroke-width: 0.5\"/>\n      </g>\n     </g>\n     <g id=\"text_15\">\n      <!-- $\\mathdefault{10^{-2}}$ -->\n      <g transform=\"translate(26.6 104.51475) scale(0.144 -0.144)\">\n       <use xlink:href=\"#STIXGeneral-Regular-31\" transform=\"translate(0 0.684375)\"/>\n       <use xlink:href=\"#STIXGeneral-Regular-30\" transform=\"translate(49.999985 0.684375)\"/>\n       <use xlink:href=\"#STIXGeneral-Regular-2212\" transform=\"translate(101.574969 36.684375) scale(0.7)\"/>\n       <use xlink:href=\"#STIXGeneral-Regular-32\" transform=\"translate(149.524959 36.684375) scale(0.7)\"/>\n      </g>\n     </g>\n    </g>\n    <g id=\"ytick_8\">\n     <g id=\"line2d_44\">\n      <path d=\"M 57.96 72 \nL 384.448479 72 \n\" clip-path=\"url(#p16d56c6ce1)\" style=\"fill: none; stroke-dasharray: 1,3; stroke-dashoffset: 0; stroke: #000000; stroke-width: 0.5\"/>\n     </g>\n     <g id=\"line2d_45\">\n      <g>\n       <use xlink:href=\"#mece1dff934\" x=\"57.96\" y=\"72\" style=\"stroke: #000000; stroke-width: 0.5\"/>\n      </g>\n     </g>\n     <g id=\"line2d_46\">\n      <g>\n       <use xlink:href=\"#m3173477a3a\" x=\"384.448479\" y=\"72\" style=\"stroke: #000000; stroke-width: 0.5\"/>\n      </g>\n     </g>\n     <g id=\"text_16\">\n      <!-- $\\mathdefault{10^{-1}}$ -->\n      <g transform=\"translate(26.6 75.35475) scale(0.144 -0.144)\">\n       <use xlink:href=\"#STIXGeneral-Regular-31\" transform=\"translate(0 0.684375)\"/>\n       <use xlink:href=\"#STIXGeneral-Regular-30\" transform=\"translate(49.999985 0.684375)\"/>\n       <use xlink:href=\"#STIXGeneral-Regular-2212\" transform=\"translate(101.574969 36.684375) scale(0.7)\"/>\n       <use xlink:href=\"#STIXGeneral-Regular-31\" transform=\"translate(149.524959 36.684375) scale(0.7)\"/>\n      </g>\n     </g>\n    </g>\n    <g id=\"ytick_9\">\n     <g id=\"line2d_47\">\n      <path d=\"M 57.96 42.84 \nL 384.448479 42.84 \n\" clip-path=\"url(#p16d56c6ce1)\" style=\"fill: none; stroke-dasharray: 1,3; stroke-dashoffset: 0; stroke: #000000; stroke-width: 0.5\"/>\n     </g>\n     <g id=\"line2d_48\">\n      <g>\n       <use xlink:href=\"#mece1dff934\" x=\"57.96\" y=\"42.84\" style=\"stroke: #000000; stroke-width: 0.5\"/>\n      </g>\n     </g>\n     <g id=\"line2d_49\">\n      <g>\n       <use xlink:href=\"#m3173477a3a\" x=\"384.448479\" y=\"42.84\" style=\"stroke: #000000; stroke-width: 0.5\"/>\n      </g>\n     </g>\n     <g id=\"text_17\">\n      <!-- $\\mathdefault{10^{0}}$ -->\n      <g transform=\"translate(33.512 46.19475) scale(0.144 -0.144)\">\n       <use xlink:href=\"#STIXGeneral-Regular-31\" transform=\"translate(0 0.684375)\"/>\n       <use xlink:href=\"#STIXGeneral-Regular-30\" transform=\"translate(49.999985 0.684375)\"/>\n       <use xlink:href=\"#STIXGeneral-Regular-30\" transform=\"translate(101.574969 36.684375) scale(0.7)\"/>\n      </g>\n     </g>\n    </g>\n    <g id=\"ytick_10\">\n     <g id=\"line2d_50\">\n      <path d=\"M 57.96 13.68 \nL 384.448479 13.68 \n\" clip-path=\"url(#p16d56c6ce1)\" style=\"fill: none; stroke-dasharray: 1,3; stroke-dashoffset: 0; stroke: #000000; stroke-width: 0.5\"/>\n     </g>\n     <g id=\"line2d_51\">\n      <g>\n       <use xlink:href=\"#mece1dff934\" x=\"57.96\" y=\"13.68\" style=\"stroke: #000000; stroke-width: 0.5\"/>\n      </g>\n     </g>\n     <g id=\"line2d_52\">\n      <g>\n       <use xlink:href=\"#m3173477a3a\" x=\"384.448479\" y=\"13.68\" style=\"stroke: #000000; stroke-width: 0.5\"/>\n      </g>\n     </g>\n     <g id=\"text_18\">\n      <!-- $\\mathdefault{10^{1}}$ -->\n      <g transform=\"translate(33.512 17.03475) scale(0.144 -0.144)\">\n       <use xlink:href=\"#STIXGeneral-Regular-31\" transform=\"translate(0 0.684375)\"/>\n       <use xlink:href=\"#STIXGeneral-Regular-30\" transform=\"translate(49.999985 0.684375)\"/>\n       <use xlink:href=\"#STIXGeneral-Regular-31\" transform=\"translate(101.574969 36.684375) scale(0.7)\"/>\n      </g>\n     </g>\n    </g>\n    <g id=\"ytick_11\">\n     <g id=\"line2d_53\">\n      <defs>\n       <path id=\"m38be08b61f\" d=\"M 0 0 \nL 2 0 \n\" style=\"stroke: #000000; stroke-width: 0.5\"/>\n      </defs>\n      <g>\n       <use xlink:href=\"#m38be08b61f\" x=\"57.96\" y=\"267.341965\" style=\"stroke: #000000; stroke-width: 0.5\"/>\n      </g>\n     </g>\n     <g id=\"line2d_54\">\n      <defs>\n       <path id=\"mf3034b22a4\" d=\"M 0 0 \nL -2 0 \n\" style=\"stroke: #000000; stroke-width: 0.5\"/>\n      </defs>\n      <g>\n       <use xlink:href=\"#mf3034b22a4\" x=\"384.448479\" y=\"267.341965\" style=\"stroke: #000000; stroke-width: 0.5\"/>\n      </g>\n     </g>\n    </g>\n    <g id=\"ytick_12\">\n     <g id=\"line2d_55\">\n      <g>\n       <use xlink:href=\"#m38be08b61f\" x=\"57.96\" y=\"262.207144\" style=\"stroke: #000000; stroke-width: 0.5\"/>\n      </g>\n     </g>\n     <g id=\"line2d_56\">\n      <g>\n       <use xlink:href=\"#mf3034b22a4\" x=\"384.448479\" y=\"262.207144\" style=\"stroke: #000000; stroke-width: 0.5\"/>\n      </g>\n     </g>\n    </g>\n    <g id=\"ytick_13\">\n     <g id=\"line2d_57\">\n      <g>\n       <use xlink:href=\"#m38be08b61f\" x=\"57.96\" y=\"258.563931\" style=\"stroke: #000000; stroke-width: 0.5\"/>\n      </g>\n     </g>\n     <g id=\"line2d_58\">\n      <g>\n       <use xlink:href=\"#mf3034b22a4\" x=\"384.448479\" y=\"258.563931\" style=\"stroke: #000000; stroke-width: 0.5\"/>\n      </g>\n     </g>\n    </g>\n    <g id=\"ytick_14\">\n     <g id=\"line2d_59\">\n      <g>\n       <use xlink:href=\"#m38be08b61f\" x=\"57.96\" y=\"255.738035\" style=\"stroke: #000000; stroke-width: 0.5\"/>\n      </g>\n     </g>\n     <g id=\"line2d_60\">\n      <g>\n       <use xlink:href=\"#mf3034b22a4\" x=\"384.448479\" y=\"255.738035\" style=\"stroke: #000000; stroke-width: 0.5\"/>\n      </g>\n     </g>\n    </g>\n    <g id=\"ytick_15\">\n     <g id=\"line2d_61\">\n      <g>\n       <use xlink:href=\"#m38be08b61f\" x=\"57.96\" y=\"253.42911\" style=\"stroke: #000000; stroke-width: 0.5\"/>\n      </g>\n     </g>\n     <g id=\"line2d_62\">\n      <g>\n       <use xlink:href=\"#mf3034b22a4\" x=\"384.448479\" y=\"253.42911\" style=\"stroke: #000000; stroke-width: 0.5\"/>\n      </g>\n     </g>\n    </g>\n    <g id=\"ytick_16\">\n     <g id=\"line2d_63\">\n      <g>\n       <use xlink:href=\"#m38be08b61f\" x=\"57.96\" y=\"251.476941\" style=\"stroke: #000000; stroke-width: 0.5\"/>\n      </g>\n     </g>\n     <g id=\"line2d_64\">\n      <g>\n       <use xlink:href=\"#mf3034b22a4\" x=\"384.448479\" y=\"251.476941\" style=\"stroke: #000000; stroke-width: 0.5\"/>\n      </g>\n     </g>\n    </g>\n    <g id=\"ytick_17\">\n     <g id=\"line2d_65\">\n      <g>\n       <use xlink:href=\"#m38be08b61f\" x=\"57.96\" y=\"249.785896\" style=\"stroke: #000000; stroke-width: 0.5\"/>\n      </g>\n     </g>\n     <g id=\"line2d_66\">\n      <g>\n       <use xlink:href=\"#mf3034b22a4\" x=\"384.448479\" y=\"249.785896\" style=\"stroke: #000000; stroke-width: 0.5\"/>\n      </g>\n     </g>\n    </g>\n    <g id=\"ytick_18\">\n     <g id=\"line2d_67\">\n      <g>\n       <use xlink:href=\"#m38be08b61f\" x=\"57.96\" y=\"248.294288\" style=\"stroke: #000000; stroke-width: 0.5\"/>\n      </g>\n     </g>\n     <g id=\"line2d_68\">\n      <g>\n       <use xlink:href=\"#mf3034b22a4\" x=\"384.448479\" y=\"248.294288\" style=\"stroke: #000000; stroke-width: 0.5\"/>\n      </g>\n     </g>\n    </g>\n    <g id=\"ytick_19\">\n     <g id=\"line2d_69\">\n      <g>\n       <use xlink:href=\"#m38be08b61f\" x=\"57.96\" y=\"238.181965\" style=\"stroke: #000000; stroke-width: 0.5\"/>\n      </g>\n     </g>\n     <g id=\"line2d_70\">\n      <g>\n       <use xlink:href=\"#mf3034b22a4\" x=\"384.448479\" y=\"238.181965\" style=\"stroke: #000000; stroke-width: 0.5\"/>\n      </g>\n     </g>\n    </g>\n    <g id=\"ytick_20\">\n     <g id=\"line2d_71\">\n      <g>\n       <use xlink:href=\"#m38be08b61f\" x=\"57.96\" y=\"233.047144\" style=\"stroke: #000000; stroke-width: 0.5\"/>\n      </g>\n     </g>\n     <g id=\"line2d_72\">\n      <g>\n       <use xlink:href=\"#mf3034b22a4\" x=\"384.448479\" y=\"233.047144\" style=\"stroke: #000000; stroke-width: 0.5\"/>\n      </g>\n     </g>\n    </g>\n    <g id=\"ytick_21\">\n     <g id=\"line2d_73\">\n      <g>\n       <use xlink:href=\"#m38be08b61f\" x=\"57.96\" y=\"229.403931\" style=\"stroke: #000000; stroke-width: 0.5\"/>\n      </g>\n     </g>\n     <g id=\"line2d_74\">\n      <g>\n       <use xlink:href=\"#mf3034b22a4\" x=\"384.448479\" y=\"229.403931\" style=\"stroke: #000000; stroke-width: 0.5\"/>\n      </g>\n     </g>\n    </g>\n    <g id=\"ytick_22\">\n     <g id=\"line2d_75\">\n      <g>\n       <use xlink:href=\"#m38be08b61f\" x=\"57.96\" y=\"226.578035\" style=\"stroke: #000000; stroke-width: 0.5\"/>\n      </g>\n     </g>\n     <g id=\"line2d_76\">\n      <g>\n       <use xlink:href=\"#mf3034b22a4\" x=\"384.448479\" y=\"226.578035\" style=\"stroke: #000000; stroke-width: 0.5\"/>\n      </g>\n     </g>\n    </g>\n    <g id=\"ytick_23\">\n     <g id=\"line2d_77\">\n      <g>\n       <use xlink:href=\"#m38be08b61f\" x=\"57.96\" y=\"224.26911\" style=\"stroke: #000000; stroke-width: 0.5\"/>\n      </g>\n     </g>\n     <g id=\"line2d_78\">\n      <g>\n       <use xlink:href=\"#mf3034b22a4\" x=\"384.448479\" y=\"224.26911\" style=\"stroke: #000000; stroke-width: 0.5\"/>\n      </g>\n     </g>\n    </g>\n    <g id=\"ytick_24\">\n     <g id=\"line2d_79\">\n      <g>\n       <use xlink:href=\"#m38be08b61f\" x=\"57.96\" y=\"222.316941\" style=\"stroke: #000000; stroke-width: 0.5\"/>\n      </g>\n     </g>\n     <g id=\"line2d_80\">\n      <g>\n       <use xlink:href=\"#mf3034b22a4\" x=\"384.448479\" y=\"222.316941\" style=\"stroke: #000000; stroke-width: 0.5\"/>\n      </g>\n     </g>\n    </g>\n    <g id=\"ytick_25\">\n     <g id=\"line2d_81\">\n      <g>\n       <use xlink:href=\"#m38be08b61f\" x=\"57.96\" y=\"220.625896\" style=\"stroke: #000000; stroke-width: 0.5\"/>\n      </g>\n     </g>\n     <g id=\"line2d_82\">\n      <g>\n       <use xlink:href=\"#mf3034b22a4\" x=\"384.448479\" y=\"220.625896\" style=\"stroke: #000000; stroke-width: 0.5\"/>\n      </g>\n     </g>\n    </g>\n    <g id=\"ytick_26\">\n     <g id=\"line2d_83\">\n      <g>\n       <use xlink:href=\"#m38be08b61f\" x=\"57.96\" y=\"219.134288\" style=\"stroke: #000000; stroke-width: 0.5\"/>\n      </g>\n     </g>\n     <g id=\"line2d_84\">\n      <g>\n       <use xlink:href=\"#mf3034b22a4\" x=\"384.448479\" y=\"219.134288\" style=\"stroke: #000000; stroke-width: 0.5\"/>\n      </g>\n     </g>\n    </g>\n    <g id=\"ytick_27\">\n     <g id=\"line2d_85\">\n      <g>\n       <use xlink:href=\"#m38be08b61f\" x=\"57.96\" y=\"209.021965\" style=\"stroke: #000000; stroke-width: 0.5\"/>\n      </g>\n     </g>\n     <g id=\"line2d_86\">\n      <g>\n       <use xlink:href=\"#mf3034b22a4\" x=\"384.448479\" y=\"209.021965\" style=\"stroke: #000000; stroke-width: 0.5\"/>\n      </g>\n     </g>\n    </g>\n    <g id=\"ytick_28\">\n     <g id=\"line2d_87\">\n      <g>\n       <use xlink:href=\"#m38be08b61f\" x=\"57.96\" y=\"203.887144\" style=\"stroke: #000000; stroke-width: 0.5\"/>\n      </g>\n     </g>\n     <g id=\"line2d_88\">\n      <g>\n       <use xlink:href=\"#mf3034b22a4\" x=\"384.448479\" y=\"203.887144\" style=\"stroke: #000000; stroke-width: 0.5\"/>\n      </g>\n     </g>\n    </g>\n    <g id=\"ytick_29\">\n     <g id=\"line2d_89\">\n      <g>\n       <use xlink:href=\"#m38be08b61f\" x=\"57.96\" y=\"200.243931\" style=\"stroke: #000000; stroke-width: 0.5\"/>\n      </g>\n     </g>\n     <g id=\"line2d_90\">\n      <g>\n       <use xlink:href=\"#mf3034b22a4\" x=\"384.448479\" y=\"200.243931\" style=\"stroke: #000000; stroke-width: 0.5\"/>\n      </g>\n     </g>\n    </g>\n    <g id=\"ytick_30\">\n     <g id=\"line2d_91\">\n      <g>\n       <use xlink:href=\"#m38be08b61f\" x=\"57.96\" y=\"197.418035\" style=\"stroke: #000000; stroke-width: 0.5\"/>\n      </g>\n     </g>\n     <g id=\"line2d_92\">\n      <g>\n       <use xlink:href=\"#mf3034b22a4\" x=\"384.448479\" y=\"197.418035\" style=\"stroke: #000000; stroke-width: 0.5\"/>\n      </g>\n     </g>\n    </g>\n    <g id=\"ytick_31\">\n     <g id=\"line2d_93\">\n      <g>\n       <use xlink:href=\"#m38be08b61f\" x=\"57.96\" y=\"195.10911\" style=\"stroke: #000000; stroke-width: 0.5\"/>\n      </g>\n     </g>\n     <g id=\"line2d_94\">\n      <g>\n       <use xlink:href=\"#mf3034b22a4\" x=\"384.448479\" y=\"195.10911\" style=\"stroke: #000000; stroke-width: 0.5\"/>\n      </g>\n     </g>\n    </g>\n    <g id=\"ytick_32\">\n     <g id=\"line2d_95\">\n      <g>\n       <use xlink:href=\"#m38be08b61f\" x=\"57.96\" y=\"193.156941\" style=\"stroke: #000000; stroke-width: 0.5\"/>\n      </g>\n     </g>\n     <g id=\"line2d_96\">\n      <g>\n       <use xlink:href=\"#mf3034b22a4\" x=\"384.448479\" y=\"193.156941\" style=\"stroke: #000000; stroke-width: 0.5\"/>\n      </g>\n     </g>\n    </g>\n    <g id=\"ytick_33\">\n     <g id=\"line2d_97\">\n      <g>\n       <use xlink:href=\"#m38be08b61f\" x=\"57.96\" y=\"191.465896\" style=\"stroke: #000000; stroke-width: 0.5\"/>\n      </g>\n     </g>\n     <g id=\"line2d_98\">\n      <g>\n       <use xlink:href=\"#mf3034b22a4\" x=\"384.448479\" y=\"191.465896\" style=\"stroke: #000000; stroke-width: 0.5\"/>\n      </g>\n     </g>\n    </g>\n    <g id=\"ytick_34\">\n     <g id=\"line2d_99\">\n      <g>\n       <use xlink:href=\"#m38be08b61f\" x=\"57.96\" y=\"189.974288\" style=\"stroke: #000000; stroke-width: 0.5\"/>\n      </g>\n     </g>\n     <g id=\"line2d_100\">\n      <g>\n       <use xlink:href=\"#mf3034b22a4\" x=\"384.448479\" y=\"189.974288\" style=\"stroke: #000000; stroke-width: 0.5\"/>\n      </g>\n     </g>\n    </g>\n    <g id=\"ytick_35\">\n     <g id=\"line2d_101\">\n      <g>\n       <use xlink:href=\"#m38be08b61f\" x=\"57.96\" y=\"179.861965\" style=\"stroke: #000000; stroke-width: 0.5\"/>\n      </g>\n     </g>\n     <g id=\"line2d_102\">\n      <g>\n       <use xlink:href=\"#mf3034b22a4\" x=\"384.448479\" y=\"179.861965\" style=\"stroke: #000000; stroke-width: 0.5\"/>\n      </g>\n     </g>\n    </g>\n    <g id=\"ytick_36\">\n     <g id=\"line2d_103\">\n      <g>\n       <use xlink:href=\"#m38be08b61f\" x=\"57.96\" y=\"174.727144\" style=\"stroke: #000000; stroke-width: 0.5\"/>\n      </g>\n     </g>\n     <g id=\"line2d_104\">\n      <g>\n       <use xlink:href=\"#mf3034b22a4\" x=\"384.448479\" y=\"174.727144\" style=\"stroke: #000000; stroke-width: 0.5\"/>\n      </g>\n     </g>\n    </g>\n    <g id=\"ytick_37\">\n     <g id=\"line2d_105\">\n      <g>\n       <use xlink:href=\"#m38be08b61f\" x=\"57.96\" y=\"171.083931\" style=\"stroke: #000000; stroke-width: 0.5\"/>\n      </g>\n     </g>\n     <g id=\"line2d_106\">\n      <g>\n       <use xlink:href=\"#mf3034b22a4\" x=\"384.448479\" y=\"171.083931\" style=\"stroke: #000000; stroke-width: 0.5\"/>\n      </g>\n     </g>\n    </g>\n    <g id=\"ytick_38\">\n     <g id=\"line2d_107\">\n      <g>\n       <use xlink:href=\"#m38be08b61f\" x=\"57.96\" y=\"168.258035\" style=\"stroke: #000000; stroke-width: 0.5\"/>\n      </g>\n     </g>\n     <g id=\"line2d_108\">\n      <g>\n       <use xlink:href=\"#mf3034b22a4\" x=\"384.448479\" y=\"168.258035\" style=\"stroke: #000000; stroke-width: 0.5\"/>\n      </g>\n     </g>\n    </g>\n    <g id=\"ytick_39\">\n     <g id=\"line2d_109\">\n      <g>\n       <use xlink:href=\"#m38be08b61f\" x=\"57.96\" y=\"165.94911\" style=\"stroke: #000000; stroke-width: 0.5\"/>\n      </g>\n     </g>\n     <g id=\"line2d_110\">\n      <g>\n       <use xlink:href=\"#mf3034b22a4\" x=\"384.448479\" y=\"165.94911\" style=\"stroke: #000000; stroke-width: 0.5\"/>\n      </g>\n     </g>\n    </g>\n    <g id=\"ytick_40\">\n     <g id=\"line2d_111\">\n      <g>\n       <use xlink:href=\"#m38be08b61f\" x=\"57.96\" y=\"163.996941\" style=\"stroke: #000000; stroke-width: 0.5\"/>\n      </g>\n     </g>\n     <g id=\"line2d_112\">\n      <g>\n       <use xlink:href=\"#mf3034b22a4\" x=\"384.448479\" y=\"163.996941\" style=\"stroke: #000000; stroke-width: 0.5\"/>\n      </g>\n     </g>\n    </g>\n    <g id=\"ytick_41\">\n     <g id=\"line2d_113\">\n      <g>\n       <use xlink:href=\"#m38be08b61f\" x=\"57.96\" y=\"162.305896\" style=\"stroke: #000000; stroke-width: 0.5\"/>\n      </g>\n     </g>\n     <g id=\"line2d_114\">\n      <g>\n       <use xlink:href=\"#mf3034b22a4\" x=\"384.448479\" y=\"162.305896\" style=\"stroke: #000000; stroke-width: 0.5\"/>\n      </g>\n     </g>\n    </g>\n    <g id=\"ytick_42\">\n     <g id=\"line2d_115\">\n      <g>\n       <use xlink:href=\"#m38be08b61f\" x=\"57.96\" y=\"160.814288\" style=\"stroke: #000000; stroke-width: 0.5\"/>\n      </g>\n     </g>\n     <g id=\"line2d_116\">\n      <g>\n       <use xlink:href=\"#mf3034b22a4\" x=\"384.448479\" y=\"160.814288\" style=\"stroke: #000000; stroke-width: 0.5\"/>\n      </g>\n     </g>\n    </g>\n    <g id=\"ytick_43\">\n     <g id=\"line2d_117\">\n      <g>\n       <use xlink:href=\"#m38be08b61f\" x=\"57.96\" y=\"150.701965\" style=\"stroke: #000000; stroke-width: 0.5\"/>\n      </g>\n     </g>\n     <g id=\"line2d_118\">\n      <g>\n       <use xlink:href=\"#mf3034b22a4\" x=\"384.448479\" y=\"150.701965\" style=\"stroke: #000000; stroke-width: 0.5\"/>\n      </g>\n     </g>\n    </g>\n    <g id=\"ytick_44\">\n     <g id=\"line2d_119\">\n      <g>\n       <use xlink:href=\"#m38be08b61f\" x=\"57.96\" y=\"145.567144\" style=\"stroke: #000000; stroke-width: 0.5\"/>\n      </g>\n     </g>\n     <g id=\"line2d_120\">\n      <g>\n       <use xlink:href=\"#mf3034b22a4\" x=\"384.448479\" y=\"145.567144\" style=\"stroke: #000000; stroke-width: 0.5\"/>\n      </g>\n     </g>\n    </g>\n    <g id=\"ytick_45\">\n     <g id=\"line2d_121\">\n      <g>\n       <use xlink:href=\"#m38be08b61f\" x=\"57.96\" y=\"141.923931\" style=\"stroke: #000000; stroke-width: 0.5\"/>\n      </g>\n     </g>\n     <g id=\"line2d_122\">\n      <g>\n       <use xlink:href=\"#mf3034b22a4\" x=\"384.448479\" y=\"141.923931\" style=\"stroke: #000000; stroke-width: 0.5\"/>\n      </g>\n     </g>\n    </g>\n    <g id=\"ytick_46\">\n     <g id=\"line2d_123\">\n      <g>\n       <use xlink:href=\"#m38be08b61f\" x=\"57.96\" y=\"139.098035\" style=\"stroke: #000000; stroke-width: 0.5\"/>\n      </g>\n     </g>\n     <g id=\"line2d_124\">\n      <g>\n       <use xlink:href=\"#mf3034b22a4\" x=\"384.448479\" y=\"139.098035\" style=\"stroke: #000000; stroke-width: 0.5\"/>\n      </g>\n     </g>\n    </g>\n    <g id=\"ytick_47\">\n     <g id=\"line2d_125\">\n      <g>\n       <use xlink:href=\"#m38be08b61f\" x=\"57.96\" y=\"136.78911\" style=\"stroke: #000000; stroke-width: 0.5\"/>\n      </g>\n     </g>\n     <g id=\"line2d_126\">\n      <g>\n       <use xlink:href=\"#mf3034b22a4\" x=\"384.448479\" y=\"136.78911\" style=\"stroke: #000000; stroke-width: 0.5\"/>\n      </g>\n     </g>\n    </g>\n    <g id=\"ytick_48\">\n     <g id=\"line2d_127\">\n      <g>\n       <use xlink:href=\"#m38be08b61f\" x=\"57.96\" y=\"134.836941\" style=\"stroke: #000000; stroke-width: 0.5\"/>\n      </g>\n     </g>\n     <g id=\"line2d_128\">\n      <g>\n       <use xlink:href=\"#mf3034b22a4\" x=\"384.448479\" y=\"134.836941\" style=\"stroke: #000000; stroke-width: 0.5\"/>\n      </g>\n     </g>\n    </g>\n    <g id=\"ytick_49\">\n     <g id=\"line2d_129\">\n      <g>\n       <use xlink:href=\"#m38be08b61f\" x=\"57.96\" y=\"133.145896\" style=\"stroke: #000000; stroke-width: 0.5\"/>\n      </g>\n     </g>\n     <g id=\"line2d_130\">\n      <g>\n       <use xlink:href=\"#mf3034b22a4\" x=\"384.448479\" y=\"133.145896\" style=\"stroke: #000000; stroke-width: 0.5\"/>\n      </g>\n     </g>\n    </g>\n    <g id=\"ytick_50\">\n     <g id=\"line2d_131\">\n      <g>\n       <use xlink:href=\"#m38be08b61f\" x=\"57.96\" y=\"131.654288\" style=\"stroke: #000000; stroke-width: 0.5\"/>\n      </g>\n     </g>\n     <g id=\"line2d_132\">\n      <g>\n       <use xlink:href=\"#mf3034b22a4\" x=\"384.448479\" y=\"131.654288\" style=\"stroke: #000000; stroke-width: 0.5\"/>\n      </g>\n     </g>\n    </g>\n    <g id=\"ytick_51\">\n     <g id=\"line2d_133\">\n      <g>\n       <use xlink:href=\"#m38be08b61f\" x=\"57.96\" y=\"121.541965\" style=\"stroke: #000000; stroke-width: 0.5\"/>\n      </g>\n     </g>\n     <g id=\"line2d_134\">\n      <g>\n       <use xlink:href=\"#mf3034b22a4\" x=\"384.448479\" y=\"121.541965\" style=\"stroke: #000000; stroke-width: 0.5\"/>\n      </g>\n     </g>\n    </g>\n    <g id=\"ytick_52\">\n     <g id=\"line2d_135\">\n      <g>\n       <use xlink:href=\"#m38be08b61f\" x=\"57.96\" y=\"116.407144\" style=\"stroke: #000000; stroke-width: 0.5\"/>\n      </g>\n     </g>\n     <g id=\"line2d_136\">\n      <g>\n       <use xlink:href=\"#mf3034b22a4\" x=\"384.448479\" y=\"116.407144\" style=\"stroke: #000000; stroke-width: 0.5\"/>\n      </g>\n     </g>\n    </g>\n    <g id=\"ytick_53\">\n     <g id=\"line2d_137\">\n      <g>\n       <use xlink:href=\"#m38be08b61f\" x=\"57.96\" y=\"112.763931\" style=\"stroke: #000000; stroke-width: 0.5\"/>\n      </g>\n     </g>\n     <g id=\"line2d_138\">\n      <g>\n       <use xlink:href=\"#mf3034b22a4\" x=\"384.448479\" y=\"112.763931\" style=\"stroke: #000000; stroke-width: 0.5\"/>\n      </g>\n     </g>\n    </g>\n    <g id=\"ytick_54\">\n     <g id=\"line2d_139\">\n      <g>\n       <use xlink:href=\"#m38be08b61f\" x=\"57.96\" y=\"109.938035\" style=\"stroke: #000000; stroke-width: 0.5\"/>\n      </g>\n     </g>\n     <g id=\"line2d_140\">\n      <g>\n       <use xlink:href=\"#mf3034b22a4\" x=\"384.448479\" y=\"109.938035\" style=\"stroke: #000000; stroke-width: 0.5\"/>\n      </g>\n     </g>\n    </g>\n    <g id=\"ytick_55\">\n     <g id=\"line2d_141\">\n      <g>\n       <use xlink:href=\"#m38be08b61f\" x=\"57.96\" y=\"107.62911\" style=\"stroke: #000000; stroke-width: 0.5\"/>\n      </g>\n     </g>\n     <g id=\"line2d_142\">\n      <g>\n       <use xlink:href=\"#mf3034b22a4\" x=\"384.448479\" y=\"107.62911\" style=\"stroke: #000000; stroke-width: 0.5\"/>\n      </g>\n     </g>\n    </g>\n    <g id=\"ytick_56\">\n     <g id=\"line2d_143\">\n      <g>\n       <use xlink:href=\"#m38be08b61f\" x=\"57.96\" y=\"105.676941\" style=\"stroke: #000000; stroke-width: 0.5\"/>\n      </g>\n     </g>\n     <g id=\"line2d_144\">\n      <g>\n       <use xlink:href=\"#mf3034b22a4\" x=\"384.448479\" y=\"105.676941\" style=\"stroke: #000000; stroke-width: 0.5\"/>\n      </g>\n     </g>\n    </g>\n    <g id=\"ytick_57\">\n     <g id=\"line2d_145\">\n      <g>\n       <use xlink:href=\"#m38be08b61f\" x=\"57.96\" y=\"103.985896\" style=\"stroke: #000000; stroke-width: 0.5\"/>\n      </g>\n     </g>\n     <g id=\"line2d_146\">\n      <g>\n       <use xlink:href=\"#mf3034b22a4\" x=\"384.448479\" y=\"103.985896\" style=\"stroke: #000000; stroke-width: 0.5\"/>\n      </g>\n     </g>\n    </g>\n    <g id=\"ytick_58\">\n     <g id=\"line2d_147\">\n      <g>\n       <use xlink:href=\"#m38be08b61f\" x=\"57.96\" y=\"102.494288\" style=\"stroke: #000000; stroke-width: 0.5\"/>\n      </g>\n     </g>\n     <g id=\"line2d_148\">\n      <g>\n       <use xlink:href=\"#mf3034b22a4\" x=\"384.448479\" y=\"102.494288\" style=\"stroke: #000000; stroke-width: 0.5\"/>\n      </g>\n     </g>\n    </g>\n    <g id=\"ytick_59\">\n     <g id=\"line2d_149\">\n      <g>\n       <use xlink:href=\"#m38be08b61f\" x=\"57.96\" y=\"92.381965\" style=\"stroke: #000000; stroke-width: 0.5\"/>\n      </g>\n     </g>\n     <g id=\"line2d_150\">\n      <g>\n       <use xlink:href=\"#mf3034b22a4\" x=\"384.448479\" y=\"92.381965\" style=\"stroke: #000000; stroke-width: 0.5\"/>\n      </g>\n     </g>\n    </g>\n    <g id=\"ytick_60\">\n     <g id=\"line2d_151\">\n      <g>\n       <use xlink:href=\"#m38be08b61f\" x=\"57.96\" y=\"87.247144\" style=\"stroke: #000000; stroke-width: 0.5\"/>\n      </g>\n     </g>\n     <g id=\"line2d_152\">\n      <g>\n       <use xlink:href=\"#mf3034b22a4\" x=\"384.448479\" y=\"87.247144\" style=\"stroke: #000000; stroke-width: 0.5\"/>\n      </g>\n     </g>\n    </g>\n    <g id=\"ytick_61\">\n     <g id=\"line2d_153\">\n      <g>\n       <use xlink:href=\"#m38be08b61f\" x=\"57.96\" y=\"83.603931\" style=\"stroke: #000000; stroke-width: 0.5\"/>\n      </g>\n     </g>\n     <g id=\"line2d_154\">\n      <g>\n       <use xlink:href=\"#mf3034b22a4\" x=\"384.448479\" y=\"83.603931\" style=\"stroke: #000000; stroke-width: 0.5\"/>\n      </g>\n     </g>\n    </g>\n    <g id=\"ytick_62\">\n     <g id=\"line2d_155\">\n      <g>\n       <use xlink:href=\"#m38be08b61f\" x=\"57.96\" y=\"80.778035\" style=\"stroke: #000000; stroke-width: 0.5\"/>\n      </g>\n     </g>\n     <g id=\"line2d_156\">\n      <g>\n       <use xlink:href=\"#mf3034b22a4\" x=\"384.448479\" y=\"80.778035\" style=\"stroke: #000000; stroke-width: 0.5\"/>\n      </g>\n     </g>\n    </g>\n    <g id=\"ytick_63\">\n     <g id=\"line2d_157\">\n      <g>\n       <use xlink:href=\"#m38be08b61f\" x=\"57.96\" y=\"78.46911\" style=\"stroke: #000000; stroke-width: 0.5\"/>\n      </g>\n     </g>\n     <g id=\"line2d_158\">\n      <g>\n       <use xlink:href=\"#mf3034b22a4\" x=\"384.448479\" y=\"78.46911\" style=\"stroke: #000000; stroke-width: 0.5\"/>\n      </g>\n     </g>\n    </g>\n    <g id=\"ytick_64\">\n     <g id=\"line2d_159\">\n      <g>\n       <use xlink:href=\"#m38be08b61f\" x=\"57.96\" y=\"76.516941\" style=\"stroke: #000000; stroke-width: 0.5\"/>\n      </g>\n     </g>\n     <g id=\"line2d_160\">\n      <g>\n       <use xlink:href=\"#mf3034b22a4\" x=\"384.448479\" y=\"76.516941\" style=\"stroke: #000000; stroke-width: 0.5\"/>\n      </g>\n     </g>\n    </g>\n    <g id=\"ytick_65\">\n     <g id=\"line2d_161\">\n      <g>\n       <use xlink:href=\"#m38be08b61f\" x=\"57.96\" y=\"74.825896\" style=\"stroke: #000000; stroke-width: 0.5\"/>\n      </g>\n     </g>\n     <g id=\"line2d_162\">\n      <g>\n       <use xlink:href=\"#mf3034b22a4\" x=\"384.448479\" y=\"74.825896\" style=\"stroke: #000000; stroke-width: 0.5\"/>\n      </g>\n     </g>\n    </g>\n    <g id=\"ytick_66\">\n     <g id=\"line2d_163\">\n      <g>\n       <use xlink:href=\"#m38be08b61f\" x=\"57.96\" y=\"73.334288\" style=\"stroke: #000000; stroke-width: 0.5\"/>\n      </g>\n     </g>\n     <g id=\"line2d_164\">\n      <g>\n       <use xlink:href=\"#mf3034b22a4\" x=\"384.448479\" y=\"73.334288\" style=\"stroke: #000000; stroke-width: 0.5\"/>\n      </g>\n     </g>\n    </g>\n    <g id=\"ytick_67\">\n     <g id=\"line2d_165\">\n      <g>\n       <use xlink:href=\"#m38be08b61f\" x=\"57.96\" y=\"63.221965\" style=\"stroke: #000000; stroke-width: 0.5\"/>\n      </g>\n     </g>\n     <g id=\"line2d_166\">\n      <g>\n       <use xlink:href=\"#mf3034b22a4\" x=\"384.448479\" y=\"63.221965\" style=\"stroke: #000000; stroke-width: 0.5\"/>\n      </g>\n     </g>\n    </g>\n    <g id=\"ytick_68\">\n     <g id=\"line2d_167\">\n      <g>\n       <use xlink:href=\"#m38be08b61f\" x=\"57.96\" y=\"58.087144\" style=\"stroke: #000000; stroke-width: 0.5\"/>\n      </g>\n     </g>\n     <g id=\"line2d_168\">\n      <g>\n       <use xlink:href=\"#mf3034b22a4\" x=\"384.448479\" y=\"58.087144\" style=\"stroke: #000000; stroke-width: 0.5\"/>\n      </g>\n     </g>\n    </g>\n    <g id=\"ytick_69\">\n     <g id=\"line2d_169\">\n      <g>\n       <use xlink:href=\"#m38be08b61f\" x=\"57.96\" y=\"54.443931\" style=\"stroke: #000000; stroke-width: 0.5\"/>\n      </g>\n     </g>\n     <g id=\"line2d_170\">\n      <g>\n       <use xlink:href=\"#mf3034b22a4\" x=\"384.448479\" y=\"54.443931\" style=\"stroke: #000000; stroke-width: 0.5\"/>\n      </g>\n     </g>\n    </g>\n    <g id=\"ytick_70\">\n     <g id=\"line2d_171\">\n      <g>\n       <use xlink:href=\"#m38be08b61f\" x=\"57.96\" y=\"51.618035\" style=\"stroke: #000000; stroke-width: 0.5\"/>\n      </g>\n     </g>\n     <g id=\"line2d_172\">\n      <g>\n       <use xlink:href=\"#mf3034b22a4\" x=\"384.448479\" y=\"51.618035\" style=\"stroke: #000000; stroke-width: 0.5\"/>\n      </g>\n     </g>\n    </g>\n    <g id=\"ytick_71\">\n     <g id=\"line2d_173\">\n      <g>\n       <use xlink:href=\"#m38be08b61f\" x=\"57.96\" y=\"49.30911\" style=\"stroke: #000000; stroke-width: 0.5\"/>\n      </g>\n     </g>\n     <g id=\"line2d_174\">\n      <g>\n       <use xlink:href=\"#mf3034b22a4\" x=\"384.448479\" y=\"49.30911\" style=\"stroke: #000000; stroke-width: 0.5\"/>\n      </g>\n     </g>\n    </g>\n    <g id=\"ytick_72\">\n     <g id=\"line2d_175\">\n      <g>\n       <use xlink:href=\"#m38be08b61f\" x=\"57.96\" y=\"47.356941\" style=\"stroke: #000000; stroke-width: 0.5\"/>\n      </g>\n     </g>\n     <g id=\"line2d_176\">\n      <g>\n       <use xlink:href=\"#mf3034b22a4\" x=\"384.448479\" y=\"47.356941\" style=\"stroke: #000000; stroke-width: 0.5\"/>\n      </g>\n     </g>\n    </g>\n    <g id=\"ytick_73\">\n     <g id=\"line2d_177\">\n      <g>\n       <use xlink:href=\"#m38be08b61f\" x=\"57.96\" y=\"45.665896\" style=\"stroke: #000000; stroke-width: 0.5\"/>\n      </g>\n     </g>\n     <g id=\"line2d_178\">\n      <g>\n       <use xlink:href=\"#mf3034b22a4\" x=\"384.448479\" y=\"45.665896\" style=\"stroke: #000000; stroke-width: 0.5\"/>\n      </g>\n     </g>\n    </g>\n    <g id=\"ytick_74\">\n     <g id=\"line2d_179\">\n      <g>\n       <use xlink:href=\"#m38be08b61f\" x=\"57.96\" y=\"44.174288\" style=\"stroke: #000000; stroke-width: 0.5\"/>\n      </g>\n     </g>\n     <g id=\"line2d_180\">\n      <g>\n       <use xlink:href=\"#mf3034b22a4\" x=\"384.448479\" y=\"44.174288\" style=\"stroke: #000000; stroke-width: 0.5\"/>\n      </g>\n     </g>\n    </g>\n    <g id=\"ytick_75\">\n     <g id=\"line2d_181\">\n      <g>\n       <use xlink:href=\"#m38be08b61f\" x=\"57.96\" y=\"34.061965\" style=\"stroke: #000000; stroke-width: 0.5\"/>\n      </g>\n     </g>\n     <g id=\"line2d_182\">\n      <g>\n       <use xlink:href=\"#mf3034b22a4\" x=\"384.448479\" y=\"34.061965\" style=\"stroke: #000000; stroke-width: 0.5\"/>\n      </g>\n     </g>\n    </g>\n    <g id=\"ytick_76\">\n     <g id=\"line2d_183\">\n      <g>\n       <use xlink:href=\"#m38be08b61f\" x=\"57.96\" y=\"28.927144\" style=\"stroke: #000000; stroke-width: 0.5\"/>\n      </g>\n     </g>\n     <g id=\"line2d_184\">\n      <g>\n       <use xlink:href=\"#mf3034b22a4\" x=\"384.448479\" y=\"28.927144\" style=\"stroke: #000000; stroke-width: 0.5\"/>\n      </g>\n     </g>\n    </g>\n    <g id=\"ytick_77\">\n     <g id=\"line2d_185\">\n      <g>\n       <use xlink:href=\"#m38be08b61f\" x=\"57.96\" y=\"25.283931\" style=\"stroke: #000000; stroke-width: 0.5\"/>\n      </g>\n     </g>\n     <g id=\"line2d_186\">\n      <g>\n       <use xlink:href=\"#mf3034b22a4\" x=\"384.448479\" y=\"25.283931\" style=\"stroke: #000000; stroke-width: 0.5\"/>\n      </g>\n     </g>\n    </g>\n    <g id=\"ytick_78\">\n     <g id=\"line2d_187\">\n      <g>\n       <use xlink:href=\"#m38be08b61f\" x=\"57.96\" y=\"22.458035\" style=\"stroke: #000000; stroke-width: 0.5\"/>\n      </g>\n     </g>\n     <g id=\"line2d_188\">\n      <g>\n       <use xlink:href=\"#mf3034b22a4\" x=\"384.448479\" y=\"22.458035\" style=\"stroke: #000000; stroke-width: 0.5\"/>\n      </g>\n     </g>\n    </g>\n    <g id=\"ytick_79\">\n     <g id=\"line2d_189\">\n      <g>\n       <use xlink:href=\"#m38be08b61f\" x=\"57.96\" y=\"20.14911\" style=\"stroke: #000000; stroke-width: 0.5\"/>\n      </g>\n     </g>\n     <g id=\"line2d_190\">\n      <g>\n       <use xlink:href=\"#mf3034b22a4\" x=\"384.448479\" y=\"20.14911\" style=\"stroke: #000000; stroke-width: 0.5\"/>\n      </g>\n     </g>\n    </g>\n    <g id=\"ytick_80\">\n     <g id=\"line2d_191\">\n      <g>\n       <use xlink:href=\"#m38be08b61f\" x=\"57.96\" y=\"18.196941\" style=\"stroke: #000000; stroke-width: 0.5\"/>\n      </g>\n     </g>\n     <g id=\"line2d_192\">\n      <g>\n       <use xlink:href=\"#mf3034b22a4\" x=\"384.448479\" y=\"18.196941\" style=\"stroke: #000000; stroke-width: 0.5\"/>\n      </g>\n     </g>\n    </g>\n    <g id=\"ytick_81\">\n     <g id=\"line2d_193\">\n      <g>\n       <use xlink:href=\"#m38be08b61f\" x=\"57.96\" y=\"16.505896\" style=\"stroke: #000000; stroke-width: 0.5\"/>\n      </g>\n     </g>\n     <g id=\"line2d_194\">\n      <g>\n       <use xlink:href=\"#mf3034b22a4\" x=\"384.448479\" y=\"16.505896\" style=\"stroke: #000000; stroke-width: 0.5\"/>\n      </g>\n     </g>\n    </g>\n    <g id=\"ytick_82\">\n     <g id=\"line2d_195\">\n      <g>\n       <use xlink:href=\"#m38be08b61f\" x=\"57.96\" y=\"15.014288\" style=\"stroke: #000000; stroke-width: 0.5\"/>\n      </g>\n     </g>\n     <g id=\"line2d_196\">\n      <g>\n       <use xlink:href=\"#mf3034b22a4\" x=\"384.448479\" y=\"15.014288\" style=\"stroke: #000000; stroke-width: 0.5\"/>\n      </g>\n     </g>\n    </g>\n    <g id=\"text_19\">\n     <!-- Gain, [-] -->\n     <g transform=\"translate(18.1275 172.44375) rotate(-90) scale(0.16 -0.16)\">\n      <defs>\n       <path id=\"STIXGeneral-Regular-47\" d=\"M 4538 2266 \nL 4538 2150 \nQ 4256 2125 4173 2035 \nQ 4090 1946 4090 1638 \nL 4090 358 \nQ 3539 -90 2464 -90 \nQ 1965 -90 1507 89 \nQ 1050 269 736 595 \nQ 205 1152 205 2093 \nQ 205 3155 890 3776 \nQ 1491 4326 2419 4326 \nQ 2829 4326 3270 4179 \nQ 3443 4115 3552 4115 \nQ 3654 4115 3731 4176 \nQ 3808 4237 3840 4326 \nL 3981 4326 \nL 4032 2976 \nL 3885 2976 \nQ 3680 3475 3430 3718 \nQ 3059 4070 2496 4070 \nQ 1856 4070 1427 3629 \nQ 934 3136 934 2074 \nQ 934 1190 1395 678 \nQ 1856 166 2618 166 \nQ 2982 166 3225 281 \nQ 3469 397 3469 557 \nL 3469 1562 \nQ 3469 1933 3376 2025 \nQ 3283 2118 2899 2150 \nL 2899 2266 \nL 4538 2266 \nz\n\" transform=\"scale(0.015625)\"/>\n       <path id=\"STIXGeneral-Regular-61\" d=\"M 2829 422 \nL 2829 243 \nQ 2586 -64 2253 -64 \nQ 1888 -64 1843 403 \nL 1837 403 \nQ 1427 -64 909 -64 \nQ 608 -64 422 112 \nQ 237 288 237 602 \nQ 237 1050 685 1350 \nQ 992 1555 1837 1869 \nL 1837 2214 \nQ 1837 2502 1699 2646 \nQ 1562 2790 1338 2790 \nQ 1146 2790 1018 2697 \nQ 890 2605 890 2477 \nQ 890 2419 909 2348 \nQ 928 2278 928 2208 \nQ 928 2112 841 2029 \nQ 755 1946 634 1946 \nQ 525 1946 441 2029 \nQ 358 2112 358 2240 \nQ 358 2547 685 2752 \nQ 986 2944 1421 2944 \nQ 1939 2944 2176 2656 \nQ 2291 2522 2323 2384 \nQ 2355 2246 2355 1946 \nL 2355 723 \nQ 2355 301 2554 301 \nQ 2682 301 2829 422 \nz\nM 1837 813 \nL 1837 1715 \nQ 1248 1510 1018 1293 \nQ 800 1094 800 800 \nQ 800 557 921 432 \nQ 1043 307 1242 307 \nQ 1453 307 1613 410 \nQ 1747 506 1792 589 \nQ 1837 672 1837 813 \nz\n\" transform=\"scale(0.015625)\"/>\n       <path id=\"STIXGeneral-Regular-69\" d=\"M 1152 4045 \nQ 1152 3904 1056 3811 \nQ 960 3718 819 3718 \nQ 685 3718 592 3811 \nQ 499 3904 499 4045 \nQ 499 4179 595 4275 \nQ 691 4371 826 4371 \nQ 966 4371 1059 4275 \nQ 1152 4179 1152 4045 \nz\nM 1619 0 \nL 102 0 \nL 102 96 \nQ 435 115 521 211 \nQ 608 307 608 666 \nL 608 2118 \nQ 608 2342 563 2432 \nQ 518 2522 397 2522 \nQ 243 2522 128 2490 \nL 128 2592 \nL 1120 2944 \nL 1146 2918 \nL 1146 672 \nQ 1146 314 1226 218 \nQ 1306 122 1619 96 \nL 1619 0 \nz\n\" transform=\"scale(0.015625)\"/>\n       <path id=\"STIXGeneral-Regular-2d\" d=\"M 1824 1242 \nL 250 1242 \nL 250 1645 \nL 1824 1645 \nL 1824 1242 \nz\n\" transform=\"scale(0.015625)\"/>\n      </defs>\n      <use xlink:href=\"#STIXGeneral-Regular-47\"/>\n      <use xlink:href=\"#STIXGeneral-Regular-61\" x=\"72.199982\"/>\n      <use xlink:href=\"#STIXGeneral-Regular-69\" x=\"116.599976\"/>\n      <use xlink:href=\"#STIXGeneral-Regular-6e\" x=\"144.399963\"/>\n      <use xlink:href=\"#STIXGeneral-Regular-2c\" x=\"194.399948\"/>\n      <use xlink:href=\"#STIXGeneral-Regular-20\" x=\"219.399933\"/>\n      <use xlink:href=\"#STIXGeneral-Regular-5b\" x=\"244.399918\"/>\n      <use xlink:href=\"#STIXGeneral-Regular-2d\" x=\"277.699905\"/>\n      <use xlink:href=\"#STIXGeneral-Regular-5d\" x=\"310.999893\"/>\n     </g>\n    </g>\n   </g>\n   <g id=\"legend_1\">\n    <g id=\"patch_7\">\n     <path d=\"M 157.360479 45.60525 \nL 377.248479 45.60525 \nL 377.248479 20.88 \nL 157.360479 20.88 \nz\n\" style=\"fill: #ffffff; stroke: #000000; stroke-linejoin: miter\"/>\n    </g>\n    <g id=\"line2d_197\">\n     <path d=\"M 167.440479 31.68 \nL 187.600479 31.68 \n\" style=\"fill: none; stroke-dasharray: 6,0; stroke-dashoffset: 0; stroke: #1f77b4; stroke-width: 1.5\"/>\n    </g>\n    <g id=\"text_20\">\n     <!-- $f_s=120.0,\\ f_c=10.0,\\ \\sigma=0.35$ -->\n     <g transform=\"translate(203.440479 36.72) scale(0.144 -0.144)\">\n      <defs>\n       <path id=\"STIXGeneral-Italic-66\" d=\"M 262 2739 \nL 858 2739 \nQ 1107 3546 1318 3846 \nQ 1664 4339 2163 4339 \nQ 2400 4339 2557 4227 \nQ 2714 4115 2714 3942 \nQ 2714 3834 2634 3750 \nQ 2554 3667 2445 3667 \nQ 2355 3667 2281 3737 \nQ 2208 3808 2208 3917 \nQ 2208 3981 2240 4038 \nQ 2272 4096 2272 4115 \nQ 2272 4198 2131 4198 \nQ 1862 4198 1676 3849 \nQ 1491 3501 1350 2739 \nL 2035 2739 \nL 1997 2534 \nL 1306 2534 \nL 845 486 \nQ 435 -1325 -435 -1325 \nQ -653 -1325 -797 -1213 \nQ -941 -1101 -941 -934 \nQ -941 -826 -870 -746 \nQ -800 -666 -698 -666 \nQ -589 -666 -521 -733 \nQ -454 -800 -454 -902 \nQ -454 -947 -483 -1001 \nQ -512 -1056 -512 -1088 \nQ -512 -1190 -384 -1190 \nQ 13 -1190 237 -154 \nL 800 2534 \nL 218 2534 \nL 262 2739 \nz\n\" transform=\"scale(0.015625)\"/>\n       <path id=\"STIXGeneral-Italic-73\" d=\"M 2342 2829 \nL 2214 1933 \nL 2112 1933 \nQ 2022 2675 1542 2675 \nQ 1370 2675 1267 2579 \nQ 1165 2483 1165 2310 \nQ 1165 2067 1510 1658 \nQ 1946 1152 1946 787 \nQ 1946 397 1686 163 \nQ 1427 -70 1024 -70 \nQ 838 -70 672 -6 \nQ 538 51 390 51 \nQ 262 51 205 -83 \nL 102 -83 \nL 230 934 \nL 333 934 \nQ 461 64 973 64 \nQ 1203 64 1331 192 \nQ 1459 320 1459 557 \nQ 1459 845 1101 1293 \nQ 698 1798 698 2131 \nQ 698 2451 909 2636 \nQ 1120 2822 1472 2822 \nQ 1600 2822 1830 2758 \nQ 1971 2714 2061 2714 \nQ 2189 2714 2253 2829 \nL 2342 2829 \nz\n\" transform=\"scale(0.015625)\"/>\n       <path id=\"STIXGeneral-Regular-3d\" d=\"M 4077 2048 \nL 307 2048 \nL 307 2470 \nL 4077 2470 \nL 4077 2048 \nz\nM 4077 768 \nL 307 768 \nL 307 1190 \nL 4077 1190 \nL 4077 768 \nz\n\" transform=\"scale(0.015625)\"/>\n       <path id=\"STIXGeneral-Regular-2e\" d=\"M 1158 275 \nQ 1158 134 1052 32 \nQ 947 -70 800 -70 \nQ 653 -70 550 32 \nQ 448 134 448 281 \nQ 448 429 553 534 \nQ 659 640 806 640 \nQ 947 640 1052 531 \nQ 1158 422 1158 275 \nz\n\" transform=\"scale(0.015625)\"/>\n       <path id=\"STIXGeneral-Italic-63\" d=\"M 2240 685 \nL 2342 621 \nQ 2048 250 1769 90 \nQ 1491 -70 1133 -70 \nQ 678 -70 435 179 \nQ 192 429 192 915 \nQ 192 1344 409 1744 \nQ 627 2144 979 2432 \nQ 1472 2822 2048 2822 \nQ 2342 2822 2531 2675 \nQ 2720 2528 2720 2304 \nQ 2720 2176 2630 2086 \nQ 2541 1997 2413 1997 \nQ 2285 1997 2224 2070 \nQ 2163 2144 2163 2253 \nQ 2163 2310 2211 2403 \nQ 2259 2496 2259 2560 \nQ 2259 2688 2022 2688 \nQ 1619 2688 1325 2381 \nQ 742 1766 742 890 \nQ 742 544 889 352 \nQ 1037 160 1312 160 \nQ 1562 160 1766 281 \nQ 1971 403 2240 685 \nz\n\" transform=\"scale(0.015625)\"/>\n       <path id=\"STIXGeneral-Italic-3c3\" d=\"M 3398 2739 \nL 3283 2266 \nL 2195 2266 \nQ 2291 2112 2457 1981 \nQ 2624 1850 2717 1725 \nQ 2810 1600 2810 1389 \nQ 2810 851 2288 390 \nQ 1766 -70 1107 -70 \nQ 659 -70 416 170 \nQ 173 410 173 832 \nQ 173 1274 409 1706 \nQ 646 2138 1113 2438 \nQ 1581 2739 2157 2739 \nL 3398 2739 \nz\nM 2272 1414 \nQ 2272 1709 2166 1939 \nQ 2061 2170 1901 2266 \nQ 1530 2266 1120 1770 \nQ 710 1274 710 640 \nQ 710 358 844 211 \nQ 979 64 1210 64 \nQ 1638 64 1955 525 \nQ 2272 986 2272 1414 \nz\n\" transform=\"scale(0.015625)\"/>\n      </defs>\n      <use xlink:href=\"#STIXGeneral-Italic-66\" transform=\"translate(0 0.203125)\"/>\n      <use xlink:href=\"#STIXGeneral-Italic-73\" transform=\"translate(27.799988 -13.025) scale(0.7)\"/>\n      <use xlink:href=\"#STIXGeneral-Regular-3d\" transform=\"translate(73.879355 0.203125)\"/>\n      <use xlink:href=\"#STIXGeneral-Regular-31\" transform=\"translate(156.819336 0.203125)\"/>\n      <use xlink:href=\"#STIXGeneral-Regular-32\" transform=\"translate(206.819321 0.203125)\"/>\n      <use xlink:href=\"#STIXGeneral-Regular-30\" transform=\"translate(256.819305 0.203125)\"/>\n      <use xlink:href=\"#STIXGeneral-Regular-2e\" transform=\"translate(306.81929 0.203125)\"/>\n      <use xlink:href=\"#STIXGeneral-Regular-30\" transform=\"translate(331.819275 0.203125)\"/>\n      <use xlink:href=\"#STIXGeneral-Regular-2c\" transform=\"translate(381.81926 0.203125)\"/>\n      <use xlink:href=\"#STIXGeneral-Italic-66\" transform=\"translate(445.325661 0.203125)\"/>\n      <use xlink:href=\"#STIXGeneral-Italic-63\" transform=\"translate(473.125648 -13.025) scale(0.7)\"/>\n      <use xlink:href=\"#STIXGeneral-Regular-3d\" transform=\"translate(523.055015 0.203125)\"/>\n      <use xlink:href=\"#STIXGeneral-Regular-31\" transform=\"translate(605.994997 0.203125)\"/>\n      <use xlink:href=\"#STIXGeneral-Regular-30\" transform=\"translate(655.994981 0.203125)\"/>\n      <use xlink:href=\"#STIXGeneral-Regular-2e\" transform=\"translate(705.994966 0.203125)\"/>\n      <use xlink:href=\"#STIXGeneral-Regular-30\" transform=\"translate(730.994951 0.203125)\"/>\n      <use xlink:href=\"#STIXGeneral-Regular-2c\" transform=\"translate(780.994936 0.203125)\"/>\n      <use xlink:href=\"#STIXGeneral-Italic-3c3\" transform=\"translate(844.501336 0.203125)\"/>\n      <use xlink:href=\"#STIXGeneral-Regular-3d\" transform=\"translate(908.741321 0.203125)\"/>\n      <use xlink:href=\"#STIXGeneral-Regular-30\" transform=\"translate(991.681302 0.203125)\"/>\n      <use xlink:href=\"#STIXGeneral-Regular-2e\" transform=\"translate(1041.681286 0.203125)\"/>\n      <use xlink:href=\"#STIXGeneral-Regular-33\" transform=\"translate(1066.681271 0.203125)\"/>\n      <use xlink:href=\"#STIXGeneral-Regular-35\" transform=\"translate(1116.681256 0.203125)\"/>\n     </g>\n    </g>\n   </g>\n  </g>\n  <g id=\"axes_2\">\n   <g id=\"patch_8\">\n    <path d=\"M 439.951521 276.12 \nL 766.44 276.12 \nL 766.44 13.68 \nL 439.951521 13.68 \nz\n\" style=\"fill: #ffffff\"/>\n   </g>\n   <g id=\"line2d_198\">\n    <path d=\"M 439.951847 51.171429 \nL 441.737465 51.060604 \nL 443.142088 51.11082 \nL 444.814113 51.1522 \nL 447.210371 51.092332 \nL 449.068855 51.15643 \nL 451.324333 51.077675 \nL 453.282678 51.165211 \nL 455.047728 51.103249 \nL 455.686561 51.31411 \nL 456.239525 51.700266 \nL 456.695854 52.253566 \nL 457.164968 53.206344 \nL 457.647225 54.867643 \nL 458.142994 57.718875 \nL 458.652651 62.413574 \nL 459.176588 69.71109 \nL 459.715203 80.327145 \nL 460.409742 98.903897 \nL 461.423291 133.854786 \nL 463.118417 193.623805 \nL 463.932552 213.977317 \nL 464.604412 225.144805 \nL 465.120631 230.680614 \nL 465.647659 234.23319 \nL 466.185723 236.334833 \nL 466.735054 237.498334 \nL 467.295887 238.122188 \nL 467.868464 238.454897 \nL 468.650593 238.646011 \nL 469.659141 238.643825 \nL 471.564677 238.599156 \nL 473.825628 238.644874 \nL 475.998416 238.617036 \nL 478.310572 238.631112 \nL 480.771038 238.637491 \nL 483.389325 238.61038 \nL 493.762124 238.633725 \nL 500.886667 238.619359 \nL 608.167737 238.629485 \nL 672.689822 238.629416 \nL 764.192469 238.629273 \nL 764.192469 238.629273 \n\" clip-path=\"url(#ped1fa87158)\" style=\"fill: none; stroke-dasharray: 6,0; stroke-dashoffset: 0; stroke: #1f77b4; stroke-width: 1.5\"/>\n   </g>\n   <g id=\"patch_9\">\n    <path d=\"M 439.951521 276.12 \nL 439.951521 13.68 \n\" style=\"fill: none; stroke: #000000; stroke-linejoin: miter; stroke-linecap: square\"/>\n   </g>\n   <g id=\"patch_10\">\n    <path d=\"M 766.44 276.12 \nL 766.44 13.68 \n\" style=\"fill: none; stroke: #000000; stroke-linejoin: miter; stroke-linecap: square\"/>\n   </g>\n   <g id=\"patch_11\">\n    <path d=\"M 439.951521 276.12 \nL 766.44 276.12 \n\" style=\"fill: none; stroke: #000000; stroke-linejoin: miter; stroke-linecap: square\"/>\n   </g>\n   <g id=\"patch_12\">\n    <path d=\"M 439.951521 13.68 \nL 766.44 13.68 \n\" style=\"fill: none; stroke: #000000; stroke-linejoin: miter; stroke-linecap: square\"/>\n   </g>\n   <g id=\"matplotlib.axis_3\">\n    <g id=\"xtick_8\">\n     <g id=\"line2d_199\">\n      <path d=\"M 439.951521 276.12 \nL 439.951521 13.68 \n\" clip-path=\"url(#ped1fa87158)\" style=\"fill: none; stroke-dasharray: 1,3; stroke-dashoffset: 0; stroke: #000000; stroke-width: 0.5\"/>\n     </g>\n     <g id=\"line2d_200\">\n      <g>\n       <use xlink:href=\"#m355a17a900\" x=\"439.951521\" y=\"276.12\" style=\"stroke: #000000; stroke-width: 0.5\"/>\n      </g>\n     </g>\n     <g id=\"line2d_201\">\n      <g>\n       <use xlink:href=\"#m6805f66d9c\" x=\"439.951521\" y=\"13.68\" style=\"stroke: #000000; stroke-width: 0.5\"/>\n      </g>\n     </g>\n     <g id=\"text_21\">\n      <!-- 0 -->\n      <g transform=\"translate(436.351521 289.95475) scale(0.144 -0.144)\">\n       <use xlink:href=\"#STIXGeneral-Regular-30\"/>\n      </g>\n     </g>\n    </g>\n    <g id=\"xtick_9\">\n     <g id=\"line2d_202\">\n      <path d=\"M 494.366267 276.12 \nL 494.366267 13.68 \n\" clip-path=\"url(#ped1fa87158)\" style=\"fill: none; stroke-dasharray: 1,3; stroke-dashoffset: 0; stroke: #000000; stroke-width: 0.5\"/>\n     </g>\n     <g id=\"line2d_203\">\n      <g>\n       <use xlink:href=\"#m355a17a900\" x=\"494.366267\" y=\"276.12\" style=\"stroke: #000000; stroke-width: 0.5\"/>\n      </g>\n     </g>\n     <g id=\"line2d_204\">\n      <g>\n       <use xlink:href=\"#m6805f66d9c\" x=\"494.366267\" y=\"13.68\" style=\"stroke: #000000; stroke-width: 0.5\"/>\n      </g>\n     </g>\n     <g id=\"text_22\">\n      <!-- 20 -->\n      <g transform=\"translate(487.166267 289.95475) scale(0.144 -0.144)\">\n       <use xlink:href=\"#STIXGeneral-Regular-32\"/>\n       <use xlink:href=\"#STIXGeneral-Regular-30\" x=\"49.999985\"/>\n      </g>\n     </g>\n    </g>\n    <g id=\"xtick_10\">\n     <g id=\"line2d_205\">\n      <path d=\"M 548.781014 276.12 \nL 548.781014 13.68 \n\" clip-path=\"url(#ped1fa87158)\" style=\"fill: none; stroke-dasharray: 1,3; stroke-dashoffset: 0; stroke: #000000; stroke-width: 0.5\"/>\n     </g>\n     <g id=\"line2d_206\">\n      <g>\n       <use xlink:href=\"#m355a17a900\" x=\"548.781014\" y=\"276.12\" style=\"stroke: #000000; stroke-width: 0.5\"/>\n      </g>\n     </g>\n     <g id=\"line2d_207\">\n      <g>\n       <use xlink:href=\"#m6805f66d9c\" x=\"548.781014\" y=\"13.68\" style=\"stroke: #000000; stroke-width: 0.5\"/>\n      </g>\n     </g>\n     <g id=\"text_23\">\n      <!-- 40 -->\n      <g transform=\"translate(541.581014 289.95475) scale(0.144 -0.144)\">\n       <use xlink:href=\"#STIXGeneral-Regular-34\"/>\n       <use xlink:href=\"#STIXGeneral-Regular-30\" x=\"49.999985\"/>\n      </g>\n     </g>\n    </g>\n    <g id=\"xtick_11\">\n     <g id=\"line2d_208\">\n      <path d=\"M 603.19576 276.12 \nL 603.19576 13.68 \n\" clip-path=\"url(#ped1fa87158)\" style=\"fill: none; stroke-dasharray: 1,3; stroke-dashoffset: 0; stroke: #000000; stroke-width: 0.5\"/>\n     </g>\n     <g id=\"line2d_209\">\n      <g>\n       <use xlink:href=\"#m355a17a900\" x=\"603.19576\" y=\"276.12\" style=\"stroke: #000000; stroke-width: 0.5\"/>\n      </g>\n     </g>\n     <g id=\"line2d_210\">\n      <g>\n       <use xlink:href=\"#m6805f66d9c\" x=\"603.19576\" y=\"13.68\" style=\"stroke: #000000; stroke-width: 0.5\"/>\n      </g>\n     </g>\n     <g id=\"text_24\">\n      <!-- 60 -->\n      <g transform=\"translate(595.99576 289.95475) scale(0.144 -0.144)\">\n       <use xlink:href=\"#STIXGeneral-Regular-36\"/>\n       <use xlink:href=\"#STIXGeneral-Regular-30\" x=\"49.999985\"/>\n      </g>\n     </g>\n    </g>\n    <g id=\"xtick_12\">\n     <g id=\"line2d_211\">\n      <path d=\"M 657.610507 276.12 \nL 657.610507 13.68 \n\" clip-path=\"url(#ped1fa87158)\" style=\"fill: none; stroke-dasharray: 1,3; stroke-dashoffset: 0; stroke: #000000; stroke-width: 0.5\"/>\n     </g>\n     <g id=\"line2d_212\">\n      <g>\n       <use xlink:href=\"#m355a17a900\" x=\"657.610507\" y=\"276.12\" style=\"stroke: #000000; stroke-width: 0.5\"/>\n      </g>\n     </g>\n     <g id=\"line2d_213\">\n      <g>\n       <use xlink:href=\"#m6805f66d9c\" x=\"657.610507\" y=\"13.68\" style=\"stroke: #000000; stroke-width: 0.5\"/>\n      </g>\n     </g>\n     <g id=\"text_25\">\n      <!-- 80 -->\n      <g transform=\"translate(650.410507 289.95475) scale(0.144 -0.144)\">\n       <use xlink:href=\"#STIXGeneral-Regular-38\"/>\n       <use xlink:href=\"#STIXGeneral-Regular-30\" x=\"49.999985\"/>\n      </g>\n     </g>\n    </g>\n    <g id=\"xtick_13\">\n     <g id=\"line2d_214\">\n      <path d=\"M 712.025253 276.12 \nL 712.025253 13.68 \n\" clip-path=\"url(#ped1fa87158)\" style=\"fill: none; stroke-dasharray: 1,3; stroke-dashoffset: 0; stroke: #000000; stroke-width: 0.5\"/>\n     </g>\n     <g id=\"line2d_215\">\n      <g>\n       <use xlink:href=\"#m355a17a900\" x=\"712.025253\" y=\"276.12\" style=\"stroke: #000000; stroke-width: 0.5\"/>\n      </g>\n     </g>\n     <g id=\"line2d_216\">\n      <g>\n       <use xlink:href=\"#m6805f66d9c\" x=\"712.025253\" y=\"13.68\" style=\"stroke: #000000; stroke-width: 0.5\"/>\n      </g>\n     </g>\n     <g id=\"text_26\">\n      <!-- 100 -->\n      <g transform=\"translate(701.225253 289.95475) scale(0.144 -0.144)\">\n       <use xlink:href=\"#STIXGeneral-Regular-31\"/>\n       <use xlink:href=\"#STIXGeneral-Regular-30\" x=\"49.999985\"/>\n       <use xlink:href=\"#STIXGeneral-Regular-30\" x=\"99.999969\"/>\n      </g>\n     </g>\n    </g>\n    <g id=\"xtick_14\">\n     <g id=\"line2d_217\">\n      <path d=\"M 766.44 276.12 \nL 766.44 13.68 \n\" clip-path=\"url(#ped1fa87158)\" style=\"fill: none; stroke-dasharray: 1,3; stroke-dashoffset: 0; stroke: #000000; stroke-width: 0.5\"/>\n     </g>\n     <g id=\"line2d_218\">\n      <g>\n       <use xlink:href=\"#m355a17a900\" x=\"766.44\" y=\"276.12\" style=\"stroke: #000000; stroke-width: 0.5\"/>\n      </g>\n     </g>\n     <g id=\"line2d_219\">\n      <g>\n       <use xlink:href=\"#m6805f66d9c\" x=\"766.44\" y=\"13.68\" style=\"stroke: #000000; stroke-width: 0.5\"/>\n      </g>\n     </g>\n     <g id=\"text_27\">\n      <!-- 120 -->\n      <g transform=\"translate(755.64 289.95475) scale(0.144 -0.144)\">\n       <use xlink:href=\"#STIXGeneral-Regular-31\"/>\n       <use xlink:href=\"#STIXGeneral-Regular-32\" x=\"49.999985\"/>\n       <use xlink:href=\"#STIXGeneral-Regular-30\" x=\"99.999969\"/>\n      </g>\n     </g>\n    </g>\n    <g id=\"text_28\">\n     <!-- frequency, [Hz] -->\n     <g transform=\"translate(552.55451 309.0075) scale(0.16 -0.16)\">\n      <use xlink:href=\"#STIXGeneral-Regular-66\"/>\n      <use xlink:href=\"#STIXGeneral-Regular-72\" x=\"33.299988\"/>\n      <use xlink:href=\"#STIXGeneral-Regular-65\" x=\"66.599976\"/>\n      <use xlink:href=\"#STIXGeneral-Regular-71\" x=\"110.999969\"/>\n      <use xlink:href=\"#STIXGeneral-Regular-75\" x=\"160.999954\"/>\n      <use xlink:href=\"#STIXGeneral-Regular-65\" x=\"210.999939\"/>\n      <use xlink:href=\"#STIXGeneral-Regular-6e\" x=\"255.399933\"/>\n      <use xlink:href=\"#STIXGeneral-Regular-63\" x=\"305.399918\"/>\n      <use xlink:href=\"#STIXGeneral-Regular-79\" x=\"349.799911\"/>\n      <use xlink:href=\"#STIXGeneral-Regular-2c\" x=\"399.799896\"/>\n      <use xlink:href=\"#STIXGeneral-Regular-20\" x=\"424.799881\"/>\n      <use xlink:href=\"#STIXGeneral-Regular-5b\" x=\"449.799866\"/>\n      <use xlink:href=\"#STIXGeneral-Regular-48\" x=\"483.099854\"/>\n      <use xlink:href=\"#STIXGeneral-Regular-7a\" x=\"555.299835\"/>\n      <use xlink:href=\"#STIXGeneral-Regular-5d\" x=\"599.699829\"/>\n     </g>\n    </g>\n   </g>\n   <g id=\"matplotlib.axis_4\">\n    <g id=\"ytick_83\">\n     <g id=\"line2d_220\">\n      <path d=\"M 439.951521 276.12 \nL 766.44 276.12 \n\" clip-path=\"url(#ped1fa87158)\" style=\"fill: none; stroke-dasharray: 1,3; stroke-dashoffset: 0; stroke: #000000; stroke-width: 0.5\"/>\n     </g>\n     <g id=\"line2d_221\">\n      <g>\n       <use xlink:href=\"#mece1dff934\" x=\"439.951521\" y=\"276.12\" style=\"stroke: #000000; stroke-width: 0.5\"/>\n      </g>\n     </g>\n     <g id=\"line2d_222\">\n      <g>\n       <use xlink:href=\"#m3173477a3a\" x=\"766.44\" y=\"276.12\" style=\"stroke: #000000; stroke-width: 0.5\"/>\n      </g>\n     </g>\n     <g id=\"text_29\">\n      <!-- −0.2 -->\n      <g transform=\"translate(408.087521 279.47475) scale(0.144 -0.144)\">\n       <use xlink:href=\"#STIXGeneral-Regular-2212\"/>\n       <use xlink:href=\"#STIXGeneral-Regular-30\" x=\"68.499985\"/>\n       <use xlink:href=\"#STIXGeneral-Regular-2e\" x=\"118.499969\"/>\n       <use xlink:href=\"#STIXGeneral-Regular-32\" x=\"143.499954\"/>\n      </g>\n     </g>\n    </g>\n    <g id=\"ytick_84\">\n     <g id=\"line2d_223\">\n      <path d=\"M 439.951521 238.628571 \nL 766.44 238.628571 \n\" clip-path=\"url(#ped1fa87158)\" style=\"fill: none; stroke-dasharray: 1,3; stroke-dashoffset: 0; stroke: #000000; stroke-width: 0.5\"/>\n     </g>\n     <g id=\"line2d_224\">\n      <g>\n       <use xlink:href=\"#mece1dff934\" x=\"439.951521\" y=\"238.628571\" style=\"stroke: #000000; stroke-width: 0.5\"/>\n      </g>\n     </g>\n     <g id=\"line2d_225\">\n      <g>\n       <use xlink:href=\"#m3173477a3a\" x=\"766.44\" y=\"238.628571\" style=\"stroke: #000000; stroke-width: 0.5\"/>\n      </g>\n     </g>\n     <g id=\"text_30\">\n      <!-- 0.0 -->\n      <g transform=\"translate(417.951521 241.983321) scale(0.144 -0.144)\">\n       <use xlink:href=\"#STIXGeneral-Regular-30\"/>\n       <use xlink:href=\"#STIXGeneral-Regular-2e\" x=\"49.999985\"/>\n       <use xlink:href=\"#STIXGeneral-Regular-30\" x=\"74.999969\"/>\n      </g>\n     </g>\n    </g>\n    <g id=\"ytick_85\">\n     <g id=\"line2d_226\">\n      <path d=\"M 439.951521 201.137143 \nL 766.44 201.137143 \n\" clip-path=\"url(#ped1fa87158)\" style=\"fill: none; stroke-dasharray: 1,3; stroke-dashoffset: 0; stroke: #000000; stroke-width: 0.5\"/>\n     </g>\n     <g id=\"line2d_227\">\n      <g>\n       <use xlink:href=\"#mece1dff934\" x=\"439.951521\" y=\"201.137143\" style=\"stroke: #000000; stroke-width: 0.5\"/>\n      </g>\n     </g>\n     <g id=\"line2d_228\">\n      <g>\n       <use xlink:href=\"#m3173477a3a\" x=\"766.44\" y=\"201.137143\" style=\"stroke: #000000; stroke-width: 0.5\"/>\n      </g>\n     </g>\n     <g id=\"text_31\">\n      <!-- 0.2 -->\n      <g transform=\"translate(417.951521 204.491893) scale(0.144 -0.144)\">\n       <use xlink:href=\"#STIXGeneral-Regular-30\"/>\n       <use xlink:href=\"#STIXGeneral-Regular-2e\" x=\"49.999985\"/>\n       <use xlink:href=\"#STIXGeneral-Regular-32\" x=\"74.999969\"/>\n      </g>\n     </g>\n    </g>\n    <g id=\"ytick_86\">\n     <g id=\"line2d_229\">\n      <path d=\"M 439.951521 163.645714 \nL 766.44 163.645714 \n\" clip-path=\"url(#ped1fa87158)\" style=\"fill: none; stroke-dasharray: 1,3; stroke-dashoffset: 0; stroke: #000000; stroke-width: 0.5\"/>\n     </g>\n     <g id=\"line2d_230\">\n      <g>\n       <use xlink:href=\"#mece1dff934\" x=\"439.951521\" y=\"163.645714\" style=\"stroke: #000000; stroke-width: 0.5\"/>\n      </g>\n     </g>\n     <g id=\"line2d_231\">\n      <g>\n       <use xlink:href=\"#m3173477a3a\" x=\"766.44\" y=\"163.645714\" style=\"stroke: #000000; stroke-width: 0.5\"/>\n      </g>\n     </g>\n     <g id=\"text_32\">\n      <!-- 0.4 -->\n      <g transform=\"translate(417.951521 167.000464) scale(0.144 -0.144)\">\n       <use xlink:href=\"#STIXGeneral-Regular-30\"/>\n       <use xlink:href=\"#STIXGeneral-Regular-2e\" x=\"49.999985\"/>\n       <use xlink:href=\"#STIXGeneral-Regular-34\" x=\"74.999969\"/>\n      </g>\n     </g>\n    </g>\n    <g id=\"ytick_87\">\n     <g id=\"line2d_232\">\n      <path d=\"M 439.951521 126.154286 \nL 766.44 126.154286 \n\" clip-path=\"url(#ped1fa87158)\" style=\"fill: none; stroke-dasharray: 1,3; stroke-dashoffset: 0; stroke: #000000; stroke-width: 0.5\"/>\n     </g>\n     <g id=\"line2d_233\">\n      <g>\n       <use xlink:href=\"#mece1dff934\" x=\"439.951521\" y=\"126.154286\" style=\"stroke: #000000; stroke-width: 0.5\"/>\n      </g>\n     </g>\n     <g id=\"line2d_234\">\n      <g>\n       <use xlink:href=\"#m3173477a3a\" x=\"766.44\" y=\"126.154286\" style=\"stroke: #000000; stroke-width: 0.5\"/>\n      </g>\n     </g>\n     <g id=\"text_33\">\n      <!-- 0.6 -->\n      <g transform=\"translate(417.951521 129.509036) scale(0.144 -0.144)\">\n       <use xlink:href=\"#STIXGeneral-Regular-30\"/>\n       <use xlink:href=\"#STIXGeneral-Regular-2e\" x=\"49.999985\"/>\n       <use xlink:href=\"#STIXGeneral-Regular-36\" x=\"74.999969\"/>\n      </g>\n     </g>\n    </g>\n    <g id=\"ytick_88\">\n     <g id=\"line2d_235\">\n      <path d=\"M 439.951521 88.662857 \nL 766.44 88.662857 \n\" clip-path=\"url(#ped1fa87158)\" style=\"fill: none; stroke-dasharray: 1,3; stroke-dashoffset: 0; stroke: #000000; stroke-width: 0.5\"/>\n     </g>\n     <g id=\"line2d_236\">\n      <g>\n       <use xlink:href=\"#mece1dff934\" x=\"439.951521\" y=\"88.662857\" style=\"stroke: #000000; stroke-width: 0.5\"/>\n      </g>\n     </g>\n     <g id=\"line2d_237\">\n      <g>\n       <use xlink:href=\"#m3173477a3a\" x=\"766.44\" y=\"88.662857\" style=\"stroke: #000000; stroke-width: 0.5\"/>\n      </g>\n     </g>\n     <g id=\"text_34\">\n      <!-- 0.8 -->\n      <g transform=\"translate(417.951521 92.017607) scale(0.144 -0.144)\">\n       <use xlink:href=\"#STIXGeneral-Regular-30\"/>\n       <use xlink:href=\"#STIXGeneral-Regular-2e\" x=\"49.999985\"/>\n       <use xlink:href=\"#STIXGeneral-Regular-38\" x=\"74.999969\"/>\n      </g>\n     </g>\n    </g>\n    <g id=\"ytick_89\">\n     <g id=\"line2d_238\">\n      <path d=\"M 439.951521 51.171429 \nL 766.44 51.171429 \n\" clip-path=\"url(#ped1fa87158)\" style=\"fill: none; stroke-dasharray: 1,3; stroke-dashoffset: 0; stroke: #000000; stroke-width: 0.5\"/>\n     </g>\n     <g id=\"line2d_239\">\n      <g>\n       <use xlink:href=\"#mece1dff934\" x=\"439.951521\" y=\"51.171429\" style=\"stroke: #000000; stroke-width: 0.5\"/>\n      </g>\n     </g>\n     <g id=\"line2d_240\">\n      <g>\n       <use xlink:href=\"#m3173477a3a\" x=\"766.44\" y=\"51.171429\" style=\"stroke: #000000; stroke-width: 0.5\"/>\n      </g>\n     </g>\n     <g id=\"text_35\">\n      <!-- 1.0 -->\n      <g transform=\"translate(417.951521 54.526179) scale(0.144 -0.144)\">\n       <use xlink:href=\"#STIXGeneral-Regular-31\"/>\n       <use xlink:href=\"#STIXGeneral-Regular-2e\" x=\"49.999985\"/>\n       <use xlink:href=\"#STIXGeneral-Regular-30\" x=\"74.999969\"/>\n      </g>\n     </g>\n    </g>\n    <g id=\"ytick_90\">\n     <g id=\"line2d_241\">\n      <path d=\"M 439.951521 13.68 \nL 766.44 13.68 \n\" clip-path=\"url(#ped1fa87158)\" style=\"fill: none; stroke-dasharray: 1,3; stroke-dashoffset: 0; stroke: #000000; stroke-width: 0.5\"/>\n     </g>\n     <g id=\"line2d_242\">\n      <g>\n       <use xlink:href=\"#mece1dff934\" x=\"439.951521\" y=\"13.68\" style=\"stroke: #000000; stroke-width: 0.5\"/>\n      </g>\n     </g>\n     <g id=\"line2d_243\">\n      <g>\n       <use xlink:href=\"#m3173477a3a\" x=\"766.44\" y=\"13.68\" style=\"stroke: #000000; stroke-width: 0.5\"/>\n      </g>\n     </g>\n     <g id=\"text_36\">\n      <!-- 1.2 -->\n      <g transform=\"translate(417.951521 17.03475) scale(0.144 -0.144)\">\n       <use xlink:href=\"#STIXGeneral-Regular-31\"/>\n       <use xlink:href=\"#STIXGeneral-Regular-2e\" x=\"49.999985\"/>\n       <use xlink:href=\"#STIXGeneral-Regular-32\" x=\"74.999969\"/>\n      </g>\n     </g>\n    </g>\n    <g id=\"text_37\">\n     <!-- Gain, [-] -->\n     <g transform=\"translate(399.615021 172.44375) rotate(-90) scale(0.16 -0.16)\">\n      <use xlink:href=\"#STIXGeneral-Regular-47\"/>\n      <use xlink:href=\"#STIXGeneral-Regular-61\" x=\"72.199982\"/>\n      <use xlink:href=\"#STIXGeneral-Regular-69\" x=\"116.599976\"/>\n      <use xlink:href=\"#STIXGeneral-Regular-6e\" x=\"144.399963\"/>\n      <use xlink:href=\"#STIXGeneral-Regular-2c\" x=\"194.399948\"/>\n      <use xlink:href=\"#STIXGeneral-Regular-20\" x=\"219.399933\"/>\n      <use xlink:href=\"#STIXGeneral-Regular-5b\" x=\"244.399918\"/>\n      <use xlink:href=\"#STIXGeneral-Regular-2d\" x=\"277.699905\"/>\n      <use xlink:href=\"#STIXGeneral-Regular-5d\" x=\"310.999893\"/>\n     </g>\n    </g>\n   </g>\n  </g>\n </g>\n <defs>\n  <clipPath id=\"p16d56c6ce1\">\n   <rect x=\"57.96\" y=\"13.68\" width=\"326.488479\" height=\"262.44\"/>\n  </clipPath>\n  <clipPath id=\"ped1fa87158\">\n   <rect x=\"439.951521\" y=\"13.68\" width=\"326.488479\" height=\"262.44\"/>\n  </clipPath>\n </defs>\n</svg>\n"
          },
          "metadata": {}
        }
      ]
    },
    {
      "cell_type": "code",
      "source": [
        "def compute_working_time_interval( times, signal, fsample, veloc, L_beach, L_signalProbe, L_location ):\n",
        "\n",
        "    #################################################################\n",
        "    # Find signal peaks\n",
        "\n",
        "    # Peak finder spaced at least by fs/4 sec.\n",
        "    skip = fsample // 4 \n",
        "\n",
        "    # minimum distance between extrema to be used in find_peaks\n",
        "    signal_thr = np.max( ( np.max( signal ), -np.min( signal ) ) ) / 5.0\n",
        "\n",
        "    upper_peaks_indx, _ = scipy.signal.find_peaks(  signal, height = signal_thr, distance = skip )\n",
        "    lower_peaks_indx, _ = scipy.signal.find_peaks( -signal, height = signal_thr, distance = skip )\n",
        "\n",
        "    times_upper_peaks = times[upper_peaks_indx]\n",
        "    times_lower_peaks = times[lower_peaks_indx]\n",
        "\n",
        "    signal_upper_peaks = signal[upper_peaks_indx]\n",
        "    signal_lower_peaks = signal[lower_peaks_indx]\n",
        "\n",
        "    #################################################################\n",
        "    # Compute the upper/lower peaks ramp-up\n",
        "    h0 = signal[upper_peaks_indx[0]]\n",
        "    i0 = 0\n",
        "    for i in range( 1, len( upper_peaks_indx ) ):\n",
        "        if h0 >= signal[upper_peaks_indx[i]]:\n",
        "            break\n",
        "        else:\n",
        "            h0 = signal[upper_peaks_indx[i]]\n",
        "            i0 = i\n",
        "\n",
        "    h0 = signal[lower_peaks_indx[0]]\n",
        "    j0 = 0\n",
        "    for j in range( 1, len( lower_peaks_indx ) ):\n",
        "        if h0 <= signal[lower_peaks_indx[j]]:\n",
        "            break\n",
        "        else:\n",
        "            h0 = signal[lower_peaks_indx[j]]\n",
        "            j0 = j\n",
        "\n",
        "    #################################################################\n",
        "    # find first peak\n",
        "    t0 = min( times[upper_peaks_indx[i0]], times[lower_peaks_indx[j0]] )\n",
        "\n",
        "    #################################################################\n",
        "    # The last peak \n",
        "    t1 = t0 + ( (L_beach - L_signalProbe) + (L_beach - L_location) ) / veloc\n",
        "\n",
        "    return t0, t1"
      ],
      "metadata": {
        "id": "6bRi5h1r2n-P"
      },
      "execution_count": 48,
      "outputs": []
    },
    {
      "cell_type": "code",
      "source": [
        "def compute_peaks( times, __signal, fsample, t0, t1 ):\n",
        "    \n",
        "    signal  = np.copy( __signal )\n",
        "    signal -= np.mean( signal )\n",
        "\n",
        "    #################################################################\n",
        "    # amplitudes\n",
        "\n",
        "    # Peak finder spaced at least by fs/4 sec.\n",
        "    skip = fsample // 4 \n",
        "\n",
        "    upper_peaks_indx, _ = scipy.signal.find_peaks(  signal, distance = skip )\n",
        "    lower_peaks_indx, _ = scipy.signal.find_peaks( -signal, distance = skip )\n",
        "\n",
        "    times_upper_peaks = times[upper_peaks_indx]\n",
        "    times_lower_peaks = times[lower_peaks_indx]\n",
        "\n",
        "    upper_peaks = __signal[upper_peaks_indx]\n",
        "    lower_peaks = __signal[lower_peaks_indx]\n",
        "\n",
        "    up_cond = np.logical_and( t0 <= times_upper_peaks, times_upper_peaks <= t1 )\n",
        "    lw_cond = np.logical_and( t0 <= times_lower_peaks, times_lower_peaks <= t1 )\n",
        "\n",
        "    # ensure that both upper and lower arrays have the same number of elements\n",
        "    lup = len( np.where( up_cond == True )[0] )\n",
        "    llw = len( np.where( lw_cond == True )[0] )\n",
        "\n",
        "    if lup < llw:\n",
        "        entries = np.where( lw_cond == True )[0]\n",
        "        lw_cond[ entries[-1] ] =False\n",
        "    if lup > llw:\n",
        "        entries = np.where( up_cond == True )[0]\n",
        "        up_cond[ entries[-1] ] =False\n",
        "\n",
        "    # get the peaks\n",
        "    times_upper_peaks = times_upper_peaks[ up_cond ]\n",
        "    upper_peaks = upper_peaks[ up_cond ]\n",
        "\n",
        "    times_lower_peaks = times_lower_peaks[ lw_cond ]\n",
        "    lower_peaks = lower_peaks[ lw_cond ]\n",
        "\n",
        "    return times_lower_peaks, times_upper_peaks, lower_peaks, upper_peaks"
      ],
      "metadata": {
        "id": "zr2vWvuz2oqg"
      },
      "execution_count": 49,
      "outputs": []
    },
    {
      "cell_type": "code",
      "execution_count": 59,
      "metadata": {
        "id": "nmgdJDw3hQFR"
      },
      "outputs": [],
      "source": [
        "@dataclass\n",
        "class test_data:\n",
        "\n",
        "    def __init__( self, filename, consts ):\n",
        "        # read data file of all tests\n",
        "        hf = h5py.File( filename, 'r' )\n",
        "\n",
        "        # list of the cases names\n",
        "        # prefix \"xp_\" means experimental data \n",
        "        self.xp_cases_names = list( hf.keys() )\n",
        "\n",
        "        # Create data structures for all the values needed\n",
        "        self.xp_cameras_fn = {}\n",
        "        self.xp_fsample = {}\n",
        "        self.xp_freq = {}\n",
        "        self.xp_D_orif = {}\n",
        "        self.xp_D_OWC = {}\n",
        "        self.xp_h_depth = {}\n",
        "        self.xp_L_beach = {}\n",
        "        self.xp_L_buoy = {}\n",
        "        self.xp_L_waveProbe = {}\n",
        "        self.xp_H_des = {}\n",
        "\n",
        "        self.xp_times = {}\n",
        "        self.xp_wave_h = {}\n",
        "        self.xp_OWC_h = {}\n",
        "        self.xp_OWC_p = {}\n",
        "\n",
        "        self.xp_buoy_times = {}\n",
        "        self.xp_buoy_surge = {}\n",
        "        self.xp_buoy_heave = {}\n",
        "        self.xp_buoy_sway = {}\n",
        "        self.xp_buoy_roll = {}\n",
        "        self.xp_buoy_yaw = {}\n",
        "        self.xp_buoy_pitch = {}\n",
        "\n",
        "        self.flt_times = {}\n",
        "        self.flt_wave_h = {}\n",
        "        self.flt_OWC_h = {}\n",
        "        self.flt_OWC_p = {}\n",
        "\n",
        "        self.flt_cam_times = {}\n",
        "        self.flt_cam_heave = {}\n",
        "        self.flt_cam_pitch = {}\n",
        "        self.flt_cam_surge = {}\n",
        "\n",
        "        self.consts = consts\n",
        "\n",
        "        for case_name in self.xp_cases_names:\n",
        "\n",
        "            self.xp_cameras_fn[case_name] = hf.get( case_name + '/CamerasFileName' )[()].decode()\n",
        "\n",
        "            fsample = hf.get( case_name + '/fsample' )[()]\n",
        "            self.xp_fsample[case_name] = fsample\n",
        "            self.xp_freq[case_name]    = hf.get( case_name + '/freq' )[()]\n",
        "            self.xp_D_orif[case_name]  = hf.get( case_name + '/D_orifice' )[()]\n",
        "            self.xp_D_OWC[case_name]   = hf.get( case_name + '/D_OWC' )[()]\n",
        "            self.xp_h_depth[case_name] = hf.get( case_name + '/h_depth' )[()]\n",
        "            \n",
        "            self.xp_L_beach[case_name] = hf.get( case_name + '/L_beach' )[()]\n",
        "            self.xp_L_buoy[case_name] = hf.get( case_name + '/L_buoy' )[()]\n",
        "            self.xp_L_waveProbe[case_name]   = hf.get( case_name + '/L_waveProbe' )[()]\n",
        "            self.xp_H_des[case_name]   = hf.get( case_name + '/H' )[()]\n",
        "            \n",
        "            xp_times   = np.array( hf.get( case_name + '/time' ) )\n",
        "            xp_wave_h  = np.array( hf.get( case_name + '/WaveProbe_Ch' ) )\n",
        "            xp_OWC_h   = np.array( hf.get( case_name + '/WaveProbe_Buoy' ) )\n",
        "            xp_OWC_p   = np.array( hf.get( case_name + '/Delta_p' ) )\n",
        "\n",
        "            xp_wave_h -= np.mean( xp_wave_h[0:fsample] )\n",
        "            xp_OWC_h  -= np.mean( xp_OWC_h [0:fsample] )\n",
        "\n",
        "            self.xp_times[case_name]  = xp_times\n",
        "            self.xp_wave_h[case_name] = xp_wave_h\n",
        "            self.xp_OWC_h[case_name]  = xp_OWC_h\n",
        "            self.xp_OWC_p[case_name]  = xp_OWC_p\n",
        "\n",
        "            flt_times, flt_wave_h = FilterSignal( LP_coefs, xp_times, xp_wave_h )\n",
        "            flt_times, flt_OWC_h  = FilterSignal( LP_coefs, xp_times, xp_OWC_h )\n",
        "            flt_times, flt_OWC_p  = FilterSignal( LP_coefs, xp_times, xp_OWC_p )\n",
        " \n",
        "            self.flt_times[case_name]  = flt_times\n",
        "            self.flt_wave_h[case_name] = flt_wave_h\n",
        "            self.flt_OWC_h[case_name]  = flt_OWC_h\n",
        "            self.flt_OWC_p[case_name]  = flt_OWC_p\n",
        "            \n",
        "        hf.close() \n",
        "    \n",
        "    def process_cases( self ):\n",
        "\n",
        "        cnt = self.consts\n",
        "        twopi = 2.0 * np.pi\n",
        "\n",
        "        n_cases = len( TD.xp_cases_names ) \n",
        "\n",
        "        # prefix \"pp_\" post-processed data\n",
        "        self.pp_freq_lst = np.zeros( n_cases )       # array of frequencies\n",
        "        self.pp_cp_lst = np.zeros( n_cases )         # array of phase velocity\n",
        "        \n",
        "        self.pp_wave_amp_lst = np.zeros( n_cases )   # array of mean wave amplitude\n",
        "        self.pp_OWC_h_amp_lst = np.zeros( n_cases )  # array of OWC mean amplitude\n",
        "        self.pp_OWC_p_amp_lst = np.zeros( n_cases )  # array of OWC pressure mean amplitude\n",
        "\n",
        "        self.pp_heave_amp_lst = np.zeros( n_cases )  # array of OWC pressure mean amplitude\n",
        "        self.pp_pitch_amp_lst = np.zeros( n_cases )  # array of OWC pressure mean amplitude\n",
        "        self.pp_surge_amp_lst = np.zeros( n_cases )  # array of OWC pressure mean amplitude\n",
        "\n",
        "        self.pp_RAO_OWC_h_lst = np.zeros( n_cases )    # array of OWC RAOs\n",
        "        self.pp_RAO_OWC_p_lst = np.zeros( n_cases )    # array of OWC RAOs\n",
        "\n",
        "        self.pp_RAO_heave_lst = np.zeros( n_cases )    # array of OWC RAOs\n",
        "        self.pp_RAO_pitch_lst = np.zeros( n_cases )    # array of OWC RAOs\n",
        "        self.pp_RAO_surge_lst = np.zeros( n_cases )    # array of OWC RAOs\n",
        "    \n",
        "        self.pp_Pwave_lst = np.zeros( n_cases )      # array of wave power\n",
        "        self.pp_Pturb_lst = np.zeros( n_cases )      # array of turbine power\n",
        "        self.pp_CWR_lst = np.zeros( n_cases )        # array of CWR\n",
        "        self.pp_cp_lst = np.zeros( n_cases )         # array of phase velocity\n",
        "        self.pp_cg_lst = np.zeros( n_cases )         # array of group velicity\n",
        "        self.pp_λ_lst = np.zeros( n_cases )          # array of wavelength\n",
        "        self.pp_λh_lst = np.zeros( n_cases )         # array of wavelength/depth\n",
        "        self.pp_kh_lst = np.zeros( n_cases )         # array of k*h\n",
        "        # self.pp_Pwave_des_lst = np.zeros( n_cases )  # array of desired wave power \n",
        "        self.pp_t0_lst = np.zeros( n_cases )         # working time interval\n",
        "        self.pp_t1_lst = np.zeros( n_cases )         # [t0,t1]\n",
        "\n",
        "        for num, case_key in enumerate( TD.xp_cases_names ):\n",
        "\n",
        "            print( case_key )\n",
        "\n",
        "            #========================================================================\n",
        "            # variables of this test cases\n",
        "            fsample = self.xp_fsample[ case_key ]   # sampling frequency\n",
        "            freq = self.xp_freq[ case_key ]         # Wave Frequency\n",
        "            D_OWC = self.xp_D_OWC[ case_key ]\n",
        "            h_depth = self.xp_h_depth[ case_key ]\n",
        "            L_beach = self.xp_L_beach[ case_key ]\n",
        "            L_buoy = self.xp_L_buoy[ case_key ]\n",
        "            L_waveProbe = self.xp_L_waveProbe[ case_key ]\n",
        "\n",
        "            times = self.flt_times[ case_key ]\n",
        "\n",
        "            wave_h = self.flt_wave_h[ case_key ]\n",
        "\n",
        "            OWC_h = self.flt_OWC_h[ case_key ]\n",
        "            OWC_p = self.flt_OWC_p[ case_key ]\n",
        "            \n",
        "            Do = self.xp_D_orif[ case_key ]\n",
        "            H_des = self.xp_H_des[ case_key ] / 2.0\n",
        "\n",
        "            #========================================================================\n",
        "            # Wave characteristics\n",
        "            ω  = twopi * freq                       # Angular Frequency\n",
        "            kh = dispersion_relation( ω, h_depth )  # Wave Number for infinite depth water conditions\n",
        "            k  = kh / h_depth                       # Wave Number\n",
        "            cp = ω / k                              # Wave crest Speed or phase Velocity\n",
        "            λ  = twopi / k                          # Wave Length\n",
        "            λh  = twopi / kh                        # Wave Length/ Depth\n",
        "            Tw = 1.0 / freq                         # wave period\n",
        "\n",
        "            #========================================================================\n",
        "            # time interval used for mean values\n",
        "            # First estimate\n",
        "            t0, t1 = compute_working_time_interval( times, wave_h, fsample, cp, L_beach, L_waveProbe, L_buoy )\n",
        "\n",
        "            #========================================================================\n",
        "            # Compute means\n",
        "            waves_times_lower_peaks, waves_times_upper_peaks, \\\n",
        "                waves_lower_peaks, waves_upper_peaks = compute_peaks( times, wave_h, fsample, t0, t1 )\n",
        "            wave_amp = 0.5 * ( np.mean( waves_upper_peaks ) - np.mean( waves_lower_peaks ) )\n",
        "\n",
        "            cg = group_velocity( h_depth, 2.0*wave_amp, freq ) \n",
        "            t0, t1 = compute_working_time_interval( times, wave_h, fsample, cg, L_beach, L_waveProbe, L_buoy )\n",
        "\n",
        "            #========================================================================\n",
        "            # wave power [W]\n",
        "            Pwave = wave_power( cnt, h_depth, 2.0*wave_amp, freq )\n",
        "            Pwave *= D_OWC\n",
        "\n",
        "            # desired wave power [W]\n",
        "            # Pwave_des = wave_power( cnt, h_depth, H_des, freq ) \n",
        "            # Pwave_des *= D_OWC\n",
        "            \n",
        "            #========================================================================\n",
        "            # Compute the OWC motion amplitute\n",
        "            OWC_h_times_lower_peaks, OWC_h_times_upper_peaks, \\\n",
        "                OWC_h_lower_peaks, OWC_h_upper_peaks = compute_peaks( times, OWC_h, fsample, t0, t1 )\n",
        "            OWC_h_amp = 0.5 * ( np.mean( OWC_h_upper_peaks ) - np.mean( OWC_h_lower_peaks ) )\n",
        "\n",
        "            #========================================================================\n",
        "            # Compute the OWC motion amplitute\n",
        "            # Peak finder spaced at least by fs/4 sec.\n",
        "            OWC_p_times_lower_peaks, OWC_p_times_upper_peaks, \\\n",
        "                OWC_p_lower_peaks, OWC_p_upper_peaks = compute_peaks( times, OWC_p, fsample, t0, t1 )\n",
        "            OWC_p_amp = 0.5 * ( np.mean( OWC_p_upper_peaks ) - np.mean( OWC_p_lower_peaks ) )\n",
        "            \n",
        "            # ========================================\n",
        "            # Compute turbine power\n",
        "            tt0 = np.min( ( OWC_p_times_lower_peaks[ 0], OWC_p_times_upper_peaks[ 0] ) )\n",
        "            tt1 = np.min( ( OWC_p_times_lower_peaks[-1], OWC_p_times_upper_peaks[-1] ) )\n",
        "\n",
        "            t_cond = np.logical_and( tt0 <= times, times <= tt1 )\n",
        "            ttimes = times[ t_cond ]\n",
        "            tOWC_p = OWC_p[ t_cond ]\n",
        "            \n",
        "            Ao = np.pi * Do**2 / 4.0\n",
        "            Cd = 0.65\n",
        "            Co = np.sqrt( 2.0 ) * Ao * Cd \n",
        "            Q_turb = np.sign( tOWC_p ) * Co * np.sqrt( np.abs( tOWC_p ) / cnt.𝜌_air )\n",
        "            P_turb = tOWC_p * Q_turb\n",
        "            Pturb = np.mean( P_turb )\n",
        "\n",
        "            #========================================================================\n",
        "            self.pp_freq_lst[num] = np.round( freq, 2 )\n",
        "            self.pp_cp_lst[num] = np.round( cp, 2 )\n",
        "\n",
        "            self.pp_t0_lst[num] = np.round( t0, 2 )\n",
        "            self.pp_t1_lst[num] = np.round( t1, 2 )\n",
        "\n",
        "            self.pp_wave_amp_lst[num]  = np.round( wave_amp, 4 )\n",
        "            self.pp_OWC_h_amp_lst[num] = np.round( OWC_h_amp, 4 )\n",
        "            self.pp_OWC_p_amp_lst[num] = np.round( OWC_p_amp, 2 )\n",
        "            \n",
        "            self.pp_RAO_OWC_h_lst[num] = np.round( OWC_h_amp / wave_amp, 4 )\n",
        "            self.pp_RAO_OWC_p_lst[num] = np.round( OWC_p_amp / wave_amp, 4 )\n",
        "\n",
        "            self.pp_Pwave_lst[num] = np.round( Pwave, 4 )\n",
        "            self.pp_Pturb_lst[num] = np.round( Pturb, 4 )\n",
        "            self.pp_CWR_lst[num] = np.round( Pturb / Pwave, 3 )\n",
        "            self.pp_cp_lst[num] = np.round( cp, 3 )\n",
        "            self.pp_cg_lst[num] = np.round( cg, 3 )\n",
        "\n",
        "            self.pp_λ_lst[num] = np.round( λ, 2 )\n",
        "            self.pp_λh_lst[num] = np.round( λh, 2 )\n",
        "            self.pp_kh_lst[num] = np.round( kh, 4 )\n",
        "            # self.pp_Pwave_des_lst[num] = np.round( Pwave_des, 4 )\n",
        "        \n",
        "    def process_camera_cases( self ):\n",
        "\n",
        "        n_cases = len( TD.xp_cases_names ) \n",
        "\n",
        "        self.pp_RAO_heave_lst = np.zeros( n_cases )    # array of heave RAOs\n",
        "        self.pp_RAO_pitch_lst = np.zeros( n_cases )    # array of pitch RAOs\n",
        "        self.pp_t0_cam_lst = np.zeros( n_cases )       # working time interval\n",
        "        self.pp_t1_cam_lst = np.zeros( n_cases )       # [t0,t1]\n",
        "\n",
        "        for num, case_key in enumerate( TD.xp_cases_names ):\n",
        "\n",
        "            cameras_fn = TD.xp_cameras_fn[ case_key ].replace( '.csv', '.xlsx' )\n",
        "\n",
        "            print( cameras_fn )\n",
        "\n",
        "            df = pd.read_excel( cameras_fn )\n",
        "\n",
        "            fsample = TD.xp_fsample[ case_key ]\n",
        "\n",
        "            TD.xp_buoy_times[ case_key ] = np.array( df['time'] )\n",
        "            TD.xp_buoy_roll [ case_key ] = np.array( df['roll'] )\n",
        "            TD.xp_buoy_yaw  [ case_key ] = np.array( df['yaw'] )\n",
        "            TD.xp_buoy_pitch[ case_key ] = np.array( df['pitch'] )\n",
        "            TD.xp_buoy_surge[ case_key ] = np.array( df['surge'] )\n",
        "            TD.xp_buoy_heave[ case_key ] = np.array( df['heave'] )\n",
        "            TD.xp_buoy_sway [ case_key ] = np.array( df['sway'] )\n",
        "\n",
        "            TD.xp_buoy_roll [ case_key ] -= np.nanmean( TD.xp_buoy_roll [ case_key ][0:fsample] )\n",
        "            TD.xp_buoy_yaw  [ case_key ] -= np.nanmean( TD.xp_buoy_yaw  [ case_key ][0:fsample] )\n",
        "            TD.xp_buoy_pitch[ case_key ] -= np.nanmean( TD.xp_buoy_pitch[ case_key ][0:fsample] )\n",
        "\n",
        "            TD.xp_buoy_surge[ case_key ] -= np.nanmean( TD.xp_buoy_surge[ case_key ][0:fsample] )\n",
        "            TD.xp_buoy_heave[ case_key ] -= np.nanmean( TD.xp_buoy_heave[ case_key ][0:fsample] )\n",
        "            TD.xp_buoy_sway [ case_key ] -= np.nanmean( TD.xp_buoy_sway [ case_key ][0:fsample] )\n",
        "                    \n",
        "            fsample = TD.xp_fsample[ case_key ]   # sampling frequency\n",
        "            freq    = TD.xp_freq[ case_key ]         # Wave Frequency\n",
        "            L_beach = TD.xp_L_beach[case_key] \n",
        "            L_buoy  = TD.xp_L_buoy[case_key] \n",
        "\n",
        "            wave_amp = TD.pp_wave_amp_lst[num]\n",
        "            cg       = TD.pp_cg_lst[num]\n",
        "\n",
        "            skip    = fsample // 10\n",
        "\n",
        "            times = TD.xp_buoy_times[ case_key ]\n",
        "            heave = TD.xp_buoy_heave[ case_key ]\n",
        "            pitch = TD.xp_buoy_pitch[ case_key ]\n",
        "            surge = TD.xp_buoy_surge[ case_key ]\n",
        "            \n",
        "\n",
        "            flt_times, flt_heave = FilterSignal( LP_coefs_cam, times, heave )\n",
        "            flt_times, flt_pitch = FilterSignal( LP_coefs_cam, times, pitch )\n",
        "            flt_times, flt_surge = FilterSignal( LP_coefs_cam, times, surge )\n",
        "\n",
        "            mean_heave = np.mean( flt_heave[0:fsample] )\n",
        "            flt_heave -= mean_heave\n",
        "\n",
        "            t0, t1 = compute_working_time_interval( flt_times, flt_heave, fsample, cg, L_beach, L_buoy, L_buoy )\n",
        "\n",
        "            i0 = index_nearest( times, t0 )\n",
        "            i1 = index_nearest( times, t1 )\n",
        "\n",
        "            #========================================================================\n",
        "            clipped_heave = flt_heave[0:i1]\n",
        "\n",
        "            mean_heave = np.mean( flt_heave[i0:i1] )\n",
        "            clipped_heave -= mean_heave\n",
        "            heave -= mean_heave\n",
        "            flt_heave -= mean_heave\n",
        "\n",
        "            # heave_thr = np.max( ( np.max( clipped_heave ), -np.min( clipped_heave ) ) ) / 20.0\n",
        "            heave_upper_peaks_indx, _ = scipy.signal.find_peaks(  clipped_heave, distance = skip )\n",
        "            heave_lower_peaks_indx, _ = scipy.signal.find_peaks( -clipped_heave, distance = skip )\n",
        "\n",
        "            heave_times_lower_peaks, heave_times_upper_peaks, \\\n",
        "                heave_lower_peaks, heave_upper_peaks = compute_peaks( times, clipped_heave, fsample, t0, t1 )\n",
        "            heave_amp = 0.5 * ( np.mean( heave_upper_peaks ) - np.mean( heave_lower_peaks ) )\n",
        "\n",
        "            self.pp_heave_amp_lst[num] = np.round( heave_amp, 3 )\n",
        "            self.pp_RAO_heave_lst[num] = np.round( heave_amp / wave_amp, 4 )\n",
        "\n",
        "            #========================================================================\n",
        "            clipped_pitch = flt_pitch[0:i1]\n",
        "\n",
        "            mean_pitch = np.mean( flt_pitch[i0:i1] )\n",
        "\n",
        "            clipped_pitch -= mean_pitch\n",
        "            pitch -= mean_pitch\n",
        "            flt_pitch -= mean_pitch\n",
        "\n",
        "            # pitch_thr = np.max( ( np.max( clipped_pitch ), -np.min( clipped_pitch ) ) ) / 60.0\n",
        "            pitch_upper_peaks_indx, _ = scipy.signal.find_peaks(  clipped_pitch, distance = skip )\n",
        "            pitch_lower_peaks_indx, _ = scipy.signal.find_peaks( -clipped_pitch, distance = skip )\n",
        "\n",
        "            pitch_times_lower_peaks, pitch_times_upper_peaks, \\\n",
        "                pitch_lower_peaks, pitch_upper_peaks = compute_peaks( times, clipped_pitch, fsample, t0, t1 )\n",
        "            pitch_amp = 0.5 * ( np.mean( pitch_upper_peaks ) - np.mean( pitch_lower_peaks ) )\n",
        "\n",
        "            self.pp_t0_cam_lst[num] = np.round( t0, 2 )\n",
        "            self.pp_t1_cam_lst[num] = np.round( t1, 2 )\n",
        "\n",
        "            self.pp_pitch_amp_lst[num] = np.round( pitch_amp, 3 )\n",
        "            self.pp_RAO_pitch_lst[num] = np.round( pitch_amp / wave_amp, 4 )\n",
        "\n",
        "            #========================================================================\n",
        "            clipped_surge = flt_surge[0:i1]\n",
        "\n",
        "            mean_surge = np.mean( flt_surge[i0:i1] )\n",
        "\n",
        "            clipped_surge -= mean_surge\n",
        "            surge -= mean_surge\n",
        "            flt_surge -= mean_surge\n",
        "\n",
        "            # surge_thr = np.max( ( np.max( clipped_surge ), -np.min( clipped_surge ) ) ) / 60.0\n",
        "            surge_upper_peaks_indx, _ = scipy.signal.find_peaks(  clipped_surge, distance = skip )\n",
        "            surge_lower_peaks_indx, _ = scipy.signal.find_peaks( -clipped_surge, distance = skip )\n",
        "\n",
        "            surge_times_lower_peaks, surge_times_upper_peaks, \\\n",
        "                surge_lower_peaks, surge_upper_peaks = compute_peaks( times, clipped_surge, fsample, t0, t1 )\n",
        "            surge_amp = 0.5 * ( np.mean( surge_upper_peaks ) - np.mean( surge_lower_peaks ) )\n",
        "\n",
        "            self.pp_t0_cam_lst[num] = np.round( t0, 2 )\n",
        "            self.pp_t1_cam_lst[num] = np.round( t1, 2 )\n",
        "\n",
        "            self.pp_surge_amp_lst[num] = np.round( surge_amp, 3 )\n",
        "            self.pp_RAO_surge_lst[num] = np.round( surge_amp / wave_amp, 4 )\n",
        "\n",
        "            #========================================================================\n",
        "            self.flt_cam_times[case_key] = flt_times\n",
        "            self.flt_cam_heave[case_key] = flt_heave\n",
        "            self.flt_cam_pitch[case_key] = flt_pitch\n",
        "            self.flt_cam_surge[case_key] = flt_surge\n"
      ]
    },
    {
      "cell_type": "code",
      "source": [
        "tests_filename = \"%s_Tests_V6\" % CASE_prefix\n",
        "\n",
        "TD = test_data( tests_filename + '.h5', consts )\n",
        "TD.process_cases()"
      ],
      "metadata": {
        "id": "ex0jXDU64v0X",
        "colab": {
          "base_uri": "https://localhost:8080/"
        },
        "outputId": "28374cf9-a150-4cc6-bb59-6f7d96bc5855"
      },
      "execution_count": 60,
      "outputs": [
        {
          "output_type": "stream",
          "name": "stdout",
          "text": [
            "KB4m_H0.04m_f0.64Hz\n",
            "KB4m_H0.04m_f0.70Hz\n",
            "KB4m_H0.04m_f0.74Hz\n",
            "KB4m_H0.04m_f0.78Hz\n",
            "KB4m_H0.04m_f0.82Hz\n",
            "KB4m_H0.04m_f0.86Hz\n",
            "KB4m_H0.04m_f0.90Hz\n",
            "KB4m_H0.04m_f0.94Hz\n",
            "KB4m_H0.04m_f1.00Hz\n",
            "KB4m_H0.04m_f1.02Hz\n",
            "KB4m_H0.04m_f1.04Hz\n",
            "KB4m_H0.04m_f1.06Hz\n",
            "KB4m_H0.04m_f1.08Hz\n",
            "KB4m_H0.04m_f1.10Hz\n",
            "KB4m_H0.04m_f1.12Hz\n",
            "KB4m_H0.04m_f1.14Hz\n",
            "KB4m_H0.04m_f1.16Hz\n",
            "KB4m_H0.04m_f1.18Hz\n",
            "KB4m_H0.04m_f1.22Hz\n",
            "KB4m_H0.04m_f1.28Hz\n",
            "KB4m_H0.04m_f1.34Hz\n",
            "KB4m_H0.04m_f1.42Hz\n",
            "KB4m_H0.04m_f1.50Hz\n"
          ]
        }
      ]
    },
    {
      "cell_type": "code",
      "source": [
        "TD.process_camera_cases()"
      ],
      "metadata": {
        "colab": {
          "base_uri": "https://localhost:8080/"
        },
        "id": "7f1Frq23EXI8",
        "outputId": "3ba1e9b9-b9c9-4bf7-ca3a-2ddf182196c8"
      },
      "execution_count": 61,
      "outputs": [
        {
          "output_type": "stream",
          "name": "stdout",
          "text": [
            "KB4m_H0.04m_f0.64Hz.xlsx\n",
            "KB4m_H0.04m_f0.70Hz.xlsx\n",
            "KB4m_H0.04m_f0.74Hz.xlsx\n",
            "KB4m_H0.04m_f0.78Hz.xlsx\n",
            "KB4m_H0.04m_f0.82Hz.xlsx\n",
            "KB4m_H0.04m_f0.86Hz.xlsx\n",
            "KB4m_H0.04m_f0.90Hz.xlsx\n",
            "KB4m_H0.04m_f0.94Hz.xlsx\n",
            "KB4m_H0.04m_f1.00Hz.xlsx\n",
            "KB4m_H0.04m_f1.02Hz.xlsx\n",
            "KB4m_H0.04m_f1.04Hz.xlsx\n",
            "KB4m_H0.04m_f1.06Hz.xlsx\n",
            "KB4m_H0.04m_f1.08Hz.xlsx\n",
            "KB4m_H0.04m_f1.10Hz.xlsx\n",
            "KB4m_H0.04m_f1.12Hz.xlsx\n",
            "KB4m_H0.04m_f1.14Hz.xlsx\n",
            "KB4m_H0.04m_f1.16Hz.xlsx\n",
            "KB4m_H0.04m_f1.18Hz.xlsx\n",
            "KB4m_H0.04m_f1.22Hz.xlsx\n",
            "KB4m_H0.04m_f1.28Hz.xlsx\n",
            "KB4m_H0.04m_f1.34Hz.xlsx\n",
            "KB4m_H0.04m_f1.42Hz.xlsx\n",
            "KB4m_H0.04m_f1.50Hz.xlsx\n"
          ]
        }
      ]
    },
    {
      "cell_type": "code",
      "execution_count": null,
      "metadata": {
        "id": "KKiO4D0ihQFU",
        "colab": {
          "base_uri": "https://localhost:8080/"
        },
        "outputId": "578b6970-0502-42fb-de93-e86caae5ad98"
      },
      "outputs": [
        {
          "output_type": "stream",
          "name": "stdout",
          "text": [
            "KB4m_Tests_V6.xlsx\n"
          ]
        }
      ],
      "source": [
        "data =  {   \"Freq [Hz]\": TD.pp_freq_lst, \n",
        "            \"kh [-]\" : TD.pp_kh_lst, \n",
        "            \"λ [m]\" : TD.pp_λ_lst,\n",
        "            \"λ/h [m]\" : TD.pp_λh_lst,\n",
        "         \n",
        "            \"phase speed [m/s]\" : TD.pp_cp_lst,\n",
        "            \"group speed [m/s]\" : TD.pp_cg_lst,         \n",
        "         \n",
        "            \"wave amp [m]\": TD.pp_wave_amp_lst, \n",
        "            \"OWC_heave amp [m]\": TD.pp_OWC_h_amp_lst, \n",
        "            \"Δp amp [Pa]\": TD.pp_OWC_p_amp_lst, \n",
        "\n",
        "            \"heave amp [m]\": TD.pp_heave_amp_lst, \n",
        "            \"surge amp [m]\": TD.pp_surge_amp_lst, \n",
        "            \"pitch amp [°]\": TD.pp_pitch_amp_lst, \n",
        "\n",
        "            \"Pwave × D_OWC [W]\": TD.pp_Pwave_lst, \n",
        "            \"Pturb [W]\": TD.pp_Pturb_lst,\n",
        "            \"CWR [-]\": TD.pp_CWR_lst,\n",
        "         \n",
        "            \"RAO heave [-]\": TD.pp_RAO_heave_lst, \n",
        "            \"RAO pitch [°/m]\": TD.pp_RAO_pitch_lst, \n",
        "            \"RAO surge [-]\": TD.pp_RAO_surge_lst, \n",
        "            \"RAO OWC_h [-]\": TD.pp_RAO_OWC_h_lst, \n",
        "            \"RAO Δp [Pa/m]\": TD.pp_RAO_OWC_p_lst, \n",
        "            \n",
        "            \"t0 [s]\": TD.pp_t0_lst, \n",
        "            \"t1 [s]\": TD.pp_t1_lst,\n",
        "         \n",
        "            \"t0_cam [s]\": TD.pp_t0_cam_lst, \n",
        "            \"t1_cam [s]\": TD.pp_t1_cam_lst\n",
        "        }\n",
        "\n",
        "# Create Excel File\n",
        "XLS_filename = tests_filename + '.xlsx'\n",
        "print( XLS_filename )\n",
        "\n",
        "writer = pd.ExcelWriter( XLS_filename, engine='xlsxwriter' )\n",
        "\n",
        "workbook  = writer.book\n",
        "right = workbook.add_format( {'align': 'right'} )\n",
        "header_format = workbook.add_format( { 'fg_color': '#FFFF00', 'border': 1,\n",
        "                                    'align' : 'center' } )\n",
        "\n",
        "for case_key in TD.xp_cases_names:\n",
        "    freq = TD.xp_freq[ case_key ]         # Wave Frequency\n",
        "\n",
        "    flt_times = TD.flt_times[ case_key ]\n",
        "\n",
        "    flt_wave_h = TD.flt_wave_h[ case_key ]\n",
        "    flt_OWC_h = TD.flt_OWC_h[ case_key ]\n",
        "    flt_OWC_p = TD.flt_OWC_p[ case_key ]\n",
        "\n",
        "    flt_cam_times = TD.flt_cam_times[ case_key ]\n",
        "    flt_cam_heave = TD.flt_cam_heave[ case_key ]\n",
        "    flt_cam_pitch = TD.flt_cam_pitch[ case_key ]\n",
        "    flt_cam_surge = TD.flt_cam_surge[ case_key ]\n",
        "\n",
        "    ml = np.min( (len(flt_times), len(flt_cam_times) ) )\n",
        "    \n",
        "    data_freq = { \n",
        "            \"flt time [s]\": flt_times[0:ml], \n",
        "            \"flt wave_h [m]\": flt_wave_h[0:ml],\n",
        "            \"flt OWC_h [m]\": flt_OWC_h[0:ml],\n",
        "            \"flt OWC_p [p]\": flt_OWC_p[0:ml],\n",
        "            \"flt cam time [s]\": flt_cam_times[0:ml],\n",
        "            \"flt cam heave [m]\": flt_cam_heave[0:ml],\n",
        "            \"flt cam pitch [°]\": flt_cam_pitch[0:ml],\n",
        "            \"flt cam surge [m]\": flt_cam_surge[0:ml]\n",
        "    }    \n",
        "\n",
        "    df_freq = pd.DataFrame( data_freq )\n",
        "    df_freq.to_excel( writer, index=False, sheet_name='f%.2fHz' % freq )\n",
        "\n",
        "df = pd.DataFrame( data )\n",
        "df.to_excel( writer, index=False, sheet_name='Summary' )\n",
        "\n",
        "worksheet = writer.sheets['Summary']\n",
        "worksheet.set_column( 'A:P', 14, right )\n",
        "\n",
        "# Write the column headers with the defined format\n",
        "for col_num, value in enumerate(df.columns.values):\n",
        "    worksheet.write( 0, col_num, value, header_format )\n",
        "worksheet.freeze_panes(1, 1)\n",
        "writer.close()\n",
        "\n",
        "df"
      ]
    },
    {
      "cell_type": "markdown",
      "source": [
        "## Case numbers"
      ],
      "metadata": {
        "id": "CEXmKLKkMrhL"
      }
    },
    {
      "cell_type": "code",
      "source": [
        "for n, case_name in enumerate( TD.xp_cases_names ):\n",
        "    print( '%2i  =>  %s' % ( n, case_name ) )"
      ],
      "metadata": {
        "id": "FUbbyaw1Kl-w"
      },
      "execution_count": null,
      "outputs": []
    },
    {
      "cell_type": "markdown",
      "metadata": {
        "id": "Ay64vG-MhQFW"
      },
      "source": [
        "## Collect data for plotting case number\n",
        "\n",
        "case_num selects the frequency number"
      ]
    },
    {
      "cell_type": "code",
      "source": [
        "case_num = 10\n",
        "case_key = TD.xp_cases_names[ case_num ]\n",
        "\n",
        "fsample = TD.xp_fsample[ case_key ]   # sampling frequency\n",
        "freq    = TD.xp_freq[ case_key ]         # Wave Frequency\n",
        "H       = 2*TD.pp_wave_amp_lst[case_num]\n",
        "\n",
        "xp_times  = TD.xp_times[ case_key ]\n",
        "xp_wave_h = TD.xp_wave_h[ case_key ]\n",
        "xp_OWC_h  = TD.xp_OWC_h[ case_key ]\n",
        "xp_OWC_p  = TD.xp_OWC_p[ case_key ]\n",
        "\n",
        "times   = TD.flt_times[ case_key ]\n",
        "wave_h  = TD.flt_wave_h[ case_key ]\n",
        "OWC_h   = TD.flt_OWC_h[ case_key ]\n",
        "OWC_p   = TD.flt_OWC_p[ case_key ]\n",
        "\n",
        "t0 = TD.pp_t0_lst[ case_num ]\n",
        "t1 = TD.pp_t1_lst[ case_num ]"
      ],
      "metadata": {
        "id": "cJbkqIUSKm6u"
      },
      "execution_count": null,
      "outputs": []
    },
    {
      "cell_type": "code",
      "execution_count": null,
      "metadata": {
        "id": "GGYADw67hQFX"
      },
      "outputs": [],
      "source": [
        "fig, (ax1, ax2) = mpl.subplots(1,2, figsize=(12, 4.5) )\n",
        "fig.subplots_adjust( wspace = 0.17 )\n",
        "\n",
        "ax1.plot( times, wave_h, '-', label=\"wave height probe '2nd' [m]\" )\n",
        "ax1.plot( times, OWC_h, '-', label='OWC height [m]' )\n",
        "ax1.set_xlim( 10, 60 )\n",
        "ax1.legend( loc='upper left', fontsize=10, ncols=2 )\n",
        "ax1.set_xlabel( 'time [s]')\n",
        "\n",
        "ax2.plot( xp_times, xp_OWC_p, label='OWC $\\Delta p$ unfiltered [Pa]' )\n",
        "ax2.plot( times, OWC_p, label='OWC $\\Delta p$ [Pa]' )\n",
        "ax2.set_xlim( 45, 50 )\n",
        "# ax2.set_ylim( 400, 1100 )\n",
        "ax2.legend( loc='upper left', fontsize=10, ncols=2 )\n",
        "ax2.set_xlabel( 'time [s]')\n",
        "ax1.set_title( \"Wave probe: \" + \"$H_\\mathrm{exp} = %1.3f\\,$m\" % H + \", \" + \"$f = %1.2f\\,$Hz\" % freq )\n",
        "\n",
        "fig_filename = tests_filename + '_WavePressure_TimeSeries'\n",
        "\n",
        "# for pdflatex\n",
        "mpl.savefig( fig_filename + '.pdf', bbox_inches='tight', pad_inches=0.02 )\n",
        "\n",
        "# for MS WORD\n",
        "mpl.savefig( fig_filename + '.jpg', bbox_inches='tight', pad_inches=0.02 )\n",
        "mpl.savefig( fig_filename + '.svg', bbox_inches='tight', pad_inches=0.02 );"
      ]
    },
    {
      "cell_type": "code",
      "execution_count": null,
      "metadata": {
        "id": "Pi_10BO-hQFX"
      },
      "outputs": [],
      "source": [
        "mpl.axvspan( t0, t1, color='#e5ffd5c2')\n",
        "mpl.axvline( t0, dashes=(5,1.5,1.5,1.5), color='g', label=r'wave $\\rightarrow t_0$' )\n",
        "mpl.axvline( t1, dashes=(5,1.5), color='g', label=r'wave $\\rightarrow t_1$' )\n",
        "\n",
        "mpl.plot( times, wave_h, label='wave height' )\n",
        "\n",
        "mpl.grid()\n",
        "mpl.legend(loc='upper right', fontsize=12)\n",
        "mpl.xlabel( \"Measuring time [s]\" )\n",
        "mpl.ylabel( \"Wave height [m]\" )\n",
        "mpl.title( \"Wave probe: \" + \"$H_\\mathrm{exp} = %1.3f\\,$m\" % H + \", \" + \"$f = %1.2f\\,$Hz\" % freq )\n",
        "\n",
        "fig_filename = tests_filename + '_Wave_TimeSeries'\n",
        "\n",
        "# for pdflatex\n",
        "mpl.savefig( fig_filename + '.pdf', bbox_inches='tight', pad_inches=0.02 )\n",
        "\n",
        "# for MS WORD\n",
        "mpl.savefig( fig_filename + '.jpg', bbox_inches='tight', pad_inches=0.02 )\n",
        "mpl.savefig( fig_filename + '.svg', bbox_inches='tight', pad_inches=0.02 );"
      ]
    },
    {
      "cell_type": "code",
      "source": [
        "mpl.axvspan( t0, t1, color='#e5ffd5c2')\n",
        "mpl.axvline( t0, dashes=(5,1.5,1.5,1.5), color='g', label=r'wave $\\rightarrow t_0$' )\n",
        "mpl.axvline( t1, dashes=(5,1.5), color='g', label=r'wave $\\rightarrow t_1$' )\n",
        "\n",
        "mpl.plot( times, OWC_p, label='$\\Delta p$' )\n",
        "mpl.grid()\n",
        "mpl.legend(loc='upper right', fontsize=12)\n",
        "mpl.xlabel( \"Measuring time [s]\" )\n",
        "mpl.ylabel( \"$\\Delta p$ [Pa]\" )\n",
        "mpl.title( \"$\\Delta p$: \" + \"$H_\\mathrm{exp} = %1.3f\\,$m\" % H + \", \" + \"$f = %1.2f\\,$Hz\" % freq )\n",
        "\n",
        "fig_filename = tests_filename + '_Pressure_TimeSeries'\n",
        "\n",
        "# for pdflatex\n",
        "mpl.savefig( fig_filename + '.pdf', bbox_inches='tight', pad_inches=0.02 )\n",
        "\n",
        "# for MS WORD\n",
        "mpl.savefig( fig_filename + '.jpg', bbox_inches='tight', pad_inches=0.02 )\n",
        "mpl.savefig( fig_filename + '.svg', bbox_inches='tight', pad_inches=0.02 );"
      ],
      "metadata": {
        "id": "fLe_7EcXb51Q"
      },
      "execution_count": null,
      "outputs": []
    },
    {
      "cell_type": "code",
      "source": [
        "mpl.axvspan( t0, t1, color='#e5ffd5c2')\n",
        "mpl.axvline( t0, dashes=(5,1.5,1.5,1.5), color='g', label='press - $t_3$' )\n",
        "mpl.axvline( t1, dashes=(5,1.5), color='g', label='press - $t_4$' )\n",
        "\n",
        "mpl.plot( times, OWC_h )\n",
        "mpl.grid()\n",
        "mpl.legend(loc='upper right', fontsize=12)\n",
        "mpl.xlabel( \"Measuring time [s]\" )\n",
        "mpl.ylabel( \"OWC height [Pa]\" )\n",
        "mpl.title( \"OWC height: \" + \"$H_\\mathrm{exp} = %1.3f\\,$m\" % H + \", \" + \"$f = %1.2f\\,$Hz\" % freq )\n",
        "\n",
        "fig_filename = tests_filename + '_OWC_TimeSeries'\n",
        "\n",
        "# for pdflatex\n",
        "mpl.savefig( fig_filename + '.pdf', bbox_inches='tight', pad_inches=0.02 )\n",
        "\n",
        "# for MS WORD\n",
        "mpl.savefig( fig_filename + '.jpg', bbox_inches='tight', pad_inches=0.02 )\n",
        "mpl.savefig( fig_filename + '.svg', bbox_inches='tight', pad_inches=0.02 );"
      ],
      "metadata": {
        "id": "VZbGve1ub65d"
      },
      "execution_count": null,
      "outputs": []
    },
    {
      "cell_type": "code",
      "source": [
        "mpl.plot( TD.pp_freq_lst, 2*TD.pp_wave_amp_lst, 'o-' )\n",
        "mpl.xlabel( r\"Wave frequency, $f$ [Hz]\" )\n",
        "mpl.ylabel( r\"Wave height [m]\")\n",
        "mpl.grid()\n",
        "\n",
        "fig_filename = tests_filename + '_WaveHeight'\n",
        "\n",
        "# for pdflatex\n",
        "mpl.savefig( fig_filename + '.pdf', bbox_inches='tight', pad_inches=0.02 )\n",
        "\n",
        "# for MS WORD\n",
        "mpl.savefig( fig_filename + '.jpg', bbox_inches='tight', pad_inches=0.02 )\n",
        "mpl.savefig( fig_filename + '.svg', bbox_inches='tight', pad_inches=0.02 );"
      ],
      "metadata": {
        "id": "463HdOvgExSn"
      },
      "execution_count": null,
      "outputs": []
    },
    {
      "cell_type": "code",
      "execution_count": null,
      "metadata": {
        "id": "OA6h2PmOhQFY"
      },
      "outputs": [],
      "source": [
        "mpl.plot( TD.pp_freq_lst, TD.pp_Pwave_lst, 'o-', label=r'measured $P_\\mathrm{wave}\\times w_\\mathrm{OWC}$'  )\n",
        "mpl.plot( TD.pp_freq_lst, TD.pp_Pturb_lst, 's-', label = r'$P_\\mathrm{turb}$' )\n",
        "mpl.xlabel( r\"Wave frequency, $f$ [Hz]\" )\n",
        "mpl.ylabel( r\"Power [W]\")\n",
        "mpl.legend()\n",
        "mpl.grid()\n",
        "\n",
        "fig_filename = tests_filename + '_WaveTurbPowers'\n",
        "\n",
        "# for pdflatex\n",
        "mpl.savefig( fig_filename + '.pdf', bbox_inches='tight', pad_inches=0.02 )\n",
        "\n",
        "# for MS WORD\n",
        "mpl.savefig( fig_filename + '.jpg', bbox_inches='tight', pad_inches=0.02 )\n",
        "mpl.savefig( fig_filename + '.svg', bbox_inches='tight', pad_inches=0.02 )"
      ]
    },
    {
      "cell_type": "code",
      "execution_count": null,
      "metadata": {
        "id": "VTu2LXfvhQFY"
      },
      "outputs": [],
      "source": [
        "mpl.plot( TD.pp_freq_lst, TD.pp_CWR_lst, 'o-' )\n",
        "mpl.xlabel( \"Wave frequency, $f$ [Hz]\" )\n",
        "mpl.ylabel( \"CWR [-]\")\n",
        "mpl.grid()\n",
        "mpl.ylim( 0, 0.4 )\n",
        "\n",
        "fig_filename = tests_filename + '_CWR'\n",
        "\n",
        "# for pdflatex\n",
        "mpl.savefig( fig_filename + '.pdf', bbox_inches='tight', pad_inches=0.02 )\n",
        "\n",
        "# for MS WORD\n",
        "mpl.savefig( fig_filename + '.jpg', bbox_inches='tight', pad_inches=0.02 )\n",
        "mpl.savefig( fig_filename + '.svg', bbox_inches='tight', pad_inches=0.02 )"
      ]
    },
    {
      "cell_type": "code",
      "execution_count": null,
      "metadata": {
        "id": "Z7qArWMchQFZ"
      },
      "outputs": [],
      "source": [
        "mpl.plot( TD.pp_freq_lst, TD.pp_RAO_OWC_lst, 'o-' )\n",
        "mpl.xlabel( \"Wave frequency, $f$ [Hz]\" )\n",
        "mpl.ylabel( \"OWC RAO [-]\")\n",
        "mpl.grid()\n",
        "\n",
        "fig_filename = tests_filename + '_RAO_OWC'\n",
        "\n",
        "# for pdflatex\n",
        "mpl.savefig( fig_filename + '.pdf', bbox_inches='tight', pad_inches=0.02 )\n",
        "\n",
        "# for MS WORD\n",
        "mpl.savefig( fig_filename + '.jpg', bbox_inches='tight', pad_inches=0.02 )\n",
        "mpl.savefig( fig_filename + '.svg', bbox_inches='tight', pad_inches=0.02 )"
      ]
    },
    {
      "cell_type": "code",
      "source": [
        "mpl.plot( TD.pp_freq_lst, TD.pp_RAO_heave_lst, 'o-' )\n",
        "mpl.xlabel( \"Wave frequency, $f$ [Hz]\" )\n",
        "mpl.ylabel( \"Buoy heave RAO [-]\")\n",
        "mpl.grid()\n",
        "\n",
        "fig_filename = tests_filename + '_RAO_heave'\n",
        "\n",
        "# for pdflatex\n",
        "mpl.savefig( fig_filename + '.pdf', bbox_inches='tight', pad_inches=0.02 )\n",
        "\n",
        "# for MS WORD\n",
        "mpl.savefig( fig_filename + '.jpg', bbox_inches='tight', pad_inches=0.02 )\n",
        "mpl.savefig( fig_filename + '.svg', bbox_inches='tight', pad_inches=0.02 )"
      ],
      "metadata": {
        "id": "HPhtbzHOyS6i"
      },
      "execution_count": null,
      "outputs": []
    },
    {
      "cell_type": "code",
      "source": [
        "mpl.plot( TD.pp_freq_lst, TD.pp_RAO_pitch_lst, 'o-' )\n",
        "mpl.xlabel( \"Wave frequency, $f$ [Hz]\" )\n",
        "mpl.ylabel( \"Buoy pitch RAO [deg/m]\")\n",
        "mpl.grid()\n",
        "\n",
        "fig_filename = tests_filename + '_RAO_pitch'\n",
        "\n",
        "# for pdflatex\n",
        "mpl.savefig( fig_filename + '.pdf', bbox_inches='tight', pad_inches=0.02 )\n",
        "\n",
        "# for MS WORD\n",
        "mpl.savefig( fig_filename + '.jpg', bbox_inches='tight', pad_inches=0.02 )\n",
        "mpl.savefig( fig_filename + '.svg', bbox_inches='tight', pad_inches=0.02 )"
      ],
      "metadata": {
        "id": "ES58Mdk9yi3c"
      },
      "execution_count": null,
      "outputs": []
    },
    {
      "cell_type": "code",
      "execution_count": null,
      "metadata": {
        "id": "xpJDlQc2hQFZ"
      },
      "outputs": [],
      "source": [
        "mpl.plot( TD.pp_freq_lst, TD.pp_wave_amp_lst, 'o-', label = r'$y_\\mathrm{wave}$ [m]' )\n",
        "mpl.plot( TD.pp_freq_lst, TD.pp_OWC_h_amp_lst, 's-', label = r'$y_\\mathrm{OWC}$ [m]' )\n",
        "mpl.plot( [np.nan], [np.nan],  'Dg-', label='$\\Delta p$ [Pa]' )\n",
        "mpl.xlabel( \"Wave frequency, $f$ [Hz]\" )\n",
        "mpl.ylabel( \"Displacement [m]\")\n",
        "mpl.grid()\n",
        "mpl.legend()\n",
        "mpl.ylim( 0, 0.10 )\n",
        "\n",
        "ax2 = mpl.gca().twinx()\n",
        "ax2.plot( TD.pp_freq_lst, TD.pp_OWC_p_amp_lst, 'Dg-' )\n",
        "ax2.set_ylabel( \"Pressure amplitude [Pa]\")\n",
        "\n",
        "fig_filename = tests_filename + '_Displacments_Pressure'\n",
        "\n",
        "# for pdflatex\n",
        "mpl.savefig( fig_filename + '.pdf', bbox_inches='tight', pad_inches=0.02 )\n",
        "\n",
        "# for MS WORD\n",
        "mpl.savefig( fig_filename + '.jpg', bbox_inches='tight', pad_inches=0.02 )\n",
        "mpl.savefig( fig_filename + '.svg', bbox_inches='tight', pad_inches=0.02 )"
      ]
    },
    {
      "cell_type": "code",
      "source": [
        "# Create a zip file for download with all the results"
      ],
      "metadata": {
        "id": "4cwnecqhIxcy"
      },
      "execution_count": null,
      "outputs": []
    },
    {
      "cell_type": "code",
      "source": [
        "!zip {'RESULTS_'+tests_filename+'.zip'} \\\n",
        "      {tests_filename+'*.xlsx'} \\\n",
        "      {tests_filename+'*.jpg'} \\\n",
        "      {tests_filename+'*.pdf'} \\\n",
        "      {tests_filename+'*.svg'} \\\n",
        "      {'Low_Pass_Filter*.*'}"
      ],
      "metadata": {
        "id": "BmlPbr1jGkzR"
      },
      "execution_count": null,
      "outputs": []
    },
    {
      "cell_type": "code",
      "source": [],
      "metadata": {
        "id": "E1nnLj_GJY2n"
      },
      "execution_count": null,
      "outputs": []
    }
  ],
  "metadata": {
    "interpreter": {
      "hash": "687cc4e401708a16426ccc61b37822e273e79eddba24f8f00be477bc6019a9b9"
    },
    "kernelspec": {
      "display_name": "Python 3 (ipykernel)",
      "language": "python",
      "name": "python3"
    },
    "language_info": {
      "codemirror_mode": {
        "name": "ipython",
        "version": 3
      },
      "file_extension": ".py",
      "mimetype": "text/x-python",
      "name": "python",
      "nbconvert_exporter": "python",
      "pygments_lexer": "ipython3",
      "version": "3.10.2"
    },
    "colab": {
      "name": "YB_ExpAnalysis_V01.ipynb",
      "provenance": [],
      "include_colab_link": true
    }
  },
  "nbformat": 4,
  "nbformat_minor": 0
}