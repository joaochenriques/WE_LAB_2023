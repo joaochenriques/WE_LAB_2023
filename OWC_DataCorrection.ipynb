{
  "cells": [
    {
      "cell_type": "markdown",
      "metadata": {
        "id": "view-in-github",
        "colab_type": "text"
      },
      "source": [
        "<a href=\"https://colab.research.google.com/github/joaochenriques/WE_LAB_2023/blob/main/OWC_DataCorrection.ipynb\" target=\"_parent\"><img src=\"https://colab.research.google.com/assets/colab-badge.svg\" alt=\"Open In Colab\"/></a>"
      ]
    },
    {
      "cell_type": "code",
      "source": [
        "import h5py, re\n",
        "import matplotlib.pyplot as mpl\n",
        "import numpy as np\n",
        "import pandas as pd\n",
        "import scipy.signal\n",
        "from dataclasses import dataclass, field\n",
        "import os, pathlib"
      ],
      "metadata": {
        "id": "6mL1mUP3Lrp3"
      },
      "execution_count": 1,
      "outputs": []
    },
    {
      "cell_type": "code",
      "source": [
        "if not pathlib.Path(\"YB2m_Tests.h5\").exists():\n",
        "  os.system( \"curl -O https://raw.githubusercontent.com/joaochenriques/WE_LAB_2023/main/YB2m_Tests.zip\" )\n",
        "  os.system( \"unzip YB2m_Tests.zip\" )\n",
        "   \n",
        "if not pathlib.Path(\"YB4m_Tests.h5\").exists():\n",
        "  os.system( \"curl -O https://raw.githubusercontent.com/joaochenriques/WE_LAB_2023/main/YB4m_Tests.zip\" )\n",
        "  os.system( \"unzip YB4m_Tests.zip\" )"
      ],
      "metadata": {
        "id": "8W50iPRb1Bx5"
      },
      "execution_count": 47,
      "outputs": []
    },
    {
      "cell_type": "code",
      "execution_count": 49,
      "metadata": {
        "id": "LHXHlgubhQFC",
        "outputId": "16a09839-4ff7-4b7c-f0e1-6cb487a97a8d",
        "colab": {
          "base_uri": "https://localhost:8080/"
        }
      },
      "outputs": [
        {
          "output_type": "stream",
          "name": "stderr",
          "text": [
            "<ipython-input-49-390b2e8ac30f>:8: DeprecationWarning: `set_matplotlib_formats` is deprecated since IPython 7.23, directly use `matplotlib_inline.backend_inline.set_matplotlib_formats()`\n",
            "  set_matplotlib_formats('svg')\n"
          ]
        }
      ],
      "source": [
        "if not pathlib.Path(\"mpl_utils.py\").exists():\n",
        "  os.system( \"curl -O https://raw.githubusercontent.com/joaochenriques/ipynb_libs/main/mpl_utils.py\" ) \n",
        "\n",
        "import mpl_utils as mut\n",
        "mut.config_plots()\n",
        "\n",
        "from IPython.display import set_matplotlib_formats\n",
        "set_matplotlib_formats('svg')\n",
        "\n",
        "mpl.rcParams[\"figure.figsize\"] = (6,4.5)"
      ]
    },
    {
      "cell_type": "code",
      "source": [
        "#~==============================================================================\n",
        "def read_hdf_array( hdf5_Input, group, name ):\n",
        "    return np.array( hdf5_Input[ group + '/' + name ] )\n",
        "\n",
        "def read_hdf_scalar( hdf5_Input, group, name ):\n",
        "    return hdf5_Input[ group + '/' + name ][()]\n",
        "\n",
        "def read_hdf_string( hdf5_Input, group, name ):\n",
        "    return hdf5_Input[ group + '/' + name ][()]\n",
        "\n",
        "#~==============================================================================\n",
        "def save_hdf_array( hdf5_Output, group, name, fdata ):\n",
        "    hdf5_Output.create_dataset( group + '/' + name, data=fdata, \n",
        "                                compression=\"gzip\", compression_opts=9  )\n",
        "\n",
        "def save_hdf_scalar( hdf5_Output, group, name, fdata ):\n",
        "    hdf5_Output.create_dataset( group + '/' + name, data=fdata )\n",
        "\n",
        "def save_hdf_string( hdf5_Output, group, name, fdata ):\n",
        "    hdf5_Output.create_dataset( group + '/' + name, data=fdata, \n",
        "                                dtype=save_hdf_string.dt_str )\n",
        "save_hdf_string.dt_str = h5py.special_dtype( vlen=bytes )"
      ],
      "metadata": {
        "id": "3Opt1xe8_KmK"
      },
      "execution_count": 54,
      "outputs": []
    },
    {
      "cell_type": "code",
      "source": [
        "hf = h5py.File( 'YB2m_Tests.h5', 'a' )\n",
        "\n",
        "cases_names = list( hf.keys() )\n",
        "for case_name in cases_names:\n",
        "    var_entry = case_name + '/Delta_p'\n",
        "    if var_entry in hf:\n",
        "        Delta_p_RAW = read_hdf_array( hf, case_name, 'Delta_p_RAW' ) \n",
        "        Delta_p = -621.689 + 240.499 * Delta_p_RAW\n",
        "        del hf[ var_entry ]\n",
        "        save_hdf_array( hf, case_name, 'Delta_p', Delta_p )\n",
        "        print( \"Found: \" + case_name )\n",
        "\n",
        "hf.close()"
      ],
      "metadata": {
        "id": "7D2I-Lx8-QZ7",
        "outputId": "00f1809f-3315-456d-88e5-bf34e05c90b8",
        "colab": {
          "base_uri": "https://localhost:8080/"
        }
      },
      "execution_count": 56,
      "outputs": [
        {
          "output_type": "stream",
          "name": "stdout",
          "text": [
            "Found: YB2m_H0.02m_f0.30Hz\n",
            "Found: YB2m_H0.02m_f0.50Hz\n",
            "Found: YB2m_H0.02m_f0.60Hz\n",
            "Found: YB2m_H0.02m_f0.64Hz\n",
            "Found: YB2m_H0.02m_f0.70Hz\n",
            "Found: YB2m_H0.02m_f0.74Hz\n",
            "Found: YB2m_H0.02m_f0.76Hz\n",
            "Found: YB2m_H0.02m_f0.80Hz\n",
            "Found: YB2m_H0.02m_f0.84Hz\n",
            "Found: YB2m_H0.02m_f0.88Hz\n",
            "Found: YB2m_H0.02m_f0.90Hz\n",
            "Found: YB2m_H0.02m_f0.92Hz\n",
            "Found: YB2m_H0.02m_f0.96Hz\n",
            "Found: YB2m_H0.02m_f1.00Hz\n",
            "Found: YB2m_H0.02m_f1.02Hz\n",
            "Found: YB2m_H0.02m_f1.06Hz\n",
            "Found: YB2m_H0.02m_f1.08Hz\n",
            "Found: YB2m_H0.02m_f1.10Hz\n",
            "Found: YB2m_H0.02m_f1.12Hz\n",
            "Found: YB2m_H0.02m_f1.14Hz\n",
            "Found: YB2m_H0.02m_f1.16Hz\n",
            "Found: YB2m_H0.02m_f1.18Hz\n",
            "Found: YB2m_H0.02m_f1.20Hz\n",
            "Found: YB2m_H0.02m_f1.24Hz\n",
            "Found: YB2m_H0.02m_f1.28Hz\n",
            "Found: YB2m_H0.02m_f1.30Hz\n",
            "Found: YB2m_H0.02m_f1.34Hz\n",
            "Found: YB2m_H0.02m_f1.40Hz\n",
            "Found: YB2m_H0.02m_f1.50Hz\n"
          ]
        }
      ]
    },
    {
      "cell_type": "code",
      "source": [
        "hf = h5py.File( 'YB4m_Tests.h5', 'a' )\n",
        "\n",
        "cases_names = list( hf.keys() )\n",
        "for case_name in cases_names:\n",
        "    var_entry = case_name + '/Delta_p'\n",
        "    if var_entry in hf:\n",
        "        Delta_p_RAW = read_hdf_array( hf, case_name, 'Delta_p_RAW' ) \n",
        "        Delta_p = -621.689 + 240.499 * Delta_p_RAW\n",
        "        del hf[ var_entry ]\n",
        "        save_hdf_array( hf, case_name, 'Delta_p', Delta_p )\n",
        "        print( \"Found: \" + case_name )\n",
        "\n",
        "hf.close()"
      ],
      "metadata": {
        "id": "Dme5lfTh3ozK",
        "outputId": "098613dd-c3c0-45ec-df0e-ac82d1353231",
        "colab": {
          "base_uri": "https://localhost:8080/"
        }
      },
      "execution_count": 57,
      "outputs": [
        {
          "output_type": "stream",
          "name": "stdout",
          "text": [
            "Found: YB4m_H0.04m_f0.30Hz\n",
            "Found: YB4m_H0.04m_f0.50Hz\n",
            "Found: YB4m_H0.04m_f0.60Hz\n",
            "Found: YB4m_H0.04m_f0.64Hz\n",
            "Found: YB4m_H0.04m_f0.70Hz\n",
            "Found: YB4m_H0.04m_f0.74Hz\n",
            "Found: YB4m_H0.04m_f0.76Hz\n",
            "Found: YB4m_H0.04m_f0.80Hz\n",
            "Found: YB4m_H0.04m_f0.84Hz\n",
            "Found: YB4m_H0.04m_f0.88Hz\n",
            "Found: YB4m_H0.04m_f0.90Hz\n",
            "Found: YB4m_H0.04m_f0.92Hz\n",
            "Found: YB4m_H0.04m_f0.96Hz\n",
            "Found: YB4m_H0.04m_f1.00Hz\n",
            "Found: YB4m_H0.04m_f1.02Hz\n",
            "Found: YB4m_H0.04m_f1.06Hz\n",
            "Found: YB4m_H0.04m_f1.08Hz\n",
            "Found: YB4m_H0.04m_f1.10Hz\n",
            "Found: YB4m_H0.04m_f1.12Hz\n",
            "Found: YB4m_H0.04m_f1.14Hz\n",
            "Found: YB4m_H0.04m_f1.16Hz\n",
            "Found: YB4m_H0.04m_f1.18Hz\n",
            "Found: YB4m_H0.04m_f1.20Hz\n",
            "Found: YB4m_H0.04m_f1.24Hz\n",
            "Found: YB4m_H0.04m_f1.28Hz\n",
            "Found: YB4m_H0.04m_f1.30Hz\n",
            "Found: YB4m_H0.04m_f1.34Hz\n",
            "Found: YB4m_H0.04m_f1.40Hz\n",
            "Found: YB4m_H0.04m_f1.50Hz\n"
          ]
        }
      ]
    },
    {
      "cell_type": "code",
      "source": [
        "hf = h5py.File( 'YB2m_Tests.h5', 'a' )\n",
        "\n",
        "cases_names = list( hf.keys() )\n",
        "for case_name in cases_names:\n",
        "    filename = read_hdf_string( hf, case_name, 'CamerasFileName').decode(\"ascii\")\n",
        "    filename = filename.replace( 'tsv', 'csv')\n",
        "    print( \"Found: \" + case_name + ' -> ' + filename )\n",
        "    del hf[case_name + '/CamerasFileName']\n",
        "    save_hdf_string( hf, case_name, 'CamerasFileName', filename )\n",
        "\n",
        "hf.close()"
      ],
      "metadata": {
        "id": "saCWYxLJ8NNL",
        "outputId": "1b275e2e-449a-4ff4-e3c5-1bd7e015e129",
        "colab": {
          "base_uri": "https://localhost:8080/"
        }
      },
      "execution_count": 65,
      "outputs": [
        {
          "output_type": "stream",
          "name": "stdout",
          "text": [
            "Found: YB2m_H0.02m_f0.30Hz -> YB2m_H0.02m_f0.30Hz.csv\n",
            "Found: YB2m_H0.02m_f0.50Hz -> YB2m_H0.02m_f0.50Hz.csv\n",
            "Found: YB2m_H0.02m_f0.60Hz -> YB2m_H0.04m_f0.60Hz.csv\n",
            "Found: YB2m_H0.02m_f0.64Hz -> YB2m_H0.02m_f0.64Hz.csv\n",
            "Found: YB2m_H0.02m_f0.70Hz -> YB2m_H0.02m_f0.70Hz.csv\n",
            "Found: YB2m_H0.02m_f0.74Hz -> YB2m_H0.02m_f0.74Hz.csv\n",
            "Found: YB2m_H0.02m_f0.76Hz -> YB2m_H0.02m_f0.76Hz.csv\n",
            "Found: YB2m_H0.02m_f0.80Hz -> YB2m_H0.02m_f0.80Hz.csv\n",
            "Found: YB2m_H0.02m_f0.84Hz -> YB2m_H0.02m_f0.84Hz.csv\n",
            "Found: YB2m_H0.02m_f0.88Hz -> YB2m_H0.02m_f0.88Hz.csv\n",
            "Found: YB2m_H0.02m_f0.90Hz -> YB2m_H0.02m_f0.90Hz.csv\n",
            "Found: YB2m_H0.02m_f0.92Hz -> YB2m_H0.02m_f0.92Hz.csv\n",
            "Found: YB2m_H0.02m_f0.96Hz -> YB2m_H0.02m_f0.96Hz.csv\n",
            "Found: YB2m_H0.02m_f1.00Hz -> YB2m_H0.02m_f1.00Hz.csv\n",
            "Found: YB2m_H0.02m_f1.02Hz -> YB2m_H0.02m_f1.02Hz.csv\n",
            "Found: YB2m_H0.02m_f1.06Hz -> YB2m_H0.02m_f1.06Hz.csv\n",
            "Found: YB2m_H0.02m_f1.08Hz -> YB2m_H0.02m_f1.08Hz.csv\n",
            "Found: YB2m_H0.02m_f1.10Hz -> YB2m_H0.02m_f1.10Hz.csv\n",
            "Found: YB2m_H0.02m_f1.12Hz -> YB2m_H0.02m_f1.12Hz.csv\n",
            "Found: YB2m_H0.02m_f1.14Hz -> YB2m_H0.02m_f1.14Hz.csv\n",
            "Found: YB2m_H0.02m_f1.16Hz -> YB2m_H0.02m_f1.16Hz.csv\n",
            "Found: YB2m_H0.02m_f1.18Hz -> YB2m_H0.02m_f1.18Hz.csv\n",
            "Found: YB2m_H0.02m_f1.20Hz -> YB2m_H0.02m_f1.20Hz.csv\n",
            "Found: YB2m_H0.02m_f1.24Hz -> YB2m_H0.02m_f1.24Hz.csv\n",
            "Found: YB2m_H0.02m_f1.28Hz -> YB2m_H0.02m_f1.28Hz.csv\n",
            "Found: YB2m_H0.02m_f1.30Hz -> YB2m_H0.02m_f1.30Hz.csv\n",
            "Found: YB2m_H0.02m_f1.34Hz -> YB2m_H0.02m_f1.34Hz.csv\n",
            "Found: YB2m_H0.02m_f1.40Hz -> YB2m_H0.02m_f1.40Hz.csv\n",
            "Found: YB2m_H0.02m_f1.50Hz -> YB2m_H0.02m_f1.50Hz.csv\n"
          ]
        }
      ]
    },
    {
      "cell_type": "code",
      "source": [
        "hf = h5py.File( 'YB4m_Tests.h5', 'a' )\n",
        "\n",
        "cases_names = list( hf.keys() )\n",
        "for case_name in cases_names:\n",
        "    filename = read_hdf_string( hf, case_name, 'CamerasFileName').decode(\"ascii\")\n",
        "    filename = filename.replace( 'tsv', 'csv')\n",
        "    print( \"Found: \" + case_name + ' -> ' + filename )\n",
        "    del hf[case_name + '/CamerasFileName']\n",
        "    save_hdf_string( hf, case_name, 'CamerasFileName', filename )\n",
        "\n",
        "hf.close()"
      ],
      "metadata": {
        "id": "gMLOZCo7AOUe",
        "outputId": "d597812d-fd04-49e3-deeb-6269b94a56f3",
        "colab": {
          "base_uri": "https://localhost:8080/"
        }
      },
      "execution_count": 66,
      "outputs": [
        {
          "output_type": "stream",
          "name": "stdout",
          "text": [
            "Found: YB4m_H0.04m_f0.30Hz -> YB4m_H0.04m_f0.30Hz.csv\n",
            "Found: YB4m_H0.04m_f0.50Hz -> YB4m_H0.04m_f0.50Hz.csv\n",
            "Found: YB4m_H0.04m_f0.60Hz -> YB4m_H0.04m_f0.60Hz.csv\n",
            "Found: YB4m_H0.04m_f0.64Hz -> YB4m_H0.04m_f0.64Hz.csv\n",
            "Found: YB4m_H0.04m_f0.70Hz -> YB4m_H0.04m_f0.70Hz.csv\n",
            "Found: YB4m_H0.04m_f0.74Hz -> YB4m_H0.04m_f0.74Hz.csv\n",
            "Found: YB4m_H0.04m_f0.76Hz -> YB4m_H0.04m_f0.76Hz.csv\n",
            "Found: YB4m_H0.04m_f0.80Hz -> YB4m_H0.04m_f0.80Hz.csv\n",
            "Found: YB4m_H0.04m_f0.84Hz -> YB4m_H0.04m_f0.84Hz.csv\n",
            "Found: YB4m_H0.04m_f0.88Hz -> YB4m_H0.04m_f0.88Hz.csv\n",
            "Found: YB4m_H0.04m_f0.90Hz -> YB4m_H0.04m_f0.90Hz.csv\n",
            "Found: YB4m_H0.04m_f0.92Hz -> YB4m_H0.04m_f0.92Hz.csv\n",
            "Found: YB4m_H0.04m_f0.96Hz -> YB4m_H0.04m_f0.96Hz.csv\n",
            "Found: YB4m_H0.04m_f1.00Hz -> YB4m_H0.04m_f1.00Hz.csv\n",
            "Found: YB4m_H0.04m_f1.02Hz -> YB4m_H0.04m_f1.02Hz.csv\n",
            "Found: YB4m_H0.04m_f1.06Hz -> YB4m_H0.04m_f1.06Hz.csv\n",
            "Found: YB4m_H0.04m_f1.08Hz -> YB4m_H0.04m_f1.08Hz.csv\n",
            "Found: YB4m_H0.04m_f1.10Hz -> YB4m_H0.04m_f1.10Hz.csv\n",
            "Found: YB4m_H0.04m_f1.12Hz -> YB4m_H0.04m_f1.12Hz.csv\n",
            "Found: YB4m_H0.04m_f1.14Hz -> YB4m_H0.04m_f1.14Hz.csv\n",
            "Found: YB4m_H0.04m_f1.16Hz -> YB4m_H0.04m_f1.16Hz.csv\n",
            "Found: YB4m_H0.04m_f1.18Hz -> YB4m_H0.04m_f1.18Hz.csv\n",
            "Found: YB4m_H0.04m_f1.20Hz -> YB4m_H0.04m_f1.20Hz.csv\n",
            "Found: YB4m_H0.04m_f1.24Hz -> YB4m_H0.04m_f1.24Hz.csv\n",
            "Found: YB4m_H0.04m_f1.28Hz -> YB4m_H0.04m_f1.28Hz.csv\n",
            "Found: YB4m_H0.04m_f1.30Hz -> YB4m_H0.04m_f1.30Hz.csv\n",
            "Found: YB4m_H0.04m_f1.34Hz -> YB4m_H0.04m_f1.34Hz.csv\n",
            "Found: YB4m_H0.04m_f1.40Hz -> YB4m_H0.04m_f1.40Hz.csv\n",
            "Found: YB4m_H0.04m_f1.50Hz -> YB4m_H0.04m_f1.50Hz.csv\n"
          ]
        }
      ]
    },
    {
      "cell_type": "code",
      "source": [
        "hf = h5py.File( 'YB2m_Tests.h5', 'a' )\n",
        "\n",
        "cases_names = list( hf.keys() )\n",
        "for case_name in cases_names:\n",
        "    Delta_p = read_hdf_array( hf, case_name, 'Delta_p' ) \n",
        "    mean_Delta_p = np.average( Delta_p )\n",
        "    filename = read_hdf_string( hf, case_name, 'CamerasFileName').decode(\"ascii\")\n",
        "    filename = filename.replace( 'tsv', 'csv')\n",
        "    print( case_name + ' -> ' + str( mean_Delta_p) + ' : ' + filename )\n",
        "\n",
        "hf.close()"
      ],
      "metadata": {
        "id": "fKoWoQ6GBwz3",
        "outputId": "b6d80d74-ec5a-40de-e682-ddcb44ffe9fb",
        "colab": {
          "base_uri": "https://localhost:8080/"
        }
      },
      "execution_count": 68,
      "outputs": [
        {
          "output_type": "stream",
          "name": "stdout",
          "text": [
            "YB2m_H0.02m_f0.30Hz -> -2.604621891884222 : YB2m_H0.02m_f0.30Hz.csv\n",
            "YB2m_H0.02m_f0.50Hz -> -2.83184053240937 : YB2m_H0.02m_f0.50Hz.csv\n",
            "YB2m_H0.02m_f0.60Hz -> -2.9719558531233026 : YB2m_H0.04m_f0.60Hz.csv\n",
            "YB2m_H0.02m_f0.64Hz -> -3.023433744675134 : YB2m_H0.02m_f0.64Hz.csv\n",
            "YB2m_H0.02m_f0.70Hz -> -2.94519416778012 : YB2m_H0.02m_f0.70Hz.csv\n",
            "YB2m_H0.02m_f0.74Hz -> -3.6563390802114637 : YB2m_H0.02m_f0.74Hz.csv\n",
            "YB2m_H0.02m_f0.76Hz -> -3.7966248575199106 : YB2m_H0.02m_f0.76Hz.csv\n",
            "YB2m_H0.02m_f0.80Hz -> -4.542031545454578 : YB2m_H0.02m_f0.80Hz.csv\n",
            "YB2m_H0.02m_f0.84Hz -> -4.64174865326197 : YB2m_H0.02m_f0.84Hz.csv\n",
            "YB2m_H0.02m_f0.88Hz -> -4.337995001787153 : YB2m_H0.02m_f0.88Hz.csv\n",
            "YB2m_H0.02m_f0.90Hz -> -4.782716256948606 : YB2m_H0.02m_f0.90Hz.csv\n",
            "YB2m_H0.02m_f0.92Hz -> -4.450666810779736 : YB2m_H0.02m_f0.92Hz.csv\n",
            "YB2m_H0.02m_f0.96Hz -> -5.783637380102142 : YB2m_H0.02m_f0.96Hz.csv\n",
            "YB2m_H0.02m_f1.00Hz -> -6.251711188715709 : YB2m_H0.02m_f1.00Hz.csv\n",
            "YB2m_H0.02m_f1.02Hz -> -6.929617065211231 : YB2m_H0.02m_f1.02Hz.csv\n",
            "YB2m_H0.02m_f1.06Hz -> -7.045868462689237 : YB2m_H0.02m_f1.06Hz.csv\n",
            "YB2m_H0.02m_f1.08Hz -> -8.711058934775028 : YB2m_H0.02m_f1.08Hz.csv\n",
            "YB2m_H0.02m_f1.10Hz -> -8.99555099106645 : YB2m_H0.02m_f1.10Hz.csv\n",
            "YB2m_H0.02m_f1.12Hz -> -8.896515709637278 : YB2m_H0.02m_f1.12Hz.csv\n",
            "YB2m_H0.02m_f1.14Hz -> -12.109792973358038 : YB2m_H0.02m_f1.14Hz.csv\n",
            "YB2m_H0.02m_f1.16Hz -> -8.763900479083214 : YB2m_H0.02m_f1.16Hz.csv\n",
            "YB2m_H0.02m_f1.18Hz -> -8.393157385953286 : YB2m_H0.02m_f1.18Hz.csv\n",
            "YB2m_H0.02m_f1.20Hz -> -6.810638362220617 : YB2m_H0.02m_f1.20Hz.csv\n",
            "YB2m_H0.02m_f1.24Hz -> -5.773921354213134 : YB2m_H0.02m_f1.24Hz.csv\n",
            "YB2m_H0.02m_f1.28Hz -> -4.233675565927066 : YB2m_H0.02m_f1.28Hz.csv\n",
            "YB2m_H0.02m_f1.30Hz -> -3.2844027909198035 : YB2m_H0.02m_f1.30Hz.csv\n",
            "YB2m_H0.02m_f1.34Hz -> -3.248095536282141 : YB2m_H0.02m_f1.34Hz.csv\n",
            "YB2m_H0.02m_f1.40Hz -> -2.8006469756080823 : YB2m_H0.02m_f1.40Hz.csv\n",
            "YB2m_H0.02m_f1.50Hz -> -3.2675275880599894 : YB2m_H0.02m_f1.50Hz.csv\n"
          ]
        }
      ]
    },
    {
      "cell_type": "code",
      "source": [
        "hf = h5py.File( 'YB4m_Tests.h5', 'a' )\n",
        "\n",
        "cases_names = list( hf.keys() )\n",
        "for case_name in cases_names:\n",
        "    Delta_p = read_hdf_array( hf, case_name, 'Delta_p' ) \n",
        "    mean_Delta_p = np.average( Delta_p )\n",
        "    filename = read_hdf_string( hf, case_name, 'CamerasFileName').decode(\"ascii\")\n",
        "    filename = filename.replace( 'tsv', 'csv')\n",
        "    print( case_name + ' -> ' + str( mean_Delta_p) + ' : ' + filename )\n",
        "\n",
        "hf.close()"
      ],
      "metadata": {
        "id": "H4H-0KG_-swn",
        "outputId": "02f096f5-a2c2-48ed-ab4e-8e42d3661b22",
        "colab": {
          "base_uri": "https://localhost:8080/"
        }
      },
      "execution_count": 67,
      "outputs": [
        {
          "output_type": "stream",
          "name": "stdout",
          "text": [
            "YB4m_H0.04m_f0.30Hz -> -2.858943130941626 : YB4m_H0.04m_f0.30Hz.csv\n",
            "YB4m_H0.04m_f0.50Hz -> -2.899682257037284 : YB4m_H0.04m_f0.50Hz.csv\n",
            "YB4m_H0.04m_f0.60Hz -> -2.78513542550472 : YB4m_H0.04m_f0.60Hz.csv\n",
            "YB4m_H0.04m_f0.64Hz -> -3.2595161281164873 : YB4m_H0.04m_f0.64Hz.csv\n",
            "YB4m_H0.04m_f0.70Hz -> -4.738397542367436 : YB4m_H0.04m_f0.70Hz.csv\n",
            "YB4m_H0.04m_f0.74Hz -> -4.57731606052475 : YB4m_H0.04m_f0.74Hz.csv\n",
            "YB4m_H0.04m_f0.76Hz -> -4.660157965472469 : YB4m_H0.04m_f0.76Hz.csv\n",
            "YB4m_H0.04m_f0.80Hz -> -6.2510293623375865 : YB4m_H0.04m_f0.80Hz.csv\n",
            "YB4m_H0.04m_f0.84Hz -> -5.010446267257228 : YB4m_H0.04m_f0.84Hz.csv\n",
            "YB4m_H0.04m_f0.88Hz -> -7.095300875106621 : YB4m_H0.04m_f0.88Hz.csv\n",
            "YB4m_H0.04m_f0.90Hz -> -7.236438935387865 : YB4m_H0.04m_f0.90Hz.csv\n",
            "YB4m_H0.04m_f0.92Hz -> -7.421384340466389 : YB4m_H0.04m_f0.92Hz.csv\n",
            "YB4m_H0.04m_f0.96Hz -> -10.020165580861455 : YB4m_H0.04m_f0.96Hz.csv\n",
            "YB4m_H0.04m_f1.00Hz -> -10.723128576754773 : YB4m_H0.04m_f1.00Hz.csv\n",
            "YB4m_H0.04m_f1.02Hz -> -12.064281062615184 : YB4m_H0.04m_f1.02Hz.csv\n",
            "YB4m_H0.04m_f1.06Hz -> -10.552331069023158 : YB4m_H0.04m_f1.06Hz.csv\n",
            "YB4m_H0.04m_f1.08Hz -> -12.912643533653222 : YB4m_H0.04m_f1.08Hz.csv\n",
            "YB4m_H0.04m_f1.10Hz -> -13.54145791092052 : YB4m_H0.04m_f1.10Hz.csv\n",
            "YB4m_H0.04m_f1.12Hz -> -13.694016563036072 : YB4m_H0.04m_f1.12Hz.csv\n",
            "YB4m_H0.04m_f1.14Hz -> -16.20330809129627 : YB4m_H0.04m_f1.14Hz.csv\n",
            "YB4m_H0.04m_f1.16Hz -> -15.639437676549678 : YB4m_H0.04m_f1.16Hz.csv\n",
            "YB4m_H0.04m_f1.18Hz -> -12.89184782911904 : YB4m_H0.04m_f1.18Hz.csv\n",
            "YB4m_H0.04m_f1.20Hz -> -13.161680618279812 : YB4m_H0.04m_f1.20Hz.csv\n",
            "YB4m_H0.04m_f1.24Hz -> -10.31113498774553 : YB4m_H0.04m_f1.24Hz.csv\n",
            "YB4m_H0.04m_f1.28Hz -> -7.344337959733189 : YB4m_H0.04m_f1.28Hz.csv\n",
            "YB4m_H0.04m_f1.30Hz -> -6.674613999775666 : YB4m_H0.04m_f1.30Hz.csv\n",
            "YB4m_H0.04m_f1.34Hz -> -4.897092631886573 : YB4m_H0.04m_f1.34Hz.csv\n",
            "YB4m_H0.04m_f1.40Hz -> -3.4361091600625975 : YB4m_H0.04m_f1.40Hz.csv\n",
            "YB4m_H0.04m_f1.50Hz -> -3.1596285637145853 : YB4m_H0.04m_f1.50Hz.csv\n"
          ]
        }
      ]
    },
    {
      "cell_type": "code",
      "source": [],
      "metadata": {
        "id": "RTYYr_yXBte_"
      },
      "execution_count": null,
      "outputs": []
    }
  ],
  "metadata": {
    "interpreter": {
      "hash": "687cc4e401708a16426ccc61b37822e273e79eddba24f8f00be477bc6019a9b9"
    },
    "kernelspec": {
      "display_name": "Python 3 (ipykernel)",
      "language": "python",
      "name": "python3"
    },
    "language_info": {
      "codemirror_mode": {
        "name": "ipython",
        "version": 3
      },
      "file_extension": ".py",
      "mimetype": "text/x-python",
      "name": "python",
      "nbconvert_exporter": "python",
      "pygments_lexer": "ipython3",
      "version": "3.10.2"
    },
    "colab": {
      "name": "OWC_PressureSignal.ipynb",
      "provenance": [],
      "include_colab_link": true
    }
  },
  "nbformat": 4,
  "nbformat_minor": 0
}