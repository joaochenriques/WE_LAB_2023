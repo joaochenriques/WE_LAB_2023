{
  "cells": [
    {
      "cell_type": "markdown",
      "metadata": {
        "id": "view-in-github",
        "colab_type": "text"
      },
      "source": [
        "<a href=\"https://colab.research.google.com/github/joaochenriques/WE_LAB_2023/blob/main/OWC_ExpAnalysis_V23C.ipynb\" target=\"_parent\"><img src=\"https://colab.research.google.com/assets/colab-badge.svg\" alt=\"Open In Colab\"/></a>"
      ]
    },
    {
      "cell_type": "code",
      "execution_count": null,
      "metadata": {
        "id": "gxBJwzJ5hQFA"
      },
      "outputs": [],
      "source": [
        "import h5py, re\n",
        "import matplotlib.pyplot as mpl\n",
        "import numpy as np\n",
        "import pandas as pd\n",
        "import scipy.signal\n",
        "from dataclasses import dataclass, field\n",
        "import os, pathlib"
      ]
    },
    {
      "cell_type": "code",
      "source": [
        "if not pathlib.Path(\"YB2m_Tests_V5.h5\").exists():\n",
        "  os.system( \"curl -O https://raw.githubusercontent.com/joaochenriques/WE_LAB_2023/main/YB2m_Tests_V5.zip\" )\n",
        "  os.system( \"unzip YB2m_Tests_V5.zip\" )\n",
        "   \n",
        "if not pathlib.Path(\"YB4m_Tests_V5.h5\").exists():\n",
        "  os.system( \"curl -O https://raw.githubusercontent.com/joaochenriques/WE_LAB_2023/main/YB4m_Tests_V5.zip\" )\n",
        "  os.system( \"unzip YB4m_Tests_V5.zip\" )"
      ],
      "metadata": {
        "id": "Bn_rLYV9VeAk"
      },
      "execution_count": null,
      "outputs": []
    },
    {
      "cell_type": "code",
      "execution_count": null,
      "metadata": {
        "id": "LHXHlgubhQFC"
      },
      "outputs": [],
      "source": [
        "if not pathlib.Path(\"mpl_utils.py\").exists():\n",
        "  os.system( \"curl -O https://raw.githubusercontent.com/joaochenriques/ipynb_libs/main/mpl_utils.py\" ) \n",
        "\n",
        "import mpl_utils as mut\n",
        "mut.config_plots()\n",
        "\n",
        "from IPython.display import set_matplotlib_formats\n",
        "set_matplotlib_formats('svg')\n",
        "\n",
        "mpl.rcParams[\"figure.figsize\"] = (6,4.5)"
      ]
    },
    {
      "cell_type": "code",
      "source": [
        "tests_filename = 'YB4m_Tests_V5'\n",
        "save_time_series_in_EXCEL = True\n",
        "os.system( \"pip install xlsxwriter\" )"
      ],
      "metadata": {
        "id": "RF_BNZh-4irA"
      },
      "execution_count": null,
      "outputs": []
    },
    {
      "cell_type": "code",
      "source": [
        "results_folder = './'\n",
        "\n",
        "if not os.path.isdir( results_folder ):\n",
        "    try: \n",
        "        os.mkdir( results_folder ) \n",
        "    except OSError as error: \n",
        "        print(error)    "
      ],
      "metadata": {
        "id": "NQFcJpXT_Xta"
      },
      "execution_count": null,
      "outputs": []
    },
    {
      "cell_type": "code",
      "source": [
        "def read_hdf_array( hdf5_Input, group, name ):\n",
        "    return np.array( hdf5_Input[ group + '/' + name ] )\n",
        "\n",
        "def read_hdf_scalar( hdf5_Input, group, name ):\n",
        "    return hdf5_Input[ group + '/' + name ][()]\n",
        "\n",
        "def read_hdf_string( hdf5_Input, group, name ):\n",
        "    return hdf5_Input[ group + '/' + name ][()]\n",
        "\n",
        "def save_hdf_array( hdf5_Output, group, name, fdata ):\n",
        "    hdf5_Output.create_dataset( group + '/' + name, data=fdata, \n",
        "                                compression=\"gzip\", compression_opts=9  )\n",
        "\n",
        "def save_hdf_scalar( hdf5_Output, group, name, fdata ):\n",
        "    hdf5_Output.create_dataset( group + '/' + name, data=fdata )\n",
        "\n",
        "def save_hdf_string( hdf5_Output, group, name, fdata ):\n",
        "    hdf5_Output.create_dataset( group + '/' + name, data=fdata, \n",
        "                                dtype=save_hdf_string.dt_str )\n",
        "save_hdf_string.dt_str = h5py.special_dtype( vlen=bytes )"
      ],
      "metadata": {
        "id": "VdQHxAYEDv9h"
      },
      "execution_count": null,
      "outputs": []
    },
    {
      "cell_type": "markdown",
      "metadata": {
        "id": "l6a2tA1HhQFG"
      },
      "source": [
        "## Functions used in the post-processing phase\n",
        "\n",
        "Filter using convolution and neglecting the ends"
      ]
    },
    {
      "cell_type": "code",
      "execution_count": null,
      "metadata": {
        "id": "qvGxTzi1hQFH"
      },
      "outputs": [],
      "source": [
        "def FilterSignal( coeffs, time, unf_signal ):\n",
        "\n",
        "  NS = unf_signal.shape[0]\n",
        "  NC = coeffs.shape[0]\n",
        "\n",
        "  assert( NC % 2 > 0 ) # assert that is a centred filter (odd)\n",
        "\n",
        "  flt_signal = np.convolve( unf_signal, coeffs, 'valid')\n",
        "  hNC = int( NC / 2 )\n",
        "  flt_time = time[ hNC: NS-hNC ]\n",
        "\n",
        "  assert( flt_time.shape[0] == flt_signal.shape[0] )\n",
        "\n",
        "  return flt_time, flt_signal"
      ]
    },
    {
      "cell_type": "markdown",
      "metadata": {
        "id": "yqPFXXYIhQFI"
      },
      "source": [
        "Sinc filter with a Gaussian window\n",
        "\n",
        "Further information about this filter can be found at the web site\n",
        "    <http://www.dspguide.com/ch16.htm>"
      ]
    },
    {
      "cell_type": "code",
      "execution_count": null,
      "metadata": {
        "id": "wxAVYyHUhQFJ"
      },
      "outputs": [],
      "source": [
        "def FilterSincGaussian( window, fc, sigma ):\n",
        "  M = int( window / 2 )\n",
        "  pnts = np.linspace( -M, M, 2*M+1 ) / M\n",
        "  LP_coefs  = 2.0 * np.sinc( fc * pnts ) * np.exp( -0.5*pnts**2/sigma**2 )\n",
        "  LP_coefs /= sum(LP_coefs)\n",
        "  return LP_coefs"
      ]
    },
    {
      "cell_type": "markdown",
      "metadata": {
        "id": "mOJIWp1EhQFJ"
      },
      "source": [
        "Filter frequency response function"
      ]
    },
    {
      "cell_type": "code",
      "execution_count": null,
      "metadata": {
        "id": "S_V12PzbhQFK"
      },
      "outputs": [],
      "source": [
        "def FilterResponse( LPF_coefs, points = 2000, lowpow = -6, highpow = 0 ):\n",
        "\n",
        "  NT = LPF_coefs.shape[0]\n",
        "  delta_f = 1.0 / points\n",
        "\n",
        "  m  = int( ( NT-1 ) / 2 )\n",
        "  omega_star = np.zeros( points )\n",
        "  H = np.zeros( points )\n",
        "\n",
        "  a = highpow - lowpow\n",
        "  js = ( -1J * np.pi ) * np.linspace( -m, m, 2*m+1 )\n",
        "\n",
        "  for i in range( points ):\n",
        "    omega_star[i] = 10**(a * delta_f * i + lowpow )\n",
        "    eiwt = np.exp( omega_star[i] * js )\n",
        "    G = np.dot( LPF_coefs, eiwt )\n",
        "    H[i] = np.real( G )\n",
        "\n",
        "  return omega_star, H"
      ]
    },
    {
      "cell_type": "markdown",
      "metadata": {
        "id": "E1vBo7dThQFL"
      },
      "source": [
        "Plot filter specifications\n"
      ]
    },
    {
      "cell_type": "code",
      "execution_count": null,
      "metadata": {
        "id": "K0bpjFlrhQFL"
      },
      "outputs": [],
      "source": [
        "def PlotFilterSpecs( LP_coefs, fsample, LP_fc, LP_sigma, folder ):\n",
        "\n",
        "    LP_omega, LP_H = FilterResponse( LP_coefs )\n",
        "    LP_omega *= fsample\n",
        "    \n",
        "    fig, (ax1, ax2) = mpl.subplots(1,2, figsize=(12, 4.5) )\n",
        "    fig.subplots_adjust( wspace = 0.17 )\n",
        "\n",
        "    lbl= r\"$f_s=%.1f,\\ f_c=%.1f,\\ \\sigma=%.2f$\" % ( fsample, LP_fc, LP_sigma )\n",
        "    ax1.semilogy( LP_omega, LP_H, label = lbl )\n",
        "    ax1.legend()\n",
        "    ax1.grid()\n",
        "    ax1.set_xlabel('frequency, [Hz]')\n",
        "    ax1.set_ylabel('Gain, [-]')\n",
        "    \n",
        "    ax2.plot( LP_omega, LP_H )\n",
        "    ax2.grid()\n",
        "    ax2.set_xlabel('frequency, [Hz]')\n",
        "    ax2.set_ylabel('Gain, [-]')\n",
        "\n",
        "    filename = 'Low_Pass_Filter'\n",
        "    # for pdflatex\n",
        "    mpl.savefig( results_folder + filename + '.pdf', bbox_inches='tight', pad_inches=0.02 )\n",
        "\n",
        "    # for MS WORD\n",
        "    mpl.savefig( results_folder + filename + '.jpg', bbox_inches='tight', pad_inches=0.02 )\n",
        "    mpl.savefig( results_folder + filename + '.svg', bbox_inches='tight', pad_inches=0.02 )"
      ]
    },
    {
      "cell_type": "markdown",
      "metadata": {
        "id": "io1IWF9HhQFM"
      },
      "source": [
        "## Post-Process functions\n",
        "\n",
        "To compute the wave length $\\lambda$ we need to use the dispersion relation\n",
        "\n",
        "\\begin{equation*} \n",
        "\\omega^{2}=g k \\tanh (k h),\n",
        "\\end{equation*}\n",
        "\n",
        "where the wavelength is defined as\n",
        "\n",
        "\\begin{equation*} \n",
        "k=\\frac{2\\pi}\\lambda.\n",
        "\\end{equation*}\n",
        "\n",
        "Explicit formula for the dispersion relation was obtained by [1] as\n",
        "\n",
        "\\begin{equation*}\n",
        "k h=\\left(k_{0} h\\right) \\sqrt{1+\\frac{1}{\\varepsilon+k_{0} h\\left(1+D_{1}\\left(k_{0} h\\right)+D_{2}\\left(k_{0} h\\right)^{2}+D_{4}\\left(k_{0} h\\right)^{4}+D_{5}\\left(k_{0} h\\right)^{5}\\right)^{2}}}\n",
        "\\end{equation*}\n",
        "\n",
        "where the constants are given by $D_{1}=0.6522, D_{2}=0.4622, D_{4}=0.0864$ and $D_{5}=0.0675$.\n",
        "\n",
        "A small $\\varepsilon=10^{-12}$ was added to avoid division by zero when $\\omega=0$.\n",
        "\n",
        "The wave number for infinite depth water conditions is given by\n",
        "\n",
        "$\\displaystyle k_0 h = \\frac{\\omega^2 h}g$.\n",
        "\n",
        "[1] Zai-Jin You. A close approximation of wave dispersion relation for direct calculation of\n",
        "wavelength in any coastal water depth. *Applied Ocean Research*, 30(2):113 – 119, 2008.\n",
        "\n",
        "\n",
        "\n",
        "\n"
      ]
    },
    {
      "cell_type": "code",
      "execution_count": null,
      "metadata": {
        "id": "hGJSBQiJhQFN"
      },
      "outputs": [],
      "source": [
        "def dispersion_relation( ω, h ):\n",
        "    grav = 9.81\n",
        "    k0h = h * ω**2 / grav\n",
        "    return ( k0h*np.sqrt(1.0 + 1.0/(1E-12+k0h*(1. + 0.6522*k0h + 0.4622*k0h**2 + 0.0864*k0h**4 + 0.0675*k0h**5))))"
      ]
    },
    {
      "cell_type": "markdown",
      "metadata": {
        "id": "4jfWhLXMhQFN"
      },
      "source": [
        "Phase velocity is computed from\n",
        "\n",
        "\\begin{equation*}\n",
        "c_{p}^{2}=\\frac{g}{k} \\tanh (k h)=\\frac{g\\lambda}{2\\pi} \\tanh\\!\\left(\\frac{2\\pi h}{\\lambda}\\right).\n",
        "\\end{equation*}"
      ]
    },
    {
      "cell_type": "code",
      "execution_count": null,
      "metadata": {
        "id": "4v2m5DZbhQFO"
      },
      "outputs": [],
      "source": [
        "def phase_velocity( λ, h ):\n",
        "    grav = 9.81\n",
        "    twopi = 2.0 * np.pi\n",
        "    return np.sqrt( grav * λ / twopi * np.tanh( twopi * h / λ ) )"
      ]
    },
    {
      "cell_type": "markdown",
      "metadata": {
        "id": "OnWGZd6HhQFO"
      },
      "source": [
        "Mean wave power per unit wave crest\n",
        "\n",
        "\\begin{equation*}\n",
        "\\bar{P}_\\text{wave} = \\bar{E} \\, c_g,\n",
        "\\end{equation*}\n",
        "\n",
        "where\n",
        "\n",
        "\\begin{equation*}\n",
        "\\bar{E} = \\frac{1}{8} \\rho_\\text{w} g H^2,\n",
        "\\end{equation*}\n",
        "\n",
        "and\n",
        "\n",
        "\\begin{equation*}\n",
        "c_g = \\frac{\\omega h}{2kh} \\left( 1 + \\frac{2kh}{\\sinh(2kh)}\\right).\n",
        "\\end{equation*}\n"
      ]
    },
    {
      "cell_type": "code",
      "execution_count": null,
      "metadata": {
        "id": "u_P9jiRzhQFO"
      },
      "outputs": [],
      "source": [
        "def wave_power( cnt, h, H, f ):  \n",
        "    ω = 2.0 * np.pi * f\n",
        "    two_kh = 2.0 *  dispersion_relation( ω, h )\n",
        "    c_g = ω * h / two_kh * ( 1.0 + two_kh / np.sinh(two_kh) )\n",
        "    E = 1.0 / 8.0 * cnt.𝜌_w * cnt.grav * H**2\n",
        "    return E * c_g"
      ]
    },
    {
      "cell_type": "markdown",
      "metadata": {
        "id": "sU1H0q0phQFP"
      },
      "source": [
        "Function to compute the mean and the amplitude of a signal within a given interval [i_left, i_right]"
      ]
    },
    {
      "cell_type": "markdown",
      "metadata": {
        "id": "N6J9NTe2hQFP"
      },
      "source": [
        "## Post-processing of the data\n",
        "\n",
        "Constants of the problem"
      ]
    },
    {
      "cell_type": "code",
      "execution_count": null,
      "metadata": {
        "id": "L7w79CGchQFQ"
      },
      "outputs": [],
      "source": [
        "@dataclass\n",
        "class constants:\n",
        "\n",
        "    𝜌_w: float = 998.0        # [kg/m³] - water density\n",
        "    𝜌_air: float = 1.21       # [kg/m³] - air density\n",
        "    grav: float = 9.81        # [m/s²]  - gravity acceleration\n",
        "\n",
        "    # post-process assumptions\n",
        "    t_hist: float = 6.0       # [s] - estimated OWC history time\n",
        "    t_ramp: float = 6.0       # [s] - wavemake maximum ramp time \n",
        "\n",
        "    # filter configuration\n",
        "    LP_fsample: int = 200     # [Hz] - sampling rate  \n",
        "    LP_window: int = 301      # [-] - window of the filter  \n",
        "    LP_fc: float = 10.0       # [Hz] - estimated cutting frequency of the filter\n",
        "    LP_sigma: float = 0.35    # [-] - slope of the filter "
      ]
    },
    {
      "cell_type": "markdown",
      "metadata": {
        "id": "g_UBEE4chQFQ"
      },
      "source": [
        "Let us define a filter for post-processing (especially for the pressure signal)"
      ]
    },
    {
      "cell_type": "code",
      "execution_count": null,
      "metadata": {
        "id": "X-bnRRhIhQFQ"
      },
      "outputs": [],
      "source": [
        "consts = constants()\n",
        "\n",
        "LP_coefs = FilterSincGaussian( consts.LP_window, consts.LP_fc, consts.LP_sigma  )\n",
        "PlotFilterSpecs( LP_coefs, consts.LP_fsample, consts.LP_fc, consts.LP_sigma, results_folder )"
      ]
    },
    {
      "cell_type": "code",
      "source": [
        "def compute_working_time_interval( times, wave_h, fsample, cp, L_beach, L_waveProbe, L_buoy ):\n",
        "\n",
        "    #################################################################\n",
        "    # Find wave peaks\n",
        "\n",
        "    # Peak finder spaced at least by fs/4 sec.\n",
        "    skip = fsample // 4 \n",
        "\n",
        "    # minimum distance between extrema to be used in find_peaks\n",
        "    wave_h_thr = np.max( ( np.max( wave_h ), -np.min( wave_h ) ) ) / 5.0\n",
        "\n",
        "    wave_upper_peaks_indx, _ = scipy.signal.find_peaks(  wave_h, height = wave_h_thr, distance = skip )\n",
        "    wave_lower_peaks_indx, _ = scipy.signal.find_peaks( -wave_h, height = wave_h_thr, distance = skip )\n",
        "\n",
        "    times_upper_peaks = times[wave_upper_peaks_indx]\n",
        "    times_lower_peaks = times[wave_lower_peaks_indx]\n",
        "\n",
        "    wave_upper_peaks = wave_h[wave_upper_peaks_indx]\n",
        "    wave_lower_peaks = wave_h[wave_lower_peaks_indx]\n",
        "\n",
        "    #################################################################\n",
        "    # Compute the upper/lower peaks ramp-up\n",
        "    h0 = wave_h[wave_upper_peaks_indx[0]]\n",
        "    i0 = 0\n",
        "    for i in range( 1, len( wave_upper_peaks_indx ) ):\n",
        "        if h0 >= wave_h[wave_upper_peaks_indx[i]]:\n",
        "            break\n",
        "        else:\n",
        "            h0 = wave_h[wave_upper_peaks_indx[i]]\n",
        "            i0 = i\n",
        "\n",
        "    h0 = wave_h[wave_lower_peaks_indx[0]]\n",
        "    j0 = 0\n",
        "    for j in range( 1, len( wave_lower_peaks_indx ) ):\n",
        "        if h0 <= wave_h[wave_lower_peaks_indx[j]]:\n",
        "            break\n",
        "        else:\n",
        "            h0 = wave_h[wave_lower_peaks_indx[j]]\n",
        "            j0 = j\n",
        "\n",
        "    #################################################################\n",
        "    # find first peak\n",
        "    t0 = min( times[wave_upper_peaks_indx[i0]], times[wave_lower_peaks_indx[j0]] )\n",
        "\n",
        "    #################################################################\n",
        "    # The last peak \n",
        "    t1 = t0 + ( (L_beach-L_waveProbe) + (L_beach - L_buoy ) ) / cp\n",
        "\n",
        "    return t0, t1"
      ],
      "metadata": {
        "id": "6bRi5h1r2n-P"
      },
      "execution_count": null,
      "outputs": []
    },
    {
      "cell_type": "code",
      "source": [
        "def compute_peaks( times, __signal, fsample, t0, t1 ):\n",
        "    \n",
        "    signal  = np.copy( __signal )\n",
        "    signal -= np.mean( signal )\n",
        "\n",
        "    #################################################################\n",
        "    # amplitudes\n",
        "    signal_thr = np.max( ( np.max( signal ), -np.min( signal ) ) ) / 5.0\n",
        "\n",
        "    # Peak finder spaced at least by fs/4 sec.\n",
        "    skip = fsample // 4 \n",
        "\n",
        "    upper_peaks_indx, _ = scipy.signal.find_peaks(  signal, height = signal_thr, distance = skip )\n",
        "    lower_peaks_indx, _ = scipy.signal.find_peaks( -signal, height = signal_thr, distance = skip )\n",
        "\n",
        "    times_upper_peaks = times[upper_peaks_indx]\n",
        "    times_lower_peaks = times[lower_peaks_indx]\n",
        "\n",
        "    upper_peaks = __signal[upper_peaks_indx]\n",
        "    lower_peaks = __signal[lower_peaks_indx]\n",
        "\n",
        "    up_cond = np.logical_and( t0 <= times_upper_peaks, times_upper_peaks <= t1 )\n",
        "    lw_cond = np.logical_and( t0 <= times_lower_peaks, times_lower_peaks <= t1 )\n",
        "\n",
        "    # ensure that both upper and lower arrays have the same number of elements\n",
        "    lup = len( np.where( up_cond == True )[0] )\n",
        "    llw = len( np.where( lw_cond == True )[0] )\n",
        "\n",
        "    if lup < llw:\n",
        "        entries = np.where( lw_cond == True )[0]\n",
        "        lw_cond[ entries[-1] ] =False\n",
        "    if lup > llw:\n",
        "        entries = np.where( up_cond == True )[0]\n",
        "        up_cond[ entries[-1] ] =False\n",
        "\n",
        "    # get the peaks\n",
        "    times_upper_peaks = times_upper_peaks[ up_cond ]\n",
        "    upper_peaks = upper_peaks[ up_cond ]\n",
        "\n",
        "    times_lower_peaks = times_lower_peaks[ lw_cond ]\n",
        "    lower_peaks = lower_peaks[ lw_cond ]\n",
        "\n",
        "    return times_lower_peaks, times_upper_peaks, lower_peaks, upper_peaks"
      ],
      "metadata": {
        "id": "zr2vWvuz2oqg"
      },
      "execution_count": null,
      "outputs": []
    },
    {
      "cell_type": "code",
      "execution_count": null,
      "metadata": {
        "id": "nmgdJDw3hQFR"
      },
      "outputs": [],
      "source": [
        "@dataclass\n",
        "class test_data:\n",
        "\n",
        "    def __init__( self, filename, consts ):\n",
        "        # read data file of all tests\n",
        "        hf = h5py.File( filename, 'r' )\n",
        "\n",
        "        # list of the cases names\n",
        "        # prefix \"xp_\" means experimental data \n",
        "        self.xp_cases_names = list( hf.keys() )\n",
        "\n",
        "        # Create data structures for all the values needed\n",
        "        self.xp_fsample = {}\n",
        "        self.xp_freq = {}\n",
        "        self.xp_D_orif = {}\n",
        "        self.xp_D_OWC = {}\n",
        "        self.xp_h_depth = {}\n",
        "        self.xp_L_beach = {}\n",
        "        self.xp_L_buoy = {}\n",
        "        self.xp_L_waveProbe = {}\n",
        "        self.xp_H_des = {}\n",
        "\n",
        "        self.xp_times = {}\n",
        "        self.xp_wave_h = {}\n",
        "        self.xp_OWC_h = {}\n",
        "        self.xp_OWC_p = {}\n",
        "\n",
        "        self.flt_times = {}\n",
        "        self.flt_wave_h = {}\n",
        "        self.flt_OWC_h = {}\n",
        "        self.flt_OWC_p = {}\n",
        "\n",
        "        self.consts = consts\n",
        "\n",
        "        for case_name in self.xp_cases_names:\n",
        "            print( case_name )\n",
        "\n",
        "            self.xp_fsample[case_name] = hf.get( case_name + '/fsample' )[()]\n",
        "            self.xp_freq[case_name]    = hf.get( case_name + '/freq' )[()]\n",
        "            self.xp_D_orif[case_name]  = hf.get( case_name + '/D_orifice' )[()]\n",
        "            self.xp_D_OWC[case_name]   = hf.get( case_name + '/D_OWC' )[()]\n",
        "            self.xp_h_depth[case_name] = hf.get( case_name + '/h_depth' )[()]\n",
        "            \n",
        "            self.xp_L_beach[case_name] = hf.get( case_name + '/L_beach' )[()]\n",
        "            self.xp_L_buoy[case_name] = hf.get( case_name + '/L_buoy' )[()]\n",
        "            self.xp_L_waveProbe[case_name]   = hf.get( case_name + '/L_waveProbe' )[()]\n",
        "            self.xp_H_des[case_name]   = hf.get( case_name + '/H' )[()]\n",
        "            \n",
        "            xp_times   = np.array( hf.get( case_name + '/time' ) )\n",
        "            xp_wave_h = np.array( hf.get( case_name + '/WaveProbe_Ch' ) )\n",
        "            xp_OWC_h   = np.array( hf.get( case_name + '/WaveProbe_Buoy' ) )\n",
        "            xp_OWC_p   = np.array( hf.get( case_name + '/Delta_p' ) )\n",
        "\n",
        "            self.xp_times[case_name]   = xp_times\n",
        "            self.xp_wave_h[case_name] = xp_wave_h\n",
        "            self.xp_OWC_h[case_name]   = xp_OWC_h\n",
        "            self.xp_OWC_p[case_name]   = xp_OWC_p\n",
        "\n",
        "            flt_times, flt_wave_h = FilterSignal( LP_coefs, xp_times, xp_wave_h )\n",
        "            flt_times, flt_OWC_h   = FilterSignal( LP_coefs, xp_times, xp_OWC_h )\n",
        "            flt_times, flt_OWC_p   = FilterSignal( LP_coefs, xp_times, xp_OWC_p )\n",
        " \n",
        "            self.flt_times[case_name]   = flt_times\n",
        "            self.flt_wave_h[case_name] = flt_wave_h\n",
        "            self.flt_OWC_h[case_name]   = flt_OWC_h\n",
        "            self.flt_OWC_p[case_name]   = flt_OWC_p\n",
        "            \n",
        "        hf.close() \n",
        "    \n",
        "    def process_cases( self ):\n",
        "\n",
        "        cnt = self.consts\n",
        "        twopi = 2.0 * np.pi\n",
        "\n",
        "        n_cases = len( TD.xp_cases_names ) \n",
        "\n",
        "        # prefix \"pp_\" post-processed data\n",
        "        self.pp_freq_lst = np.zeros( n_cases )       # array of frequencies\n",
        "        self.pp_cp_lst = np.zeros( n_cases )         # array of phase velocity\n",
        "        \n",
        "        self.pp_t1_lst = np.zeros( n_cases )         # array of t1\n",
        "        self.pp_t2_lst = np.zeros( n_cases )         # array of t2\n",
        "        self.pp_t3_lst = np.zeros( n_cases )         # array of t3\n",
        "        self.pp_t4_lst = np.zeros( n_cases )         # array of t4\n",
        "\n",
        "        self.pp_wave_amp_lst = np.zeros( n_cases )   # array of mean wave amplitude\n",
        "        self.pp_OWC_h_amp_lst = np.zeros( n_cases )  # array of OWC mean amplitude\n",
        "        self.pp_OWC_p_amp_lst = np.zeros( n_cases )  # array of OWC pressure mean amplitude\n",
        "        self.pp_RAO_lst = np.zeros( n_cases )        # array of RAOs\n",
        "        self.pp_Pwave_lst = np.zeros( n_cases )      # array of wave power\n",
        "        self.pp_Pturb_lst = np.zeros( n_cases )      # array of turbine power\n",
        "        self.pp_CWR_lst = np.zeros( n_cases )        # array of CWR\n",
        "        self.pp_λ_lst = np.zeros( n_cases )          # array of wavelength\n",
        "        self.pp_λh_lst = np.zeros( n_cases )          # array of wavelength/depth\n",
        "        self.pp_kh_lst = np.zeros( n_cases )         # array of k*h\n",
        "        self.pp_Pwave_des_lst = np.zeros( n_cases )  # array of desired wave power \n",
        "\n",
        "        for num, case_key in enumerate( TD.xp_cases_names ):\n",
        "\n",
        "            print( \"2: \" + case_key )\n",
        "\n",
        "            #========================================================================\n",
        "            # variables of this test cases\n",
        "            fsample = self.xp_fsample[ case_key ]   # sampling frequency\n",
        "            freq = self.xp_freq[ case_key ]         # Wave Frequency\n",
        "            D_OWC = self.xp_D_OWC[ case_key ]\n",
        "            h_depth = self.xp_h_depth[ case_key ]\n",
        "            L_beach = self.xp_L_beach[ case_key ]\n",
        "            L_buoy = self.xp_L_buoy[ case_key ]\n",
        "            L_waveProbe = self.xp_L_waveProbe[ case_key ]\n",
        "\n",
        "            wave_h = self.flt_wave_h[ case_key ]\n",
        "            wave_h -= np.mean( wave_h )\n",
        "\n",
        "            OWC_h = self.flt_OWC_h[ case_key ]\n",
        "            OWC_h -= np.mean( OWC_h )\n",
        "\n",
        "            OWC_p = self.flt_OWC_p[ case_key ]\n",
        "            OWC_p -= np.mean( OWC_p )\n",
        "            \n",
        "            Do = self.xp_D_orif[ case_key ]\n",
        "\n",
        "            #========================================================================\n",
        "            # Wave characteristics\n",
        "            ω  = twopi * freq                       # Angular Frequency\n",
        "            kh = dispersion_relation( ω, h_depth )  # Wave Number for infinite depth water conditions\n",
        "            k  = kh / h_depth                       # Wave Number\n",
        "            cp = ω / k                              # Wave crest Speed or phase Velocity\n",
        "            λ  = twopi / k                          # Wave Length\n",
        "            λh  = twopi / kh                        # Wave Length/ Depth\n",
        "            Tw = 1.0 / freq                         # wave period\n",
        "\n",
        "            #========================================================================\n",
        "            # time interval used for mean values\n",
        "            t0, t1 = compute_working_time_interval( times, wave_h, fsample, cp, L_beach, L_waveProbe, L_buoy )\n",
        "\n",
        "            #========================================================================\n",
        "            # Compute means\n",
        "            waves_times_lower_peaks, waves_times_upper_peaks, \\\n",
        "                waves_lower_peaks, waves_upper_peaks = compute_peaks( times, wave_h, fsample, t0, t1 )\n",
        "            wave_amp = 0.5 * ( np.mean( waves_upper_peaks ) - np.mean( waves_lower_peaks ) )\n",
        "\n",
        "            #========================================================================\n",
        "            # wave power [W]\n",
        "            Pwave = wave_power( cnt, h_depth, 2.0*wave_amp, freq )\n",
        "            Pwave *= D_OWC\n",
        "\n",
        "            # desired wave power [W]\n",
        "            Pwave_des = wave_power( cnt, h_depth, H_des, freq ) \n",
        "            Pwave_des *= D_OWC\n",
        "            \n",
        "            #========================================================================\n",
        "            # Compute the OWC motion amplitute\n",
        "            OWC_h_times_lower_peaks, OWC_h_times_upper_peaks, \\\n",
        "                OWC_h_lower_peaks, OWC_h_upper_peaks = compute_peaks( times, OWC_h, fsample, t0, t1 )\n",
        "            OWC_h_amp = 0.5 * ( np.mean( OWC_h_upper_peaks ) - np.mean( OWC_h_lower_peaks ) )\n",
        "\n",
        "\n",
        "            #========================================================================\n",
        "            # Compute the OWC motion amplitute\n",
        "            # Peak finder spaced at least by fs/4 sec.\n",
        "            OWC_p_times_lower_peaks, OWC_p_times_upper_peaks, \\\n",
        "                OWC_p_lower_peaks, OWC_p_upper_peaks = compute_peaks( times, OWC_p, fsample, t0, t1 )\n",
        "            OWC_p_amp = 0.5 * ( np.mean( OWC_p_upper_peaks ) - np.mean( OWC_p_lower_peaks ) )\n",
        "            \n",
        "            # ========================================\n",
        "            # Compute turbine power\n",
        "            tt0 = np.min( ( OWC_p_times_lower_peaks[ 0], OWC_p_times_upper_peaks[ 0] ) )\n",
        "            tt1 = np.min( ( OWC_p_times_lower_peaks[-1], OWC_p_times_upper_peaks[-1] ) )\n",
        "\n",
        "            t_cond = np.logical_and( tt0 <= times, times <= tt1 )\n",
        "            ttimes = times[ t_cond ]\n",
        "            tOWC_p = OWC_p[ t_cond ]\n",
        "            \n",
        "            Ao = np.pi * Do**2 / 4.0\n",
        "            Cd = 0.65\n",
        "            Co = np.sqrt( 2.0 ) * Ao * Cd \n",
        "            Q_turb = np.sign( tOWC_p ) * Co * np.sqrt( np.abs( tOWC_p ) / cnt.𝜌_air )\n",
        "            P_turb = tOWC_p * Q_turb\n",
        "            Pturb = np.mean( P_turb )\n",
        "\n",
        "            #========================================================================\n",
        "            self.pp_freq_lst[num] = np.round( freq, 2 )\n",
        "            self.pp_cp_lst[num] = np.round( cp, 2 )\n",
        "\n",
        "            self.pp_wave_amp_lst[num]  = np.round( wave_amp, 4 )\n",
        "            self.pp_OWC_h_amp_lst[num] = np.round( OWC_h_amp, 4 )\n",
        "            self.pp_OWC_p_amp_lst[num] = np.round( OWC_p_amp, 2 )\n",
        "            self.pp_RAO_lst[num] = np.round( OWC_h_amp / wave_amp, 3 )\n",
        "            self.pp_Pwave_lst[num] = np.round( Pwave, 3 )\n",
        "            self.pp_Pturb_lst[num] = np.round( Pturb, 3 )\n",
        "            self.pp_CWR_lst[num] = np.round( Pturb / Pwave, 3 )\n",
        "            self.pp_λ_lst[num] = np.round( λ, 2 )\n",
        "            self.pp_λh_lst[num] = np.round( λh, 2 )\n",
        "            self.pp_kh_lst[num] = np.round( kh, 4 )\n",
        "            self.pp_Pwave_des_lst[num] = np.round( Pwave_des, 2 )\n",
        "        "
      ]
    },
    {
      "cell_type": "code",
      "execution_count": null,
      "metadata": {
        "id": "KKiO4D0ihQFU"
      },
      "outputs": [],
      "source": [
        "TD = test_data( tests_filename + '.h5', consts )\n",
        "TD.process_cases()\n",
        "\n",
        "data =  {   \"Freq [Hz]\": TD.pp_freq_lst, \n",
        "            \"kh [-]\" : TD.pp_kh_lst, \n",
        "            \"λ [m]\" : TD.pp_λ_lst,\n",
        "            \"λ/h [m]\" : TD.pp_λh_lst,\n",
        "            \"crest speed [m/s]\" : TD.pp_cp_lst,\n",
        "            \"wave amp [m]\": TD.pp_wave_amp_lst, \n",
        "            \"OWC_h amp [m]\": TD.pp_OWC_h_amp_lst, \n",
        "            \"RAO\": TD.pp_RAO_lst, \n",
        "            \"Pwave × w_OWC [W]\": TD.pp_Pwave_lst, \n",
        "            \"Pwave_des × w_OWC [W]\": TD.pp_Pwave_des_lst, \n",
        "            \"OWC_p amp [Pa]\": TD.pp_OWC_p_amp_lst, \n",
        "            \"Pturb [W]\": TD.pp_Pturb_lst,\n",
        "            \"CWR [-]\": TD.pp_CWR_lst,\n",
        "            \"t1 [s]\": TD.pp_t1_lst, \"t2 [s]\": TD.pp_t2_lst, \n",
        "            \"t3 [s]\": TD.pp_t3_lst, \"t4 [s]\": TD.pp_t4_lst\n",
        "        }\n",
        "\n",
        "# Create Excel File\n",
        "XLS_filename = results_folder + tests_filename + '.xlsx'\n",
        "writer = pd.ExcelWriter( XLS_filename, engine='xlsxwriter' )\n",
        "\n",
        "workbook  = writer.book\n",
        "right = workbook.add_format( {'align': 'right'} )\n",
        "header_format = workbook.add_format( { 'fg_color': '#FFFF00', 'border': 1,\n",
        "                                    'align' : 'center' } )\n",
        "\n",
        "if save_time_series_in_EXCEL:\n",
        "  for case_key in TD.xp_cases_names:\n",
        "      freq = TD.xp_freq[ case_key ]         # Wave Frequency\n",
        "\n",
        "      flt_times = TD.flt_times[ case_key ]\n",
        "\n",
        "      flt_wave_h = TD.flt_wave_h[ case_key ]\n",
        "      flt_OWC_h = TD.flt_OWC_h[ case_key ]\n",
        "      flt_OWC_p = TD.flt_OWC_p[ case_key ]\n",
        "\n",
        "      data_freq = { \"times\": flt_times, \n",
        "              \"flt_wave_h\": flt_wave_h,\n",
        "              \"flt_OWC_h\": flt_OWC_h,\n",
        "              \"flt_OWC_p\": flt_OWC_p\n",
        "            }    \n",
        "      df_freq = pd.DataFrame( data_freq )\n",
        "      df_freq.to_excel( writer, index=False, sheet_name='f%.2fHz' % freq )\n",
        "\n",
        "df = pd.DataFrame( data )\n",
        "df.to_excel( writer, index=False, sheet_name='Summary' )\n",
        "\n",
        "worksheet = writer.sheets['Summary']\n",
        "worksheet.set_column( 'A:P', 14, right )\n",
        "\n",
        "# Write the column headers with the defined format\n",
        "for col_num, value in enumerate(df.columns.values):\n",
        "    worksheet.write( 0, col_num, value, header_format )\n",
        "worksheet.freeze_panes(1, 1)\n",
        "writer.save()\n",
        "\n",
        "df"
      ]
    },
    {
      "cell_type": "markdown",
      "metadata": {
        "id": "Ay64vG-MhQFW"
      },
      "source": [
        "## Data analysis\n",
        "\n",
        "Plot one of the cases"
      ]
    },
    {
      "cell_type": "code",
      "execution_count": null,
      "metadata": {
        "id": "GGYADw67hQFX"
      },
      "outputs": [],
      "source": [
        "case_num = 18\n",
        "case_key = TD.xp_cases_names[ case_num ]\n",
        "\n",
        "fig, (ax1, ax2) = mpl.subplots(1,2, figsize=(12, 4.5) )\n",
        "fig.subplots_adjust( wspace = 0.17 )\n",
        "\n",
        "fsample = TD.xp_fsample[ case_key ]   # sampling frequency\n",
        "freq    = TD.xp_freq[ case_key ]         # Wave Frequency\n",
        "\n",
        "times   = TD.flt_times[ case_key ]\n",
        "wave_h = TD.flt_wave_h[ case_key ]\n",
        "OWC_h   = TD.flt_OWC_h[ case_key ]\n",
        "OWC_p   = TD.flt_OWC_p[ case_key ]\n",
        "\n",
        "xp_times  = TD.xp_times[ case_key ]\n",
        "xp_OWC_p  = TD.xp_OWC_p[ case_key ]\n",
        "xp_OWC_p -= np.mean( xp_OWC_p )\n",
        "\n",
        "ax1.set_title( case_key.replace( '_', ' ' ) )\n",
        "ax1.plot( times, wave_h, '-', label=\"wave height probe '2nd' [m]\" )\n",
        "ax1.plot( times, OWC_h, '-', label='OWC height [m]' )\n",
        "ax1.set_xlim( 10, 60 )\n",
        "ax1.legend( loc='upper left' )\n",
        "ax1.set_xlabel( 'time [s]')\n",
        "\n",
        "ax2.plot( xp_times, xp_OWC_p, label='OWC $\\Delta p$ unfiltered [Pa]' )\n",
        "ax2.plot( times, OWC_p, label='OWC $\\Delta p$ [Pa]' )\n",
        "ax2.set_xlim( 45, 50 )\n",
        "# ax2.set_ylim( 400, 1100 )\n",
        "ax2.legend( loc='upper left' )\n",
        "ax2.set_xlabel( 'time [s]');"
      ]
    },
    {
      "cell_type": "code",
      "execution_count": null,
      "metadata": {
        "id": "Pi_10BO-hQFX"
      },
      "outputs": [],
      "source": [
        "# Check file to find wave height. File needs to be named 'TypeOfWave_HX.XXX_Tests.h5'.\n",
        "case_num = 4\n",
        "case_key = TD.xp_cases_names[ case_num ] # Choose from 0 to N-1 number of tests made\n",
        "\n",
        "H_des = float( re.findall('\\d*\\.?\\d+', case_key)[0] ) \n",
        "\n",
        "# Plot wave height graph with peaks and analysis zone\n",
        "\n",
        "freq = TD.xp_freq[ case_key ]         # Wave Frequency\n",
        "times = TD.xp_times[ case_key ]\n",
        "\n",
        "wave_h = TD.xp_wave_h[ case_key ]\n",
        "OWC_h = TD.xp_OWC_h[ case_key ]\n",
        "OWC_p = TD.xp_OWC_p[ case_key ]\n",
        "\n",
        "t1 = TD.pp_t1_lst[ case_num ]\n",
        "t2 = TD.pp_t2_lst[ case_num ]\n",
        "t3 = TD.pp_t3_lst[ case_num ]\n",
        "t4 = TD.pp_t4_lst[ case_num ]\n",
        "\n",
        "mpl.figure(1)\n",
        "mpl.axvspan( t1, t2, color='#e5ffd5c2')\n",
        "mpl.axvline( t1, dashes=(5,1.5,1.5,1.5), color='g', label='wave - $t_1$' )\n",
        "mpl.axvline( t2, dashes=(5,1.5), color='g', label='wave - $t_2$' )\n",
        "\n",
        "mpl.plot( times, wave_h, label='wave height' )\n",
        "\n",
        "mpl.grid()\n",
        "mpl.legend(loc='upper left', fontsize=12)\n",
        "mpl.xlabel( \"Measuring time [s]\" )\n",
        "mpl.ylabel( \"Wave height [m]\" )\n",
        "mpl.title( \"Wave proble '2nd': \" + \"$H = %1.3f\\,$m\" % H_des + \", \" + \"$f = %1.2f\\,$Hz\" % freq ) \n",
        "mpl.xlim( (t1-10.0, t4+10) )"
      ]
    },
    {
      "cell_type": "code",
      "source": [
        "# Check file to find wave height. File needs to be named 'TypeOfWave_HX.XXX_Tests.h5'.\n",
        "case_num = 4\n",
        "case_key = TD.xp_cases_names[ case_num ] # Choose from 0 to N-1 number of tests made\n",
        "\n",
        "H_des = float( re.findall('\\d*\\.?\\d+', case_key)[0] ) \n",
        "\n",
        "# Plot wave height graph with peaks and analysis zone\n",
        "\n",
        "freq = TD.xp_freq[ case_key ]         # Wave Frequency\n",
        "times = TD.xp_times[ case_key ]\n",
        "\n",
        "wave_h = TD.xp_wave_h[ case_key ]\n",
        "OWC_h = TD.xp_OWC_h[ case_key ]\n",
        "OWC_p = TD.xp_OWC_p[ case_key ]\n",
        "\n",
        "t1 = TD.pp_t1_lst[ case_num ]\n",
        "t2 = TD.pp_t2_lst[ case_num ]\n",
        "t3 = TD.pp_t3_lst[ case_num ]\n",
        "t4 = TD.pp_t4_lst[ case_num ]\n",
        "\n",
        "# Plot pressure graph with peaks and analysis zone\n",
        "\n",
        "mpl.figure(2)\n",
        "mpl.axvspan( t3, t4, color='#e5ffd5c2')\n",
        "mpl.axvline( t3, dashes=(5,1.5,1.5,1.5), color='g', label='press - $t_3$' )\n",
        "mpl.axvline( t4, dashes=(5,1.5), color='g', label='press - $t_4$' )\n",
        "\n",
        "mpl.plot( times, OWC_p, label='chamber pressure' )\n",
        "mpl.grid()\n",
        "mpl.legend(loc='upper left', fontsize=12)\n",
        "mpl.xlim( (t1-10, t4+10) )\n",
        "mpl.xlabel( \"Measuring time [s]\" )\n",
        "mpl.ylabel( \"Pressure [Pa]\" )\n",
        "mpl.title( \"Chamber pressure: \" + \"$H = %1.3f\\,$m\" % H_des + \", \" + \"$f = %1.2f\\,$Hz\" % freq )"
      ],
      "metadata": {
        "id": "fLe_7EcXb51Q"
      },
      "execution_count": null,
      "outputs": []
    },
    {
      "cell_type": "code",
      "source": [
        "# Check file to find wave height. File needs to be named 'TypeOfWave_HX.XXX_Tests.h5'.\n",
        "case_num = 4\n",
        "case_key = TD.xp_cases_names[ case_num ] # Choose from 0 to N-1 number of tests made\n",
        "\n",
        "H_des = float( re.findall('\\d*\\.?\\d+', case_key)[0] ) \n",
        "\n",
        "# Plot wave height graph with peaks and analysis zone\n",
        "\n",
        "freq = TD.xp_freq[ case_key ]         # Wave Frequency\n",
        "times = TD.xp_times[ case_key ]\n",
        "\n",
        "wave_h = TD.xp_wave_h[ case_key ]\n",
        "OWC_h = TD.xp_OWC_h[ case_key ]\n",
        "OWC_p = TD.xp_OWC_p[ case_key ]\n",
        "\n",
        "t1 = TD.pp_t1_lst[ case_num ]\n",
        "t2 = TD.pp_t2_lst[ case_num ]\n",
        "t3 = TD.pp_t3_lst[ case_num ]\n",
        "t4 = TD.pp_t4_lst[ case_num ]\n",
        "\n",
        "mpl.figure(3)\n",
        "mpl.axvspan( t3, t4, color='#e5ffd5c2')\n",
        "mpl.axvline( t3, dashes=(5,1.5,1.5,1.5), color='g', label='press - $t_3$' )\n",
        "mpl.axvline( t4, dashes=(5,1.5), color='g', label='press - $t_4$' )\n",
        "\n",
        "mpl.plot( times, OWC_h )\n",
        "mpl.grid()\n",
        "# mpl.legend(loc='upper left', fontsize=12)\n",
        "mpl.xlim( (t1-10, t4+10) )\n",
        "mpl.xlabel( \"Measuring time [s]\" )\n",
        "mpl.ylabel( \"OWC height [Pa]\" )\n",
        "mpl.title( \"OWC height: \" + \"$H = %1.3f\\,$m\" % H_des + \", \" + \"$f = %1.2f\\,$Hz\" % freq );"
      ],
      "metadata": {
        "id": "VZbGve1ub65d"
      },
      "execution_count": null,
      "outputs": []
    },
    {
      "cell_type": "code",
      "execution_count": null,
      "metadata": {
        "id": "OA6h2PmOhQFY"
      },
      "outputs": [],
      "source": [
        "mpl.plot( TD.pp_freq_lst, TD.pp_Pwave_des_lst, 'o-', label=r'desired $P_\\mathrm{wave}\\times w_\\mathrm{OWC}$' )\n",
        "mpl.plot( TD.pp_freq_lst, TD.pp_Pwave_lst, 'o-', label=r'measured $P_\\mathrm{wave}\\times w_\\mathrm{OWC}$'  )\n",
        "mpl.plot( TD.pp_freq_lst, TD.pp_Pturb_lst, 's-', label = r'$P_\\mathrm{turb}$' )\n",
        "mpl.xlabel( r\"Wave frequency, $f$ [Hz]\" )\n",
        "mpl.ylabel( r\"Power [W]\")\n",
        "mpl.legend()\n",
        "mpl.grid()\n",
        "# mpl.ylim( 0, 3.0 )\n",
        "\n",
        "fig_filename = results_folder + tests_filename + '_WaveTurbPower'\n",
        "\n",
        "# for pdflatex\n",
        "mpl.savefig( fig_filename + '.pdf', bbox_inches='tight', pad_inches=0.02 )\n",
        "\n",
        "# for MS WORD\n",
        "mpl.savefig( fig_filename + '.jpg', bbox_inches='tight', pad_inches=0.02 )\n",
        "mpl.savefig( fig_filename + '.svg', bbox_inches='tight', pad_inches=0.02 )"
      ]
    },
    {
      "cell_type": "code",
      "execution_count": null,
      "metadata": {
        "id": "VTu2LXfvhQFY"
      },
      "outputs": [],
      "source": [
        "mpl.plot( TD.pp_freq_lst, TD.pp_CWR_lst, 'o-' )\n",
        "mpl.xlabel( \"Wave frequency, $f$ [Hz]\" )\n",
        "mpl.ylabel( \"CWR [-]\")\n",
        "mpl.grid()\n",
        "mpl.ylim( 0, 0.6 )\n",
        "\n",
        "fig_filename = results_folder + tests_filename + '_CWR'\n",
        "\n",
        "# for pdflatex\n",
        "mpl.savefig( fig_filename + '.pdf', bbox_inches='tight', pad_inches=0.02 )\n",
        "\n",
        "# for MS WORD\n",
        "mpl.savefig( fig_filename + '.jpg', bbox_inches='tight', pad_inches=0.02 )\n",
        "mpl.savefig( fig_filename + '.svg', bbox_inches='tight', pad_inches=0.02 )"
      ]
    },
    {
      "cell_type": "code",
      "execution_count": null,
      "metadata": {
        "id": "Z7qArWMchQFZ"
      },
      "outputs": [],
      "source": [
        "mpl.plot( TD.pp_freq_lst, TD.pp_RAO_lst, 'o-' )\n",
        "mpl.xlabel( \"Wave frequency, $f$ [Hz]\" )\n",
        "mpl.ylabel( \"RAO [-]\")\n",
        "mpl.grid()\n",
        "# mpl.ylim( 0, 0.35 )\n",
        "\n",
        "fig_filename = results_folder + tests_filename + '_RAO'\n",
        "\n",
        "# for pdflatex\n",
        "mpl.savefig( fig_filename + '.pdf', bbox_inches='tight', pad_inches=0.02 )\n",
        "\n",
        "# for MS WORD\n",
        "mpl.savefig( fig_filename + '.jpg', bbox_inches='tight', pad_inches=0.02 )\n",
        "mpl.savefig( fig_filename + '.svg', bbox_inches='tight', pad_inches=0.02 )"
      ]
    },
    {
      "cell_type": "code",
      "execution_count": null,
      "metadata": {
        "id": "xpJDlQc2hQFZ"
      },
      "outputs": [],
      "source": [
        "mpl.plot( TD.pp_freq_lst, TD.pp_wave_amp_lst, 'o-', label = r'$y_\\mathrm{wave}$ [m]' )\n",
        "mpl.plot( TD.pp_freq_lst, TD.pp_OWC_h_amp_lst, 's-', label = r'$y_\\mathrm{OWC}$ [m]' )\n",
        "mpl.plot( [np.nan], [np.nan],  'Dg-', label='$\\Delta p$ [Pa]' )\n",
        "mpl.xlabel( \"Wave frequency, $f$ [Hz]\" )\n",
        "mpl.ylabel( \"Displacement [m]\")\n",
        "mpl.grid()\n",
        "mpl.legend()\n",
        "mpl.ylim( 0, 0.10 )\n",
        "\n",
        "ax2 = mpl.gca().twinx()\n",
        "ax2.plot( TD.pp_freq_lst, TD.pp_OWC_p_amp_lst, 'Dg-' )\n",
        "ax2.set_ylabel( \"Pressure amplitude [Pa]\")\n",
        "\n",
        "fig_filename = results_folder + tests_filename + '_Displacments_Pressure'\n",
        "\n",
        "# for pdflatex\n",
        "mpl.savefig( fig_filename + '.pdf', bbox_inches='tight', pad_inches=0.02 )\n",
        "\n",
        "# for MS WORD\n",
        "mpl.savefig( fig_filename + '.jpg', bbox_inches='tight', pad_inches=0.02 )\n",
        "mpl.savefig( fig_filename + '.svg', bbox_inches='tight', pad_inches=0.02 )"
      ]
    },
    {
      "cell_type": "code",
      "source": [
        "################################################ kh ###############################################\n",
        "\n",
        "mpl.plot( TD.pp_kh_lst, TD.pp_Pwave_des_lst, 'o-', label=r'desired $P_\\mathrm{wave}\\times w_\\mathrm{OWC}$' )\n",
        "mpl.plot( TD.pp_kh_lst, TD.pp_Pwave_lst, 'o-', label=r'measured $P_\\mathrm{wave}\\times w_\\mathrm{OWC}$'  )\n",
        "mpl.plot( TD.pp_kh_lst, TD.pp_Pturb_lst, 's-', label = r'$P_\\mathrm{turb}$' )\n",
        "mpl.xlabel( r\"$kh$ [-]\" )\n",
        "mpl.ylabel( r\"Power [W]\")\n",
        "mpl.legend()\n",
        "mpl.grid()\n",
        "# mpl.ylim( 0, 3.0 )\n",
        "\n",
        "fig_filename = results_folder + tests_filename + '_WaveTurbPower' + '_kh'\n",
        "\n",
        "# for pdflatex\n",
        "mpl.savefig( fig_filename + '.pdf', bbox_inches='tight', pad_inches=0.02 )\n",
        "\n",
        "# for MS WORD\n",
        "mpl.savefig( fig_filename + '.jpg', bbox_inches='tight', pad_inches=0.02 )\n",
        "mpl.savefig( fig_filename + '.svg', bbox_inches='tight', pad_inches=0.02 )"
      ],
      "metadata": {
        "id": "_vxyhjqm515Z"
      },
      "execution_count": null,
      "outputs": []
    },
    {
      "cell_type": "code",
      "source": [
        "mpl.plot( TD.pp_kh_lst, TD.pp_CWR_lst, 'o-' )\n",
        "mpl.xlabel( \"$kh$ [-]\" )\n",
        "mpl.ylabel( \"CWR [-]\")\n",
        "mpl.grid()\n",
        "mpl.ylim( 0, 0.5 )\n",
        "\n",
        "fig_filename = results_folder + tests_filename + '_CWR' + '_kh'\n",
        "\n",
        "# for pdflatex\n",
        "mpl.savefig( fig_filename + '.pdf', bbox_inches='tight', pad_inches=0.02 )\n",
        "\n",
        "# for MS WORD\n",
        "mpl.savefig( fig_filename + '.jpg', bbox_inches='tight', pad_inches=0.02 )\n",
        "mpl.savefig( fig_filename + '.svg', bbox_inches='tight', pad_inches=0.02 )"
      ],
      "metadata": {
        "id": "rszzrauD6CkI"
      },
      "execution_count": null,
      "outputs": []
    },
    {
      "cell_type": "code",
      "source": [
        "mpl.plot( TD.pp_kh_lst, TD.pp_RAO_lst, 'o-' )\n",
        "mpl.xlabel( \"$kh$ [-]\" )\n",
        "mpl.ylabel( \"RAO [-]\")\n",
        "mpl.grid()\n",
        "# mpl.ylim( 0, 0.35 )\n",
        "\n",
        "fig_filename = results_folder + tests_filename + '_RAO' + '_kh'\n",
        "\n",
        "# for pdflatex\n",
        "mpl.savefig( fig_filename + '.pdf', bbox_inches='tight', pad_inches=0.02 )\n",
        "\n",
        "# for MS WORD\n",
        "mpl.savefig( fig_filename + '.jpg', bbox_inches='tight', pad_inches=0.02 )\n",
        "mpl.savefig( fig_filename + '.svg', bbox_inches='tight', pad_inches=0.02 )"
      ],
      "metadata": {
        "id": "2glZ4ROb6JWV"
      },
      "execution_count": null,
      "outputs": []
    },
    {
      "cell_type": "code",
      "source": [
        "mpl.plot( TD.pp_kh_lst, TD.pp_wave_amp_lst, 'o-', label = r'$y_\\mathrm{wave}$ [m]' )\n",
        "mpl.plot( TD.pp_kh_lst, TD.pp_OWC_h_amp_lst, 's-', label = r'$y_\\mathrm{OWC}$ [m]' )\n",
        "mpl.plot( [np.nan], [np.nan],  'Dg-', label='$\\Delta p$ [Pa]' )\n",
        "mpl.xlabel( \"$kh$ [-]\" )\n",
        "mpl.ylabel( \"Displacement [m]\")\n",
        "mpl.grid()\n",
        "mpl.legend()\n",
        "mpl.ylim( 0, 0.10 )\n",
        "\n",
        "ax2 = mpl.gca().twinx()\n",
        "ax2.plot( TD.pp_kh_lst, TD.pp_OWC_p_amp_lst, 'Dg-' )\n",
        "ax2.set_ylabel( \"Pressure amplitude [Pa]\")\n",
        "\n",
        "fig_filename = results_folder + tests_filename + '_Displacments_Pressure' + '_kh'\n",
        "\n",
        "# for pdflatex\n",
        "mpl.savefig( fig_filename + '.pdf', bbox_inches='tight', pad_inches=0.02 )\n",
        "\n",
        "# for MS WORD\n",
        "mpl.savefig( fig_filename + '.jpg', bbox_inches='tight', pad_inches=0.02 )\n",
        "mpl.savefig( fig_filename + '.svg', bbox_inches='tight', pad_inches=0.02 )"
      ],
      "metadata": {
        "id": "diZj6oyM6O7a"
      },
      "execution_count": null,
      "outputs": []
    },
    {
      "cell_type": "code",
      "source": [
        "################################################ λ/h ###############################################\n",
        "\n",
        "mpl.plot( TD.pp_λh_lst, TD.pp_Pwave_des_lst, 'o-', label=r'desired $P_\\mathrm{wave}\\times w_\\mathrm{OWC}$' )\n",
        "mpl.plot( TD.pp_λh_lst, TD.pp_Pwave_lst, 'o-', label=r'measured $P_\\mathrm{wave}\\times w_\\mathrm{OWC}$'  )\n",
        "mpl.plot( TD.pp_λh_lst, TD.pp_Pturb_lst, 's-', label = r'$P_\\mathrm{turb}$' )\n",
        "mpl.xlabel( r\"$λ/h$ [-]\" )\n",
        "mpl.ylabel( r\"Power [W]\")\n",
        "mpl.legend()\n",
        "mpl.grid()\n",
        "# mpl.ylim( 0, 3.0 )\n",
        "\n",
        "fig_filename = results_folder + tests_filename + '_WaveTurbPower'+ '_λh'\n",
        "\n",
        "# for pdflatex\n",
        "mpl.savefig( fig_filename + '.pdf', bbox_inches='tight', pad_inches=0.02 )\n",
        "\n",
        "# for MS WORD\n",
        "mpl.savefig( fig_filename + '.jpg', bbox_inches='tight', pad_inches=0.02 )\n",
        "mpl.savefig( fig_filename + '.svg', bbox_inches='tight', pad_inches=0.02 )"
      ],
      "metadata": {
        "id": "Qyf88t0u56Dv"
      },
      "execution_count": null,
      "outputs": []
    },
    {
      "cell_type": "code",
      "source": [
        "mpl.plot( TD.pp_λh_lst, TD.pp_CWR_lst, 'o-' )\n",
        "mpl.xlabel( \"$λ/h$ [-]\" )\n",
        "mpl.ylabel( \"CWR [-]\")\n",
        "mpl.grid()\n",
        "mpl.ylim( 0, 0.4 )\n",
        "\n",
        "fig_filename = results_folder + tests_filename + '_CWR'+ '_λh'\n",
        "\n",
        "# for pdflatex\n",
        "mpl.savefig( fig_filename + '.pdf', bbox_inches='tight', pad_inches=0.02 )\n",
        "\n",
        "# for MS WORD\n",
        "mpl.savefig( fig_filename + '.jpg', bbox_inches='tight', pad_inches=0.02 )\n",
        "mpl.savefig( fig_filename + '.svg', bbox_inches='tight', pad_inches=0.02 )"
      ],
      "metadata": {
        "id": "L7ygpKKx6Gcm"
      },
      "execution_count": null,
      "outputs": []
    },
    {
      "cell_type": "code",
      "source": [
        "mpl.plot( TD.pp_λh_lst, TD.pp_RAO_lst, 'o-' )\n",
        "mpl.xlabel( \"$λ/h$ [-]\" )\n",
        "mpl.ylabel( \"RAO [-]\")\n",
        "mpl.grid()\n",
        "# mpl.ylim( 0, 0.35 )\n",
        "\n",
        "fig_filename = results_folder + tests_filename + '_RAO'+ '_λh'\n",
        "\n",
        "# for pdflatex\n",
        "mpl.savefig( fig_filename + '.pdf', bbox_inches='tight', pad_inches=0.02 )\n",
        "\n",
        "# for MS WORD\n",
        "mpl.savefig( fig_filename + '.jpg', bbox_inches='tight', pad_inches=0.02 )\n",
        "mpl.savefig( fig_filename + '.svg', bbox_inches='tight', pad_inches=0.02 )"
      ],
      "metadata": {
        "id": "9U9PKPv76KIo"
      },
      "execution_count": null,
      "outputs": []
    },
    {
      "cell_type": "code",
      "source": [
        "mpl.plot( TD.pp_λh_lst, TD.pp_wave_amp_lst, 'o-', label = r'$y_\\mathrm{wave}$ [m]')\n",
        "mpl.plot( TD.pp_λh_lst, TD.pp_OWC_h_amp_lst, 's-', label = r'$y_\\mathrm{OWC}$ [m]')\n",
        "mpl.plot( [np.nan], [np.nan],  'Dg-', label='$\\Delta p$ [Pa]' )\n",
        "mpl.xlabel( \"$λ/h$ [-]\" )\n",
        "mpl.ylabel( \"Displacement [m]\")\n",
        "mpl.grid()\n",
        "mpl.legend(loc='upper left')\n",
        "mpl.ylim( 0, 0.10 )\n",
        "\n",
        "ax2 = mpl.gca().twinx()\n",
        "ax2.plot( TD.pp_λh_lst, TD.pp_OWC_p_amp_lst, 'Dg-' )\n",
        "ax2.set_ylabel( \"Pressure amplitude [Pa]\")\n",
        "\n",
        "fig_filename = results_folder + tests_filename + '_Displacments_Pressure'+ '_λh'\n",
        "\n",
        "# for pdflatex\n",
        "mpl.savefig( fig_filename + '.pdf', bbox_inches='tight', pad_inches=0.02 )\n",
        "\n",
        "# for MS WORD\n",
        "mpl.savefig( fig_filename + '.jpg', bbox_inches='tight', pad_inches=0.02 )\n",
        "mpl.savefig( fig_filename + '.svg', bbox_inches='tight', pad_inches=0.02 )"
      ],
      "metadata": {
        "id": "U0r5jldg6QGC"
      },
      "execution_count": null,
      "outputs": []
    },
    {
      "cell_type": "code",
      "source": [
        "# Create a zip file for download with all the results"
      ],
      "metadata": {
        "id": "4cwnecqhIxcy"
      },
      "execution_count": null,
      "outputs": []
    },
    {
      "cell_type": "code",
      "source": [
        "!zip {'RESULTS_'+TEST_CASE_NAME+'.zip'} \\\n",
        "      {TEST_CASE_NAME+'*.xlsx'} \\\n",
        "      {TEST_CASE_NAME+'*.jpg'} \\\n",
        "      {TEST_CASE_NAME+'*.pdf'} \\\n",
        "      {TEST_CASE_NAME+'*.svg'} \\\n",
        "      {'Low_Pass_Filter.*'}"
      ],
      "metadata": {
        "id": "BmlPbr1jGkzR"
      },
      "execution_count": null,
      "outputs": []
    },
    {
      "cell_type": "code",
      "source": [
        "case_name = TD.xp_cases_names[18]\n",
        "print( case_name )\n",
        "\n",
        "xp_times = TD.xp_times[case_name]\n",
        "xp_wave_h = TD.xp_wave_h[case_name]\n",
        "\n",
        "times = TD.flt_times[case_name]\n",
        "wave_h = TD.flt_wave_h[case_name]\n",
        "OWC_h = TD.flt_OWC_h[case_name]\n",
        "OWC_p = TD.flt_OWC_p[case_name]\n",
        "\n",
        "mean_wave_h = np.mean( wave_h )\n",
        "\n",
        "wave_h -= mean_wave_h\n",
        "xp_wave_h -= mean_wave_h\n",
        "\n",
        "freq = TD.xp_freq[ case_name ] \n",
        "h_depth = TD.xp_h_depth[ case_name ]\n",
        "h_depth = TD.xp_h_depth[ case_name ]\n",
        "L_beach = TD.xp_L_beach[ case_name ]\n",
        "L_buoy = TD.xp_L_buoy[ case_name ]\n",
        "L_waveProbe = TD.xp_L_waveProbe[ case_name ]\n",
        "\n",
        "H_des = 0.02\n",
        "fsample = 120 \n",
        "\n",
        "#################################################################\n",
        "# Wave characteristics\n",
        "ω  = 2.0 * np.pi * freq                       # Angular Frequency\n",
        "kh = dispersion_relation( ω, h_depth )  # Wave Number for infinite depth water conditions\n",
        "k  = kh / h_depth                       # Wave Number\n",
        "cp = ω / k                              # Wave crest Speed or phase Velocity\n",
        "\n",
        "t0, t1 = compute_working_time_interval( times, wave_h, fsample, cp, L_beach, L_waveProbe, L_buoy )\n",
        "\n",
        "waves_times_lower_peaks, waves_times_upper_peaks, \\\n",
        "    waves_lower_peaks, waves_upper_peaks, _, _ = compute_peaks( times, wave_h, fsample, t0, t1 )\n",
        "\n",
        "OWC_h_times_lower_peaks, OWC_h_times_upper_peaks, \\\n",
        "    OWC_h_lower_peaks, OWC_h_upper_peaks, _, _ = compute_peaks( times, OWC_h, fsample, t0, t1 )\n",
        "\n",
        "OWC_p_times_lower_peaks, OWC_p_times_upper_peaks, \\\n",
        "    OWC_p_lower_peaks, OWC_p_upper_peaks, n0, n1 = compute_peaks( times, OWC_p, fsample, t0, t1 )\n",
        "\n",
        "# #################################################################\n",
        "k0 = np.argmax( times >= t0 )\n",
        "k1 = np.argmax( times >= t1 )\n",
        "\n",
        "mpl.figure(1)\n",
        "mpl.axhline( np.mean( waves_upper_peaks ), color='k', dashes=(6,3) )\n",
        "mpl.axhline( np.mean( waves_lower_peaks ), color='k', dashes=(6,3) )\n",
        "\n",
        "mpl.plot( xp_times, xp_wave_h )\n",
        "mpl.plot( times[k0:k1], wave_h[k0:k1], dashes=(10,0) )\n",
        "\n",
        "mpl.plot( waves_times_upper_peaks, waves_upper_peaks, 'o' )\n",
        "mpl.plot( waves_times_lower_peaks, waves_lower_peaks, 'o' )\n",
        "# mpl.xlim( ( 10, 30 ) )\n",
        "\n",
        "mpl.figure(2)\n",
        "mpl.axhline( np.mean( OWC_h_upper_peaks ), color='k', dashes=(6,3) ) \n",
        "mpl.axhline( np.mean( OWC_h_lower_peaks ), color='k', dashes=(6,3) )\n",
        "\n",
        "mpl.plot( times, OWC_h )\n",
        "mpl.plot( times[k0:k1], OWC_h[k0:k1], dashes=(10,0) )\n",
        "mpl.plot( OWC_h_times_lower_peaks, OWC_h_lower_peaks, 'o' )\n",
        "mpl.plot( OWC_h_times_upper_peaks, OWC_h_upper_peaks, 'o' )\n",
        "# mpl.xlim( ( 10, 30 ) )\n",
        "\n",
        "mpl.figure(3)\n",
        "mpl.axhline( np.mean( OWC_p_upper_peaks ), color='k', dashes=(6,3) ) \n",
        "mpl.axhline( np.mean( OWC_p_lower_peaks ), color='k', dashes=(6,3) )\n",
        "\n",
        "mpl.plot( times, OWC_p )\n",
        "mpl.plot( times[k0:k1], OWC_p[k0:k1], dashes=(10,0) )\n",
        "mpl.plot( OWC_p_times_lower_peaks, OWC_p_lower_peaks, 'o' )\n",
        "mpl.plot( OWC_p_times_upper_peaks, OWC_p_upper_peaks, 'o' )\n",
        "# mpl.xlim( ( 10, 30 ) )\n",
        "\n",
        "OWC_p01 = OWC_p[n0:n1]\n",
        "\n"
      ],
      "metadata": {
        "id": "p1GhB_gEx4d9"
      },
      "execution_count": null,
      "outputs": []
    },
    {
      "cell_type": "code",
      "source": [
        "Do = 0.003\n",
        "\n",
        "Ao = np.pi * Do**2 / 4.0\n",
        "Cd = 0.65\n",
        "Co = np.sqrt( 2.0 ) * Ao * Cd \n",
        "Q_turb = np.sign( OWC_p01 ) * Co * np.sqrt( np.abs( OWC_p01 ) / 1.21 )\n",
        "P_turb = OWC_p01 * Q_turb\n",
        "Pturb = np.mean( P_turb )\n"
      ],
      "metadata": {
        "id": "b3hiA-hX1MAn"
      },
      "execution_count": null,
      "outputs": []
    },
    {
      "cell_type": "code",
      "source": [
        "tt0 = np.min( ( OWC_p_times_lower_peaks[ 0], OWC_p_times_upper_peaks[ 0] ) )\n",
        "tt1 = np.min( ( OWC_p_times_lower_peaks[-1], OWC_p_times_upper_peaks[-1] ) )\n",
        "\n",
        "t_cond = np.logical_and( tt0 <= times, times <= tt1 )\n",
        "ttimes = times[ t_cond ]\n",
        "tOWC_p = OWC_p[ t_cond ]"
      ],
      "metadata": {
        "id": "8pwX46t00lSg"
      },
      "execution_count": null,
      "outputs": []
    },
    {
      "cell_type": "code",
      "source": [
        "Do = 0.003\n",
        "\n",
        "Ao = np.pi * Do**2 / 4.0\n",
        "Cd = 0.65\n",
        "Co = np.sqrt( 2.0 ) * Ao * Cd \n",
        "Q_turb = np.sign( tOWC_p ) * Co * np.sqrt( np.abs( tOWC_p ) / 1.21 )\n",
        "P_turb = tOWC_p * Q_turb\n",
        "Pturb = np.mean( P_turb )\n",
        "Pturb"
      ],
      "metadata": {
        "id": "L98h5Cwl1Pum"
      },
      "execution_count": null,
      "outputs": []
    },
    {
      "cell_type": "code",
      "source": [
        "tOWC_p"
      ],
      "metadata": {
        "id": "dHaboHgg2MLU"
      },
      "execution_count": null,
      "outputs": []
    },
    {
      "cell_type": "code",
      "source": [],
      "metadata": {
        "id": "iTpGMJRv2ys5"
      },
      "execution_count": null,
      "outputs": []
    }
  ],
  "metadata": {
    "interpreter": {
      "hash": "687cc4e401708a16426ccc61b37822e273e79eddba24f8f00be477bc6019a9b9"
    },
    "kernelspec": {
      "display_name": "Python 3 (ipykernel)",
      "language": "python",
      "name": "python3"
    },
    "language_info": {
      "codemirror_mode": {
        "name": "ipython",
        "version": 3
      },
      "file_extension": ".py",
      "mimetype": "text/x-python",
      "name": "python",
      "nbconvert_exporter": "python",
      "pygments_lexer": "ipython3",
      "version": "3.10.2"
    },
    "colab": {
      "name": "OWC_ExpAnalysis_V23C.ipynb",
      "provenance": [],
      "include_colab_link": true
    }
  },
  "nbformat": 4,
  "nbformat_minor": 0
}
