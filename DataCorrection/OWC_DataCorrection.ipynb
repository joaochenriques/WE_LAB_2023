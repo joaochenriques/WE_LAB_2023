{
  "cells": [
    {
      "cell_type": "markdown",
      "metadata": {
        "id": "view-in-github",
        "colab_type": "text"
      },
      "source": [
        "<a href=\"https://colab.research.google.com/github/joaochenriques/WE_LAB_2023/blob/main/DataCorrection/OWC_DataCorrection.ipynb\" target=\"_parent\"><img src=\"https://colab.research.google.com/assets/colab-badge.svg\" alt=\"Open In Colab\"/></a>"
      ]
    },
    {
      "cell_type": "code",
      "source": [
        "import h5py, re\n",
        "import matplotlib.pyplot as mpl\n",
        "import numpy as np\n",
        "import pandas as pd\n",
        "import scipy.signal\n",
        "from dataclasses import dataclass, field\n",
        "import os, pathlib"
      ],
      "metadata": {
        "id": "6mL1mUP3Lrp3"
      },
      "execution_count": 3,
      "outputs": []
    },
    {
      "cell_type": "code",
      "source": [
        "import subprocess\n",
        "\n",
        "def cmdcall( cmd ):\n",
        "    output = subprocess.getoutput( cmd )\n",
        "    print(output)"
      ],
      "metadata": {
        "id": "xhV67PVH-MMd"
      },
      "execution_count": 4,
      "outputs": []
    },
    {
      "cell_type": "code",
      "source": [
        "if not pathlib.Path(\"YB2m_Tests_V6.h5\").exists():\n",
        "  cmdcall( \"curl -O https://raw.githubusercontent.com/joaochenriques/WE_LAB_2023/main/YB2m_Tests_V6.zip\" )\n",
        "  cmdcall( \"unzip YB2m_Tests_V6.zip\" )"
      ],
      "metadata": {
        "id": "8W50iPRb1Bx5",
        "outputId": "01e22cae-698a-440e-ad63-133a3223536c",
        "colab": {
          "base_uri": "https://localhost:8080/"
        }
      },
      "execution_count": 5,
      "outputs": [
        {
          "output_type": "stream",
          "name": "stdout",
          "text": [
            "  % Total    % Received % Xferd  Average Speed   Time    Time     Time  Current\n",
            "                                 Dload  Upload   Total   Spent    Left  Speed\n",
            "\n",
            "  0     0    0     0    0     0      0      0 --:--:-- --:--:-- --:--:--     0\n",
            "100 4520k  100 4520k    0     0  13.3M      0 --:--:-- --:--:-- --:--:-- 13.3M\n",
            "Archive:  YB2m_Tests_V6.zip\n",
            "  inflating: YB2m_Tests_V6.h5        \n"
          ]
        }
      ]
    },
    {
      "cell_type": "code",
      "source": [
        "if not pathlib.Path(\"KB4m_Tests_V6.h5\").exists():\n",
        "  cmdcall( \"curl -O https://raw.githubusercontent.com/joaochenriques/WE_LAB_2023/main/KB4m_Tests_V6.zip\" )\n",
        "  cmdcall( \"unzip KB4m_Tests_V6.zip\" )"
      ],
      "metadata": {
        "id": "6mMRfG-2-REN",
        "outputId": "8e2b61b1-9d72-4f86-9a19-2e51b249beb5",
        "colab": {
          "base_uri": "https://localhost:8080/"
        }
      },
      "execution_count": 6,
      "outputs": [
        {
          "output_type": "stream",
          "name": "stdout",
          "text": [
            "  % Total    % Received % Xferd  Average Speed   Time    Time     Time  Current\n",
            "                                 Dload  Upload   Total   Spent    Left  Speed\n",
            "\n",
            "  0     0    0     0    0     0      0      0 --:--:-- --:--:-- --:--:--     0\n",
            "100 1875k  100 1875k    0     0  6557k      0 --:--:-- --:--:-- --:--:-- 6557k\n",
            "Archive:  KB4m_Tests_V6.zip\n",
            "  inflating: KB4m_Tests_V6.h5        \n"
          ]
        }
      ]
    },
    {
      "cell_type": "code",
      "execution_count": 8,
      "metadata": {
        "id": "LHXHlgubhQFC"
      },
      "outputs": [],
      "source": [
        "if not pathlib.Path(\"mpl_utils.py\").exists():\n",
        "  os.system( \"curl -O https://raw.githubusercontent.com/joaochenriques/ipynb_libs/main/mpl_utils.py\" ) \n",
        "\n",
        "import mpl_utils as mut\n",
        "mut.config_plots()\n",
        "\n",
        "from matplotlib_inline.backend_inline import set_matplotlib_formats\n",
        "set_matplotlib_formats('svg')\n",
        "\n",
        "mpl.rcParams[\"figure.figsize\"] = (6,4.5)"
      ]
    },
    {
      "cell_type": "code",
      "source": [
        "def read_hdf_array( hdf5_Input, group, name ):\n",
        "    return np.array( hdf5_Input[ group + '/' + name ] )\n",
        "\n",
        "def read_hdf_scalar( hdf5_Input, group, name ):\n",
        "    return hdf5_Input[ group + '/' + name ][()]\n",
        "\n",
        "def read_hdf_string( hdf5_Input, group, name ):\n",
        "    return hdf5_Input[ group + '/' + name ][()]\n",
        "\n",
        "def save_hdf_array( hdf5_Output, group, name, fdata ):\n",
        "    hdf5_Output.create_dataset( group + '/' + name, data=fdata, \n",
        "                                compression=\"gzip\", compression_opts=9  )\n",
        "\n",
        "def save_hdf_scalar( hdf5_Output, group, name, fdata ):\n",
        "    hdf5_Output.create_dataset( group + '/' + name, data=fdata )\n",
        "\n",
        "def save_hdf_string( hdf5_Output, group, name, fdata ):\n",
        "    hdf5_Output.create_dataset( group + '/' + name, data=fdata, \n",
        "                                dtype=save_hdf_string.dt_str )\n",
        "save_hdf_string.dt_str = h5py.special_dtype( vlen=bytes )"
      ],
      "metadata": {
        "id": "3Opt1xe8_KmK"
      },
      "execution_count": 9,
      "outputs": []
    },
    {
      "cell_type": "code",
      "source": [
        "hf = h5py.File( 'YB2m_Tests_V6.h5', 'a' )\n",
        "\n",
        "cases_names = list( hf.keys() )\n",
        "for case_name in cases_names:\n",
        "    var_entry = case_name + '/Delta_p'\n",
        "    if var_entry in hf:\n",
        "        Delta_p_RAW = read_hdf_array( hf, case_name, 'Delta_p_RAW' ) \n",
        "        Delta_p = -621.689 + 240.499 * Delta_p_RAW\n",
        "        del hf[ var_entry ]\n",
        "        save_hdf_array( hf, case_name, 'Delta_p', Delta_p )\n",
        "        print( \"Found: \" + case_name )\n",
        "\n",
        "hf.close()"
      ],
      "metadata": {
        "id": "7D2I-Lx8-QZ7",
        "outputId": "d766befa-d320-4ca4-ee37-023f94ccd32c",
        "colab": {
          "base_uri": "https://localhost:8080/"
        }
      },
      "execution_count": 10,
      "outputs": [
        {
          "output_type": "stream",
          "name": "stdout",
          "text": [
            "Found: YB2m_H0.02m_f0.64Hz\n",
            "Found: YB2m_H0.02m_f0.70Hz\n",
            "Found: YB2m_H0.02m_f0.74Hz\n",
            "Found: YB2m_H0.02m_f0.76Hz\n",
            "Found: YB2m_H0.02m_f0.80Hz\n",
            "Found: YB2m_H0.02m_f0.84Hz\n",
            "Found: YB2m_H0.02m_f0.88Hz\n",
            "Found: YB2m_H0.02m_f0.90Hz\n",
            "Found: YB2m_H0.02m_f0.92Hz\n",
            "Found: YB2m_H0.02m_f0.96Hz\n",
            "Found: YB2m_H0.02m_f1.00Hz\n",
            "Found: YB2m_H0.02m_f1.02Hz\n",
            "Found: YB2m_H0.02m_f1.04Hz\n",
            "Found: YB2m_H0.02m_f1.06Hz\n",
            "Found: YB2m_H0.02m_f1.08Hz\n",
            "Found: YB2m_H0.02m_f1.10Hz\n",
            "Found: YB2m_H0.02m_f1.12Hz\n",
            "Found: YB2m_H0.02m_f1.14Hz\n",
            "Found: YB2m_H0.02m_f1.16Hz\n",
            "Found: YB2m_H0.02m_f1.18Hz\n",
            "Found: YB2m_H0.02m_f1.20Hz\n",
            "Found: YB2m_H0.02m_f1.24Hz\n",
            "Found: YB2m_H0.02m_f1.28Hz\n",
            "Found: YB2m_H0.02m_f1.30Hz\n",
            "Found: YB2m_H0.02m_f1.34Hz\n",
            "Found: YB2m_H0.02m_f1.40Hz\n",
            "Found: YB2m_H0.02m_f1.50Hz\n"
          ]
        }
      ]
    },
    {
      "cell_type": "code",
      "source": [
        "hf = h5py.File( 'KB4m_Tests_V6.h5', 'a' )\n",
        "\n",
        "cases_names = list( hf.keys() )\n",
        "for case_name in cases_names:\n",
        "    var_entry = case_name + '/Delta_p'\n",
        "    if var_entry in hf:\n",
        "        Delta_p_RAW = read_hdf_array( hf, case_name, 'Delta_p_RAW' ) \n",
        "        Delta_p = -621.689 + 240.499 * Delta_p_RAW\n",
        "        del hf[ var_entry ]\n",
        "        save_hdf_array( hf, case_name, 'Delta_p', Delta_p )\n",
        "        print( \"Found: \" + case_name )\n",
        "\n",
        "hf.close()"
      ],
      "metadata": {
        "id": "Dme5lfTh3ozK",
        "outputId": "7620b98a-4b16-4c30-b22c-7418eebbdf41",
        "colab": {
          "base_uri": "https://localhost:8080/"
        }
      },
      "execution_count": 11,
      "outputs": [
        {
          "output_type": "stream",
          "name": "stdout",
          "text": [
            "Found: KB4m_H0.04m_f0.64Hz\n",
            "Found: KB4m_H0.04m_f0.70Hz\n",
            "Found: KB4m_H0.04m_f0.74Hz\n",
            "Found: KB4m_H0.04m_f0.78Hz\n",
            "Found: KB4m_H0.04m_f0.82Hz\n",
            "Found: KB4m_H0.04m_f0.86Hz\n",
            "Found: KB4m_H0.04m_f0.90Hz\n",
            "Found: KB4m_H0.04m_f0.94Hz\n",
            "Found: KB4m_H0.04m_f1.00Hz\n",
            "Found: KB4m_H0.04m_f1.02Hz\n",
            "Found: KB4m_H0.04m_f1.04Hz\n",
            "Found: KB4m_H0.04m_f1.06Hz\n",
            "Found: KB4m_H0.04m_f1.08Hz\n",
            "Found: KB4m_H0.04m_f1.10Hz\n",
            "Found: KB4m_H0.04m_f1.12Hz\n",
            "Found: KB4m_H0.04m_f1.14Hz\n",
            "Found: KB4m_H0.04m_f1.16Hz\n",
            "Found: KB4m_H0.04m_f1.18Hz\n",
            "Found: KB4m_H0.04m_f1.22Hz\n",
            "Found: KB4m_H0.04m_f1.28Hz\n",
            "Found: KB4m_H0.04m_f1.34Hz\n",
            "Found: KB4m_H0.04m_f1.42Hz\n",
            "Found: KB4m_H0.04m_f1.50Hz\n"
          ]
        }
      ]
    },
    {
      "cell_type": "code",
      "source": [
        "def update_scalar( hf, case_name, var_name, value ):\n",
        "    if not case_name + '/' + var_name in hf:\n",
        "        save_hdf_scalar( hf, case_name, var_name, value )"
      ],
      "metadata": {
        "id": "4aeO4TU1C7BS"
      },
      "execution_count": 20,
      "outputs": []
    },
    {
      "cell_type": "code",
      "source": [
        "hf = h5py.File( 'YB2m_Tests_V6.h5', 'a' )\n",
        "\n",
        "cases_names = list( hf.keys() )\n",
        "for case_name in cases_names:\n",
        "    filename = read_hdf_string( hf, case_name, 'CamerasFileName').decode(\"ascii\")\n",
        "    filename = filename.replace( 'tsv', 'csv')\n",
        "    print( \"Found: \" + case_name + ' -> ' + filename )\n",
        "    del hf[case_name + '/CamerasFileName']\n",
        "    save_hdf_string( hf, case_name, 'CamerasFileName', filename )\n",
        "\n",
        "    update_scalar( hf, case_name, 'D_orifice',   float( 0.003) )\n",
        "    update_scalar( hf, case_name, 'D_orifice',   float( 0.003) )\n",
        "    update_scalar( hf, case_name, 'D_OWC',       float( 0.160) )\n",
        "    update_scalar( hf, case_name, 'h_depth',     float( 0.488) )\n",
        "    update_scalar( hf, case_name, 'L_buoy',      float(10.320) )\n",
        "    update_scalar( hf, case_name, 'L_beach',     float(19.600) )\n",
        "    update_scalar( hf, case_name, 'L_waveProbe', float( 9.700) )\n",
        "\n",
        "hf.close()"
      ],
      "metadata": {
        "id": "saCWYxLJ8NNL",
        "outputId": "4bfbc3b8-9dff-4445-f606-f44997417f8d",
        "colab": {
          "base_uri": "https://localhost:8080/"
        }
      },
      "execution_count": 22,
      "outputs": [
        {
          "output_type": "stream",
          "name": "stdout",
          "text": [
            "Found: YB2m_H0.02m_f0.64Hz -> YB2m_H0.02m_f0.64Hz.csv\n",
            "Found: YB2m_H0.02m_f0.70Hz -> YB2m_H0.02m_f0.70Hz.csv\n",
            "Found: YB2m_H0.02m_f0.74Hz -> YB2m_H0.02m_f0.74Hz.csv\n",
            "Found: YB2m_H0.02m_f0.76Hz -> YB2m_H0.02m_f0.76Hz.csv\n",
            "Found: YB2m_H0.02m_f0.80Hz -> YB2m_H0.02m_f0.80Hz.csv\n",
            "Found: YB2m_H0.02m_f0.84Hz -> YB2m_H0.02m_f0.84Hz.csv\n",
            "Found: YB2m_H0.02m_f0.88Hz -> YB2m_H0.02m_f0.88Hz.csv\n",
            "Found: YB2m_H0.02m_f0.90Hz -> YB2m_H0.02m_f0.90Hz.csv\n",
            "Found: YB2m_H0.02m_f0.92Hz -> YB2m_H0.02m_f0.92Hz.csv\n",
            "Found: YB2m_H0.02m_f0.96Hz -> YB2m_H0.02m_f0.96Hz.csv\n",
            "Found: YB2m_H0.02m_f1.00Hz -> YB2m_H0.02m_f1.00Hz.csv\n",
            "Found: YB2m_H0.02m_f1.02Hz -> YB2m_H0.02m_f1.02Hz.csv\n",
            "Found: YB2m_H0.02m_f1.04Hz -> YB2m_H0.02m_f1.04Hz.csv\n",
            "Found: YB2m_H0.02m_f1.06Hz -> YB2m_H0.02m_f1.06Hz.csv\n",
            "Found: YB2m_H0.02m_f1.08Hz -> YB2m_H0.02m_f1.08Hz.csv\n",
            "Found: YB2m_H0.02m_f1.10Hz -> YB2m_H0.02m_f1.10Hz.csv\n",
            "Found: YB2m_H0.02m_f1.12Hz -> YB2m_H0.02m_f1.12Hz.csv\n",
            "Found: YB2m_H0.02m_f1.14Hz -> YB2m_H0.02m_f1.14Hz.csv\n",
            "Found: YB2m_H0.02m_f1.16Hz -> YB2m_H0.02m_f1.16Hz.csv\n",
            "Found: YB2m_H0.02m_f1.18Hz -> YB2m_H0.02m_f1.18Hz.csv\n",
            "Found: YB2m_H0.02m_f1.20Hz -> YB2m_H0.02m_f1.20Hz.csv\n",
            "Found: YB2m_H0.02m_f1.24Hz -> YB2m_H0.02m_f1.24Hz.csv\n",
            "Found: YB2m_H0.02m_f1.28Hz -> YB2m_H0.02m_f1.28Hz.csv\n",
            "Found: YB2m_H0.02m_f1.30Hz -> YB2m_H0.02m_f1.30Hz.csv\n",
            "Found: YB2m_H0.02m_f1.34Hz -> YB2m_H0.02m_f1.34Hz.csv\n",
            "Found: YB2m_H0.02m_f1.40Hz -> YB2m_H0.02m_f1.40Hz.csv\n",
            "Found: YB2m_H0.02m_f1.50Hz -> YB2m_H0.02m_f1.50Hz.csv\n"
          ]
        }
      ]
    },
    {
      "cell_type": "code",
      "source": [
        "hf = h5py.File( 'KB4m_Tests_V6.h5', 'a' )\n",
        "\n",
        "cases_names = list( hf.keys() )\n",
        "for case_name in cases_names:\n",
        "    filename = read_hdf_string( hf, case_name, 'CamerasFileName').decode(\"ascii\")\n",
        "    filename = filename.replace( 'tsv', 'csv')\n",
        "    print( \"Found: \" + case_name + ' -> ' + filename )\n",
        "    del hf[case_name + '/CamerasFileName']\n",
        "    save_hdf_string( hf, case_name, 'CamerasFileName', filename )\n",
        "\n",
        "    update_scalar( hf, case_name, 'D_orifice',   float( 0.003) )\n",
        "    update_scalar( hf, case_name, 'D_OWC',       float( 0.160) )\n",
        "    update_scalar( hf, case_name, 'h_depth',     float( 0.488) )\n",
        "    update_scalar( hf, case_name, 'L_buoy',      float(10.320) )\n",
        "    update_scalar( hf, case_name, 'L_beach',     float(19.600) )\n",
        "    update_scalar( hf, case_name, 'L_waveProbe', float( 9.700) )\n",
        "\n",
        "hf.close()"
      ],
      "metadata": {
        "id": "gMLOZCo7AOUe",
        "outputId": "d4125f17-d4b1-45a5-fead-16095f578bc3",
        "colab": {
          "base_uri": "https://localhost:8080/"
        }
      },
      "execution_count": 25,
      "outputs": [
        {
          "output_type": "stream",
          "name": "stdout",
          "text": [
            "Found: KB4m_H0.04m_f0.64Hz -> KB4m_H0.04m_f0.64Hz.csv\n",
            "Found: KB4m_H0.04m_f0.70Hz -> KB4m_H0.04m_f0.70Hz.csv\n",
            "Found: KB4m_H0.04m_f0.74Hz -> KB4m_H0.04m_f0.74Hz.csv\n",
            "Found: KB4m_H0.04m_f0.78Hz -> KB4m_H0.04m_f0.78Hz.csv\n",
            "Found: KB4m_H0.04m_f0.82Hz -> KB4m_H0.04m_f0.82Hz.csv\n",
            "Found: KB4m_H0.04m_f0.86Hz -> KB4m_H0.04m_f0.86Hz.csv\n",
            "Found: KB4m_H0.04m_f0.90Hz -> KB4m_H0.04m_f0.90Hz.csv\n",
            "Found: KB4m_H0.04m_f0.94Hz -> KB4m_H0.04m_f0.94Hz.csv\n",
            "Found: KB4m_H0.04m_f1.00Hz -> KB4m_H0.04m_f1.00Hz.csv\n",
            "Found: KB4m_H0.04m_f1.02Hz -> KB4m_H0.04m_f1.02Hz.csv\n",
            "Found: KB4m_H0.04m_f1.04Hz -> KB4m_H0.04m_f1.04Hz.csv\n",
            "Found: KB4m_H0.04m_f1.06Hz -> KB4m_H0.04m_f1.06Hz.csv\n",
            "Found: KB4m_H0.04m_f1.08Hz -> KB4m_H0.04m_f1.08Hz.csv\n",
            "Found: KB4m_H0.04m_f1.10Hz -> KB4m_H0.04m_f1.10Hz.csv\n",
            "Found: KB4m_H0.04m_f1.12Hz -> KB4m_H0.04m_f1.12Hz.csv\n",
            "Found: KB4m_H0.04m_f1.14Hz -> KB4m_H0.04m_f1.14Hz.csv\n",
            "Found: KB4m_H0.04m_f1.16Hz -> KB4m_H0.04m_f1.16Hz.csv\n",
            "Found: KB4m_H0.04m_f1.18Hz -> KB4m_H0.04m_f1.18Hz.csv\n",
            "Found: KB4m_H0.04m_f1.22Hz -> KB4m_H0.04m_f1.22Hz.csv\n",
            "Found: KB4m_H0.04m_f1.28Hz -> KB4m_H0.04m_f1.28Hz.csv\n",
            "Found: KB4m_H0.04m_f1.34Hz -> KB4m_H0.04m_f1.34Hz.csv\n",
            "Found: KB4m_H0.04m_f1.42Hz -> KB4m_H0.04m_f1.42Hz.csv\n",
            "Found: KB4m_H0.04m_f1.50Hz -> KB4m_H0.04m_f1.50Hz.csv\n"
          ]
        }
      ]
    },
    {
      "cell_type": "code",
      "source": [
        "!zip YB2m_Tests_V6B.zip YB2m_Tests_V6.h5\n",
        "!zip KB4m_Tests_V6B.zip KB4m_Tests_V6.h5"
      ],
      "metadata": {
        "id": "ONkzGJVx2xe2",
        "outputId": "e381b7e8-8f71-4218-9ad1-3858fdb3b327",
        "colab": {
          "base_uri": "https://localhost:8080/"
        }
      },
      "execution_count": 27,
      "outputs": [
        {
          "output_type": "stream",
          "name": "stdout",
          "text": [
            "updating: YB2m_Tests_V6.h5 (deflated 87%)\n",
            "  adding: KB4m_Tests_V6.h5 (deflated 82%)\n"
          ]
        }
      ]
    },
    {
      "cell_type": "code",
      "source": [
        "!dir -l"
      ],
      "metadata": {
        "id": "voyo6R3p7pYy",
        "outputId": "e0a25eef-3d71-45da-adff-dcc366d1230e",
        "colab": {
          "base_uri": "https://localhost:8080/"
        }
      },
      "execution_count": 28,
      "outputs": [
        {
          "output_type": "stream",
          "name": "stdout",
          "text": [
            "total 61456\n",
            "-rw-r--r-- 1 root root  2242101 Apr  7 09:35 KB4m_Tests_V6B.zip\n",
            "-rw-r--r-- 1 root root 12701472 Apr  7 09:33 KB4m_Tests_V6.h5\n",
            "-rw-r--r-- 1 root root  1920409 Apr  7 09:09 KB4m_Tests_V6.zip\n",
            "-rw-r--r-- 1 root root     3921 Apr  7 09:09 mpl_utils.py\n",
            "drwxr-xr-x 2 root root     4096 Apr  7 09:09 __pycache__\n",
            "drwxr-xr-x 1 root root     4096 Apr  5 13:30 sample_data\n",
            "-rw-r--r-- 1 root root  4714738 Apr  7 09:35 YB2m_Tests_V6B.zip\n",
            "-rw-r--r-- 1 root root 36695264 Apr  7 09:33 YB2m_Tests_V6.h5\n",
            "-rw-r--r-- 1 root root  4629278 Apr  7 09:08 YB2m_Tests_V6.zip\n"
          ]
        }
      ]
    },
    {
      "cell_type": "code",
      "source": [],
      "metadata": {
        "id": "I0rvyYD07tyv"
      },
      "execution_count": null,
      "outputs": []
    }
  ],
  "metadata": {
    "interpreter": {
      "hash": "687cc4e401708a16426ccc61b37822e273e79eddba24f8f00be477bc6019a9b9"
    },
    "kernelspec": {
      "display_name": "Python 3 (ipykernel)",
      "language": "python",
      "name": "python3"
    },
    "language_info": {
      "codemirror_mode": {
        "name": "ipython",
        "version": 3
      },
      "file_extension": ".py",
      "mimetype": "text/x-python",
      "name": "python",
      "nbconvert_exporter": "python",
      "pygments_lexer": "ipython3",
      "version": "3.10.2"
    },
    "colab": {
      "name": "OWC_PressureSignal.ipynb",
      "provenance": [],
      "include_colab_link": true
    }
  },
  "nbformat": 4,
  "nbformat_minor": 0
}