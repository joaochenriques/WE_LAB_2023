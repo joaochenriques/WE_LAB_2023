{
  "cells": [
    {
      "cell_type": "markdown",
      "metadata": {
        "id": "view-in-github",
        "colab_type": "text"
      },
      "source": [
        "<a href=\"https://colab.research.google.com/github/joaochenriques/WE_LAB_2023/blob/main/DataCorrection/OWC_CamerasDataCorrection.ipynb\" target=\"_parent\"><img src=\"https://colab.research.google.com/assets/colab-badge.svg\" alt=\"Open In Colab\"/></a>"
      ]
    },
    {
      "cell_type": "code",
      "source": [
        "import h5py\n",
        "import matplotlib.pyplot as mpl\n",
        "import numpy as np\n",
        "import pandas as pd\n",
        "import scipy.signal\n",
        "from dataclasses import dataclass, field\n",
        "import os, pathlib"
      ],
      "metadata": {
        "id": "6mL1mUP3Lrp3"
      },
      "execution_count": 1,
      "outputs": []
    },
    {
      "cell_type": "code",
      "source": [
        "if not pathlib.Path(\"YB2m_V6.h5\").exists():\n",
        "  os.system( \"curl -O https://raw.githubusercontent.com/joaochenriques/WE_LAB_2023/main/DataCorrection/YB2m_V6.zip\" )\n",
        "  os.system( \"unzip YB2m_V6.zip\" )\n",
        "   \n",
        "if not pathlib.Path(\"YB4m_V6.h5\").exists():\n",
        "  os.system( \"curl -O https://raw.githubusercontent.com/joaochenriques/WE_LAB_2023/main/DataCorrection/YB4m_V6.zip\" )\n",
        "  os.system( \"unzip YB4m_V6.zip\" )"
      ],
      "metadata": {
        "id": "8W50iPRb1Bx5"
      },
      "execution_count": 2,
      "outputs": []
    },
    {
      "cell_type": "code",
      "source": [
        "os.system( \"unzip YB2m_V6.zip\" )"
      ],
      "metadata": {
        "id": "wzmCdjmGb1s7",
        "outputId": "498c181b-ccee-49e8-84eb-1dad51a6f24b",
        "colab": {
          "base_uri": "https://localhost:8080/"
        }
      },
      "execution_count": 3,
      "outputs": [
        {
          "output_type": "execute_result",
          "data": {
            "text/plain": [
              "256"
            ]
          },
          "metadata": {},
          "execution_count": 3
        }
      ]
    },
    {
      "cell_type": "code",
      "execution_count": 5,
      "metadata": {
        "id": "LHXHlgubhQFC"
      },
      "outputs": [],
      "source": [
        "if not pathlib.Path(\"mpl_utils.py\").exists():\n",
        "  os.system( \"curl -O https://raw.githubusercontent.com/joaochenriques/ipynb_libs/main/mpl_utils.py\" ) \n",
        "\n",
        "import mpl_utils as mut\n",
        "mut.config_plots()\n",
        "\n",
        "from matplotlib_inline.backend_inline import set_matplotlib_formats\n",
        "set_matplotlib_formats('svg')\n",
        "\n",
        "mpl.rcParams[\"figure.figsize\"] = (6,4.5)"
      ]
    },
    {
      "cell_type": "code",
      "source": [
        "#~==============================================================================\n",
        "def read_hdf_array( hdf5_Input, group, name ):\n",
        "    return np.array( hdf5_Input[ group + '/' + name ] )\n",
        "\n",
        "def read_hdf_scalar( hdf5_Input, group, name ):\n",
        "    return hdf5_Input[ group + '/' + name ][()]\n",
        "\n",
        "def read_hdf_string( hdf5_Input, group, name ):\n",
        "    return hdf5_Input[ group + '/' + name ][()]\n",
        "\n",
        "#~==============================================================================\n",
        "def save_hdf_array( hdf5_Output, group, name, fdata ):\n",
        "    hdf5_Output.create_dataset( group + '/' + name, data=fdata, \n",
        "                                compression=\"gzip\", compression_opts=9  )\n",
        "\n",
        "def save_hdf_scalar( hdf5_Output, group, name, fdata ):\n",
        "    hdf5_Output.create_dataset( group + '/' + name, data=fdata )\n",
        "\n",
        "def save_hdf_string( hdf5_Output, group, name, fdata ):\n",
        "    hdf5_Output.create_dataset( group + '/' + name, data=fdata, \n",
        "                                dtype=save_hdf_string.dt_str )\n",
        "save_hdf_string.dt_str = h5py.special_dtype( vlen=bytes )"
      ],
      "metadata": {
        "id": "3Opt1xe8_KmK"
      },
      "execution_count": 6,
      "outputs": []
    },
    {
      "cell_type": "code",
      "source": [
        "hf = h5py.File( 'YB2m_Tests_V5.h5', 'a' )\n",
        "filenames = []\n",
        "cases_names = list( hf.keys() )\n",
        "for case_name in cases_names:\n",
        "    var_entry = case_name + '/CamerasFileName'\n",
        "    if var_entry in hf:\n",
        "        filename = read_hdf_string( hf, case_name, 'CamerasFileName' ).decode()\n",
        "\n",
        "        if os.path.isfile( './' + filename ):\n",
        "            print( \"Found: \" + filename )\n",
        "            filenames.append( filename )\n",
        "        else:\n",
        "            print( \"NOT Found: \" + filename )\n",
        "            # del hf[ case_name + '/CamerasFileName' ]\n",
        "            # save_hdf_string( hf, case_name, 'CamerasFileName', 'YB2m_H0.02m_f0.60Hz.csv' )\n",
        "\n",
        "hf.close()"
      ],
      "metadata": {
        "id": "7D2I-Lx8-QZ7",
        "outputId": "c6960163-2ef0-4db0-c8f4-85c9d61c72de",
        "colab": {
          "base_uri": "https://localhost:8080/"
        }
      },
      "execution_count": 75,
      "outputs": [
        {
          "output_type": "stream",
          "name": "stdout",
          "text": [
            "Found: YB2m_H0.02m_f0.30Hz.csv\n",
            "Found: YB2m_H0.02m_f0.50Hz.csv\n",
            "Found: YB2m_H0.02m_f0.60Hz.csv\n",
            "Found: YB2m_H0.02m_f0.64Hz.csv\n",
            "Found: YB2m_H0.02m_f0.70Hz.csv\n",
            "Found: YB2m_H0.02m_f0.74Hz.csv\n",
            "Found: YB2m_H0.02m_f0.76Hz.csv\n",
            "Found: YB2m_H0.02m_f0.80Hz.csv\n",
            "Found: YB2m_H0.02m_f0.84Hz.csv\n",
            "Found: YB2m_H0.02m_f0.88Hz.csv\n",
            "Found: YB2m_H0.02m_f0.90Hz.csv\n",
            "Found: YB2m_H0.02m_f0.92Hz.csv\n",
            "Found: YB2m_H0.02m_f0.96Hz.csv\n",
            "Found: YB2m_H0.02m_f1.00Hz.csv\n",
            "Found: YB2m_H0.02m_f1.02Hz.csv\n",
            "Found: YB2m_H0.02m_f1.06Hz.csv\n",
            "Found: YB2m_H0.02m_f1.08Hz.csv\n",
            "Found: YB2m_H0.02m_f1.10Hz.csv\n",
            "Found: YB2m_H0.02m_f1.12Hz.csv\n",
            "Found: YB2m_H0.02m_f1.14Hz.csv\n",
            "Found: YB2m_H0.02m_f1.16Hz.csv\n",
            "Found: YB2m_H0.02m_f1.18Hz.csv\n",
            "Found: YB2m_H0.02m_f1.20Hz.csv\n",
            "Found: YB2m_H0.02m_f1.24Hz.csv\n",
            "Found: YB2m_H0.02m_f1.28Hz.csv\n",
            "Found: YB2m_H0.02m_f1.30Hz.csv\n",
            "Found: YB2m_H0.02m_f1.34Hz.csv\n",
            "Found: YB2m_H0.02m_f1.40Hz.csv\n",
            "Found: YB2m_H0.02m_f1.50Hz.csv\n"
          ]
        }
      ]
    },
    {
      "cell_type": "code",
      "source": [
        "for filename in filenames:\n",
        "    df = pd.read_csv( filename, skiprows=(0,1,2,3,4,5,6), header=None )\n",
        "    df.keys()\n",
        "    valid = True\n",
        "    data = np.array(df[2])\n",
        "    n = np.count_nonzero(~np.isnan(data))\n",
        "    print( filename + ' -- ' + str(len(data)) + ' -- ' + str(n) )"
      ],
      "metadata": {
        "id": "Dme5lfTh3ozK",
        "outputId": "cb89e378-e35c-4628-df6c-b59e6093f272",
        "colab": {
          "base_uri": "https://localhost:8080/"
        }
      },
      "execution_count": 76,
      "outputs": [
        {
          "output_type": "stream",
          "name": "stdout",
          "text": [
            "YB2m_H0.02m_f0.30Hz.csv -- 14946 -- 2450\n",
            "YB2m_H0.02m_f0.50Hz.csv -- 15078 -- 1118\n",
            "YB2m_H0.02m_f0.60Hz.csv -- 15977 -- 12\n",
            "YB2m_H0.02m_f0.64Hz.csv -- 16079 -- 16079\n",
            "YB2m_H0.02m_f0.70Hz.csv -- 18130 -- 18130\n",
            "YB2m_H0.02m_f0.74Hz.csv -- 17142 -- 17137\n",
            "YB2m_H0.02m_f0.76Hz.csv -- 17295 -- 17295\n",
            "YB2m_H0.02m_f0.80Hz.csv -- 15078 -- 1828\n",
            "YB2m_H0.02m_f0.84Hz.csv -- 15168 -- 15168\n",
            "YB2m_H0.02m_f0.88Hz.csv -- 16144 -- 16144\n",
            "YB2m_H0.02m_f0.90Hz.csv -- 15268 -- 491\n",
            "YB2m_H0.02m_f0.92Hz.csv -- 15827 -- 15827\n",
            "YB2m_H0.02m_f0.96Hz.csv -- 16186 -- 16186\n",
            "YB2m_H0.02m_f1.00Hz.csv -- 15417 -- 15414\n",
            "YB2m_H0.02m_f1.02Hz.csv -- 15148 -- 15148\n",
            "YB2m_H0.02m_f1.06Hz.csv -- 16198 -- 16196\n",
            "YB2m_H0.02m_f1.08Hz.csv -- 17839 -- 14118\n",
            "YB2m_H0.02m_f1.10Hz.csv -- 14741 -- 1438\n",
            "YB2m_H0.02m_f1.12Hz.csv -- 39106 -- 8056\n",
            "YB2m_H0.02m_f1.14Hz.csv -- 14809 -- 14650\n",
            "YB2m_H0.02m_f1.16Hz.csv -- 15730 -- 15728\n",
            "YB2m_H0.02m_f1.18Hz.csv -- 16364 -- 16263\n",
            "YB2m_H0.02m_f1.20Hz.csv -- 17605 -- 2477\n",
            "YB2m_H0.02m_f1.24Hz.csv -- 15164 -- 15009\n",
            "YB2m_H0.02m_f1.28Hz.csv -- 17145 -- 17145\n",
            "YB2m_H0.02m_f1.30Hz.csv -- 15483 -- 3060\n",
            "YB2m_H0.02m_f1.34Hz.csv -- 14630 -- 14630\n",
            "YB2m_H0.02m_f1.40Hz.csv -- 15054 -- 1069\n",
            "YB2m_H0.02m_f1.50Hz.csv -- 19086 -- 19086\n"
          ]
        }
      ]
    },
    {
      "cell_type": "code",
      "source": [],
      "metadata": {
        "id": "cM0LnaFgfiuK"
      },
      "execution_count": null,
      "outputs": []
    }
  ],
  "metadata": {
    "interpreter": {
      "hash": "687cc4e401708a16426ccc61b37822e273e79eddba24f8f00be477bc6019a9b9"
    },
    "kernelspec": {
      "display_name": "Python 3 (ipykernel)",
      "language": "python",
      "name": "python3"
    },
    "language_info": {
      "codemirror_mode": {
        "name": "ipython",
        "version": 3
      },
      "file_extension": ".py",
      "mimetype": "text/x-python",
      "name": "python",
      "nbconvert_exporter": "python",
      "pygments_lexer": "ipython3",
      "version": "3.10.2"
    },
    "colab": {
      "name": "OWC_CamerasDataCorrection.ipynb",
      "provenance": [],
      "include_colab_link": true
    }
  },
  "nbformat": 4,
  "nbformat_minor": 0
}
