{
  "cells": [
    {
      "cell_type": "markdown",
      "metadata": {
        "id": "view-in-github",
        "colab_type": "text"
      },
      "source": [
        "<a href=\"https://colab.research.google.com/github/joaochenriques/WE_LAB_2023/blob/main/DataCorrection/OWC_CamerasDataCorrection.ipynb\" target=\"_parent\"><img src=\"https://colab.research.google.com/assets/colab-badge.svg\" alt=\"Open In Colab\"/></a>"
      ]
    },
    {
      "cell_type": "code",
      "source": [
        "import h5py\n",
        "import matplotlib.pyplot as mpl\n",
        "import numpy as np\n",
        "import pandas as pd\n",
        "import scipy.signal\n",
        "from dataclasses import dataclass, field\n",
        "import os, pathlib\n",
        "from scipy import interpolate\n",
        "import glob"
      ],
      "metadata": {
        "id": "6mL1mUP3Lrp3"
      },
      "execution_count": null,
      "outputs": []
    },
    {
      "cell_type": "code",
      "source": [
        "import subprocess\n",
        "\n",
        "def cmdcall( cmd ):\n",
        "    output = subprocess.getoutput( cmd )\n",
        "    print(output)"
      ],
      "metadata": {
        "id": "3JjMNXwcX2N6"
      },
      "execution_count": null,
      "outputs": []
    },
    {
      "cell_type": "code",
      "source": [
        "if not pathlib.Path(\"mpl_utils.py\").exists():\n",
        "  cmdcall( \"curl -O https://raw.githubusercontent.com/joaochenriques/ipynb_libs/main/mpl_utils.py\" ) \n",
        "\n",
        "import mpl_utils as mut\n",
        "mut.config_plots()\n",
        "\n",
        "from matplotlib_inline.backend_inline import set_matplotlib_formats\n",
        "set_matplotlib_formats('svg')\n",
        "\n",
        "mpl.rcParams[\"figure.figsize\"] = (6,4.5)"
      ],
      "metadata": {
        "id": "__BLQQPyX0Mc",
        "outputId": "9e1e08c4-1911-457b-c9da-60b5cc5b54f8",
        "colab": {
          "base_uri": "https://localhost:8080/"
        }
      },
      "execution_count": null,
      "outputs": [
        {
          "output_type": "stream",
          "name": "stdout",
          "text": [
            "  % Total    % Received % Xferd  Average Speed   Time    Time     Time  Current\n",
            "                                 Dload  Upload   Total   Spent    Left  Speed\n",
            "\n",
            "  0     0    0     0    0     0      0      0 --:--:-- --:--:-- --:--:--     0\n",
            "100  3921  100  3921    0     0  12567      0 --:--:-- --:--:-- --:--:-- 12607\n"
          ]
        }
      ]
    },
    {
      "cell_type": "code",
      "source": [
        "if not pathlib.Path(\"YB2m_Tests_V6.h5\").exists():\n",
        "    cmdcall( \"curl -O https://raw.githubusercontent.com/joaochenriques/WE_LAB_2023/main/YB2m_Tests_V6.zip\" )\n",
        "    cmdcall( \"unzip YB2m_Tests_V6.zip\" )"
      ],
      "metadata": {
        "id": "8W50iPRb1Bx5",
        "outputId": "1d688f73-0c36-4289-df3b-663721c969cc",
        "colab": {
          "base_uri": "https://localhost:8080/"
        }
      },
      "execution_count": null,
      "outputs": [
        {
          "output_type": "stream",
          "name": "stdout",
          "text": [
            "  % Total    % Received % Xferd  Average Speed   Time    Time     Time  Current\n",
            "                                 Dload  Upload   Total   Spent    Left  Speed\n",
            "\n",
            "  0     0    0     0    0     0      0      0 --:--:-- --:--:-- --:--:--     0\n",
            "  0 4604k    0  7747    0     0  18185      0  0:04:19 --:--:--  0:04:19 18142\n",
            "100 4604k  100 4604k    0     0  9512k      0 --:--:-- --:--:-- --:--:-- 9512k\n",
            "Archive:  YB2m_Tests_V6.zip\n",
            "  inflating: YB2m_Tests_V6.h5        \n"
          ]
        }
      ]
    },
    {
      "cell_type": "code",
      "source": [
        "if not pathlib.Path(\"YB2m_Cameras_V6.zip\").exists():\n",
        "    cmdcall( \"curl -O https://raw.githubusercontent.com/joaochenriques/WE_LAB_2023/main/YB2m_Cameras_V6.zip\" )\n",
        "    cmdcall( \"unzip YB2m_Cameras_V6.zip\" )"
      ],
      "metadata": {
        "id": "132cpYFsXpkC",
        "outputId": "ae519463-6128-4859-8e9d-18cc90a20cbf",
        "colab": {
          "base_uri": "https://localhost:8080/"
        }
      },
      "execution_count": null,
      "outputs": [
        {
          "output_type": "stream",
          "name": "stdout",
          "text": [
            "  % Total    % Received % Xferd  Average Speed   Time    Time     Time  Current\n",
            "                                 Dload  Upload   Total   Spent    Left  Speed\n",
            "\n",
            "  0     0    0     0    0     0      0      0 --:--:-- --:--:-- --:--:--     0\n",
            "  0     0    0     0    0     0      0      0 --:--:--  0:00:01 --:--:--     0\n",
            "  0     0    0     0    0     0      0      0 --:--:--  0:00:02 --:--:--     0\n",
            "  0 10.0M    0     0    0     0      0      0 --:--:--  0:00:02 --:--:--     0\n",
            "100 10.0M  100 10.0M    0     0  3040k      0  0:00:03  0:00:03 --:--:-- 3040k\n",
            "Archive:  YB2m_Cameras_V6.zip\n",
            "  inflating: YB2m_H0.02m_f0.64Hz.csv  \n",
            "  inflating: YB2m_H0.02m_f0.70Hz.csv  \n",
            "  inflating: YB2m_H0.02m_f0.74Hz.csv  \n",
            "  inflating: YB2m_H0.02m_f0.76Hz.csv  \n",
            "  inflating: YB2m_H0.02m_f0.80Hz.csv  \n",
            "  inflating: YB2m_H0.02m_f0.84Hz.csv  \n",
            "  inflating: YB2m_H0.02m_f0.88Hz.csv  \n",
            "  inflating: YB2m_H0.02m_f0.90Hz.csv  \n",
            "  inflating: YB2m_H0.02m_f0.92Hz.csv  \n",
            "  inflating: YB2m_H0.02m_f0.96Hz.csv  \n",
            "  inflating: YB2m_H0.02m_f1.00Hz.csv  \n",
            "  inflating: YB2m_H0.02m_f1.02Hz.csv  \n",
            "  inflating: YB2m_H0.02m_f1.04Hz.csv  \n",
            "  inflating: YB2m_H0.02m_f1.06Hz.csv  \n",
            "  inflating: YB2m_H0.02m_f1.08Hz.csv  \n",
            "  inflating: YB2m_H0.02m_f1.10Hz.csv  \n",
            "  inflating: YB2m_H0.02m_f1.12Hz.csv  \n",
            "  inflating: YB2m_H0.02m_f1.14Hz.csv  \n",
            "  inflating: YB2m_H0.02m_f1.16Hz.csv  \n",
            "  inflating: YB2m_H0.02m_f1.18Hz.csv  \n",
            "  inflating: YB2m_H0.02m_f1.20Hz.csv  \n",
            "  inflating: YB2m_H0.02m_f1.24Hz.csv  \n",
            "  inflating: YB2m_H0.02m_f1.28Hz.csv  \n",
            "  inflating: YB2m_H0.02m_f1.30Hz.csv  \n",
            "  inflating: YB2m_H0.02m_f1.34Hz.csv  \n",
            "  inflating: YB2m_H0.02m_f1.40Hz.csv  \n",
            "  inflating: YB2m_H0.02m_f1.50Hz.csv  \n"
          ]
        }
      ]
    },
    {
      "cell_type": "code",
      "source": [
        "if not pathlib.Path(\"KB4m_Tests_V6.h5\").exists():\n",
        "    cmdcall( \"curl -O https://raw.githubusercontent.com/joaochenriques/WE_LAB_2023/main/KB4m_Tests_V6.zip\" )\n",
        "    cmdcall( \"unzip KB4m_Tests_V6.zip\" )"
      ],
      "metadata": {
        "id": "lPiBiSYrXt97",
        "outputId": "4d61e98e-8564-4742-af96-89a03723ae40",
        "colab": {
          "base_uri": "https://localhost:8080/"
        }
      },
      "execution_count": null,
      "outputs": [
        {
          "output_type": "stream",
          "name": "stdout",
          "text": [
            "  % Total    % Received % Xferd  Average Speed   Time    Time     Time  Current\n",
            "                                 Dload  Upload   Total   Spent    Left  Speed\n",
            "\n",
            "  0     0    0     0    0     0      0      0 --:--:-- --:--:-- --:--:--     0\n",
            "  0     0    0     0    0     0      0      0 --:--:-- --:--:-- --:--:--     0\n",
            "100 2189k  100 2189k    0     0  2716k      0 --:--:-- --:--:-- --:--:-- 2713k\n",
            "Archive:  KB4m_Tests_V6.zip\n",
            "  inflating: KB4m_Tests_V6.h5        \n"
          ]
        }
      ]
    },
    {
      "cell_type": "code",
      "source": [
        "if not pathlib.Path(\"KB4m_Cameras_V6.zip\").exists():\n",
        "    cmdcall( \"curl -O https://raw.githubusercontent.com/joaochenriques/WE_LAB_2023/main/KB4m_Cameras_V6.zip\" )\n",
        "    cmdcall( \"unzip KB4m_Cameras_V6.zip\" )"
      ],
      "metadata": {
        "id": "mLZ9I_0jXxsH",
        "outputId": "351dad7a-df76-470b-87b3-459f78a22b00",
        "colab": {
          "base_uri": "https://localhost:8080/"
        }
      },
      "execution_count": null,
      "outputs": [
        {
          "output_type": "stream",
          "name": "stdout",
          "text": [
            "  % Total    % Received % Xferd  Average Speed   Time    Time     Time  Current\n",
            "                                 Dload  Upload   Total   Spent    Left  Speed\n",
            "\n",
            "  0     0    0     0    0     0      0      0 --:--:-- --:--:-- --:--:--     0\n",
            "  0 7056k    0  7747    0     0  12142      0  0:09:55 --:--:--  0:09:55 12142\n",
            "100 7056k  100 7056k    0     0  9484k      0 --:--:-- --:--:-- --:--:-- 9471k\n",
            "Archive:  KB4m_Cameras_V6.zip\n",
            "  inflating: KB4m_H0.04m_f0.64Hz.csv  \n",
            "  inflating: KB4m_H0.04m_f0.70Hz.csv  \n",
            "  inflating: KB4m_H0.04m_f0.74Hz.csv  \n",
            "  inflating: KB4m_H0.04m_f0.78Hz.csv  \n",
            "  inflating: KB4m_H0.04m_f0.82Hz.csv  \n",
            "  inflating: KB4m_H0.04m_f0.86Hz.csv  \n",
            "  inflating: KB4m_H0.04m_f0.90Hz.csv  \n",
            "  inflating: KB4m_H0.04m_f0.94Hz.csv  \n",
            "  inflating: KB4m_H0.04m_f1.00Hz.csv  \n",
            "  inflating: KB4m_H0.04m_f1.02Hz.csv  \n",
            "  inflating: KB4m_H0.04m_f1.04Hz.csv  \n",
            "  inflating: KB4m_H0.04m_f1.06Hz.csv  \n",
            "  inflating: KB4m_H0.04m_f1.08Hz.csv  \n",
            "  inflating: KB4m_H0.04m_f1.10Hz.csv  \n",
            "  inflating: KB4m_H0.04m_f1.12Hz.csv  \n",
            "  inflating: KB4m_H0.04m_f1.14Hz.csv  \n",
            "  inflating: KB4m_H0.04m_f1.16Hz.csv  \n",
            "  inflating: KB4m_H0.04m_f1.18Hz.csv  \n",
            "  inflating: KB4m_H0.04m_f1.22Hz.csv  \n",
            "  inflating: KB4m_H0.04m_f1.28Hz.csv  \n",
            "  inflating: KB4m_H0.04m_f1.34Hz.csv  \n",
            "  inflating: KB4m_H0.04m_f1.42Hz.csv  \n",
            "  inflating: KB4m_H0.04m_f1.50Hz.csv  \n"
          ]
        }
      ]
    },
    {
      "cell_type": "code",
      "source": [
        "def read_hdf_array( hdf5_Input, group, name ):\n",
        "    return np.array( hdf5_Input[ group + '/' + name ] )\n",
        "\n",
        "def read_hdf_scalar( hdf5_Input, group, name ):\n",
        "    return hdf5_Input[ group + '/' + name ][()]\n",
        "\n",
        "def read_hdf_string( hdf5_Input, group, name ):\n",
        "    return hdf5_Input[ group + '/' + name ][()]\n",
        "\n",
        "def save_hdf_array( hdf5_Output, group, name, fdata ):\n",
        "    hdf5_Output.create_dataset( group + '/' + name, data=fdata, \n",
        "                                compression=\"gzip\", compression_opts=9  )\n",
        "\n",
        "def save_hdf_scalar( hdf5_Output, group, name, fdata ):\n",
        "    hdf5_Output.create_dataset( group + '/' + name, data=fdata )\n",
        "\n",
        "def save_hdf_string( hdf5_Output, group, name, fdata ):\n",
        "    hdf5_Output.create_dataset( group + '/' + name, data=fdata, \n",
        "                                dtype=save_hdf_string.dt_str )\n",
        "save_hdf_string.dt_str = h5py.special_dtype( vlen=bytes )"
      ],
      "metadata": {
        "id": "3Opt1xe8_KmK"
      },
      "execution_count": null,
      "outputs": []
    },
    {
      "cell_type": "code",
      "source": [
        "hf = h5py.File( 'YB2m_Tests_V5.h5', 'a' )\n",
        "filenames = []\n",
        "cases_names = list( hf.keys() )\n",
        "for case_name in cases_names:\n",
        "    var_entry = case_name + '/CamerasFileName'\n",
        "    if var_entry in hf:\n",
        "        filename = read_hdf_string( hf, case_name, 'CamerasFileName' ).decode()\n",
        "\n",
        "        if os.path.isfile( './' + filename ):\n",
        "            print( \"Found: \" + filename )\n",
        "            filenames.append( filename )\n",
        "        else:\n",
        "            print( \"NOT Found: \" + filename )\n",
        "            # del hf[ case_name + '/CamerasFileName' ]\n",
        "            # save_hdf_string( hf, case_name, 'CamerasFileName', 'YB2m_H0.02m_f0.60Hz.csv' )\n",
        "\n",
        "hf.close()"
      ],
      "metadata": {
        "id": "7D2I-Lx8-QZ7"
      },
      "execution_count": null,
      "outputs": []
    },
    {
      "cell_type": "code",
      "source": [
        "def interpolate_nans(A):\n",
        "    inds = np.arange( A.shape[0] )\n",
        "    good = np.where( np.isfinite(A) )\n",
        "    f = interpolate.interp1d( inds[good], A[good], bounds_error=False )\n",
        "    B = np.where( np.isfinite(A), A, f(inds) )\n",
        "    return B"
      ],
      "metadata": {
        "id": "jTCQdTDIYY9z"
      },
      "execution_count": null,
      "outputs": []
    },
    {
      "cell_type": "code",
      "source": [
        "filenames = sorted( [ f for f in glob.glob(\"*.csv\") ] )\n",
        "\n",
        "for filename in filenames:\n",
        "    df = pd.read_csv( filename, skiprows=(0,1,2,3,4,5,6), header=None )\n",
        "\n",
        "    times = np.array( df[1] )\n",
        "\n",
        "    roll  = np.array( df[2] )\n",
        "    yaw   = np.array( df[3] )\n",
        "    pitch = np.array( df[4] )\n",
        "    surge = np.array( df[5] )\n",
        "    heave = np.array( df[6] )\n",
        "    sway  = np.array( df[7] )    \n",
        "\n",
        "    if np.count_nonzero( np.isnan(roll) ) > 0:\n",
        "        roll  = interpolate_nans( roll  )\n",
        "        yaw   = interpolate_nans( yaw   )\n",
        "        pitch = interpolate_nans( pitch )\n",
        "        surge = interpolate_nans( surge )\n",
        "        heave = interpolate_nans( heave )\n",
        "        sway  = interpolate_nans( sway  )\n",
        "\n",
        "    n = np.count_nonzero(~np.isnan(roll))\n",
        "    print( filename + ' -- ' + str( len(roll) - n) )\n",
        "\n",
        "\n",
        "    data = {   \n",
        "        \"time\": times, \n",
        "        \"surge\" : surge, \n",
        "        \"heave\" : heave, \n",
        "        \"sway\"  : sway, \n",
        "        \"roll\"  : roll, \n",
        "        \"yaw\"   : yaw, \n",
        "        \"pitch\" : pitch\n",
        "        }\n"
      ],
      "metadata": {
        "id": "Dme5lfTh3ozK",
        "outputId": "21a9d58b-905b-49a0-db79-2ce711377574",
        "colab": {
          "base_uri": "https://localhost:8080/"
        }
      },
      "execution_count": null,
      "outputs": [
        {
          "output_type": "stream",
          "name": "stdout",
          "text": [
            "KB4m_H0.04m_f0.64Hz.csv -- 0\n",
            "KB4m_H0.04m_f0.70Hz.csv -- 0\n",
            "KB4m_H0.04m_f0.74Hz.csv -- 0\n",
            "KB4m_H0.04m_f0.78Hz.csv -- 0\n",
            "KB4m_H0.04m_f0.82Hz.csv -- 0\n",
            "KB4m_H0.04m_f0.86Hz.csv -- 0\n",
            "KB4m_H0.04m_f0.90Hz.csv -- 0\n",
            "KB4m_H0.04m_f0.94Hz.csv -- 0\n",
            "KB4m_H0.04m_f1.00Hz.csv -- 0\n",
            "KB4m_H0.04m_f1.02Hz.csv -- 0\n",
            "KB4m_H0.04m_f1.04Hz.csv -- 0\n",
            "KB4m_H0.04m_f1.06Hz.csv -- 0\n",
            "KB4m_H0.04m_f1.08Hz.csv -- 0\n",
            "KB4m_H0.04m_f1.10Hz.csv -- 0\n",
            "KB4m_H0.04m_f1.12Hz.csv -- 0\n",
            "KB4m_H0.04m_f1.14Hz.csv -- 0\n",
            "KB4m_H0.04m_f1.16Hz.csv -- 0\n",
            "KB4m_H0.04m_f1.18Hz.csv -- 0\n",
            "KB4m_H0.04m_f1.22Hz.csv -- 0\n",
            "KB4m_H0.04m_f1.28Hz.csv -- 0\n",
            "KB4m_H0.04m_f1.34Hz.csv -- 0\n",
            "KB4m_H0.04m_f1.42Hz.csv -- 0\n",
            "KB4m_H0.04m_f1.50Hz.csv -- 0\n",
            "YB2m_H0.02m_f0.64Hz.csv -- 0\n",
            "YB2m_H0.02m_f0.70Hz.csv -- 0\n",
            "YB2m_H0.02m_f0.74Hz.csv -- 0\n",
            "YB2m_H0.02m_f0.76Hz.csv -- 0\n",
            "YB2m_H0.02m_f0.80Hz.csv -- 0\n",
            "YB2m_H0.02m_f0.84Hz.csv -- 0\n",
            "YB2m_H0.02m_f0.88Hz.csv -- 0\n",
            "YB2m_H0.02m_f0.90Hz.csv -- 0\n",
            "YB2m_H0.02m_f0.92Hz.csv -- 0\n",
            "YB2m_H0.02m_f0.96Hz.csv -- 0\n",
            "YB2m_H0.02m_f1.00Hz.csv -- 0\n",
            "YB2m_H0.02m_f1.02Hz.csv -- 0\n",
            "YB2m_H0.02m_f1.04Hz.csv -- 0\n",
            "YB2m_H0.02m_f1.06Hz.csv -- 0\n",
            "YB2m_H0.02m_f1.08Hz.csv -- 0\n",
            "YB2m_H0.02m_f1.10Hz.csv -- 0\n",
            "YB2m_H0.02m_f1.12Hz.csv -- 0\n",
            "YB2m_H0.02m_f1.14Hz.csv -- 0\n",
            "YB2m_H0.02m_f1.16Hz.csv -- 0\n",
            "YB2m_H0.02m_f1.18Hz.csv -- 0\n",
            "YB2m_H0.02m_f1.20Hz.csv -- 0\n",
            "YB2m_H0.02m_f1.24Hz.csv -- 0\n",
            "YB2m_H0.02m_f1.28Hz.csv -- 0\n",
            "YB2m_H0.02m_f1.30Hz.csv -- 0\n",
            "YB2m_H0.02m_f1.34Hz.csv -- 0\n",
            "YB2m_H0.02m_f1.40Hz.csv -- 0\n",
            "YB2m_H0.02m_f1.50Hz.csv -- 0\n"
          ]
        }
      ]
    },
    {
      "cell_type": "code",
      "source": [
        "!zip YB2m_Cameras_V6.zip *.csv"
      ],
      "metadata": {
        "id": "lqAY1gKj5NhL",
        "outputId": "f82adbbf-4f0d-441b-aad4-f4e2572b12c6",
        "colab": {
          "base_uri": "https://localhost:8080/"
        }
      },
      "execution_count": null,
      "outputs": [
        {
          "output_type": "stream",
          "name": "stdout",
          "text": [
            "  adding: YB2m_H0.02m_f0.64Hz.csv (deflated 67%)\n",
            "  adding: YB2m_H0.02m_f0.70Hz.csv (deflated 66%)\n",
            "  adding: YB2m_H0.02m_f0.74Hz.csv (deflated 66%)\n",
            "  adding: YB2m_H0.02m_f0.76Hz.csv (deflated 65%)\n",
            "  adding: YB2m_H0.02m_f0.80Hz.csv (deflated 65%)\n",
            "  adding: YB2m_H0.02m_f0.84Hz.csv (deflated 66%)\n",
            "  adding: YB2m_H0.02m_f0.88Hz.csv (deflated 65%)\n",
            "  adding: YB2m_H0.02m_f0.90Hz.csv (deflated 65%)\n",
            "  adding: YB2m_H0.02m_f0.92Hz.csv (deflated 64%)\n",
            "  adding: YB2m_H0.02m_f0.96Hz.csv (deflated 67%)\n",
            "  adding: YB2m_H0.02m_f1.00Hz.csv (deflated 65%)\n",
            "  adding: YB2m_H0.02m_f1.02Hz.csv (deflated 64%)\n",
            "  adding: YB2m_H0.02m_f1.04Hz.csv (deflated 64%)\n",
            "  adding: YB2m_H0.02m_f1.06Hz.csv (deflated 64%)\n",
            "  adding: YB2m_H0.02m_f1.08Hz.csv (deflated 63%)\n",
            "  adding: YB2m_H0.02m_f1.10Hz.csv (deflated 64%)\n",
            "  adding: YB2m_H0.02m_f1.12Hz.csv (deflated 64%)\n",
            "  adding: YB2m_H0.02m_f1.14Hz.csv (deflated 64%)\n",
            "  adding: YB2m_H0.02m_f1.16Hz.csv (deflated 63%)\n",
            "  adding: YB2m_H0.02m_f1.18Hz.csv (deflated 64%)\n",
            "  adding: YB2m_H0.02m_f1.20Hz.csv (deflated 64%)\n",
            "  adding: YB2m_H0.02m_f1.24Hz.csv (deflated 64%)\n",
            "  adding: YB2m_H0.02m_f1.28Hz.csv (deflated 64%)\n",
            "  adding: YB2m_H0.02m_f1.30Hz.csv (deflated 64%)\n",
            "  adding: YB2m_H0.02m_f1.34Hz.csv (deflated 67%)\n",
            "  adding: YB2m_H0.02m_f1.40Hz.csv (deflated 64%)\n",
            "  adding: YB2m_H0.02m_f1.50Hz.csv (deflated 64%)\n"
          ]
        }
      ]
    },
    {
      "cell_type": "code",
      "source": [
        "hf = h5py.File( 'YB4m_Tests_V5.h5', 'a' )\n",
        "filenames = []\n",
        "cases_names = list( hf.keys() )\n",
        "for case_name in cases_names:\n",
        "    var_entry = case_name + '/CamerasFileName'\n",
        "    if var_entry in hf:\n",
        "        filename = read_hdf_string( hf, case_name, 'CamerasFileName' ).decode()\n",
        "\n",
        "        if os.path.isfile( './' + filename ):\n",
        "            print( \"Found: \" + filename )\n",
        "            filenames.append( filename )\n",
        "        else:\n",
        "            print( \"NOT Found: \" + filename )\n",
        "            # del hf[ case_name + '/CamerasFileName' ]\n",
        "            # save_hdf_string( hf, case_name, 'CamerasFileName', 'YB2m_H0.02m_f0.60Hz.csv' )\n",
        "\n",
        "hf.close()"
      ],
      "metadata": {
        "colab": {
          "base_uri": "https://localhost:8080/"
        },
        "id": "cM0LnaFgfiuK",
        "outputId": "4a0694e1-2d8a-49df-dc98-41a0c046f824"
      },
      "execution_count": null,
      "outputs": [
        {
          "output_type": "stream",
          "name": "stdout",
          "text": [
            "Found: YB4m_H0.04m_f0.30Hz.csv\n",
            "Found: YB4m_H0.04m_f0.50Hz.csv\n",
            "Found: YB4m_H0.04m_f0.60Hz.csv\n",
            "Found: YB4m_H0.04m_f0.64Hz.csv\n",
            "Found: YB4m_H0.04m_f0.70Hz.csv\n",
            "Found: YB4m_H0.04m_f0.74Hz.csv\n",
            "Found: YB4m_H0.04m_f0.76Hz.csv\n",
            "Found: YB4m_H0.04m_f0.80Hz.csv\n",
            "Found: YB4m_H0.04m_f0.84Hz.csv\n",
            "Found: YB4m_H0.04m_f0.88Hz.csv\n",
            "Found: YB4m_H0.04m_f0.90Hz.csv\n",
            "Found: YB4m_H0.04m_f0.92Hz.csv\n",
            "Found: YB4m_H0.04m_f0.96Hz.csv\n",
            "Found: YB4m_H0.04m_f1.00Hz.csv\n",
            "Found: YB4m_H0.04m_f1.02Hz.csv\n",
            "Found: YB4m_H0.04m_f1.06Hz.csv\n",
            "Found: YB4m_H0.04m_f1.08Hz.csv\n",
            "Found: YB4m_H0.04m_f1.10Hz.csv\n",
            "Found: YB4m_H0.04m_f1.12Hz.csv\n",
            "Found: YB4m_H0.04m_f1.14Hz.csv\n",
            "Found: YB4m_H0.04m_f1.16Hz.csv\n",
            "Found: YB4m_H0.04m_f1.18Hz.csv\n",
            "Found: YB4m_H0.04m_f1.20Hz.csv\n",
            "Found: YB4m_H0.04m_f1.24Hz.csv\n",
            "Found: YB4m_H0.04m_f1.28Hz.csv\n",
            "Found: YB4m_H0.04m_f1.30Hz.csv\n",
            "Found: YB4m_H0.04m_f1.34Hz.csv\n",
            "Found: YB4m_H0.04m_f1.40Hz.csv\n",
            "Found: YB4m_H0.04m_f1.50Hz.csv\n"
          ]
        }
      ]
    },
    {
      "cell_type": "code",
      "source": [
        "for filename in filenames:\n",
        "    df = pd.read_csv( filename, skiprows=(0,1,2,3,4,5,6), header=None )\n",
        "    df.keys()\n",
        "    valid = True\n",
        "    data = np.array(df[2])\n",
        "    n = np.count_nonzero(~np.isnan(data))\n",
        "    print( filename + ' -- ' + str(len(data)) + ' -- ' + str(n) )"
      ],
      "metadata": {
        "id": "bq3l5l0KLjY2",
        "outputId": "f27fc7f1-d810-4edf-9eca-bd7828bcdcdf",
        "colab": {
          "base_uri": "https://localhost:8080/"
        }
      },
      "execution_count": null,
      "outputs": [
        {
          "output_type": "stream",
          "name": "stdout",
          "text": [
            "YB4m_H0.04m_f0.30Hz.csv -- 15638 -- 1331\n",
            "YB4m_H0.04m_f0.50Hz.csv -- 15117 -- 2508\n",
            "YB4m_H0.04m_f0.60Hz.csv -- 24437 -- 4458\n",
            "YB4m_H0.04m_f0.64Hz.csv -- 16644 -- 16644\n",
            "YB4m_H0.04m_f0.70Hz.csv -- 15157 -- 15132\n",
            "YB4m_H0.04m_f0.74Hz.csv -- 15928 -- 13903\n",
            "YB4m_H0.04m_f0.76Hz.csv -- 15001 -- 15000\n",
            "YB4m_H0.04m_f0.80Hz.csv -- 15695 -- 1134\n",
            "YB4m_H0.04m_f0.84Hz.csv -- 17376 -- 12681\n",
            "YB4m_H0.04m_f0.88Hz.csv -- 14741 -- 14684\n",
            "YB4m_H0.04m_f0.90Hz.csv -- 15395 -- 8504\n",
            "YB4m_H0.04m_f0.92Hz.csv -- 14869 -- 14869\n",
            "YB4m_H0.04m_f0.96Hz.csv -- 15124 -- 15046\n",
            "YB4m_H0.04m_f1.00Hz.csv -- 13944 -- 10785\n",
            "YB4m_H0.04m_f1.02Hz.csv -- 15107 -- 14778\n",
            "YB4m_H0.04m_f1.06Hz.csv -- 15285 -- 15284\n",
            "YB4m_H0.04m_f1.08Hz.csv -- 15237 -- 14341\n",
            "YB4m_H0.04m_f1.10Hz.csv -- 15365 -- 623\n",
            "YB4m_H0.04m_f1.12Hz.csv -- 15016 -- 12107\n",
            "YB4m_H0.04m_f1.14Hz.csv -- 15692 -- 15688\n",
            "YB4m_H0.04m_f1.16Hz.csv -- 15742 -- 15470\n",
            "YB4m_H0.04m_f1.18Hz.csv -- 15032 -- 14552\n",
            "YB4m_H0.04m_f1.20Hz.csv -- 16076 -- 10494\n",
            "YB4m_H0.04m_f1.24Hz.csv -- 15315 -- 14747\n",
            "YB4m_H0.04m_f1.28Hz.csv -- 15039 -- 14751\n",
            "YB4m_H0.04m_f1.30Hz.csv -- 15625 -- 1303\n",
            "YB4m_H0.04m_f1.34Hz.csv -- 15562 -- 15529\n",
            "YB4m_H0.04m_f1.40Hz.csv -- 17206 -- 1553\n",
            "YB4m_H0.04m_f1.50Hz.csv -- 15015 -- 14918\n"
          ]
        }
      ]
    },
    {
      "cell_type": "code",
      "source": [],
      "metadata": {
        "id": "sxWQoYnzLj7Y"
      },
      "execution_count": null,
      "outputs": []
    }
  ],
  "metadata": {
    "interpreter": {
      "hash": "687cc4e401708a16426ccc61b37822e273e79eddba24f8f00be477bc6019a9b9"
    },
    "kernelspec": {
      "display_name": "Python 3 (ipykernel)",
      "language": "python",
      "name": "python3"
    },
    "language_info": {
      "codemirror_mode": {
        "name": "ipython",
        "version": 3
      },
      "file_extension": ".py",
      "mimetype": "text/x-python",
      "name": "python",
      "nbconvert_exporter": "python",
      "pygments_lexer": "ipython3",
      "version": "3.10.2"
    },
    "colab": {
      "name": "OWC_CamerasDataCorrection.ipynb",
      "provenance": [],
      "include_colab_link": true
    }
  },
  "nbformat": 4,
  "nbformat_minor": 0
}