{
  "cells": [
    {
      "cell_type": "markdown",
      "metadata": {
        "id": "view-in-github",
        "colab_type": "text"
      },
      "source": [
        "<a href=\"https://colab.research.google.com/github/joaochenriques/WE_LAB_2023/blob/main/DataCorrection/OWC_CamerasDataCorrection.ipynb\" target=\"_parent\"><img src=\"https://colab.research.google.com/assets/colab-badge.svg\" alt=\"Open In Colab\"/></a>"
      ]
    },
    {
      "cell_type": "code",
      "source": [
        "import h5py\n",
        "import matplotlib.pyplot as mpl\n",
        "import numpy as np\n",
        "import pandas as pd\n",
        "import scipy.signal\n",
        "from dataclasses import dataclass, field\n",
        "import os, pathlib\n",
        "from scipy import interpolate\n",
        "import glob"
      ],
      "metadata": {
        "id": "6mL1mUP3Lrp3"
      },
      "execution_count": 1,
      "outputs": []
    },
    {
      "cell_type": "code",
      "source": [
        "import subprocess\n",
        "\n",
        "def cmdcall( cmd ):\n",
        "    output = subprocess.getoutput( cmd )\n",
        "    print(output)"
      ],
      "metadata": {
        "id": "3JjMNXwcX2N6"
      },
      "execution_count": 2,
      "outputs": []
    },
    {
      "cell_type": "code",
      "source": [
        "if not pathlib.Path(\"mpl_utils.py\").exists():\n",
        "  cmdcall( \"curl -O https://raw.githubusercontent.com/joaochenriques/ipynb_libs/main/mpl_utils.py\" ) \n",
        "\n",
        "import mpl_utils as mut\n",
        "mut.config_plots()\n",
        "\n",
        "from matplotlib_inline.backend_inline import set_matplotlib_formats\n",
        "set_matplotlib_formats('svg')\n",
        "\n",
        "mpl.rcParams[\"figure.figsize\"] = (6,4.5)"
      ],
      "metadata": {
        "id": "__BLQQPyX0Mc",
        "outputId": "05d4e517-1656-407a-9712-b3841c43b106",
        "colab": {
          "base_uri": "https://localhost:8080/"
        }
      },
      "execution_count": 3,
      "outputs": [
        {
          "output_type": "stream",
          "name": "stdout",
          "text": [
            "  % Total    % Received % Xferd  Average Speed   Time    Time     Time  Current\n",
            "                                 Dload  Upload   Total   Spent    Left  Speed\n",
            "\n",
            "  0     0    0     0    0     0      0      0 --:--:-- --:--:-- --:--:--     0\n",
            "  0     0    0     0    0     0      0      0 --:--:-- --:--:-- --:--:--     0\n",
            "100  3921  100  3921    0     0   9851      0 --:--:-- --:--:-- --:--:--  9851\n"
          ]
        }
      ]
    },
    {
      "cell_type": "code",
      "source": [
        "if not pathlib.Path(\"YB2m_Tests_V6.h5\").exists():\n",
        "    cmdcall( \"curl -O https://raw.githubusercontent.com/joaochenriques/WE_LAB_2023/main/YB2m_Tests_V6.zip\" )\n",
        "    cmdcall( \"unzip YB2m_Tests_V6.zip\" )"
      ],
      "metadata": {
        "id": "8W50iPRb1Bx5",
        "outputId": "4a70c672-8bb5-4105-e932-3e566922cc7a",
        "colab": {
          "base_uri": "https://localhost:8080/"
        }
      },
      "execution_count": 4,
      "outputs": [
        {
          "output_type": "stream",
          "name": "stdout",
          "text": [
            "  % Total    % Received % Xferd  Average Speed   Time    Time     Time  Current\n",
            "                                 Dload  Upload   Total   Spent    Left  Speed\n",
            "\n",
            "  0     0    0     0    0     0      0      0 --:--:-- --:--:-- --:--:--     0\n",
            "  0 4604k    0  7751    0     0  10066      0  0:07:48 --:--:--  0:07:48 10053\n",
            "100 4604k  100 4604k    0     0  5353k      0 --:--:-- --:--:-- --:--:-- 5347k\n",
            "Archive:  YB2m_Tests_V6.zip\n",
            "  inflating: YB2m_Tests_V6.h5        \n"
          ]
        }
      ]
    },
    {
      "cell_type": "code",
      "source": [
        "if not pathlib.Path(\"YB2m_Cameras_V6.zip\").exists():\n",
        "    cmdcall( \"curl -O https://raw.githubusercontent.com/joaochenriques/WE_LAB_2023/main/DataCorrection/YB2m_Cameras_V6.zip\" )\n",
        "    cmdcall( \"unzip YB2m_Cameras_V6.zip\" )"
      ],
      "metadata": {
        "id": "132cpYFsXpkC",
        "outputId": "ffe66b57-7c69-43fb-e24b-0e1d0da38b06",
        "colab": {
          "base_uri": "https://localhost:8080/"
        }
      },
      "execution_count": 20,
      "outputs": [
        {
          "output_type": "stream",
          "name": "stdout",
          "text": [
            "  % Total    % Received % Xferd  Average Speed   Time    Time     Time  Current\n",
            "                                 Dload  Upload   Total   Spent    Left  Speed\n",
            "\n",
            "  0     0    0     0    0     0      0      0 --:--:-- --:--:-- --:--:--     0\n",
            "  0 10.0M    0  7749    0     0   8648      0  0:20:19 --:--:--  0:20:19  8638\n",
            "100 10.0M  100 10.0M    0     0   9.9M      0  0:00:01  0:00:01 --:--:--  9.9M\n",
            "Archive:  YB2m_Cameras_V6.zip\n",
            "  inflating: YB2m_H0.02m_f0.64Hz.csv  \n",
            "  inflating: YB2m_H0.02m_f0.70Hz.csv  \n",
            "  inflating: YB2m_H0.02m_f0.74Hz.csv  \n",
            "  inflating: YB2m_H0.02m_f0.76Hz.csv  \n",
            "  inflating: YB2m_H0.02m_f0.80Hz.csv  \n",
            "  inflating: YB2m_H0.02m_f0.84Hz.csv  \n",
            "  inflating: YB2m_H0.02m_f0.88Hz.csv  \n",
            "  inflating: YB2m_H0.02m_f0.90Hz.csv  \n",
            "  inflating: YB2m_H0.02m_f0.92Hz.csv  \n",
            "  inflating: YB2m_H0.02m_f0.96Hz.csv  \n",
            "  inflating: YB2m_H0.02m_f1.00Hz.csv  \n",
            "  inflating: YB2m_H0.02m_f1.02Hz.csv  \n",
            "  inflating: YB2m_H0.02m_f1.04Hz.csv  \n",
            "  inflating: YB2m_H0.02m_f1.06Hz.csv  \n",
            "  inflating: YB2m_H0.02m_f1.08Hz.csv  \n",
            "  inflating: YB2m_H0.02m_f1.10Hz.csv  \n",
            "  inflating: YB2m_H0.02m_f1.12Hz.csv  \n",
            "  inflating: YB2m_H0.02m_f1.14Hz.csv  \n",
            "  inflating: YB2m_H0.02m_f1.16Hz.csv  \n",
            "  inflating: YB2m_H0.02m_f1.18Hz.csv  \n",
            "  inflating: YB2m_H0.02m_f1.20Hz.csv  \n",
            "  inflating: YB2m_H0.02m_f1.24Hz.csv  \n",
            "  inflating: YB2m_H0.02m_f1.28Hz.csv  \n",
            "  inflating: YB2m_H0.02m_f1.30Hz.csv  \n",
            "  inflating: YB2m_H0.02m_f1.34Hz.csv  \n",
            "  inflating: YB2m_H0.02m_f1.40Hz.csv  \n",
            "  inflating: YB2m_H0.02m_f1.50Hz.csv  \n"
          ]
        }
      ]
    },
    {
      "cell_type": "code",
      "source": [
        "if not pathlib.Path(\"KB4m_Tests_V6.h5\").exists():\n",
        "    cmdcall( \"curl -O https://raw.githubusercontent.com/joaochenriques/WE_LAB_2023/main/KB4m_Tests_V6.zip\" )\n",
        "    cmdcall( \"unzip KB4m_Tests_V6.zip\" )"
      ],
      "metadata": {
        "id": "lPiBiSYrXt97",
        "outputId": "16c3402e-06e2-42f0-d067-7875050e5f5e",
        "colab": {
          "base_uri": "https://localhost:8080/"
        }
      },
      "execution_count": 6,
      "outputs": [
        {
          "output_type": "stream",
          "name": "stdout",
          "text": [
            "  % Total    % Received % Xferd  Average Speed   Time    Time     Time  Current\n",
            "                                 Dload  Upload   Total   Spent    Left  Speed\n",
            "\n",
            "  0     0    0     0    0     0      0      0 --:--:-- --:--:-- --:--:--     0\n",
            "100 2189k  100 2189k    0     0  4162k      0 --:--:-- --:--:-- --:--:-- 4162k\n",
            "Archive:  KB4m_Tests_V6.zip\n",
            "  inflating: KB4m_Tests_V6.h5        \n"
          ]
        }
      ]
    },
    {
      "cell_type": "code",
      "source": [
        "if not pathlib.Path(\"KB4m_Cameras_V6.zip\").exists():\n",
        "    cmdcall( \"curl -O https://raw.githubusercontent.com/joaochenriques/WE_LAB_2023/main/DataCorrection/KB4m_Cameras_V6.zip\" )\n",
        "    cmdcall( \"unzip KB4m_Cameras_V6.zip\" )"
      ],
      "metadata": {
        "id": "mLZ9I_0jXxsH",
        "outputId": "3108d03d-7159-45b9-bea0-6f9526699eaf",
        "colab": {
          "base_uri": "https://localhost:8080/"
        }
      },
      "execution_count": 21,
      "outputs": [
        {
          "output_type": "stream",
          "name": "stdout",
          "text": [
            "  % Total    % Received % Xferd  Average Speed   Time    Time     Time  Current\n",
            "                                 Dload  Upload   Total   Spent    Left  Speed\n",
            "\n",
            "  0     0    0     0    0     0      0      0 --:--:-- --:--:-- --:--:--     0\n",
            "  0 7056k    0  7678    0     0   8474      0  0:14:12 --:--:--  0:14:12  8465\n",
            "100 7056k  100 7056k    0     0  6993k      0  0:00:01  0:00:01 --:--:-- 6993k\n",
            "Archive:  KB4m_Cameras_V6.zip\n",
            "  inflating: KB4m_H0.04m_f0.64Hz.csv  \n",
            "  inflating: KB4m_H0.04m_f0.70Hz.csv  \n",
            "  inflating: KB4m_H0.04m_f0.74Hz.csv  \n",
            "  inflating: KB4m_H0.04m_f0.78Hz.csv  \n",
            "  inflating: KB4m_H0.04m_f0.82Hz.csv  \n",
            "  inflating: KB4m_H0.04m_f0.86Hz.csv  \n",
            "  inflating: KB4m_H0.04m_f0.90Hz.csv  \n",
            "  inflating: KB4m_H0.04m_f0.94Hz.csv  \n",
            "  inflating: KB4m_H0.04m_f1.00Hz.csv  \n",
            "  inflating: KB4m_H0.04m_f1.02Hz.csv  \n",
            "  inflating: KB4m_H0.04m_f1.04Hz.csv  \n",
            "  inflating: KB4m_H0.04m_f1.06Hz.csv  \n",
            "  inflating: KB4m_H0.04m_f1.08Hz.csv  \n",
            "  inflating: KB4m_H0.04m_f1.10Hz.csv  \n",
            "  inflating: KB4m_H0.04m_f1.12Hz.csv  \n",
            "  inflating: KB4m_H0.04m_f1.14Hz.csv  \n",
            "  inflating: KB4m_H0.04m_f1.16Hz.csv  \n",
            "  inflating: KB4m_H0.04m_f1.18Hz.csv  \n",
            "  inflating: KB4m_H0.04m_f1.22Hz.csv  \n",
            "  inflating: KB4m_H0.04m_f1.28Hz.csv  \n",
            "  inflating: KB4m_H0.04m_f1.34Hz.csv  \n",
            "  inflating: KB4m_H0.04m_f1.42Hz.csv  \n",
            "  inflating: KB4m_H0.04m_f1.50Hz.csv  \n"
          ]
        }
      ]
    },
    {
      "cell_type": "code",
      "source": [
        "def read_hdf_array( hdf5_Input, group, name ):\n",
        "    return np.array( hdf5_Input[ group + '/' + name ] )\n",
        "\n",
        "def read_hdf_scalar( hdf5_Input, group, name ):\n",
        "    return hdf5_Input[ group + '/' + name ][()]\n",
        "\n",
        "def read_hdf_string( hdf5_Input, group, name ):\n",
        "    return hdf5_Input[ group + '/' + name ][()]\n",
        "\n",
        "def save_hdf_array( hdf5_Output, group, name, fdata ):\n",
        "    hdf5_Output.create_dataset( group + '/' + name, data=fdata, \n",
        "                                compression=\"gzip\", compression_opts=9  )\n",
        "\n",
        "def save_hdf_scalar( hdf5_Output, group, name, fdata ):\n",
        "    hdf5_Output.create_dataset( group + '/' + name, data=fdata )\n",
        "\n",
        "def save_hdf_string( hdf5_Output, group, name, fdata ):\n",
        "    hdf5_Output.create_dataset( group + '/' + name, data=fdata, \n",
        "                                dtype=save_hdf_string.dt_str )\n",
        "save_hdf_string.dt_str = h5py.special_dtype( vlen=bytes )"
      ],
      "metadata": {
        "id": "3Opt1xe8_KmK"
      },
      "execution_count": 8,
      "outputs": []
    },
    {
      "cell_type": "code",
      "source": [
        "hf = h5py.File( 'YB2m_Tests_V5.h5', 'a' )\n",
        "filenames = []\n",
        "cases_names = list( hf.keys() )\n",
        "for case_name in cases_names:\n",
        "    var_entry = case_name + '/CamerasFileName'\n",
        "    if var_entry in hf:\n",
        "        filename = read_hdf_string( hf, case_name, 'CamerasFileName' ).decode()\n",
        "\n",
        "        if os.path.isfile( './' + filename ):\n",
        "            print( \"Found: \" + filename )\n",
        "            filenames.append( filename )\n",
        "        else:\n",
        "            print( \"NOT Found: \" + filename )\n",
        "            # del hf[ case_name + '/CamerasFileName' ]\n",
        "            # save_hdf_string( hf, case_name, 'CamerasFileName', 'YB2m_H0.02m_f0.60Hz.csv' )\n",
        "\n",
        "hf.close()"
      ],
      "metadata": {
        "id": "7D2I-Lx8-QZ7"
      },
      "execution_count": 9,
      "outputs": []
    },
    {
      "cell_type": "code",
      "source": [
        "def interpolate_nans(A):\n",
        "    inds = np.arange( A.shape[0] )\n",
        "    good = np.where( np.isfinite(A) )\n",
        "    f = interpolate.interp1d( inds[good], A[good], bounds_error=False )\n",
        "    B = np.where( np.isfinite(A), A, f(inds) )\n",
        "    return B"
      ],
      "metadata": {
        "id": "jTCQdTDIYY9z"
      },
      "execution_count": 10,
      "outputs": []
    },
    {
      "cell_type": "code",
      "source": [
        "filenames = sorted( [ f for f in glob.glob(\"*.csv\") ] )\n",
        "filenames"
      ],
      "metadata": {
        "id": "ZuQoSo2gO9R-",
        "outputId": "dd023349-101a-48d2-f4a1-efc16b9d9d1c",
        "colab": {
          "base_uri": "https://localhost:8080/"
        }
      },
      "execution_count": 22,
      "outputs": [
        {
          "output_type": "execute_result",
          "data": {
            "text/plain": [
              "['KB4m_H0.04m_f0.64Hz.csv',\n",
              " 'KB4m_H0.04m_f0.70Hz.csv',\n",
              " 'KB4m_H0.04m_f0.74Hz.csv',\n",
              " 'KB4m_H0.04m_f0.78Hz.csv',\n",
              " 'KB4m_H0.04m_f0.82Hz.csv',\n",
              " 'KB4m_H0.04m_f0.86Hz.csv',\n",
              " 'KB4m_H0.04m_f0.90Hz.csv',\n",
              " 'KB4m_H0.04m_f0.94Hz.csv',\n",
              " 'KB4m_H0.04m_f1.00Hz.csv',\n",
              " 'KB4m_H0.04m_f1.02Hz.csv',\n",
              " 'KB4m_H0.04m_f1.04Hz.csv',\n",
              " 'KB4m_H0.04m_f1.06Hz.csv',\n",
              " 'KB4m_H0.04m_f1.08Hz.csv',\n",
              " 'KB4m_H0.04m_f1.10Hz.csv',\n",
              " 'KB4m_H0.04m_f1.12Hz.csv',\n",
              " 'KB4m_H0.04m_f1.14Hz.csv',\n",
              " 'KB4m_H0.04m_f1.16Hz.csv',\n",
              " 'KB4m_H0.04m_f1.18Hz.csv',\n",
              " 'KB4m_H0.04m_f1.22Hz.csv',\n",
              " 'KB4m_H0.04m_f1.28Hz.csv',\n",
              " 'KB4m_H0.04m_f1.34Hz.csv',\n",
              " 'KB4m_H0.04m_f1.42Hz.csv',\n",
              " 'KB4m_H0.04m_f1.50Hz.csv',\n",
              " 'YB2m_H0.02m_f0.64Hz.csv',\n",
              " 'YB2m_H0.02m_f0.70Hz.csv',\n",
              " 'YB2m_H0.02m_f0.74Hz.csv',\n",
              " 'YB2m_H0.02m_f0.76Hz.csv',\n",
              " 'YB2m_H0.02m_f0.80Hz.csv',\n",
              " 'YB2m_H0.02m_f0.84Hz.csv',\n",
              " 'YB2m_H0.02m_f0.88Hz.csv',\n",
              " 'YB2m_H0.02m_f0.90Hz.csv',\n",
              " 'YB2m_H0.02m_f0.92Hz.csv',\n",
              " 'YB2m_H0.02m_f0.96Hz.csv',\n",
              " 'YB2m_H0.02m_f1.00Hz.csv',\n",
              " 'YB2m_H0.02m_f1.02Hz.csv',\n",
              " 'YB2m_H0.02m_f1.04Hz.csv',\n",
              " 'YB2m_H0.02m_f1.06Hz.csv',\n",
              " 'YB2m_H0.02m_f1.08Hz.csv',\n",
              " 'YB2m_H0.02m_f1.10Hz.csv',\n",
              " 'YB2m_H0.02m_f1.12Hz.csv',\n",
              " 'YB2m_H0.02m_f1.14Hz.csv',\n",
              " 'YB2m_H0.02m_f1.16Hz.csv',\n",
              " 'YB2m_H0.02m_f1.18Hz.csv',\n",
              " 'YB2m_H0.02m_f1.20Hz.csv',\n",
              " 'YB2m_H0.02m_f1.24Hz.csv',\n",
              " 'YB2m_H0.02m_f1.28Hz.csv',\n",
              " 'YB2m_H0.02m_f1.30Hz.csv',\n",
              " 'YB2m_H0.02m_f1.34Hz.csv',\n",
              " 'YB2m_H0.02m_f1.40Hz.csv',\n",
              " 'YB2m_H0.02m_f1.50Hz.csv']"
            ]
          },
          "metadata": {},
          "execution_count": 22
        }
      ]
    },
    {
      "cell_type": "code",
      "source": [
        "for i, filename in enumerate( filenames ):\n",
        "    df = pd.read_csv( filename, skiprows=(0,1,2,3,4,5,6), header=None )\n",
        "\n",
        "    times = np.array( df[1] )\n",
        "\n",
        "    roll  = np.array( df[2] )\n",
        "    yaw   = np.array( df[3] )\n",
        "    pitch = np.array( df[4] )\n",
        "    surge = np.array( df[5] )\n",
        "    heave = np.array( df[6] )\n",
        "    sway  = np.array( df[7] )    \n",
        "\n",
        "    if np.count_nonzero( np.isnan(roll) ) > 0:\n",
        "        roll  = interpolate_nans( roll  )\n",
        "        yaw   = interpolate_nans( yaw   )\n",
        "        pitch = interpolate_nans( pitch )\n",
        "        surge = interpolate_nans( surge )\n",
        "        heave = interpolate_nans( heave )\n",
        "        sway  = interpolate_nans( sway  )\n",
        "\n",
        "    n = np.count_nonzero(~np.isnan(roll))\n",
        "    print( str(i) + ': ' + filename + ' -- ' + str( len(roll) - n) )\n",
        "\n",
        "\n",
        "    data = {   \n",
        "        \"time\": times, \n",
        "        \"surge\" : surge, \n",
        "        \"heave\" : heave, \n",
        "        \"sway\"  : sway, \n",
        "        \"roll\"  : roll, \n",
        "        \"yaw\"   : yaw, \n",
        "        \"pitch\" : pitch\n",
        "        }\n"
      ],
      "metadata": {
        "id": "Dme5lfTh3ozK",
        "outputId": "b7fb85bd-1787-4b3e-b841-41830ff6348f",
        "colab": {
          "base_uri": "https://localhost:8080/"
        }
      },
      "execution_count": 26,
      "outputs": [
        {
          "output_type": "stream",
          "name": "stdout",
          "text": [
            "0: KB4m_H0.04m_f0.64Hz.csv -- 0\n",
            "1: KB4m_H0.04m_f0.70Hz.csv -- 0\n",
            "2: KB4m_H0.04m_f0.74Hz.csv -- 0\n",
            "3: KB4m_H0.04m_f0.78Hz.csv -- 0\n",
            "4: KB4m_H0.04m_f0.82Hz.csv -- 0\n",
            "5: KB4m_H0.04m_f0.86Hz.csv -- 0\n",
            "6: KB4m_H0.04m_f0.90Hz.csv -- 0\n",
            "7: KB4m_H0.04m_f0.94Hz.csv -- 0\n",
            "8: KB4m_H0.04m_f1.00Hz.csv -- 0\n",
            "9: KB4m_H0.04m_f1.02Hz.csv -- 0\n",
            "10: KB4m_H0.04m_f1.04Hz.csv -- 0\n",
            "11: KB4m_H0.04m_f1.06Hz.csv -- 0\n",
            "12: KB4m_H0.04m_f1.08Hz.csv -- 0\n",
            "13: KB4m_H0.04m_f1.10Hz.csv -- 0\n",
            "14: KB4m_H0.04m_f1.12Hz.csv -- 0\n",
            "15: KB4m_H0.04m_f1.14Hz.csv -- 0\n",
            "16: KB4m_H0.04m_f1.16Hz.csv -- 0\n",
            "17: KB4m_H0.04m_f1.18Hz.csv -- 0\n",
            "18: KB4m_H0.04m_f1.22Hz.csv -- 0\n",
            "19: KB4m_H0.04m_f1.28Hz.csv -- 0\n",
            "20: KB4m_H0.04m_f1.34Hz.csv -- 0\n",
            "21: KB4m_H0.04m_f1.42Hz.csv -- 0\n",
            "22: KB4m_H0.04m_f1.50Hz.csv -- 0\n",
            "23: YB2m_H0.02m_f0.64Hz.csv -- 0\n",
            "24: YB2m_H0.02m_f0.70Hz.csv -- 0\n",
            "25: YB2m_H0.02m_f0.74Hz.csv -- 0\n",
            "26: YB2m_H0.02m_f0.76Hz.csv -- 0\n",
            "27: YB2m_H0.02m_f0.80Hz.csv -- 0\n",
            "28: YB2m_H0.02m_f0.84Hz.csv -- 0\n",
            "29: YB2m_H0.02m_f0.88Hz.csv -- 0\n",
            "30: YB2m_H0.02m_f0.90Hz.csv -- 0\n",
            "31: YB2m_H0.02m_f0.92Hz.csv -- 0\n",
            "32: YB2m_H0.02m_f0.96Hz.csv -- 0\n",
            "33: YB2m_H0.02m_f1.00Hz.csv -- 0\n",
            "34: YB2m_H0.02m_f1.02Hz.csv -- 0\n",
            "35: YB2m_H0.02m_f1.04Hz.csv -- 0\n",
            "36: YB2m_H0.02m_f1.06Hz.csv -- 0\n",
            "37: YB2m_H0.02m_f1.08Hz.csv -- 0\n",
            "38: YB2m_H0.02m_f1.10Hz.csv -- 0\n",
            "39: YB2m_H0.02m_f1.12Hz.csv -- 0\n",
            "40: YB2m_H0.02m_f1.14Hz.csv -- 0\n",
            "41: YB2m_H0.02m_f1.16Hz.csv -- 0\n",
            "42: YB2m_H0.02m_f1.18Hz.csv -- 0\n",
            "43: YB2m_H0.02m_f1.20Hz.csv -- 0\n",
            "44: YB2m_H0.02m_f1.24Hz.csv -- 0\n",
            "45: YB2m_H0.02m_f1.28Hz.csv -- 0\n",
            "46: YB2m_H0.02m_f1.30Hz.csv -- 0\n",
            "47: YB2m_H0.02m_f1.34Hz.csv -- 0\n",
            "48: YB2m_H0.02m_f1.40Hz.csv -- 0\n",
            "49: YB2m_H0.02m_f1.50Hz.csv -- 0\n"
          ]
        }
      ]
    },
    {
      "cell_type": "code",
      "source": [
        "!zip YB2m_Cameras_V6.zip *.csv"
      ],
      "metadata": {
        "id": "lqAY1gKj5NhL",
        "outputId": "3814dd11-88f6-4f35-b5b7-0b8c1fb70321",
        "colab": {
          "base_uri": "https://localhost:8080/"
        }
      },
      "execution_count": 12,
      "outputs": [
        {
          "output_type": "stream",
          "name": "stdout",
          "text": [
            "\tzip warning: missing end signature--probably not a zip file (did you\n",
            "\tzip warning: remember to use binary mode when you transferred it?)\n",
            "\tzip warning: (if you are trying to read a damaged archive try -F)\n",
            "\n",
            "zip error: Zip file structure invalid (YB2m_Cameras_V6.zip)\n"
          ]
        }
      ]
    },
    {
      "cell_type": "code",
      "source": [
        "hf = h5py.File( 'YB4m_Tests_V5.h5', 'a' )\n",
        "filenames = []\n",
        "cases_names = list( hf.keys() )\n",
        "for case_name in cases_names:\n",
        "    var_entry = case_name + '/CamerasFileName'\n",
        "    if var_entry in hf:\n",
        "        filename = read_hdf_string( hf, case_name, 'CamerasFileName' ).decode()\n",
        "\n",
        "        if os.path.isfile( './' + filename ):\n",
        "            print( \"Found: \" + filename )\n",
        "            filenames.append( filename )\n",
        "        else:\n",
        "            print( \"NOT Found: \" + filename )\n",
        "            # del hf[ case_name + '/CamerasFileName' ]\n",
        "            # save_hdf_string( hf, case_name, 'CamerasFileName', 'YB2m_H0.02m_f0.60Hz.csv' )\n",
        "\n",
        "hf.close()"
      ],
      "metadata": {
        "id": "cM0LnaFgfiuK"
      },
      "execution_count": 13,
      "outputs": []
    },
    {
      "cell_type": "code",
      "source": [
        "for filename in filenames:\n",
        "    df = pd.read_csv( filename, skiprows=(0,1,2,3,4,5,6), header=None )\n",
        "    df.keys()\n",
        "    valid = True\n",
        "    data = np.array(df[2])\n",
        "    n = np.count_nonzero(~np.isnan(data))\n",
        "    print( filename + ' -- ' + str(len(data)) + ' -- ' + str(n) )"
      ],
      "metadata": {
        "id": "bq3l5l0KLjY2"
      },
      "execution_count": 14,
      "outputs": []
    },
    {
      "cell_type": "code",
      "source": [
        "filename = filenames[20]\n",
        "\n",
        "df = pd.read_csv( filename, skiprows=(0,1,2,3,4,5,6), header=None )\n",
        "print( filename )\n",
        "\n",
        "times = np.array( df[1] )\n",
        "\n",
        "roll  = np.array( df[2] )\n",
        "yaw   = np.array( df[3] )\n",
        "pitch = np.array( df[4] )\n",
        "surge = np.array( df[5] )\n",
        "heave = np.array( df[6] )\n",
        "sway  = np.array( df[7] )    \n",
        "\n",
        "if np.count_nonzero( np.isnan(roll) ) > 0:\n",
        "    roll  = interpolate_nans( roll  )\n",
        "    yaw   = interpolate_nans( yaw   )\n",
        "    pitch = interpolate_nans( pitch )\n",
        "    surge = interpolate_nans( surge )\n",
        "    heave = interpolate_nans( heave )\n",
        "    sway  = interpolate_nans( sway  )\n",
        "\n",
        "roll -= np.mean( roll )\n",
        "surge -= np.mean( surge )\n",
        "sway -= np.mean( sway )\n",
        "\n",
        "# pitch /= np.max( pitch )\n",
        "surge /= np.max( surge )\n",
        "sway /= np.max( sway )\n",
        "                 \n",
        "# mpl.plot( times, surge, label='surge' )\n",
        "# mpl.plot( times, sway, label='sway' )\n",
        "mpl.plot( times, pitch, label='heave' )\n",
        "mpl.xlim( (20, 60) )\n",
        "mpl.legend();"
      ],
      "metadata": {
        "id": "sxWQoYnzLj7Y",
        "outputId": "0efd77bc-02c7-429d-cc37-39f4b8786f0d",
        "colab": {
          "base_uri": "https://localhost:8080/",
          "height": 439
        }
      },
      "execution_count": 38,
      "outputs": [
        {
          "output_type": "stream",
          "name": "stdout",
          "text": [
            "KB4m_H0.04m_f1.34Hz.csv\n"
          ]
        },
        {
          "output_type": "display_data",
          "data": {
            "text/plain": [
              "<Figure size 480x360 with 1 Axes>"
            ],
            "image/svg+xml": "<?xml version=\"1.0\" encoding=\"utf-8\" standalone=\"no\"?>\n<!DOCTYPE svg PUBLIC \"-//W3C//DTD SVG 1.1//EN\"\n  \"http://www.w3.org/Graphics/SVG/1.1/DTD/svg11.dtd\">\n<svg xmlns:xlink=\"http://www.w3.org/1999/xlink\" width=\"396.904pt\" height=\"300.28pt\" viewBox=\"0 0 396.904 300.28\" xmlns=\"http://www.w3.org/2000/svg\" version=\"1.1\">\n <metadata>\n  <rdf:RDF xmlns:dc=\"http://purl.org/dc/elements/1.1/\" xmlns:cc=\"http://creativecommons.org/ns#\" xmlns:rdf=\"http://www.w3.org/1999/02/22-rdf-syntax-ns#\">\n   <cc:Work>\n    <dc:type rdf:resource=\"http://purl.org/dc/dcmitype/StillImage\"/>\n    <dc:date>2023-04-14T10:38:56.154138</dc:date>\n    <dc:format>image/svg+xml</dc:format>\n    <dc:creator>\n     <cc:Agent>\n      <dc:title>Matplotlib v3.7.1, https://matplotlib.org/</dc:title>\n     </cc:Agent>\n    </dc:creator>\n   </cc:Work>\n  </rdf:RDF>\n </metadata>\n <defs>\n  <style type=\"text/css\">*{stroke-linejoin: round; stroke-linecap: butt}</style>\n </defs>\n <g id=\"figure_1\">\n  <g id=\"patch_1\">\n   <path d=\"M 0 300.28 \nL 396.904 300.28 \nL 396.904 0 \nL 0 0 \nz\n\" style=\"fill: #ffffff\"/>\n  </g>\n  <g id=\"axes_1\">\n   <g id=\"patch_2\">\n    <path d=\"M 28.264 276.12 \nL 382.504 276.12 \nL 382.504 13.68 \nL 28.264 13.68 \nz\n\" style=\"fill: #ffffff\"/>\n   </g>\n   <g id=\"line2d_1\">\n    <path d=\"M 28.190203 161.611504 \nL 28.7068 179.866606 \nL 29.371 209.705546 \nL 29.887597 231.916818 \nL 30.404203 245.955671 \nL 30.6994 249.345459 \nL 30.773197 249.437125 \nL 30.847003 249.876787 \nL 30.994597 249.076083 \nL 31.437397 241.393002 \nL 31.880197 227.751296 \nL 32.987197 181.469327 \nL 33.651397 158.25006 \nL 33.725203 156.442261 \nL 34.0204 140.853063 \nL 34.094197 150.709072 \nL 34.168003 150.249127 \nL 34.389403 150.920186 \nL 34.4632 148.134798 \nL 34.758397 156.683369 \nL 34.832203 156.75524 \nL 35.053603 163.675895 \nL 35.643997 188.497845 \nL 36.4558 226.086939 \nL 37.046203 242.346184 \nL 37.267603 245.690832 \nL 37.415197 246.035828 \nL 37.489003 246.003398 \nL 37.5628 245.772076 \nL 37.857997 242.075608 \nL 38.227 232.387523 \nL 38.522197 221.774412 \nL 39.924403 162.602853 \nL 39.9982 152.835811 \nL 40.071997 157.092625 \nL 40.145803 154.670716 \nL 40.293397 144.805222 \nL 40.441 142.010011 \nL 40.588603 138.312006 \nL 40.6624 144.066865 \nL 40.736197 143.451781 \nL 40.810003 140.422699 \nL 40.8838 141.278028 \nL 40.957597 141.22629 \nL 41.621797 154.001419 \nL 42.138403 174.352854 \nL 43.245403 222.151838 \nL 43.835797 233.800688 \nL 43.9834 235.171412 \nL 44.4262 230.633187 \nL 44.721397 223.981083 \nL 45.385597 199.371184 \nL 46.271197 155.801158 \nL 46.345003 157.050222 \nL 46.6402 140.463002 \nL 46.787803 136.03159 \nL 46.8616 136.060046 \nL 47.230603 129.821885 \nL 47.3044 130.003981 \nL 47.599597 128.361294 \nL 47.7472 129.157274 \nL 47.820997 128.877288 \nL 47.894803 129.233644 \nL 47.9686 132.041677 \nL 48.042397 130.267095 \nL 48.263797 140.023115 \nL 48.559003 150.249802 \nL 50.1826 212.418801 \nL 50.330203 213.987293 \nL 50.551603 217.325304 \nL 50.773003 219.969275 \nL 51.2896 210.143896 \nL 51.7324 196.188237 \nL 52.101403 180.780309 \nL 53.208403 131.35356 \nL 53.577397 121.240397 \nL 54.020197 113.408437 \nL 54.241597 111.273263 \nL 54.315403 111.689643 \nL 54.462997 110.36867 \nL 54.536803 111.949758 \nL 54.6106 111.250618 \nL 54.758203 113.921245 \nL 56.898397 199.039835 \nL 57.119797 203.430793 \nL 57.193603 202.850014 \nL 57.2674 203.381342 \nL 57.341197 206.393479 \nL 57.415003 205.538599 \nL 58.3744 184.016495 \nL 58.890997 161.592496 \nL 59.186203 148.250646 \nL 59.555197 135.401622 \nL 60.293203 112.457542 \nL 60.514603 108.584603 \nL 60.736003 105.342906 \nL 60.8098 105.46914 \nL 60.883597 105.029815 \nL 61.0312 103.152844 \nL 61.104997 103.843024 \nL 61.178803 101.615021 \nL 61.9168 126.029514 \nL 63.171403 179.145008 \nL 63.835603 194.342346 \nL 63.9094 194.998934 \nL 63.983197 194.868464 \nL 64.204597 192.905787 \nL 64.3522 190.671935 \nL 64.5736 185.687375 \nL 65.4592 152.919417 \nL 66.418597 112.815435 \nL 66.7876 99.753384 \nL 67.304197 87.040153 \nL 67.4518 85.839903 \nL 67.525597 85.053857 \nL 67.599403 86.284738 \nL 67.6732 85.869933 \nL 67.820803 87.966529 \nL 68.116 93.904684 \nL 68.189797 95.448206 \nL 68.263603 93.697506 \nL 70.256203 172.797072 \nL 70.625197 178.479835 \nL 71.141803 171.556781 \nL 71.732197 153.193291 \nL 72.617797 114.73957 \nL 73.2082 88.481961 \nL 73.798603 70.661798 \nL 74.167597 67.22867 \nL 74.3152 67.479338 \nL 74.5366 69.412471 \nL 74.758 74.762498 \nL 74.9794 80.014184 \nL 75.6436 108.648863 \nL 76.602997 151.08766 \nL 77.045797 162.567573 \nL 77.267197 164.40904 \nL 77.4148 164.859649 \nL 77.6362 163.679869 \nL 78.079 155.333565 \nL 78.5218 142.006749 \nL 79.555003 99.023538 \nL 79.776403 90.974429 \nL 80.5144 71.195001 \nL 80.7358 69.086295 \nL 80.883403 68.676102 \nL 81.030997 69.559175 \nL 81.473797 76.343099 \nL 83.318803 150.631952 \nL 83.687797 158.887865 \nL 84.0568 161.265159 \nL 84.130597 161.229992 \nL 84.2782 159.444875 \nL 84.573397 154.635662 \nL 85.237597 132.883847 \nL 86.2708 88.536136 \nL 87.230197 60.507994 \nL 87.525403 58.581272 \nL 87.8206 60.21991 \nL 88.337197 72.552228 \nL 90.0346 139.454595 \nL 90.625003 145.496489 \nL 90.6988 145.583619 \nL 90.9202 142.53714 \nL 91.067803 140.293578 \nL 91.732003 117.906171 \nL 92.6914 74.48836 \nL 93.503203 41.550228 \nL 93.946003 34.528384 \nL 94.0198 35.026532 \nL 94.314997 36.359765 \nL 94.757797 45.42223 \nL 95.053003 55.982516 \nL 95.864797 93.588069 \nL 96.602803 123.666092 \nL 97.1194 133.309187 \nL 97.267003 134.283177 \nL 97.5622 132.36924 \nL 97.857397 126.916336 \nL 98.078797 120.979719 \nL 98.6692 97.981839 \nL 99.185797 75.002893 \nL 99.407197 62.043156 \nL 99.481003 62.862981 \nL 100.366603 37.417061 \nL 100.4404 36.452594 \nL 100.514197 33.529387 \nL 100.588003 34.244161 \nL 100.8832 37.03881 \nL 101.030803 39.471441 \nL 101.7688 66.212952 \nL 103.244803 139.737505 \nL 103.613797 148.620687 \nL 103.7614 150.062907 \nL 103.909003 151.695659 \nL 103.9828 151.686698 \nL 104.4256 146.401682 \nL 105.016003 128.920253 \nL 105.606397 103.569337 \nL 105.901603 86.73786 \nL 106.861 57.167658 \nL 107.3038 52.044529 \nL 107.894203 62.474157 \nL 108.558403 89.332154 \nL 109.7392 148.245923 \nL 110.255797 160.489761 \nL 110.329603 161.006093 \nL 110.4034 160.729144 \nL 110.551003 161.377295 \nL 110.6248 161.055244 \nL 110.993803 156.062773 \nL 111.805597 127.701782 \nL 113.0602 67.402668 \nL 113.798197 46.138467 \nL 114.019597 45.713426 \nL 114.093403 45.898522 \nL 114.462397 50.758273 \nL 115.200403 77.107511 \nL 116.454997 133.141526 \nL 116.676397 137.343265 \nL 116.971603 142.261953 \nL 117.119197 141.95951 \nL 117.2668 142.133133 \nL 117.635803 135.463857 \nL 118.3738 109.158071 \nL 119.554597 52.802643 \nL 120.292603 29.805176 \nL 120.514003 26.773019 \nL 120.5878 26.976185 \nL 120.661597 25.987124 \nL 121.0306 29.504045 \nL 121.325797 36.637426 \nL 121.768597 53.674581 \nL 122.432797 85.204723 \nL 122.949403 108.788256 \nL 123.466 122.670845 \nL 123.613603 125.024856 \nL 123.761197 124.726612 \nL 123.9088 125.541751 \nL 124.3516 120.117078 \nL 124.499203 116.489258 \nL 125.0158 99.354063 \nL 125.753797 68.311572 \nL 126.196597 48.728375 \nL 126.491803 41.003228 \nL 126.787 33.170032 \nL 127.0084 30.365635 \nL 127.082197 30.147323 \nL 127.156003 29.289481 \nL 127.303597 30.0819 \nL 127.377403 30.033536 \nL 127.4512 30.209371 \nL 127.820203 36.787467 \nL 128.189197 48.743896 \nL 129.001 86.503801 \nL 129.591403 112.254788 \nL 130.034203 125.987374 \nL 130.3294 131.037169 \nL 130.403197 130.927882 \nL 130.477003 130.881767 \nL 130.5508 131.768552 \nL 130.624597 131.731773 \nL 131.067397 125.777797 \nL 132.026803 94.926925 \nL 132.7648 64.725292 \nL 133.281397 49.685868 \nL 133.6504 43.873122 \nL 133.724197 43.614244 \nL 133.8718 41.840637 \nL 134.0932 43.22482 \nL 134.166997 43.488535 \nL 134.388397 46.499922 \nL 135.2002 72.493929 \nL 136.75 131.526283 \nL 136.9714 134.732025 \nL 137.045197 134.467035 \nL 137.119003 134.34815 \nL 137.266597 134.770453 \nL 137.340403 134.419009 \nL 138.004603 120.94144 \nL 139.111603 77.803727 \nL 139.775803 52.523632 \nL 140.440003 40.91756 \nL 140.5138 40.656583 \nL 140.587597 40.700335 \nL 140.882803 42.585104 \nL 140.9566 42.448823 \nL 141.178 48.120864 \nL 141.251797 48.206531 \nL 141.6208 60.779357 \nL 142.432603 96.787887 \nL 143.244397 125.970615 \nL 143.6134 132.438861 \nL 143.687197 132.39151 \nL 143.908597 133.373148 \nL 144.0562 131.300397 \nL 144.499 121.586705 \nL 146.860603 43.766047 \nL 147.008197 42.486689 \nL 147.1558 42.525043 \nL 147.229597 42.499586 \nL 147.3772 43.679591 \nL 147.672397 49.161701 \nL 148.2628 69.334114 \nL 148.927 102.78779 \nL 149.517403 130.376608 \nL 150.034 144.491418 \nL 150.329197 147.866622 \nL 150.4768 147.605194 \nL 150.624403 146.992772 \nL 150.993397 139.35573 \nL 151.510003 123.386144 \nL 152.764597 76.340662 \nL 153.502603 58.86182 \nL 153.5764 59.256718 \nL 153.650197 59.226574 \nL 153.724003 59.282887 \nL 154.0192 61.344653 \nL 154.2406 65.748471 \nL 154.462 72.008452 \nL 155.3476 117.028385 \nL 156.306997 158.722415 \nL 156.749797 166.624258 \nL 156.971197 167.777795 \nL 157.045003 167.368088 \nL 157.635397 155.31077 \nL 158.6686 111.660437 \nL 158.963797 96.603017 \nL 159.037603 97.483316 \nL 159.5542 79.025048 \nL 159.627997 78.673041 \nL 160.292197 66.120986 \nL 160.366003 66.484653 \nL 160.513597 68.451453 \nL 160.587403 66.824362 \nL 161.841997 119.055659 \nL 162.580003 153.150289 \nL 162.948997 162.940163 \nL 163.170397 166.484903 \nL 163.244203 165.467873 \nL 163.465603 168.231478 \nL 163.687003 165.084148 \nL 163.908403 161.109232 \nL 164.351203 147.454254 \nL 164.794003 129.701387 \nL 165.827197 79.848435 \nL 165.901003 79.9476 \nL 166.048597 77.544362 \nL 166.269997 71.022728 \nL 166.8604 62.647855 \nL 166.934197 62.876665 \nL 167.0818 65.934803 \nL 167.155597 66.207104 \nL 167.746 84.609021 \nL 169.5172 156.948133 \nL 169.812397 161.670478 \nL 169.886203 161.631075 \nL 170.033797 162.293248 \nL 170.107603 161.918484 \nL 170.6242 152.650678 \nL 171.067 138.384477 \nL 171.804997 107.628871 \nL 172.690597 72.419996 \nL 172.911997 69.243797 \nL 172.985803 68.960287 \nL 173.281 66.287185 \nL 173.354797 66.723136 \nL 173.428603 66.277737 \nL 173.5024 64.872034 \nL 173.797597 69.599291 \nL 174.018997 75.610141 \nL 174.6094 99.756121 \nL 175.7164 153.630404 \nL 176.232997 168.642797 \nL 176.602 172.41076 \nL 176.897197 171.126454 \nL 177.2662 165.105593 \nL 178.299403 128.286011 \nL 178.963603 101.376088 \nL 179.0374 100.12095 \nL 179.185003 95.359839 \nL 179.2588 95.410002 \nL 179.4802 88.708597 \nL 179.627803 86.307496 \nL 179.7016 86.979529 \nL 179.923 88.241191 \nL 180.070603 87.827398 \nL 180.1444 87.940585 \nL 180.439597 95.372211 \nL 180.882397 111.86664 \nL 182.210797 176.621085 \nL 182.727403 191.389221 \nL 183.0226 194.662823 \nL 183.170203 195.391057 \nL 183.6868 188.131104 \nL 184.1296 174.446545 \nL 186.048403 101.187169 \nL 186.3436 95.152511 \nL 186.565 97.494001 \nL 186.638797 97.661212 \nL 186.7864 99.108719 \nL 187.155403 106.206784 \nL 187.672 126.001058 \nL 188.041003 142.813527 \nL 188.631397 171.340793 \nL 189.148003 188.210323 \nL 189.516997 194.341634 \nL 189.812203 194.132169 \nL 189.886 194.083955 \nL 190.255003 187.8218 \nL 190.919203 166.466082 \nL 192.7642 97.269315 \nL 192.837997 97.36353 \nL 192.9856 94.808527 \nL 193.133203 98.70145 \nL 193.207 94.285034 \nL 193.280797 96.073525 \nL 193.797403 107.057727 \nL 194.166397 123.77283 \nL 194.904403 159.115775 \nL 195.421 181.47885 \nL 196.0852 197.677996 \nL 196.232803 198.104236 \nL 196.380397 198.346018 \nL 196.528 196.909947 \nL 196.897003 190.820252 \nL 197.708797 162.689795 \nL 198.9634 115.436948 \nL 199.258597 107.24031 \nL 199.4062 104.542727 \nL 199.479997 104.402584 \nL 199.553803 104.863466 \nL 199.6276 104.476067 \nL 199.701397 104.645191 \nL 200.586997 126.516715 \nL 200.808397 138.354034 \nL 201.693997 184.501634 \nL 202.210603 204.16645 \nL 202.5058 210.905947 \nL 202.800997 213.806209 \nL 202.9486 213.626138 \nL 203.17 212.044374 \nL 203.539003 205.236981 \nL 203.981803 190.80638 \nL 205.088803 144.604867 \nL 205.8268 122.656148 \nL 205.974403 119.301902 \nL 206.121997 113.609391 \nL 206.195803 114.390525 \nL 206.343397 117.330191 \nL 206.564797 118.529729 \nL 206.638603 117.633871 \nL 207.598 156.934299 \nL 208.0408 180.653213 \nL 208.778797 211.929575 \nL 209.221597 220.737849 \nL 209.442997 222.405393 \nL 209.664397 221.358595 \nL 209.885797 218.450235 \nL 210.328597 207.968943 \nL 212.321197 134.261732 \nL 212.763997 125.530878 \nL 212.837803 124.801183 \nL 212.985397 127.094421 \nL 213.059203 126.997543 \nL 213.133 126.35554 \nL 213.206797 126.959077 \nL 213.280603 126.817734 \nL 213.5758 136.242442 \nL 213.649597 136.181743 \nL 213.7972 144.600256 \nL 213.944803 150.358452 \nL 214.313797 168.2473 \nL 215.273203 208.163561 \nL 215.642197 216.897902 \nL 215.937403 219.645611 \nL 216.084997 220.086698 \nL 216.158803 219.863137 \nL 216.527797 215.014033 \nL 216.823003 207.744632 \nL 217.413397 186.097456 \nL 218.4466 143.39097 \nL 218.8894 130.134076 \nL 219.3322 122.508732 \nL 219.479803 119.610719 \nL 219.5536 120.583884 \nL 219.627397 120.69171 \nL 219.922603 124.900272 \nL 219.9964 123.673778 \nL 220.2178 132.182757 \nL 220.512997 141.625911 \nL 221.5462 190.541503 \nL 221.989 205.119295 \nL 222.358003 211.77871 \nL 222.579403 213.510851 \nL 222.6532 213.190862 \nL 222.8746 211.95267 \nL 223.022203 209.978034 \nL 223.612597 194.583866 \nL 224.350603 165.07635 \nL 225.014803 138.819528 \nL 225.605197 122.577154 \nL 226.121803 115.372163 \nL 226.417 119.3653 \nL 226.490797 118.64344 \nL 226.933597 131.819878 \nL 227.3026 151.508464 \nL 228.8524 215.542662 \nL 229.0738 218.891396 \nL 229.147597 219.047511 \nL 229.2952 220.106231 \nL 229.368997 219.959377 \nL 229.5166 218.919965 \nL 229.9594 211.387487 \nL 230.549803 191.625193 \nL 231.878203 139.451408 \nL 232.542403 125.154127 \nL 232.6162 124.895286 \nL 232.689997 125.580592 \nL 232.8376 128.735383 \nL 232.985203 129.626779 \nL 233.428003 142.359431 \nL 235.125397 223.518776 \nL 235.4944 234.047944 \nL 235.863403 238.755405 \nL 236.010997 238.501288 \nL 236.1586 237.724316 \nL 236.453797 233.596697 \nL 236.749003 225.651813 \nL 237.339397 204.356607 \nL 238.741603 150.34428 \nL 238.889197 145.663775 \nL 239.110597 139.852342 \nL 239.184403 141.859445 \nL 239.2582 141.367783 \nL 239.331997 141.22659 \nL 239.405803 141.501739 \nL 239.4796 141.299698 \nL 239.627203 144.443317 \nL 239.701 142.643691 \nL 240.3652 167.826046 \nL 242.1364 242.005237 \nL 242.431597 246.065746 \nL 242.505403 245.928902 \nL 242.652997 246.05956 \nL 243.022 241.416884 \nL 243.538597 226.234393 \nL 244.129 202.423736 \nL 245.0146 163.002924 \nL 245.826403 135.57277 \nL 245.9002 135.236734 \nL 245.973997 137.664379 \nL 246.047803 136.762898 \nL 246.1216 136.799752 \nL 246.416797 138.753768 \nL 246.5644 145.16109 \nL 246.638197 145.587443 \nL 247.2286 167.43861 \nL 248.261803 214.863317 \nL 248.9998 232.801166 \nL 249.147403 233.799638 \nL 249.294997 233.636213 \nL 249.368803 233.381496 \nL 249.811603 225.671946 \nL 250.033003 219.13914 \nL 250.844797 186.409535 \nL 252.3208 123.072153 \nL 252.394597 124.481531 \nL 252.468403 124.42998 \nL 252.5422 123.758134 \nL 252.689803 121.316542 \nL 252.985 124.443439 \nL 253.058797 124.541517 \nL 253.722997 142.294946 \nL 254.239603 164.796964 \nL 255.272797 208.122133 \nL 255.346603 208.378725 \nL 255.4204 206.317446 \nL 255.494197 214.149518 \nL 255.568003 213.549018 \nL 255.789403 217.480781 \nL 255.8632 217.841336 \nL 255.936997 217.607727 \nL 256.010803 217.646006 \nL 256.0846 218.110262 \nL 256.453603 212.730805 \nL 256.9702 198.869774 \nL 257.929597 159.466695 \nL 258.9628 120.105569 \nL 259.036597 120.33899 \nL 259.110403 118.118935 \nL 259.1842 120.217968 \nL 259.4056 116.515952 \nL 259.553203 117.196646 \nL 259.627 117.253821 \nL 259.8484 119.600297 \nL 259.922197 119.427049 \nL 260.2912 129.796953 \nL 260.660203 144.141923 \nL 262.0624 199.475148 \nL 262.136197 199.850287 \nL 262.2838 203.379355 \nL 262.652803 209.919997 \nL 262.7266 209.441119 \nL 262.874203 209.930008 \nL 263.1694 206.849487 \nL 263.685997 193.687146 \nL 264.202603 175.15832 \nL 265.457197 124.15663 \nL 265.6048 122.250266 \nL 265.678597 123.384906 \nL 265.899997 117.884501 \nL 265.973803 117.314219 \nL 266.0476 117.864593 \nL 266.269 115.600674 \nL 266.416603 116.549057 \nL 266.564197 115.954855 \nL 266.859403 120.869344 \nL 267.228397 133.726467 \nL 267.523603 144.558491 \nL 268.556797 187.116361 \nL 268.778197 192.35995 \nL 268.9258 195.253688 \nL 269.1472 199.490519 \nL 269.220997 199.863297 \nL 269.3686 201.430626 \nL 269.442397 201.473741 \nL 269.516203 201.139392 \nL 269.59 201.423352 \nL 269.885197 198.667582 \nL 270.106597 193.243548 \nL 270.4756 183.630258 \nL 271.5826 142.457996 \nL 271.730203 129.903204 \nL 271.877797 125.315902 \nL 271.951603 125.387061 \nL 272.0254 125.552848 \nL 272.4682 113.386842 \nL 272.541997 113.163956 \nL 272.763397 108.24508 \nL 272.837203 108.926149 \nL 272.911 104.620071 \nL 272.984797 105.157136 \nL 273.1324 104.138307 \nL 273.206197 106.545031 \nL 273.280003 104.97624 \nL 273.3538 105.656897 \nL 273.427597 106.206409 \nL 273.648997 113.302037 \nL 273.722803 113.218168 \nL 275.125 169.678535 \nL 275.641597 185.513377 \nL 276.0106 191.081829 \nL 276.305797 192.902001 \nL 276.601003 189.277029 \nL 276.8962 179.467472 \nL 276.969997 179.19341 \nL 277.191397 170.36654 \nL 277.265203 173.92114 \nL 277.412797 160.361203 \nL 277.486603 159.819864 \nL 277.5604 163.603424 \nL 277.7818 148.254208 \nL 277.855597 151.946664 \nL 277.929403 148.573935 \nL 278.076997 133.48251 \nL 278.150803 133.234842 \nL 278.519797 123.850063 \nL 278.741197 116.436657 \nL 279.257803 102.005907 \nL 279.626797 95.388594 \nL 279.700603 95.575677 \nL 280.069597 98.773433 \nL 280.364803 104.283886 \nL 280.733797 115.778458 \nL 282.578803 187.191344 \nL 282.800203 189.292701 \nL 282.874 189.811432 \nL 282.947797 189.784888 \nL 283.021603 189.818968 \nL 283.243003 187.989686 \nL 283.464403 183.487753 \nL 283.685803 177.741854 \nL 285.9736 96.716278 \nL 286.342603 92.770643 \nL 286.490197 92.623377 \nL 286.6378 93.122725 \nL 287.228203 105.736454 \nL 288.556603 163.935673 \nL 289.146997 181.99267 \nL 289.442203 186.635983 \nL 289.516 187.254254 \nL 289.589797 187.220437 \nL 289.885003 185.108057 \nL 290.1802 179.258832 \nL 290.4016 173.046465 \nL 291.139597 143.933358 \nL 291.73 117.184536 \nL 292.689397 85.31326 \nL 292.763203 84.954093 \nL 292.984603 82.574737 \nL 293.0584 82.370446 \nL 293.132197 82.829041 \nL 293.206003 82.619576 \nL 293.353597 83.440264 \nL 293.427403 83.262404 \nL 295.9366 172.865194 \nL 296.010397 172.945501 \nL 296.231797 174.125506 \nL 296.6008 170.640528 \nL 297.191203 153.393008 \nL 298.224397 110.357872 \nL 298.8148 86.402124 \nL 299.405203 71.414513 \nL 299.552797 70.79343 \nL 299.7004 69.485204 \nL 299.995597 71.56999 \nL 300.216997 75.72674 \nL 300.586 85.955976 \nL 301.323997 116.884642 \nL 301.9144 140.604869 \nL 302.209597 149.890934 \nL 302.283403 150.402542 \nL 302.652397 157.232093 \nL 302.8 157.566254 \nL 303.095197 156.138468 \nL 303.4642 149.814114 \nL 303.980797 133.694637 \nL 304.644997 105.221921 \nL 304.7926 100.924204 \nL 305.6782 68.955563 \nL 306.268603 57.555806 \nL 306.416197 58.619813 \nL 306.637597 59.889198 \nL 307.0066 66.799881 \nL 307.4494 81.829032 \nL 308.851597 139.946482 \nL 308.9992 140.652034 \nL 309.442 150.182917 \nL 309.515797 150.567467 \nL 309.589603 150.49732 \nL 309.8848 149.419554 \nL 310.3276 140.843802 \nL 312.615397 65.735386 \nL 312.689203 65.757919 \nL 312.763 65.403362 \nL 312.910603 62.621536 \nL 313.2058 66.121136 \nL 313.4272 69.336926 \nL 314.165197 94.945108 \nL 315.272197 143.865949 \nL 315.788803 155.762054 \nL 316.010203 158.988567 \nL 316.157797 159.088969 \nL 316.379197 157.969025 \nL 316.7482 150.955728 \nL 317.264797 134.620638 \nL 317.560003 122.610371 \nL 317.6338 122.287007 \nL 318.5194 81.841292 \nL 319.035997 66.105614 \nL 319.6264 59.452198 \nL 319.774003 60.420302 \nL 320.364397 73.667223 \nL 320.7334 87.804116 \nL 322.135597 142.779935 \nL 322.652203 149.39286 \nL 322.799797 149.660774 \nL 322.9474 148.74992 \nL 323.3902 141.339814 \nL 323.6116 134.778364 \nL 324.792397 90.806017 \nL 325.309003 70.920488 \nL 325.677997 61.425709 \nL 326.047 54.823619 \nL 326.2684 54.978121 \nL 326.858803 65.387316 \nL 327.5968 93.169252 \nL 328.4824 131.399074 \nL 328.998997 143.395881 \nL 329.072803 143.333796 \nL 329.294203 146.720471 \nL 329.441797 146.012183 \nL 329.663197 144.885791 \nL 329.884597 140.804774 \nL 330.6964 115.549348 \nL 331.065403 101.340509 \nL 331.286803 88.606995 \nL 331.434397 81.614619 \nL 331.508203 82.041121 \nL 331.729603 75.197473 \nL 332.2462 61.818657 \nL 332.541397 57.77097 \nL 332.615203 57.348479 \nL 332.689 57.477562 \nL 332.9104 59.080095 \nL 333.205597 63.587278 \nL 333.722203 78.862748 \nL 334.2388 104.171936 \nL 335.198197 143.014331 \nL 335.5672 151.295663 \nL 335.936203 153.648025 \nL 336.379003 150.111309 \nL 336.8956 135.719399 \nL 337.928803 94.750265 \nL 338.6668 68.331443 \nL 339.257203 60.345506 \nL 339.331 60.073468 \nL 339.478603 60.800802 \nL 339.700003 63.57498 \nL 339.9952 69.031258 \nL 340.511797 89.317495 \nL 341.249803 123.218894 \nL 341.914003 147.495644 \nL 342.2092 152.470419 \nL 342.504397 155.618275 \nL 342.578203 155.294986 \nL 342.799603 154.005243 \nL 343.021003 150.672068 \nL 343.3162 143.105698 \nL 343.685203 131.374105 \nL 345.235003 73.376927 \nL 345.5302 68.787076 \nL 345.825397 65.972295 \nL 345.899203 65.840325 \nL 345.973 65.975369 \nL 346.046797 65.712292 \nL 346.1944 66.653477 \nL 346.489597 73.656463 \nL 347.006203 90.117187 \nL 347.7442 123.103383 \nL 348.482197 147.497856 \nL 348.703597 151.856347 \nL 348.998803 155.348861 \nL 349.0726 154.84164 \nL 349.441603 151.108131 \nL 350.1796 130.468874 \nL 350.917597 103.573123 \nL 351.434203 82.39759 \nL 352.098403 64.951966 \nL 352.1722 64.945255 \nL 352.245997 64.772082 \nL 352.467397 62.627797 \nL 352.688797 66.051702 \nL 353.0578 71.100747 \nL 353.426803 84.640477 \nL 353.5006 83.974891 \nL 354.755203 137.381806 \nL 355.2718 149.094016 \nL 355.4932 149.834509 \nL 355.566997 149.928013 \nL 355.7146 151.19826 \nL 356.3788 135.208878 \nL 357.7072 85.346103 \nL 358.666597 58.151358 \nL 358.740403 59.548138 \nL 358.8142 57.917261 \nL 358.887997 58.00128 \nL 359.0356 55.547616 \nL 359.109397 55.91983 \nL 359.330797 60.715996 \nL 359.773597 75.329818 \nL 359.847403 75.635935 \nL 360.068803 87.363817 \nL 360.1426 87.902269 \nL 361.544797 150.211261 \nL 361.840003 154.66498 \nL 362.1352 157.798626 \nL 362.282803 156.006761 \nL 362.504203 152.390637 \nL 362.578 154.710645 \nL 362.651797 153.46083 \nL 362.947003 143.804013 \nL 363.537397 121.995137 \nL 364.275403 89.938091 \nL 364.496803 85.428996 \nL 364.5706 89.235951 \nL 364.792 78.899152 \nL 365.308597 69.512948 \nL 365.4562 69.817153 \nL 365.529997 68.556991 \nL 365.603803 69.005389 \nL 365.6776 69.400286 \nL 365.825203 74.439771 \nL 365.899 72.43398 \nL 366.710803 107.204093 \nL 367.153603 132.366166 \nL 368.039203 172.286926 \nL 368.408197 180.091967 \nL 368.629597 183.361894 \nL 368.703403 183.484191 \nL 368.7772 183.021997 \nL 368.924803 179.971507 \nL 368.9986 183.233449 \nL 369.072397 182.28649 \nL 369.367603 175.455102 \nL 369.810403 162.291561 \nL 370.474603 132.781646 \nL 370.622197 123.256911 \nL 370.696003 127.066752 \nL 370.917403 118.244532 \nL 371.064997 107.460722 \nL 371.138803 108.094965 \nL 371.2126 107.975067 \nL 371.434 104.655201 \nL 371.729197 97.19227 \nL 371.803003 96.265631 \nL 371.950597 91.681105 \nL 372.024403 93.956909 \nL 372.0982 93.119351 \nL 372.171997 92.515851 \nL 372.245803 92.988131 \nL 373.131403 122.173296 \nL 374.385997 183.418844 \nL 374.828797 196.131325 \nL 375.050197 198.209587 \nL 375.124003 197.948834 \nL 375.1978 198.744477 \nL 375.271597 201.275486 \nL 375.345403 200.231013 \nL 375.4192 200.68912 \nL 375.492997 195.986046 \nL 375.566803 197.251944 \nL 375.862 191.444521 \nL 376.378597 174.232019 \nL 376.7476 158.842462 \nL 377.264197 132.728445 \nL 377.338003 131.778975 \nL 377.559403 116.012592 \nL 377.6332 119.659571 \nL 377.706997 116.603044 \nL 377.8546 104.936499 \nL 377.928397 109.953752 \nL 378.149797 104.219775 \nL 378.5188 95.169907 \nL 378.666403 96.536807 \nL 378.887803 96.293713 \nL 379.330603 104.241296 \nL 379.8472 123.789814 \nL 381.1756 181.078329 \nL 381.692197 189.600205 \nL 381.8398 186.469709 \nL 381.913597 187.032792 \nL 381.987403 188.775394 \nL 382.0612 188.129417 \nL 382.430203 180.56001 \nL 382.577797 176.526419 \nL 382.577797 176.526419 \n\" clip-path=\"url(#p83a8880837)\" style=\"fill: none; stroke-dasharray: 6,0; stroke-dashoffset: 0; stroke: #1f77b4; stroke-width: 1.5\"/>\n   </g>\n   <g id=\"patch_3\">\n    <path d=\"M 28.264 276.12 \nL 28.264 13.68 \n\" style=\"fill: none; stroke: #000000; stroke-linejoin: miter; stroke-linecap: square\"/>\n   </g>\n   <g id=\"patch_4\">\n    <path d=\"M 382.504 276.12 \nL 382.504 13.68 \n\" style=\"fill: none; stroke: #000000; stroke-linejoin: miter; stroke-linecap: square\"/>\n   </g>\n   <g id=\"patch_5\">\n    <path d=\"M 28.264 276.12 \nL 382.504 276.12 \n\" style=\"fill: none; stroke: #000000; stroke-linejoin: miter; stroke-linecap: square\"/>\n   </g>\n   <g id=\"patch_6\">\n    <path d=\"M 28.264 13.68 \nL 382.504 13.68 \n\" style=\"fill: none; stroke: #000000; stroke-linejoin: miter; stroke-linecap: square\"/>\n   </g>\n   <g id=\"matplotlib.axis_1\">\n    <g id=\"xtick_1\">\n     <g id=\"line2d_2\">\n      <defs>\n       <path id=\"mc05414e2f7\" d=\"M 0 0 \nL 0 -4 \n\" style=\"stroke: #000000; stroke-width: 0.5\"/>\n      </defs>\n      <g>\n       <use xlink:href=\"#mc05414e2f7\" x=\"28.264\" y=\"276.12\" style=\"stroke: #000000; stroke-width: 0.5\"/>\n      </g>\n     </g>\n     <g id=\"line2d_3\">\n      <defs>\n       <path id=\"mc9c73c09b7\" d=\"M 0 0 \nL 0 4 \n\" style=\"stroke: #000000; stroke-width: 0.5\"/>\n      </defs>\n      <g>\n       <use xlink:href=\"#mc9c73c09b7\" x=\"28.264\" y=\"13.68\" style=\"stroke: #000000; stroke-width: 0.5\"/>\n      </g>\n     </g>\n     <g id=\"text_1\">\n      <!-- 20 -->\n      <g transform=\"translate(21.064 289.95475) scale(0.144 -0.144)\">\n       <defs>\n        <path id=\"STIXGeneral-Regular-32\" d=\"M 3034 877 \nL 2688 0 \nL 186 0 \nL 186 77 \nL 1325 1286 \nQ 1773 1754 1965 2144 \nQ 2157 2534 2157 2950 \nQ 2157 3379 1920 3616 \nQ 1683 3853 1267 3853 \nQ 922 3853 720 3673 \nQ 518 3494 326 3021 \nL 192 3053 \nQ 301 3648 630 3987 \nQ 960 4326 1523 4326 \nQ 2054 4326 2380 4006 \nQ 2707 3686 2707 3200 \nQ 2707 2477 1888 1613 \nL 832 486 \nL 2330 486 \nQ 2541 486 2665 569 \nQ 2790 653 2944 915 \nL 3034 877 \nz\n\" transform=\"scale(0.015625)\"/>\n        <path id=\"STIXGeneral-Regular-30\" d=\"M 3046 2112 \nQ 3046 1683 2963 1302 \nQ 2880 922 2717 602 \nQ 2554 282 2266 96 \nQ 1978 -90 1600 -90 \nQ 1210 -90 915 108 \nQ 621 307 461 640 \nQ 301 973 227 1350 \nQ 154 1728 154 2150 \nQ 154 2746 301 3222 \nQ 448 3699 790 4012 \nQ 1133 4326 1626 4326 \nQ 2253 4326 2649 3712 \nQ 3046 3098 3046 2112 \nz\nM 2432 2080 \nQ 2432 3091 2217 3625 \nQ 2003 4160 1587 4160 \nQ 1190 4160 979 3622 \nQ 768 3085 768 2106 \nQ 768 1120 979 598 \nQ 1190 77 1600 77 \nQ 2003 77 2217 598 \nQ 2432 1120 2432 2080 \nz\n\" transform=\"scale(0.015625)\"/>\n       </defs>\n       <use xlink:href=\"#STIXGeneral-Regular-32\"/>\n       <use xlink:href=\"#STIXGeneral-Regular-30\" x=\"49.999985\"/>\n      </g>\n     </g>\n    </g>\n    <g id=\"xtick_2\">\n     <g id=\"line2d_4\">\n      <g>\n       <use xlink:href=\"#mc05414e2f7\" x=\"72.544\" y=\"276.12\" style=\"stroke: #000000; stroke-width: 0.5\"/>\n      </g>\n     </g>\n     <g id=\"line2d_5\">\n      <g>\n       <use xlink:href=\"#mc9c73c09b7\" x=\"72.544\" y=\"13.68\" style=\"stroke: #000000; stroke-width: 0.5\"/>\n      </g>\n     </g>\n     <g id=\"text_2\">\n      <!-- 25 -->\n      <g transform=\"translate(65.344 289.95475) scale(0.144 -0.144)\">\n       <defs>\n        <path id=\"STIXGeneral-Regular-35\" d=\"M 2803 4358 \nL 2573 3814 \nQ 2534 3731 2400 3731 \nL 1158 3731 \nL 902 3187 \nQ 1606 3053 1920 2896 \nQ 2234 2739 2502 2368 \nQ 2726 2061 2726 1555 \nQ 2726 1094 2576 780 \nQ 2426 467 2099 224 \nQ 1664 -90 1011 -90 \nQ 646 -90 422 19 \nQ 198 128 198 307 \nQ 198 550 486 550 \nQ 717 550 960 352 \nQ 1210 147 1414 147 \nQ 1747 147 2012 480 \nQ 2278 813 2278 1229 \nQ 2278 1843 1850 2189 \nQ 1293 2637 486 2637 \nQ 410 2637 410 2688 \nL 416 2720 \nL 1114 4237 \nL 2438 4237 \nQ 2547 4237 2608 4269 \nQ 2669 4301 2746 4403 \nL 2803 4358 \nz\n\" transform=\"scale(0.015625)\"/>\n       </defs>\n       <use xlink:href=\"#STIXGeneral-Regular-32\"/>\n       <use xlink:href=\"#STIXGeneral-Regular-35\" x=\"49.999985\"/>\n      </g>\n     </g>\n    </g>\n    <g id=\"xtick_3\">\n     <g id=\"line2d_6\">\n      <g>\n       <use xlink:href=\"#mc05414e2f7\" x=\"116.824\" y=\"276.12\" style=\"stroke: #000000; stroke-width: 0.5\"/>\n      </g>\n     </g>\n     <g id=\"line2d_7\">\n      <g>\n       <use xlink:href=\"#mc9c73c09b7\" x=\"116.824\" y=\"13.68\" style=\"stroke: #000000; stroke-width: 0.5\"/>\n      </g>\n     </g>\n     <g id=\"text_3\">\n      <!-- 30 -->\n      <g transform=\"translate(109.624 289.95475) scale(0.144 -0.144)\">\n       <defs>\n        <path id=\"STIXGeneral-Regular-33\" d=\"M 390 3264 \nL 288 3290 \nQ 435 3770 748 4048 \nQ 1062 4326 1542 4326 \nQ 1990 4326 2265 4083 \nQ 2541 3840 2541 3450 \nQ 2541 2925 1946 2566 \nQ 2298 2413 2477 2227 \nQ 2758 1914 2758 1402 \nQ 2758 890 2464 506 \nQ 2246 211 1840 60 \nQ 1434 -90 979 -90 \nQ 262 -90 262 275 \nQ 262 378 339 442 \nQ 416 506 525 506 \nQ 685 506 915 339 \nQ 1197 141 1466 141 \nQ 1818 141 2058 425 \nQ 2298 710 2298 1120 \nQ 2298 1856 1632 2048 \nQ 1434 2112 979 2112 \nL 979 2202 \nQ 1338 2323 1517 2432 \nQ 2035 2726 2035 3290 \nQ 2035 3610 1852 3776 \nQ 1670 3942 1344 3942 \nQ 768 3942 390 3264 \nz\n\" transform=\"scale(0.015625)\"/>\n       </defs>\n       <use xlink:href=\"#STIXGeneral-Regular-33\"/>\n       <use xlink:href=\"#STIXGeneral-Regular-30\" x=\"49.999985\"/>\n      </g>\n     </g>\n    </g>\n    <g id=\"xtick_4\">\n     <g id=\"line2d_8\">\n      <g>\n       <use xlink:href=\"#mc05414e2f7\" x=\"161.104\" y=\"276.12\" style=\"stroke: #000000; stroke-width: 0.5\"/>\n      </g>\n     </g>\n     <g id=\"line2d_9\">\n      <g>\n       <use xlink:href=\"#mc9c73c09b7\" x=\"161.104\" y=\"13.68\" style=\"stroke: #000000; stroke-width: 0.5\"/>\n      </g>\n     </g>\n     <g id=\"text_4\">\n      <!-- 35 -->\n      <g transform=\"translate(153.904 289.95475) scale(0.144 -0.144)\">\n       <use xlink:href=\"#STIXGeneral-Regular-33\"/>\n       <use xlink:href=\"#STIXGeneral-Regular-35\" x=\"49.999985\"/>\n      </g>\n     </g>\n    </g>\n    <g id=\"xtick_5\">\n     <g id=\"line2d_10\">\n      <g>\n       <use xlink:href=\"#mc05414e2f7\" x=\"205.384\" y=\"276.12\" style=\"stroke: #000000; stroke-width: 0.5\"/>\n      </g>\n     </g>\n     <g id=\"line2d_11\">\n      <g>\n       <use xlink:href=\"#mc9c73c09b7\" x=\"205.384\" y=\"13.68\" style=\"stroke: #000000; stroke-width: 0.5\"/>\n      </g>\n     </g>\n     <g id=\"text_5\">\n      <!-- 40 -->\n      <g transform=\"translate(198.184 289.95475) scale(0.144 -0.144)\">\n       <defs>\n        <path id=\"STIXGeneral-Regular-34\" d=\"M 3027 1069 \nL 2368 1069 \nL 2368 0 \nL 1869 0 \nL 1869 1069 \nL 77 1069 \nL 77 1478 \nL 2086 4326 \nL 2368 4326 \nL 2368 1478 \nL 3027 1478 \nL 3027 1069 \nz\nM 1869 1478 \nL 1869 3674 \nL 333 1478 \nL 1869 1478 \nz\n\" transform=\"scale(0.015625)\"/>\n       </defs>\n       <use xlink:href=\"#STIXGeneral-Regular-34\"/>\n       <use xlink:href=\"#STIXGeneral-Regular-30\" x=\"49.999985\"/>\n      </g>\n     </g>\n    </g>\n    <g id=\"xtick_6\">\n     <g id=\"line2d_12\">\n      <g>\n       <use xlink:href=\"#mc05414e2f7\" x=\"249.664\" y=\"276.12\" style=\"stroke: #000000; stroke-width: 0.5\"/>\n      </g>\n     </g>\n     <g id=\"line2d_13\">\n      <g>\n       <use xlink:href=\"#mc9c73c09b7\" x=\"249.664\" y=\"13.68\" style=\"stroke: #000000; stroke-width: 0.5\"/>\n      </g>\n     </g>\n     <g id=\"text_6\">\n      <!-- 45 -->\n      <g transform=\"translate(242.464 289.95475) scale(0.144 -0.144)\">\n       <use xlink:href=\"#STIXGeneral-Regular-34\"/>\n       <use xlink:href=\"#STIXGeneral-Regular-35\" x=\"49.999985\"/>\n      </g>\n     </g>\n    </g>\n    <g id=\"xtick_7\">\n     <g id=\"line2d_14\">\n      <g>\n       <use xlink:href=\"#mc05414e2f7\" x=\"293.944\" y=\"276.12\" style=\"stroke: #000000; stroke-width: 0.5\"/>\n      </g>\n     </g>\n     <g id=\"line2d_15\">\n      <g>\n       <use xlink:href=\"#mc9c73c09b7\" x=\"293.944\" y=\"13.68\" style=\"stroke: #000000; stroke-width: 0.5\"/>\n      </g>\n     </g>\n     <g id=\"text_7\">\n      <!-- 50 -->\n      <g transform=\"translate(286.744 289.95475) scale(0.144 -0.144)\">\n       <use xlink:href=\"#STIXGeneral-Regular-35\"/>\n       <use xlink:href=\"#STIXGeneral-Regular-30\" x=\"49.999985\"/>\n      </g>\n     </g>\n    </g>\n    <g id=\"xtick_8\">\n     <g id=\"line2d_16\">\n      <g>\n       <use xlink:href=\"#mc05414e2f7\" x=\"338.224\" y=\"276.12\" style=\"stroke: #000000; stroke-width: 0.5\"/>\n      </g>\n     </g>\n     <g id=\"line2d_17\">\n      <g>\n       <use xlink:href=\"#mc9c73c09b7\" x=\"338.224\" y=\"13.68\" style=\"stroke: #000000; stroke-width: 0.5\"/>\n      </g>\n     </g>\n     <g id=\"text_8\">\n      <!-- 55 -->\n      <g transform=\"translate(331.024 289.95475) scale(0.144 -0.144)\">\n       <use xlink:href=\"#STIXGeneral-Regular-35\"/>\n       <use xlink:href=\"#STIXGeneral-Regular-35\" x=\"49.999985\"/>\n      </g>\n     </g>\n    </g>\n    <g id=\"xtick_9\">\n     <g id=\"line2d_18\">\n      <g>\n       <use xlink:href=\"#mc05414e2f7\" x=\"382.504\" y=\"276.12\" style=\"stroke: #000000; stroke-width: 0.5\"/>\n      </g>\n     </g>\n     <g id=\"line2d_19\">\n      <g>\n       <use xlink:href=\"#mc9c73c09b7\" x=\"382.504\" y=\"13.68\" style=\"stroke: #000000; stroke-width: 0.5\"/>\n      </g>\n     </g>\n     <g id=\"text_9\">\n      <!-- 60 -->\n      <g transform=\"translate(375.304 289.95475) scale(0.144 -0.144)\">\n       <defs>\n        <path id=\"STIXGeneral-Regular-36\" d=\"M 2854 4378 \nL 2867 4275 \nQ 2112 4154 1606 3664 \nQ 1101 3174 973 2451 \nQ 1344 2739 1786 2739 \nQ 2349 2739 2672 2380 \nQ 2995 2022 2995 1402 \nQ 2995 774 2669 378 \nQ 2291 -90 1651 -90 \nQ 870 -90 518 557 \nQ 218 1107 218 1786 \nQ 218 2835 915 3552 \nQ 1312 3962 1731 4131 \nQ 2150 4301 2854 4378 \nz\nM 2419 1203 \nQ 2419 2445 1555 2445 \nQ 1235 2445 1024 2275 \nQ 813 2106 813 1702 \nQ 813 954 1046 522 \nQ 1280 90 1722 90 \nQ 2061 90 2240 394 \nQ 2419 698 2419 1203 \nz\n\" transform=\"scale(0.015625)\"/>\n       </defs>\n       <use xlink:href=\"#STIXGeneral-Regular-36\"/>\n       <use xlink:href=\"#STIXGeneral-Regular-30\" x=\"49.999985\"/>\n      </g>\n     </g>\n    </g>\n   </g>\n   <g id=\"matplotlib.axis_2\">\n    <g id=\"ytick_1\">\n     <g id=\"line2d_20\">\n      <defs>\n       <path id=\"m4d9f6be2a9\" d=\"M 0 0 \nL 4 0 \n\" style=\"stroke: #000000; stroke-width: 0.5\"/>\n      </defs>\n      <g>\n       <use xlink:href=\"#m4d9f6be2a9\" x=\"28.264\" y=\"276.12\" style=\"stroke: #000000; stroke-width: 0.5\"/>\n      </g>\n     </g>\n     <g id=\"line2d_21\">\n      <defs>\n       <path id=\"me4e5c1edda\" d=\"M 0 0 \nL -4 0 \n\" style=\"stroke: #000000; stroke-width: 0.5\"/>\n      </defs>\n      <g>\n       <use xlink:href=\"#me4e5c1edda\" x=\"382.504\" y=\"276.12\" style=\"stroke: #000000; stroke-width: 0.5\"/>\n      </g>\n     </g>\n     <g id=\"text_10\">\n      <!-- −1 -->\n      <g transform=\"translate(7.2 279.47475) scale(0.144 -0.144)\">\n       <defs>\n        <path id=\"STIXGeneral-Regular-2212\" d=\"M 3974 1408 \nL 410 1408 \nL 410 1830 \nL 3974 1830 \nL 3974 1408 \nz\n\" transform=\"scale(0.015625)\"/>\n        <path id=\"STIXGeneral-Regular-31\" d=\"M 2522 0 \nL 755 0 \nL 755 96 \nQ 1107 115 1235 227 \nQ 1363 339 1363 608 \nL 1363 3482 \nQ 1363 3795 1171 3795 \nQ 1082 3795 883 3718 \nL 710 3654 \nL 710 3744 \nL 1856 4326 \nL 1914 4307 \nL 1914 486 \nQ 1914 275 2042 185 \nQ 2170 96 2522 96 \nL 2522 0 \nz\n\" transform=\"scale(0.015625)\"/>\n       </defs>\n       <use xlink:href=\"#STIXGeneral-Regular-2212\"/>\n       <use xlink:href=\"#STIXGeneral-Regular-31\" x=\"68.499985\"/>\n      </g>\n     </g>\n    </g>\n    <g id=\"ytick_2\">\n     <g id=\"line2d_22\">\n      <g>\n       <use xlink:href=\"#m4d9f6be2a9\" x=\"28.264\" y=\"238.628571\" style=\"stroke: #000000; stroke-width: 0.5\"/>\n      </g>\n     </g>\n     <g id=\"line2d_23\">\n      <g>\n       <use xlink:href=\"#me4e5c1edda\" x=\"382.504\" y=\"238.628571\" style=\"stroke: #000000; stroke-width: 0.5\"/>\n      </g>\n     </g>\n     <g id=\"text_11\">\n      <!-- 0 -->\n      <g transform=\"translate(17.064 241.983321) scale(0.144 -0.144)\">\n       <use xlink:href=\"#STIXGeneral-Regular-30\"/>\n      </g>\n     </g>\n    </g>\n    <g id=\"ytick_3\">\n     <g id=\"line2d_24\">\n      <g>\n       <use xlink:href=\"#m4d9f6be2a9\" x=\"28.264\" y=\"201.137143\" style=\"stroke: #000000; stroke-width: 0.5\"/>\n      </g>\n     </g>\n     <g id=\"line2d_25\">\n      <g>\n       <use xlink:href=\"#me4e5c1edda\" x=\"382.504\" y=\"201.137143\" style=\"stroke: #000000; stroke-width: 0.5\"/>\n      </g>\n     </g>\n     <g id=\"text_12\">\n      <!-- 1 -->\n      <g transform=\"translate(17.064 204.491893) scale(0.144 -0.144)\">\n       <use xlink:href=\"#STIXGeneral-Regular-31\"/>\n      </g>\n     </g>\n    </g>\n    <g id=\"ytick_4\">\n     <g id=\"line2d_26\">\n      <g>\n       <use xlink:href=\"#m4d9f6be2a9\" x=\"28.264\" y=\"163.645714\" style=\"stroke: #000000; stroke-width: 0.5\"/>\n      </g>\n     </g>\n     <g id=\"line2d_27\">\n      <g>\n       <use xlink:href=\"#me4e5c1edda\" x=\"382.504\" y=\"163.645714\" style=\"stroke: #000000; stroke-width: 0.5\"/>\n      </g>\n     </g>\n     <g id=\"text_13\">\n      <!-- 2 -->\n      <g transform=\"translate(17.064 167.000464) scale(0.144 -0.144)\">\n       <use xlink:href=\"#STIXGeneral-Regular-32\"/>\n      </g>\n     </g>\n    </g>\n    <g id=\"ytick_5\">\n     <g id=\"line2d_28\">\n      <g>\n       <use xlink:href=\"#m4d9f6be2a9\" x=\"28.264\" y=\"126.154286\" style=\"stroke: #000000; stroke-width: 0.5\"/>\n      </g>\n     </g>\n     <g id=\"line2d_29\">\n      <g>\n       <use xlink:href=\"#me4e5c1edda\" x=\"382.504\" y=\"126.154286\" style=\"stroke: #000000; stroke-width: 0.5\"/>\n      </g>\n     </g>\n     <g id=\"text_14\">\n      <!-- 3 -->\n      <g transform=\"translate(17.064 129.509036) scale(0.144 -0.144)\">\n       <use xlink:href=\"#STIXGeneral-Regular-33\"/>\n      </g>\n     </g>\n    </g>\n    <g id=\"ytick_6\">\n     <g id=\"line2d_30\">\n      <g>\n       <use xlink:href=\"#m4d9f6be2a9\" x=\"28.264\" y=\"88.662857\" style=\"stroke: #000000; stroke-width: 0.5\"/>\n      </g>\n     </g>\n     <g id=\"line2d_31\">\n      <g>\n       <use xlink:href=\"#me4e5c1edda\" x=\"382.504\" y=\"88.662857\" style=\"stroke: #000000; stroke-width: 0.5\"/>\n      </g>\n     </g>\n     <g id=\"text_15\">\n      <!-- 4 -->\n      <g transform=\"translate(17.064 92.017607) scale(0.144 -0.144)\">\n       <use xlink:href=\"#STIXGeneral-Regular-34\"/>\n      </g>\n     </g>\n    </g>\n    <g id=\"ytick_7\">\n     <g id=\"line2d_32\">\n      <g>\n       <use xlink:href=\"#m4d9f6be2a9\" x=\"28.264\" y=\"51.171429\" style=\"stroke: #000000; stroke-width: 0.5\"/>\n      </g>\n     </g>\n     <g id=\"line2d_33\">\n      <g>\n       <use xlink:href=\"#me4e5c1edda\" x=\"382.504\" y=\"51.171429\" style=\"stroke: #000000; stroke-width: 0.5\"/>\n      </g>\n     </g>\n     <g id=\"text_16\">\n      <!-- 5 -->\n      <g transform=\"translate(17.064 54.526179) scale(0.144 -0.144)\">\n       <use xlink:href=\"#STIXGeneral-Regular-35\"/>\n      </g>\n     </g>\n    </g>\n    <g id=\"ytick_8\">\n     <g id=\"line2d_34\">\n      <g>\n       <use xlink:href=\"#m4d9f6be2a9\" x=\"28.264\" y=\"13.68\" style=\"stroke: #000000; stroke-width: 0.5\"/>\n      </g>\n     </g>\n     <g id=\"line2d_35\">\n      <g>\n       <use xlink:href=\"#me4e5c1edda\" x=\"382.504\" y=\"13.68\" style=\"stroke: #000000; stroke-width: 0.5\"/>\n      </g>\n     </g>\n     <g id=\"text_17\">\n      <!-- 6 -->\n      <g transform=\"translate(17.064 17.03475) scale(0.144 -0.144)\">\n       <use xlink:href=\"#STIXGeneral-Regular-36\"/>\n      </g>\n     </g>\n    </g>\n   </g>\n   <g id=\"legend_1\">\n    <g id=\"patch_7\">\n     <path d=\"M 289.8805 45.60525 \nL 375.304 45.60525 \nL 375.304 20.88 \nL 289.8805 20.88 \nz\n\" style=\"fill: #ffffff; stroke: #000000; stroke-linejoin: miter\"/>\n    </g>\n    <g id=\"line2d_36\">\n     <path d=\"M 299.9605 31.68 \nL 320.1205 31.68 \n\" style=\"fill: none; stroke-dasharray: 6,0; stroke-dashoffset: 0; stroke: #1f77b4; stroke-width: 1.5\"/>\n    </g>\n    <g id=\"text_18\">\n     <!-- heave -->\n     <g transform=\"translate(335.9605 36.72) scale(0.144 -0.144)\">\n      <defs>\n       <path id=\"STIXGeneral-Regular-68\" d=\"M 3117 0 \nL 1760 0 \nL 1760 96 \nQ 2042 128 2118 224 \nQ 2195 320 2195 653 \nL 2195 1920 \nQ 2195 2598 1722 2598 \nQ 1530 2598 1370 2508 \nQ 1210 2419 1005 2195 \nL 1005 653 \nQ 1005 320 1081 224 \nQ 1158 128 1440 96 \nL 1440 0 \nL 58 0 \nL 58 96 \nQ 333 134 400 224 \nQ 467 314 467 653 \nL 467 3667 \nQ 467 3872 406 3933 \nQ 346 3994 141 3994 \nQ 83 3994 64 3987 \nL 64 4090 \nL 237 4141 \nQ 730 4288 973 4371 \nL 1005 4352 \nL 1005 2406 \nQ 1229 2694 1446 2819 \nQ 1664 2944 1946 2944 \nQ 2733 2944 2733 1926 \nL 2733 653 \nQ 2733 320 2793 233 \nQ 2854 147 3117 96 \nL 3117 0 \nz\n\" transform=\"scale(0.015625)\"/>\n       <path id=\"STIXGeneral-Regular-65\" d=\"M 2611 1050 \nL 2714 1005 \nQ 2330 -64 1376 -64 \nQ 813 -64 486 329 \nQ 160 723 160 1389 \nQ 160 2074 525 2509 \nQ 890 2944 1485 2944 \nQ 2061 2944 2374 2502 \nQ 2560 2246 2592 1773 \nL 621 1773 \nQ 646 1370 700 1158 \nQ 755 947 915 730 \nQ 1184 378 1626 378 \nQ 1939 378 2153 531 \nQ 2368 685 2611 1050 \nz\nM 634 1978 \nL 1939 1978 \nQ 1882 2381 1750 2547 \nQ 1619 2714 1312 2714 \nQ 1043 2714 864 2525 \nQ 685 2336 634 1978 \nz\n\" transform=\"scale(0.015625)\"/>\n       <path id=\"STIXGeneral-Regular-61\" d=\"M 2829 422 \nL 2829 243 \nQ 2586 -64 2253 -64 \nQ 1888 -64 1843 403 \nL 1837 403 \nQ 1427 -64 909 -64 \nQ 608 -64 422 112 \nQ 237 288 237 602 \nQ 237 1050 685 1350 \nQ 992 1555 1837 1869 \nL 1837 2214 \nQ 1837 2502 1699 2646 \nQ 1562 2790 1338 2790 \nQ 1146 2790 1018 2697 \nQ 890 2605 890 2477 \nQ 890 2419 909 2348 \nQ 928 2278 928 2208 \nQ 928 2112 841 2029 \nQ 755 1946 634 1946 \nQ 525 1946 441 2029 \nQ 358 2112 358 2240 \nQ 358 2547 685 2752 \nQ 986 2944 1421 2944 \nQ 1939 2944 2176 2656 \nQ 2291 2522 2323 2384 \nQ 2355 2246 2355 1946 \nL 2355 723 \nQ 2355 301 2554 301 \nQ 2682 301 2829 422 \nz\nM 1837 813 \nL 1837 1715 \nQ 1248 1510 1018 1293 \nQ 800 1094 800 800 \nQ 800 557 921 432 \nQ 1043 307 1242 307 \nQ 1453 307 1613 410 \nQ 1747 506 1792 589 \nQ 1837 672 1837 813 \nz\n\" transform=\"scale(0.015625)\"/>\n       <path id=\"STIXGeneral-Regular-76\" d=\"M 3053 2880 \nL 3053 2784 \nQ 2906 2771 2835 2688 \nQ 2765 2605 2637 2285 \nL 1818 230 \nQ 1690 -90 1638 -90 \nQ 1587 -90 1523 77 \nQ 1510 96 1497 141 \nQ 1485 186 1472 211 \nL 704 2048 \nQ 499 2534 403 2652 \nQ 307 2771 122 2784 \nL 122 2880 \nL 1376 2880 \nL 1376 2784 \nQ 1210 2771 1146 2732 \nQ 1082 2694 1082 2611 \nQ 1082 2509 1139 2368 \nL 1792 730 \nL 2426 2387 \nQ 2464 2483 2464 2579 \nQ 2464 2758 2163 2784 \nL 2163 2880 \nL 3053 2880 \nz\n\" transform=\"scale(0.015625)\"/>\n      </defs>\n      <use xlink:href=\"#STIXGeneral-Regular-68\"/>\n      <use xlink:href=\"#STIXGeneral-Regular-65\" x=\"49.999985\"/>\n      <use xlink:href=\"#STIXGeneral-Regular-61\" x=\"94.399979\"/>\n      <use xlink:href=\"#STIXGeneral-Regular-76\" x=\"138.799973\"/>\n      <use xlink:href=\"#STIXGeneral-Regular-65\" x=\"188.799957\"/>\n     </g>\n    </g>\n   </g>\n  </g>\n </g>\n <defs>\n  <clipPath id=\"p83a8880837\">\n   <rect x=\"28.264\" y=\"13.68\" width=\"354.24\" height=\"262.44\"/>\n  </clipPath>\n </defs>\n</svg>\n"
          },
          "metadata": {}
        }
      ]
    },
    {
      "cell_type": "code",
      "source": [],
      "metadata": {
        "id": "NURYvKOPQSuL"
      },
      "execution_count": null,
      "outputs": []
    }
  ],
  "metadata": {
    "interpreter": {
      "hash": "687cc4e401708a16426ccc61b37822e273e79eddba24f8f00be477bc6019a9b9"
    },
    "kernelspec": {
      "display_name": "Python 3 (ipykernel)",
      "language": "python",
      "name": "python3"
    },
    "language_info": {
      "codemirror_mode": {
        "name": "ipython",
        "version": 3
      },
      "file_extension": ".py",
      "mimetype": "text/x-python",
      "name": "python",
      "nbconvert_exporter": "python",
      "pygments_lexer": "ipython3",
      "version": "3.10.2"
    },
    "colab": {
      "name": "OWC_CamerasDataCorrection.ipynb",
      "provenance": [],
      "include_colab_link": true
    }
  },
  "nbformat": 4,
  "nbformat_minor": 0
}